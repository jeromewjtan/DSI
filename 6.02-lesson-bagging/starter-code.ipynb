{
 "cells": [
  {
   "cell_type": "markdown",
   "metadata": {},
   "source": [
    "<img src=\"http://imgur.com/1ZcRyrc.png\" style=\"float: left; margin: 20px; height: 55px\">\n",
    "\n",
    "# Lesson 6.02 - Bootstrapping and Bagging"
   ]
  },
  {
   "cell_type": "markdown",
   "metadata": {},
   "source": [
    "## Importing libraries\n",
    "\n",
    "\n",
    "We'll need the following libaries for today's lecture:\n",
    "- `pandas`\n",
    "- `numpy`\n",
    "- `DecisionTreeClassifier` from `sklearn`'s `tree` module\n",
    "- `BaggingClassifier` from `sklearn`'s `ensemble` module\n",
    "- `train_test_split` and `cross_val_score` from `sklearn`'s `model_selection` module\n",
    "- `accuracy_score` from `sklearn`'s `metrics` module"
   ]
  },
  {
   "cell_type": "code",
   "execution_count": null,
   "metadata": {},
   "outputs": [],
   "source": [
    "import pandas as pd\n",
    "import numpy as np\n",
    "from sklearn.tree import DecisionTreeClassifier\n",
    "from sklearn.ensemble import BaggingClassifier\n",
    "from sklearn.model_selection import train_test_split, cross_val_score\n",
    "from sklearn.metrics import accuracy_score"
   ]
  },
  {
   "cell_type": "markdown",
   "metadata": {},
   "source": [
    "## Load the Data\n",
    "\n",
    "We'll be using the `Heart.csv` from the [ISLR Website](https://www-bcf.usc.edu/~gareth/ISL/). There's a copy in this repo under `./datasets/Heart.csv`."
   ]
  },
  {
   "cell_type": "code",
   "execution_count": null,
   "metadata": {},
   "outputs": [],
   "source": [
    "# Read in the Heart .csv data.\n",
    "df = pd.read_csv('./datasets/Heart.csv')\n",
    "\n",
    "# Drop the `Unnamed: 0` column.\n"
   ]
  },
  {
   "cell_type": "code",
   "execution_count": null,
   "metadata": {},
   "outputs": [],
   "source": [
    "# Check the first few rows to make sure we dropped the column properly.\n"
   ]
  },
  {
   "cell_type": "markdown",
   "metadata": {},
   "source": [
    "## Data cleaning: Drop rows with null values"
   ]
  },
  {
   "cell_type": "code",
   "execution_count": null,
   "metadata": {},
   "outputs": [],
   "source": [
    "# Check the shape of the data.\n"
   ]
  },
  {
   "cell_type": "code",
   "execution_count": null,
   "metadata": {},
   "outputs": [],
   "source": [
    "# How much missing data do we have?\n"
   ]
  },
  {
   "cell_type": "code",
   "execution_count": null,
   "metadata": {},
   "outputs": [],
   "source": [
    "# Drop NAs.\n"
   ]
  },
  {
   "cell_type": "code",
   "execution_count": null,
   "metadata": {},
   "outputs": [],
   "source": [
    "# Confirm all missing data is dropped.\n"
   ]
  },
  {
   "cell_type": "code",
   "execution_count": null,
   "metadata": {},
   "outputs": [],
   "source": [
    "# What's the shape of our data now?\n"
   ]
  },
  {
   "cell_type": "markdown",
   "metadata": {},
   "source": [
    "## Feature Engineering"
   ]
  },
  {
   "cell_type": "code",
   "execution_count": null,
   "metadata": {},
   "outputs": [],
   "source": [
    "# Create dummies for the `ChestPain`, `Thal`, and `AHD` columns.\n",
    "# Be sure to set `drop_first=True`.\n",
    "df = \n",
    "\n",
    "# Confirm we did this correctly.\n",
    "df.head()"
   ]
  },
  {
   "cell_type": "markdown",
   "metadata": {},
   "source": [
    "## Model Prep: Create `X` and `y` variables\n",
    "\n",
    "Our target column will be `AHD_Yes`: \n",
    "- 1 means the patient has heart disease\n",
    "- 0 means they aren't diagnosed with heart disease"
   ]
  },
  {
   "cell_type": "code",
   "execution_count": null,
   "metadata": {},
   "outputs": [],
   "source": [
    "\n",
    "X = df.drop('AHD_Yes', axis='columns')\n",
    "\n",
    "y = df['AHD_Yes']"
   ]
  },
  {
   "cell_type": "code",
   "execution_count": null,
   "metadata": {},
   "outputs": [],
   "source": [
    "# What is the accuracy of our baseline model?\n"
   ]
  },
  {
   "cell_type": "markdown",
   "metadata": {},
   "source": [
    "<details><summary>What does a false positive mean in this case?</summary>\n",
    "    \n",
    "- A false positive indicates someone **falsely** predict as being in the **positive** class.\n",
    "- This is someone we incorrectly think has heart disease.\n",
    "- Incorrectly predicting someone to have heart disease is bad... but it _might_ be worse to incorrectly predict that someone is healthy!\n",
    "</details>"
   ]
  },
  {
   "cell_type": "markdown",
   "metadata": {},
   "source": [
    "## Model Prep: Train/Test Split"
   ]
  },
  {
   "cell_type": "code",
   "execution_count": null,
   "metadata": {},
   "outputs": [],
   "source": [
    "# Split data into training and testing sets.\n",
    "X_train, X_test, y_train, y_test = train_test_split(X,\n",
    "                                                    y,\n",
    "                                                    random_state=42,\n",
    "                                                    stratify=y)"
   ]
  },
  {
   "cell_type": "markdown",
   "metadata": {},
   "source": [
    "## Model Instantiation"
   ]
  },
  {
   "cell_type": "code",
   "execution_count": null,
   "metadata": {},
   "outputs": [],
   "source": [
    "# Instantiate `DecisionTreeClassifier` object.\n",
    "tree = "
   ]
  },
  {
   "cell_type": "markdown",
   "metadata": {},
   "source": [
    "## Model Evaluation"
   ]
  },
  {
   "cell_type": "code",
   "execution_count": null,
   "metadata": {},
   "outputs": [],
   "source": [
    "# Get a cross_val_score for our tree.\n"
   ]
  },
  {
   "cell_type": "code",
   "execution_count": null,
   "metadata": {},
   "outputs": [],
   "source": [
    "# Fit and score on the training data.\n"
   ]
  },
  {
   "cell_type": "code",
   "execution_count": null,
   "metadata": {},
   "outputs": [],
   "source": [
    "# Score on the testing data.\n"
   ]
  },
  {
   "cell_type": "markdown",
   "metadata": {},
   "source": [
    "<details><summary> Where do decision trees tend to fall on the Bias/Variance spectrum?</summary>\n",
    "    \n",
    "- Decision trees very easily overfit.\n",
    "- They tend to suffer from **high error due to variance**.\n",
    "</details>"
   ]
  },
  {
   "cell_type": "markdown",
   "metadata": {},
   "source": [
    "## Introduction to Ensemble Methods\n",
    "We can list out the different types of models we've built thus far:\n",
    "- Linear Regression\n",
    "- Logistic Regression\n",
    "- $k$-Nearest Neighbors\n",
    "- Naive Bayes Classification _(maybe)_\n",
    "\n",
    "If we want to use any of these models, we follow the same type of process.\n",
    "1. Based on our problem, we identify which model to use. (Is our problem classification or regression? Do we want an interpretable model?)\n",
    "2. Fit the model using the training data.\n",
    "3. Use the fit model to generate predictions.\n",
    "4. Evaluate our model's performance and, if necessary, return to step 2 and make changes.\n",
    "\n",
    "So far, we've always had exactly one model. Today, however, we're going to talk about **ensemble methods**. Mentally, you should think about this as if we build multiple models and then aggregate their results in some way.\n",
    "\n",
    "## Why would we build an \"ensemble model?\"\n",
    "\n",
    "Our goal is to estimate $f$, the true function. (Think about $f$ as the **true process** that dictates Ames housing prices.)\n",
    "\n",
    "We can come up with different hypotheses $h_1$, $h_2$, and so on to get as close to $f$ as possible. (Think about $h_1$ as the model you built to predict $f$, think of $h_2$ as the model your neighbor built to predict $f$, and so on.)\n",
    "\n",
    "![](./assets/Ensemble.png)\n",
    "\n",
    "\n",
    "### (Advanced) Three Benefits: Statistical, Computational, Representational\n",
    "- The **statistical** benefit to ensemble methods: By building one model, our predictions are almost certainly going to be wrong. Predictions from one model might overestimate housing prices; predictions from another model might underestimate housing prices. By \"averaging\" predictions from multiple models, we'll see that we can often cancel our errors out and get closer to the true function $f$.\n",
    "- The **computational** benefit to ensemble methods: It might be impossible to develop one model that globally optimizes our objective function. (Remember that CART reach locally-optimal solutions that aren't guaranteed to be the globally-optimal solution.) In these cases, it may be **impossible** for one CART to arrive at the true function $f$. However, generating many different models and averaging their predictions may allow us to get results that are closer to the global optimum than any individual model.\n",
    "- The **representational** benefit to ensemble methods: Even if we had all the data and all the computer power in the world, it might be impossible for one model to **exactly** equal $f$. For example, a linear regression model can never model a relationship where a one-unit change in $X$ is associated with some *different* change in $Y$ based on the value of $X$. All models have some shortcomings. (See [the no free lunch theorems](https://en.wikipedia.org/wiki/No_free_lunch_in_search_and_optimization).) While individual models have shortcomings, by creating multiple models and aggregating their predictions, we can actually create predictions that represent something that one model cannot ever represent.\n",
    "\n",
    "We can summarize this as the **wisdom of the crowd**.\n",
    "\n",
    "## Wisdom of the Crowd: Guess the weight of Penelope\n",
    "\n",
    "![](./assets/penelope.jpg)\n",
    "\n",
    "[Image source: https://www.npr.org](https://www.npr.org/sections/money/2015/07/17/422881071/how-much-does-this-cow-weigh)"
   ]
  },
  {
   "cell_type": "code",
   "execution_count": null,
   "metadata": {},
   "outputs": [],
   "source": []
  },
  {
   "cell_type": "markdown",
   "metadata": {},
   "source": [
    "## Ensemble predictions\n",
    "\n",
    "Let's mimic the \"wisdom of the crowd\" by creating several decision trees and averaging their predictions on the test set."
   ]
  },
  {
   "cell_type": "code",
   "execution_count": null,
   "metadata": {},
   "outputs": [],
   "source": [
    "# What is this line doing?\n",
    "predictions = pd.DataFrame(index=X_test.index)"
   ]
  },
  {
   "cell_type": "code",
   "execution_count": null,
   "metadata": {},
   "outputs": [],
   "source": [
    "# Generate ten decision trees.\n",
    "\n",
    "    # Instantiate decision trees.\n",
    "\n",
    "    # Fit to our training data.\n",
    "\n",
    "    \n",
    "    # Put predictions in dataframe.\n",
    "    predictions[f'Tree {i}'] = t.predict(X_test)\n",
    "\n",
    "predictions"
   ]
  },
  {
   "cell_type": "code",
   "execution_count": null,
   "metadata": {},
   "outputs": [],
   "source": [
    "# Generate aggregated predicted probabilities.\n",
    "probs = "
   ]
  },
  {
   "cell_type": "code",
   "execution_count": null,
   "metadata": {},
   "outputs": [],
   "source": [
    "# Check out probs.\n"
   ]
  },
  {
   "cell_type": "code",
   "execution_count": null,
   "metadata": {},
   "outputs": [],
   "source": [
    "accuracy_score(y_test, (probs > .5).astype(int))"
   ]
  },
  {
   "cell_type": "markdown",
   "metadata": {},
   "source": [
    "## Ensemble evaluation?\n",
    "\n",
    "<details><summary>Why didn't our score improve?</summary>\n",
    "\n",
    "- Because we fit the same model on the same data ten times!\n",
    "</details>"
   ]
  },
  {
   "cell_type": "markdown",
   "metadata": {},
   "source": [
    "## Bootstrapping\n",
    "\n",
    "Let's get started actually making ensemble predictions. However, in order to do that, we'll need to introduce the idea of bootstrapping, or **random sampling with replacement.**\n",
    "\n",
    "### Summary\n",
    "When bootstrapping in order to fit multiple estimators, we want to:\n",
    "- Take a sample of size $n$.\n",
    "- With replacement.\n",
    "- From our original data."
   ]
  },
  {
   "cell_type": "markdown",
   "metadata": {},
   "source": [
    "<details><summary>Why do you think we want to take a sample of size n?</summary>\n",
    "    \n",
    "- Because we want our estimators to be fit on data of the same size!\n",
    "- If our original data had $n = 1,000$ and we bootstrapped a sample of size 50 to fit an estimator on, our estimator fit on size 50 will probably look very, very different from an estimator fit on size 1,000.\n",
    "</details>"
   ]
  },
  {
   "cell_type": "markdown",
   "metadata": {},
   "source": [
    "<details><summary>Why do you think we want to sample with replacement?</summary>\n",
    "    \n",
    "- If we didn't sample with replacement, we'd just get identical samples of size $n$. (These would be copies of our original data!)\n",
    "</details>"
   ]
  },
  {
   "cell_type": "markdown",
   "metadata": {},
   "source": [
    "Boostrapping with `pandas`:"
   ]
  },
  {
   "cell_type": "code",
   "execution_count": null,
   "metadata": {},
   "outputs": [],
   "source": []
  },
  {
   "cell_type": "markdown",
   "metadata": {},
   "source": [
    "## Bagging: Bootstrap Aggregating\n",
    "\n",
    "As we have seen, decision trees are very powerful machine learning models. However, decision trees have some limitations. In particular, trees that are grown very deep tend to learn highly irregular patterns (a.k.a. they overfit their training sets). \n",
    "\n",
    "Bagging (bootstrap aggregating) mitigates this problem by exposing different trees to different sub-samples of the training set.\n",
    "\n",
    "The process for creating bagged decision trees is as follows:\n",
    "1. From the original data of size $n$, bootstrap $k$ samples each of size $n$ (with replacement!).\n",
    "2. Build a decision tree on each bootstrapped sample.\n",
    "3. Make predictions by passing a test observation through all $k$ trees and developing one aggregate prediction for that observation.\n",
    "\n",
    "![](./assets/Ensemble.png)\n",
    "\n",
    "### What do you mean by \"aggregate prediction?\"\n",
    "As with all of our modeling techniques, we want to make sure that we can come up with one final prediction for our observation. (Building 1,000 trees and coming up with 1,000 predictions for one observation probably wouldn't be very helpful.)\n",
    "\n",
    "Suppose we want to predict whether or not a Reddit post is going to go viral, where `1` indicates viral and `0` indicates non-viral. We build 100 decision trees. Given a new Reddit post labeled `X_test`, we pass these features into all 100 decision trees.\n",
    "- 70 of the trees predict that the post in `X_test` will go viral.\n",
    "- 30 of the trees predict that the post in `X_test` will not go viral."
   ]
  },
  {
   "cell_type": "markdown",
   "metadata": {},
   "source": [
    "**`.predict_proba(X_test)` to do?**\n",
    "<details><summary>What might you expect .predict(X_test) do?</summary>\n",
    "\n",
    "- `.predict(X_test)` should output a 1, predicting that the post will go viral.\n",
    "\n",
    "</details>"
   ]
  },
  {
   "cell_type": "markdown",
   "metadata": {},
   "source": [
    "<details><summary>What might you expect .predict_proba(X_test) do?</summary>\n",
    "\n",
    "- `.predict_proba(X_test)` should output 0.7, indicating the probability of the post going viral is 70%.\n",
    "</details>\n"
   ]
  },
  {
   "cell_type": "markdown",
   "metadata": {},
   "source": [
    "## Bagging Classifier using a `for` loop\n",
    "\n",
    "In the cell below, we'll create an ensemble of trees like before, except this time we'll train each tree to a **bootstrapped** sample of the training data."
   ]
  },
  {
   "cell_type": "code",
   "execution_count": null,
   "metadata": {},
   "outputs": [],
   "source": [
    "# Instantiate dataframe.\n",
    "predictions = pd.DataFrame(index=X_test.index)\n",
    "\n",
    "# Generate ten decision trees.\n",
    "for i in range(10):\n",
    "    \n",
    "    # Bootstrap X data.\n",
    "    # Should we add a random seed?\n",
    "    X_sample = \n",
    "    \n",
    "    # Get y data that matches the X data.\n",
    "    y_sample =\n",
    "    \n",
    "    # Instantiate decision trees.\n",
    "    t = DecisionTreeClassifier()\n",
    "    \n",
    "    # Fit to our training data.\n",
    "    t.fit(X_train, y_train)\n",
    "    \n",
    "    # Put predictions in dataframe.\n",
    "    predictions[f'Tree {i}'] = t.predict(X_test)\n",
    "\n",
    "predictions.head(20)"
   ]
  },
  {
   "cell_type": "code",
   "execution_count": null,
   "metadata": {},
   "outputs": [],
   "source": [
    "# Generate aggregated predicted probabilities.\n",
    "predictions.mean(axis='columns')"
   ]
  },
  {
   "cell_type": "code",
   "execution_count": null,
   "metadata": {},
   "outputs": [],
   "source": [
    "# Generate aggregated predicted probabilities as probs.\n",
    "probs = predictions.mean(axis='columns')"
   ]
  },
  {
   "cell_type": "code",
   "execution_count": null,
   "metadata": {},
   "outputs": [],
   "source": [
    "accuracy_score(y_test, (probs >= .5).astype(int))"
   ]
  },
  {
   "cell_type": "markdown",
   "metadata": {},
   "source": [
    "## Bagging Classifier using `sklearn`\n",
    "\n",
    "[BaggingClassifier Documentation](https://scikit-learn.org/stable/modules/generated/sklearn.ensemble.BaggingClassifier.html)\n",
    "\n",
    "In the cell below, create and score instance of `BaggingClassifier` on the test set. You should get a similar score to the one in the previous step."
   ]
  },
  {
   "cell_type": "code",
   "execution_count": null,
   "metadata": {},
   "outputs": [],
   "source": [
    "# Instantiate BaggingClassifier.\n",
    "bag =\n",
    "\n",
    "# Fit BaggingClassifier.\n",
    "\n",
    "\n",
    "# Score BaggingClassifier.\n"
   ]
  }
 ],
 "metadata": {
  "kernelspec": {
   "display_name": "Python 3",
   "language": "python",
   "name": "python3"
  },
  "language_info": {
   "codemirror_mode": {
    "name": "ipython",
    "version": 3
   },
   "file_extension": ".py",
   "mimetype": "text/x-python",
   "name": "python",
   "nbconvert_exporter": "python",
   "pygments_lexer": "ipython3",
   "version": "3.6.6"
  }
 },
 "nbformat": 4,
 "nbformat_minor": 2
}
