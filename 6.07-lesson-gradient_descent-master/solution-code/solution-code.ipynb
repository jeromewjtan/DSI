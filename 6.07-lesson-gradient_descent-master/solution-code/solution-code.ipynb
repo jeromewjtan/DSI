{
 "cells": [
  {
   "cell_type": "markdown",
   "metadata": {},
   "source": [
    "## Gradient Descent Code-Along"
   ]
  },
  {
   "cell_type": "markdown",
   "metadata": {},
   "source": [
    "Let's walk through how gradient descent works using code."
   ]
  },
  {
   "cell_type": "code",
   "execution_count": 1,
   "metadata": {},
   "outputs": [],
   "source": [
    "import pandas as pd\n",
    "import numpy as np"
   ]
  },
  {
   "cell_type": "code",
   "execution_count": 2,
   "metadata": {},
   "outputs": [],
   "source": [
    "# Set a random seed.\n",
    "np.random.seed(42)"
   ]
  },
  {
   "cell_type": "code",
   "execution_count": 3,
   "metadata": {},
   "outputs": [],
   "source": [
    "# Randomly generate data from a Poisson(45) distribution.\n",
    "temp = np.random.poisson(45, 100)"
   ]
  },
  {
   "cell_type": "code",
   "execution_count": 4,
   "metadata": {
    "scrolled": true
   },
   "outputs": [
    {
     "data": {
      "text/plain": [
       "array([42, 50, 37, 47, 52, 38, 41, 44, 47, 41, 44, 38, 47, 47, 41, 49, 36,\n",
       "       40, 41, 46, 58, 47, 34, 29, 43, 52, 40, 37, 51, 49, 51, 42, 53, 42,\n",
       "       41, 50, 55, 36, 50, 51, 45, 41, 56, 43, 39, 41, 57, 48, 52, 55, 41,\n",
       "       39, 43, 36, 59, 45, 63, 45, 40, 47, 30, 56, 37, 48, 39, 42, 48, 34,\n",
       "       41, 49, 45, 48, 49, 58, 42, 40, 52, 46, 55, 42, 48, 47, 35, 46, 48,\n",
       "       49, 41, 48, 48, 34, 40, 55, 51, 46, 38, 40, 48, 56, 44, 41])"
      ]
     },
     "execution_count": 4,
     "metadata": {},
     "output_type": "execute_result"
    }
   ],
   "source": [
    "# View array.\n",
    "temp"
   ]
  },
  {
   "cell_type": "code",
   "execution_count": 5,
   "metadata": {},
   "outputs": [
    {
     "name": "stdout",
     "output_type": "stream",
     "text": [
      "45.18\n",
      "45.07838383838384\n"
     ]
    }
   ],
   "source": [
    "# Calculate mean and sample variance of array.\n",
    "print(np.mean(temp))\n",
    "print(np.var(temp, ddof = 1))"
   ]
  },
  {
   "cell_type": "markdown",
   "metadata": {},
   "source": [
    "**Ohio State Fun Facts:**\n",
    "1. Ohio Stadium can seat 104,944 people. (Source: [Wikipedia](https://en.wikipedia.org/wiki/Ohio_Stadium).)\n",
    "2. Ohio Stadium's record attendance is 110,045 people. (Source: [Wikipedia](https://en.wikipedia.org/wiki/Ohio_Stadium).)\n",
    "3. Ohio State is better than Michigan. (Source: It's just a fact.)\n",
    "4. Ohio State students enjoy soda. (Source: first-hand knowledge.)"
   ]
  },
  {
   "cell_type": "code",
   "execution_count": 6,
   "metadata": {},
   "outputs": [],
   "source": [
    "# sodas ~ N(200000 + 1000 * temp, 20000)\n",
    "sodas_sold = 200000 + 1000 * temp + np.round(np.random.normal(0, 20000, 100))"
   ]
  },
  {
   "cell_type": "code",
   "execution_count": 7,
   "metadata": {},
   "outputs": [
    {
     "data": {
      "text/plain": [
       "array([233070., 267128., 241282., 222085., 255464., 245706., 223323.,\n",
       "       247075., 248164., 218141., 251156., 249216., 268661., 268076.,\n",
       "       213447., 230243., 246301., 250276., 251301., 323055., 269418.,\n",
       "       269711., 253080., 242028., 236695., 267179., 224543., 232264.,\n",
       "       241293., 250637., 297293., 204655., 266725., 209746., 231561.,\n",
       "       271779., 256286., 214445., 235694., 264592., 230393., 245329.,\n",
       "       256911., 229968., 281879., 253678., 216497., 251729., 238764.,\n",
       "       272049., 225150., 236705., 253100., 253315., 234994., 238310.,\n",
       "       253501., 231933., 275309., 255100., 204782., 274357., 279443.,\n",
       "       268649., 208613., 232315., 273338., 219847., 249876., 264493.,\n",
       "       226461., 246809., 184175., 237512., 236949., 215044., 284648.,\n",
       "       217397., 246199., 244615., 276825., 218283., 258263., 246205.,\n",
       "       228370., 258242., 244981., 235996., 249396., 226294., 242270.,\n",
       "       268243., 282720., 221244., 280661., 200958., 244964., 267766.,\n",
       "       249620., 228546.])"
      ]
     },
     "execution_count": 7,
     "metadata": {},
     "output_type": "execute_result"
    }
   ],
   "source": [
    "sodas_sold"
   ]
  },
  {
   "cell_type": "markdown",
   "metadata": {},
   "source": [
    "$$ \\text{sodas_sold}_i = 200000 + 1000 * \\text{temp}_i + \\varepsilon_i $$"
   ]
  },
  {
   "cell_type": "code",
   "execution_count": 8,
   "metadata": {},
   "outputs": [],
   "source": [
    "# Create dataframe with temp and sodas_sold.\n",
    "df = pd.DataFrame({'temp': temp,\n",
    "                   'sodas': sodas_sold})"
   ]
  },
  {
   "cell_type": "code",
   "execution_count": 9,
   "metadata": {},
   "outputs": [
    {
     "data": {
      "text/html": [
       "<div>\n",
       "<style scoped>\n",
       "    .dataframe tbody tr th:only-of-type {\n",
       "        vertical-align: middle;\n",
       "    }\n",
       "\n",
       "    .dataframe tbody tr th {\n",
       "        vertical-align: top;\n",
       "    }\n",
       "\n",
       "    .dataframe thead th {\n",
       "        text-align: right;\n",
       "    }\n",
       "</style>\n",
       "<table border=\"1\" class=\"dataframe\">\n",
       "  <thead>\n",
       "    <tr style=\"text-align: right;\">\n",
       "      <th></th>\n",
       "      <th>temp</th>\n",
       "      <th>sodas</th>\n",
       "    </tr>\n",
       "  </thead>\n",
       "  <tbody>\n",
       "    <tr>\n",
       "      <th>0</th>\n",
       "      <td>42</td>\n",
       "      <td>233070.0</td>\n",
       "    </tr>\n",
       "    <tr>\n",
       "      <th>1</th>\n",
       "      <td>50</td>\n",
       "      <td>267128.0</td>\n",
       "    </tr>\n",
       "    <tr>\n",
       "      <th>2</th>\n",
       "      <td>37</td>\n",
       "      <td>241282.0</td>\n",
       "    </tr>\n",
       "    <tr>\n",
       "      <th>3</th>\n",
       "      <td>47</td>\n",
       "      <td>222085.0</td>\n",
       "    </tr>\n",
       "    <tr>\n",
       "      <th>4</th>\n",
       "      <td>52</td>\n",
       "      <td>255464.0</td>\n",
       "    </tr>\n",
       "  </tbody>\n",
       "</table>\n",
       "</div>"
      ],
      "text/plain": [
       "   temp     sodas\n",
       "0    42  233070.0\n",
       "1    50  267128.0\n",
       "2    37  241282.0\n",
       "3    47  222085.0\n",
       "4    52  255464.0"
      ]
     },
     "execution_count": 9,
     "metadata": {},
     "output_type": "execute_result"
    }
   ],
   "source": [
    "# Check the first five rows.\n",
    "df.head()"
   ]
  },
  {
   "cell_type": "markdown",
   "metadata": {},
   "source": [
    "#### Our goal is to fit a model here.\n",
    "- You and I know that our $y$-intercept $\\beta_0$ is 200,000.\n",
    "- You and I know that our slope $\\beta_1$ is 1,000.\n",
    "- However, our computer does not know that. Our computer has to estimate $\\hat{\\beta}_0$ and $\\hat{\\beta}_1$ from the data.\n",
    "    - We might say that our **machine** has to... **learn**."
   ]
  },
  {
   "cell_type": "markdown",
   "metadata": {},
   "source": [
    "#### Our workflow:\n",
    "1. Instantiate model.\n",
    "2. Select a learning rate $\\alpha$.\n",
    "3. Select a starting point $\\hat{\\beta}_{1,0}$.\n",
    "4. Calculate the gradient of the loss function.\n",
    "5. Calculate $\\hat{\\beta}_{1,i+1} = \\hat{\\beta}_{1,i} - \\alpha * \\frac{\\partial L}{\\partial \\beta_1}$.\n",
    "6. Check value of $\\left|\\hat{\\beta}_{1,i+1} - \\hat{\\beta}_{1,i}\\right|$.\n",
    "7. Repeat steps 4 through 6 until \"stopping condition\" is met."
   ]
  },
  {
   "cell_type": "markdown",
   "metadata": {},
   "source": [
    "#### Step 1. Instantiate model.\n",
    "\n",
    "Our model takes on the form:\n",
    "$$ Y = \\beta_0 + \\beta_1 X + \\varepsilon$$"
   ]
  },
  {
   "cell_type": "markdown",
   "metadata": {},
   "source": [
    "#### Step 2. Select a learning rate $\\alpha$.\n",
    "\n",
    "$$\\alpha = 0.1$$"
   ]
  },
  {
   "cell_type": "code",
   "execution_count": 10,
   "metadata": {},
   "outputs": [],
   "source": [
    "alpha = 0.1"
   ]
  },
  {
   "cell_type": "markdown",
   "metadata": {},
   "source": [
    "#### Step 3. Select a starting point.\n",
    "The zero-th iteration of $\\hat{\\beta}_1$ is going to start at, say, 20.\n",
    "$$\\hat{\\beta}_{1,0} = 20$$\n",
    "\n",
    "Two points:\n",
    "- You and I know that the true value of $\\beta_1$ is 1000. We need the computer to figure (machine to learn) that part out!\n",
    "- We're going to pretend like the computer already knows the value for $\\beta_0$. In reality, we'd have to do this for $\\beta_0$ and for $\\beta_1$ at the same time."
   ]
  },
  {
   "cell_type": "code",
   "execution_count": 11,
   "metadata": {},
   "outputs": [],
   "source": [
    "beta_1 = 20"
   ]
  },
  {
   "cell_type": "markdown",
   "metadata": {},
   "source": [
    "#### Step 4. Calculate the gradient of the loss function with respect to parameter $\\beta_1$.\n",
    "\n",
    "The loss function, $L$, is our mean square error.\n",
    "\n",
    "$$L = \\frac{1}{n}\\sum_{i = 1} ^ n (y_i - \\hat{y}_i)^2 $$\n",
    "\n",
    "$$\\Rightarrow L = \\frac{1}{n}\\sum_{i = 1} ^ n \\left(y_i - \\left(\\hat{\\beta}_0 + \\hat{\\beta}_1x_i\\right)\\right)^2 $$\n",
    "\n",
    "The gradient of this loss function with respect to $\\beta_1$ is:\n",
    "\n",
    "$$\\frac{\\partial L}{\\partial \\beta_1} = \\frac{2}{n} \\sum_{i=1}^n -x_i\\left(y_i - \\left(\\hat{\\beta}_1x_i + \\hat{\\beta}_0\\right)\\right) $$"
   ]
  },
  {
   "cell_type": "code",
   "execution_count": 12,
   "metadata": {},
   "outputs": [],
   "source": [
    "# Calculate gradient of beta_1.\n",
    "def beta_1_gradient(x, y, beta_1, beta_0):\n",
    "    n = len(x)\n",
    "    # Start gradient at 0.\n",
    "    gradient = 0\n",
    "    # Begin summation.\n",
    "    for i in range(n):\n",
    "        # Add gradient for each observation.\n",
    "        gradient += -1 * x[i] * (y[i] - (beta_1 * x[i] + beta_0))\n",
    "    # Multiply gradient by 2 / n.\n",
    "    gradient *= (2 / n)\n",
    "    return gradient"
   ]
  },
  {
   "cell_type": "markdown",
   "metadata": {},
   "source": [
    "#### Step 5. Calculate $\\hat{\\beta}_{1,i+1} = \\hat{\\beta}_{1,i} - \\alpha * \\frac{\\partial L}{\\partial \\beta_1}$."
   ]
  },
  {
   "cell_type": "code",
   "execution_count": 13,
   "metadata": {},
   "outputs": [],
   "source": [
    "# Define function to calculate new value of beta_1.\n",
    "def update_beta_1(beta_1, alpha, gradient):\n",
    "    beta_1 = beta_1 - alpha * gradient\n",
    "    return beta_1"
   ]
  },
  {
   "cell_type": "markdown",
   "metadata": {},
   "source": [
    "#### Step 6. Check value of $\\left|\\hat{\\beta}_{1,i+1} - \\hat{\\beta}_{1,i}\\right|$."
   ]
  },
  {
   "cell_type": "code",
   "execution_count": 14,
   "metadata": {},
   "outputs": [],
   "source": [
    "def check_update(beta_1, updated_beta_1, tolerance = 0.1):\n",
    "    if abs(beta_1 - updated_beta_1) < tolerance:\n",
    "        return True\n",
    "    else:\n",
    "        return False"
   ]
  },
  {
   "cell_type": "markdown",
   "metadata": {},
   "source": [
    "#### Step 7: Save final value of $\\hat{\\beta}_1$."
   ]
  },
  {
   "cell_type": "markdown",
   "metadata": {},
   "source": [
    "#### Putting it all together..."
   ]
  },
  {
   "cell_type": "code",
   "execution_count": 15,
   "metadata": {},
   "outputs": [],
   "source": [
    "def gradient_descent(x, y, beta_1 = 0, alpha = 0.01, max_iter = 100):\n",
    "    # Set converged = False.\n",
    "    converged = False\n",
    "    \n",
    "    # Iterate through our observations.\n",
    "    for i in range(max_iter):\n",
    "        \n",
    "        # Calculate gradient.\n",
    "        gradient = beta_1_gradient(x, y, beta_1, 200000)\n",
    "        \n",
    "        # Update beta_1.\n",
    "        updated_beta_1 = update_beta_1(beta_1, alpha, gradient)\n",
    "        \n",
    "        # Check for convergence.\n",
    "        converged = check_update(beta_1, updated_beta_1)\n",
    "        \n",
    "        # Overwrite beta_1.\n",
    "        beta_1 = updated_beta_1\n",
    "        \n",
    "        # If we've converged, let us know!\n",
    "        if converged == True:\n",
    "            print(f'Our algorithm converged after {i} iterations with a beta_1 value of {beta_1}.')\n",
    "            break\n",
    "        print(f'Iteration {i} with beta_1 value of {beta_1}.')\n",
    "        \n",
    "    # If we didn't converge by the end of our loop, let us know!\n",
    "    if converged == False:\n",
    "        print(\"Our algorithm did not converge, so do not trust the value of beta_1.\")\n",
    "    \n",
    "    # Return beta_1.\n",
    "    return beta_1"
   ]
  },
  {
   "cell_type": "code",
   "execution_count": 16,
   "metadata": {},
   "outputs": [
    {
     "name": "stdout",
     "output_type": "stream",
     "text": [
      "Iteration 0 with beta_1 value of 41435.536400000005.\n",
      "Iteration 1 with beta_1 value of -1644889.1423060799.\n",
      "Iteration 2 with beta_1 value of 67017530.06550511.\n",
      "Iteration 3 with beta_1 value of -2728723925.3027854.\n",
      "Iteration 4 with beta_1 value of 111106040061.21902.\n",
      "Iteration 5 with beta_1 value of -4523926812130.787.\n",
      "Iteration 6 with beta_1 value of 184201632837141.66.\n",
      "Iteration 7 with beta_1 value of -7500174724514217.0.\n",
      "Iteration 8 with beta_1 value of 3.0538611429303245e+17.\n",
      "Iteration 9 with beta_1 value of -1.2434467492892217e+19.\n",
      "Iteration 10 with beta_1 value of 5.06296699801591e+20.\n",
      "Iteration 11 with beta_1 value of -2.0614983985161335e+22.\n",
      "Iteration 12 with beta_1 value of 8.39384425920612e+23.\n",
      "Iteration 13 with beta_1 value of -3.4177383547094748e+25.\n",
      "Iteration 14 with beta_1 value of 1.3916073613637663e+27.\n",
      "Iteration 15 with beta_1 value of -5.666235525412073e+28.\n",
      "Iteration 16 with beta_1 value of 2.3071324513530843e+30.\n",
      "Iteration 17 with beta_1 value of -9.393997344823378e+31.\n",
      "Iteration 18 with beta_1 value of 3.824972686886425e+33.\n",
      "Iteration 19 with beta_1 value of -1.5574217788649204e+35.\n",
      "Iteration 20 with beta_1 value of 6.341385405439873e+36.\n",
      "Iteration 21 with beta_1 value of -2.5820345783037643e+38.\n",
      "Iteration 22 with beta_1 value of 1.0513321833171007e+40.\n",
      "Iteration 23 with beta_1 value of -4.280730277455906e+41.\n",
      "Iteration 24 with beta_1 value of 1.7429935085322772e+43.\n",
      "Iteration 25 with beta_1 value of -7.09698152856104e+44.\n",
      "Iteration 26 with beta_1 value of 2.8896921629472536e+46.\n",
      "Iteration 27 with beta_1 value of -1.1766017373715591e+48.\n",
      "Iteration 28 with beta_1 value of 4.790792826090527e+49.\n",
      "Iteration 29 with beta_1 value of -1.950676696584933e+51.\n",
      "Iteration 30 with beta_1 value of 7.942609319018799e+52.\n",
      "Iteration 31 with beta_1 value of -3.2340081216435236e+54.\n",
      "Iteration 32 with beta_1 value of 1.3167975549058362e+56.\n",
      "Iteration 33 with beta_1 value of -5.361630940261188e+57.\n",
      "Iteration 34 with beta_1 value of 2.1831059932080286e+59.\n",
      "Iteration 35 with beta_1 value of -8.888996334664998e+60.\n",
      "Iteration 36 with beta_1 value of 3.619350415578215e+62.\n",
      "Iteration 37 with beta_1 value of -1.473698147411814e+64.\n",
      "Iteration 38 with beta_1 value of 6.00048622077963e+65.\n",
      "Iteration 39 with beta_1 value of -2.4432299754872837e+67.\n",
      "Iteration 40 with beta_1 value of 9.948148355791077e+68.\n",
      "Iteration 41 with beta_1 value of -4.050607462324164e+70.\n",
      "Iteration 42 with beta_1 value of 1.6492939416494545e+72.\n",
      "Iteration 43 with beta_1 value of -6.715463128092912e+73.\n",
      "Iteration 44 with beta_1 value of 2.734348552791849e+75.\n",
      "Iteration 45 with beta_1 value of -1.1133501689373623e+77.\n",
      "Iteration 46 with beta_1 value of 4.533250149865636e+78.\n",
      "Iteration 47 with beta_1 value of -1.845812530021091e+80.\n",
      "Iteration 48 with beta_1 value of 7.515631794737475e+81.\n",
      "Iteration 49 with beta_1 value of -3.060154829126848e+83.\n",
      "Iteration 50 with beta_1 value of 1.2460093620852368e+85.\n",
      "Iteration 51 with beta_1 value of -5.0734012397897e+86.\n",
      "Iteration 52 with beta_1 value of 2.0657469296076513e+88.\n",
      "Iteration 53 with beta_1 value of -8.411143088222068e+89.\n",
      "Iteration 54 with beta_1 value of 3.424781953517555e+91.\n",
      "Iteration 55 with beta_1 value of -1.3944753175776497e+93.\n",
      "Iteration 56 with beta_1 value of 5.6779130400872674e+94.\n",
      "Iteration 57 with beta_1 value of -2.3118872083584123e+96.\n",
      "Iteration 58 with beta_1 value of 9.413357384017118e+97.\n",
      "Iteration 59 with beta_1 value of -3.83285555276502e+99.\n",
      "Iteration 60 with beta_1 value of 1.560631461130439e+101.\n",
      "Iteration 61 with beta_1 value of -6.354454332914035e+102.\n",
      "Iteration 62 with beta_1 value of 2.587355879641274e+104.\n",
      "Iteration 63 with beta_1 value of -1.0534988682252976e+106.\n",
      "Iteration 64 with beta_1 value of 4.289552411730311e+107.\n",
      "Iteration 65 with beta_1 value of -1.746585634589055e+109.\n",
      "Iteration 66 with beta_1 value of 7.11160766006895e+110.\n",
      "Iteration 67 with beta_1 value of -2.895647514165594e+112.\n",
      "Iteration 68 with beta_1 value of 1.1790265896378323e+114.\n",
      "Iteration 69 with beta_1 value of -4.800666145560154e+115.\n",
      "Iteration 70 with beta_1 value of 1.9546968358200196e+117.\n",
      "Iteration 71 with beta_1 value of -7.958978200345094e+118.\n",
      "Iteration 72 with beta_1 value of 3.2406730717909174e+120.\n",
      "Iteration 73 with beta_1 value of -1.3195113359872508e+122.\n",
      "Iteration 74 with beta_1 value of 5.372680696966007e+123.\n",
      "Iteration 75 with beta_1 value of -2.187605144745042e+125.\n",
      "Iteration 76 with beta_1 value of 8.907315619961282e+126.\n",
      "Iteration 77 with beta_1 value of -3.626809515610876e+128.\n",
      "Iteration 78 with beta_1 value of 1.4767352840903115e+130.\n",
      "Iteration 79 with beta_1 value of -6.012852590936204e+131.\n",
      "Iteration 80 with beta_1 value of 2.448265215156676e+133.\n",
      "Iteration 81 with beta_1 value of -9.968650441857739e+134.\n",
      "Iteration 82 with beta_1 value of 4.0589553377121003e+136.\n",
      "Iteration 83 with beta_1 value of -1.652692962766911e+138.\n",
      "Iteration 84 with beta_1 value of 6.729302990357284e+139.\n",
      "Iteration 85 with beta_1 value of -2.739983757189756e+141.\n",
      "Iteration 86 with beta_1 value of 1.1156446663824676e+143.\n",
      "Iteration 87 with beta_1 value of -4.5425927010028213e+144.\n",
      "Iteration 88 with beta_1 value of 1.8496165552527195e+146.\n",
      "Iteration 89 with beta_1 value of -7.531120720353605e+147.\n",
      "Iteration 90 with beta_1 value of 3.066461485947819e+149.\n",
      "Iteration 91 with beta_1 value of -1.2485772561563453e+151.\n",
      "Iteration 92 with beta_1 value of 5.083856985436913e+152.\n",
      "Iteration 93 with beta_1 value of -2.0700042164743206e+154.\n",
      "Iteration 94 with beta_1 value of 8.428477568302825e+155.\n",
      "Iteration 95 with beta_1 value of -3.4318400684409985e+157.\n",
      "Iteration 96 with beta_1 value of 1.3973491843472574e+159.\n",
      "Iteration 97 with beta_1 value of -5.689614620890414e+160.\n",
      "Iteration 98 with beta_1 value of 2.316651764417191e+162.\n",
      "Iteration 99 with beta_1 value of -9.432757322212769e+163.\n",
      "Our algorithm did not converge, so do not trust the value of beta_1.\n"
     ]
    },
    {
     "data": {
      "text/plain": [
       "-9.432757322212769e+163"
      ]
     },
     "execution_count": 16,
     "metadata": {},
     "output_type": "execute_result"
    }
   ],
   "source": [
    "# Call gradient_descent with an initial beta_1 of 20, alpha of 0.01, and 100 iterations.\n",
    "gradient_descent(df['temp'],\n",
    "                 df['sodas'],\n",
    "                 beta_1 = 20,\n",
    "                 alpha = 0.01,\n",
    "                 max_iter = 100)"
   ]
  },
  {
   "cell_type": "markdown",
   "metadata": {},
   "source": [
    "<details><summary>What should we do?</summary>\n",
    "\n",
    "- We **should not** adjust our maximum iterations. It doesn't look like we'll converge.\n",
    "- We should adjust our alpha!\n",
    "</details>"
   ]
  },
  {
   "cell_type": "code",
   "execution_count": 17,
   "metadata": {
    "scrolled": false
   },
   "outputs": [
    {
     "name": "stdout",
     "output_type": "stream",
     "text": [
      "Iteration 0 with beta_1 value of 434.155364.\n",
      "Iteration 1 with beta_1 value of 675.5367064893923.\n",
      "Iteration 2 with beta_1 value of 816.2205115697997.\n",
      "Iteration 3 with beta_1 value of 898.2149723172032.\n",
      "Iteration 4 with beta_1 value of 946.003639885691.\n",
      "Iteration 5 with beta_1 value of 973.8562134272975.\n",
      "Iteration 6 with beta_1 value of 990.089473159405.\n",
      "Iteration 7 with beta_1 value of 999.5506714625496.\n",
      "Iteration 8 with beta_1 value of 1005.0649227471749.\n",
      "Iteration 9 with beta_1 value of 1008.2787827948905.\n",
      "Iteration 10 with beta_1 value of 1010.1519104187804.\n",
      "Iteration 11 with beta_1 value of 1011.2436216455569.\n",
      "Iteration 12 with beta_1 value of 1011.8799015164366.\n",
      "Iteration 13 with beta_1 value of 1012.2507432410217.\n",
      "Iteration 14 with beta_1 value of 1012.4668801816782.\n",
      "Iteration 15 with beta_1 value of 1012.5928508425271.\n",
      "Our algorithm converged after 16 iterations with a beta_1 value of 1012.6662700708484.\n"
     ]
    },
    {
     "data": {
      "text/plain": [
       "1012.6662700708484"
      ]
     },
     "execution_count": 17,
     "metadata": {},
     "output_type": "execute_result"
    }
   ],
   "source": [
    "gradient_descent(df['temp'],\n",
    "                 df['sodas'],\n",
    "                 beta_1 = 20,\n",
    "                 alpha = 0.0001,\n",
    "                 max_iter = 100)"
   ]
  }
 ],
 "metadata": {
  "kernelspec": {
   "display_name": "Python 3",
   "language": "python",
   "name": "python3"
  },
  "language_info": {
   "codemirror_mode": {
    "name": "ipython",
    "version": 3
   },
   "file_extension": ".py",
   "mimetype": "text/x-python",
   "name": "python",
   "nbconvert_exporter": "python",
   "pygments_lexer": "ipython3",
   "version": "3.6.8"
  }
 },
 "nbformat": 4,
 "nbformat_minor": 2
}
