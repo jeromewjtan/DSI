{
 "cells": [
  {
   "cell_type": "markdown",
   "metadata": {},
   "source": [
    "## Gradient Descent Code-Along"
   ]
  },
  {
   "cell_type": "markdown",
   "metadata": {},
   "source": [
    "Let's walk through how gradient descent works using code."
   ]
  },
  {
   "cell_type": "code",
   "execution_count": 1,
   "metadata": {},
   "outputs": [],
   "source": [
    "import pandas as pd\n",
    "import numpy as np"
   ]
  },
  {
   "cell_type": "code",
   "execution_count": 2,
   "metadata": {},
   "outputs": [],
   "source": [
    "# Set a random seed.\n",
    "np.random.seed(42)"
   ]
  },
  {
   "cell_type": "code",
   "execution_count": 3,
   "metadata": {},
   "outputs": [],
   "source": [
    "# Randomly generate data from a Poisson(45) distribution.\n",
    "temp = np.random.poisson(45, 100)"
   ]
  },
  {
   "cell_type": "code",
   "execution_count": 4,
   "metadata": {
    "scrolled": true
   },
   "outputs": [
    {
     "data": {
      "text/plain": [
       "array([42, 50, 37, 47, 52, 38, 41, 44, 47, 41, 44, 38, 47, 47, 41, 49, 36,\n",
       "       40, 41, 46, 58, 47, 34, 29, 43, 52, 40, 37, 51, 49, 51, 42, 53, 42,\n",
       "       41, 50, 55, 36, 50, 51, 45, 41, 56, 43, 39, 41, 57, 48, 52, 55, 41,\n",
       "       39, 43, 36, 59, 45, 63, 45, 40, 47, 30, 56, 37, 48, 39, 42, 48, 34,\n",
       "       41, 49, 45, 48, 49, 58, 42, 40, 52, 46, 55, 42, 48, 47, 35, 46, 48,\n",
       "       49, 41, 48, 48, 34, 40, 55, 51, 46, 38, 40, 48, 56, 44, 41])"
      ]
     },
     "execution_count": 4,
     "metadata": {},
     "output_type": "execute_result"
    }
   ],
   "source": [
    "# View array.\n",
    "temp"
   ]
  },
  {
   "cell_type": "code",
   "execution_count": 5,
   "metadata": {},
   "outputs": [
    {
     "name": "stdout",
     "output_type": "stream",
     "text": [
      "45.18\n",
      "45.07838383838384\n"
     ]
    }
   ],
   "source": [
    "# Calculate mean and sample variance of array.\n",
    "print(np.mean(temp))\n",
    "print(np.var(temp, ddof = 1))"
   ]
  },
  {
   "cell_type": "markdown",
   "metadata": {},
   "source": [
    "**Ohio State Fun Facts:**\n",
    "1. Ohio Stadium can seat 102,082 people. (Source: [Wikipedia](https://en.wikipedia.org/wiki/Ohio_Stadium).)\n",
    "2. Ohio Stadium's record attendance is 110,045 people. (Source: [Wikipedia](https://en.wikipedia.org/wiki/Ohio_Stadium).)\n",
    "3. Ohio State is better than Michigan. (Source: It's just a fact.)\n",
    "4. Ohio State students enjoy soda. (Source: first-hand knowledge.)"
   ]
  },
  {
   "cell_type": "code",
   "execution_count": 6,
   "metadata": {},
   "outputs": [],
   "source": [
    "# sodas ~ N(200000 + 1000 * temp, 20000)\n",
    "sodas_sold = 200000 + 1000*temp + np.round(np.random.normal(0,20000, 100))"
   ]
  },
  {
   "cell_type": "code",
   "execution_count": 7,
   "metadata": {},
   "outputs": [
    {
     "data": {
      "text/plain": [
       "array([233070., 267128., 241282., 222085., 255464., 245706., 223323.,\n",
       "       247075., 248164., 218141., 251156., 249216., 268661., 268076.,\n",
       "       213447., 230243., 246301., 250276., 251301., 323055., 269418.,\n",
       "       269711., 253080., 242028., 236695., 267179., 224543., 232264.,\n",
       "       241293., 250637., 297293., 204655., 266725., 209746., 231561.,\n",
       "       271779., 256286., 214445., 235694., 264592., 230393., 245329.,\n",
       "       256911., 229968., 281879., 253678., 216497., 251729., 238764.,\n",
       "       272049., 225150., 236705., 253100., 253315., 234994., 238310.,\n",
       "       253501., 231933., 275309., 255100., 204782., 274357., 279443.,\n",
       "       268649., 208613., 232315., 273338., 219847., 249876., 264493.,\n",
       "       226461., 246809., 184175., 237512., 236949., 215044., 284648.,\n",
       "       217397., 246199., 244615., 276825., 218283., 258263., 246205.,\n",
       "       228370., 258242., 244981., 235996., 249396., 226294., 242270.,\n",
       "       268243., 282720., 221244., 280661., 200958., 244964., 267766.,\n",
       "       249620., 228546.])"
      ]
     },
     "execution_count": 7,
     "metadata": {},
     "output_type": "execute_result"
    }
   ],
   "source": [
    "sodas_sold"
   ]
  },
  {
   "cell_type": "markdown",
   "metadata": {},
   "source": [
    "$$ \\text{sodas_sold}_i = 200000 + 1000 * \\text{temp}_i + \\varepsilon_i $$"
   ]
  },
  {
   "cell_type": "code",
   "execution_count": 8,
   "metadata": {},
   "outputs": [],
   "source": [
    "# Create dataframe with temp and sodas_sold.\n",
    "df = pd.DataFrame({'temp':temp,\n",
    "                  'sodas':sodas_sold})"
   ]
  },
  {
   "cell_type": "code",
   "execution_count": 9,
   "metadata": {},
   "outputs": [
    {
     "data": {
      "text/html": [
       "<div>\n",
       "<style scoped>\n",
       "    .dataframe tbody tr th:only-of-type {\n",
       "        vertical-align: middle;\n",
       "    }\n",
       "\n",
       "    .dataframe tbody tr th {\n",
       "        vertical-align: top;\n",
       "    }\n",
       "\n",
       "    .dataframe thead th {\n",
       "        text-align: right;\n",
       "    }\n",
       "</style>\n",
       "<table border=\"1\" class=\"dataframe\">\n",
       "  <thead>\n",
       "    <tr style=\"text-align: right;\">\n",
       "      <th></th>\n",
       "      <th>temp</th>\n",
       "      <th>sodas</th>\n",
       "    </tr>\n",
       "  </thead>\n",
       "  <tbody>\n",
       "    <tr>\n",
       "      <td>0</td>\n",
       "      <td>42</td>\n",
       "      <td>233070.0</td>\n",
       "    </tr>\n",
       "    <tr>\n",
       "      <td>1</td>\n",
       "      <td>50</td>\n",
       "      <td>267128.0</td>\n",
       "    </tr>\n",
       "    <tr>\n",
       "      <td>2</td>\n",
       "      <td>37</td>\n",
       "      <td>241282.0</td>\n",
       "    </tr>\n",
       "    <tr>\n",
       "      <td>3</td>\n",
       "      <td>47</td>\n",
       "      <td>222085.0</td>\n",
       "    </tr>\n",
       "    <tr>\n",
       "      <td>4</td>\n",
       "      <td>52</td>\n",
       "      <td>255464.0</td>\n",
       "    </tr>\n",
       "  </tbody>\n",
       "</table>\n",
       "</div>"
      ],
      "text/plain": [
       "   temp     sodas\n",
       "0    42  233070.0\n",
       "1    50  267128.0\n",
       "2    37  241282.0\n",
       "3    47  222085.0\n",
       "4    52  255464.0"
      ]
     },
     "execution_count": 9,
     "metadata": {},
     "output_type": "execute_result"
    }
   ],
   "source": [
    "# Check the first five rows.\n",
    "df.head()"
   ]
  },
  {
   "cell_type": "markdown",
   "metadata": {},
   "source": [
    "#### Our goal is to fit a model here.\n",
    "- You and I know that our $y$-intercept $\\beta_0$ is 200,000.\n",
    "- You and I know that our slope $\\beta_1$ is 1,000.\n",
    "- However, our computer does not know that. Our computer has to estimate $\\hat{\\beta}_0$ and $\\hat{\\beta}_1$ from the data.\n",
    "    - We might say that our **machine** has to... **learn**."
   ]
  },
  {
   "cell_type": "markdown",
   "metadata": {},
   "source": [
    "#### Our workflow:\n",
    "1. Instantiate model.\n",
    "2. Select a learning rate $\\alpha$.\n",
    "3. Select a starting point $\\hat{\\beta}_{1,0}$.\n",
    "4. Calculate the gradient of the loss function.\n",
    "5. Calculate $\\hat{\\beta}_{1,i+1} = \\hat{\\beta}_{1,i} - \\alpha * \\frac{\\partial L}{\\partial \\beta_1}$.\n",
    "6. Check value of $\\left|\\hat{\\beta}_{1,i+1} - \\hat{\\beta}_{1,i}\\right|$.\n",
    "7. Repeat steps 4 through 6 until \"stopping condition\" is met."
   ]
  },
  {
   "cell_type": "markdown",
   "metadata": {},
   "source": [
    "#### Step 1. Instantiate model.\n",
    "\n",
    "Our model takes on the form:\n",
    "$$ Y = \\beta_0 + \\beta_1 X + \\varepsilon$$"
   ]
  },
  {
   "cell_type": "markdown",
   "metadata": {},
   "source": [
    "#### Step 2. Select a learning rate $\\alpha$.\n",
    "\n",
    "$$\\alpha = 0.1$$"
   ]
  },
  {
   "cell_type": "code",
   "execution_count": 10,
   "metadata": {},
   "outputs": [],
   "source": [
    "alpha = 0.1"
   ]
  },
  {
   "cell_type": "markdown",
   "metadata": {},
   "source": [
    "#### Step 3. Select a starting point.\n",
    "The zero-th iteration of $\\hat{\\beta}_1$ is going to start at, say, 20.\n",
    "$$\\hat{\\beta}_{1,0} = 20$$\n",
    "\n",
    "Two points:\n",
    "- You and I know that the true value of $\\beta_1$ is 1000. We need the computer to figure (machine to learn) that part out!\n",
    "- We're going to pretend like the computer already knows the value for $\\beta_0$. In reality, we'd have to do this for $\\beta_0$ and for $\\beta_1$ at the same time."
   ]
  },
  {
   "cell_type": "code",
   "execution_count": null,
   "metadata": {},
   "outputs": [],
   "source": [
    "beta_1 = 20"
   ]
  },
  {
   "cell_type": "markdown",
   "metadata": {},
   "source": [
    "#### Step 4. Calculate the gradient of the loss function with respect to parameter $\\beta_1$.\n",
    "\n",
    "The loss function, $L$, is our mean square error.\n",
    "\n",
    "$$L = \\frac{1}{n}\\sum_{i = 1} ^ n (y_i - \\hat{y}_i)^2 $$\n",
    "\n",
    "$$\\Rightarrow L = \\frac{1}{n}\\sum_{i = 1} ^ n \\left(y_i - \\left(\\hat{\\beta}_0 + \\hat{\\beta}_1x_i\\right)\\right)^2 $$\n",
    "\n",
    "The gradient of this loss function with respect to $\\beta_1$ is:\n",
    "\n",
    "$$\\frac{\\partial L}{\\partial \\beta_1} = \\frac{2}{n} \\sum_{i=1}^n -x_i\\left(y_i - \\left(\\hat{\\beta}_1x_i + \\hat{\\beta}_0\\right)\\right) $$"
   ]
  },
  {
   "cell_type": "code",
   "execution_count": 11,
   "metadata": {},
   "outputs": [],
   "source": [
    "# Calculate gradient of beta_1.\n",
    "def beta_1_gradient(x, y, beta_1, beta_0):\n",
    "    # determine the number of elements to iterate over\n",
    "    n = len(x)\n",
    "    # start gradient at 0\n",
    "    gradient = 0\n",
    "    # begin summation\n",
    "    for i in range(n):\n",
    "        # calculate predicted value\n",
    "        pred = beta_0+beta_1*x[i]\n",
    "        error = y[i] - pred\n",
    "        gradient+= -1 * x[i] * error\n",
    "    # multiply gradient by 2/n\n",
    "    gradient *= (2/n)\n",
    "    return gradient"
   ]
  },
  {
   "cell_type": "markdown",
   "metadata": {},
   "source": [
    "#### Step 5. Calculate $\\hat{\\beta}_{1,i+1} = \\hat{\\beta}_{1,i} - \\alpha * \\frac{\\partial L}{\\partial \\beta_1}$."
   ]
  },
  {
   "cell_type": "code",
   "execution_count": 12,
   "metadata": {},
   "outputs": [],
   "source": [
    "# Define function to calculate new value of beta_1.\n",
    "def update_beta_1(beta_1, alpha, gradient):\n",
    "    beta_1 -= alpha * gradient\n",
    "    return beta_1"
   ]
  },
  {
   "cell_type": "markdown",
   "metadata": {},
   "source": [
    "#### Step 6. Check value of $\\left|\\hat{\\beta}_{1,i+1} - \\hat{\\beta}_{1,i}\\right|$."
   ]
  },
  {
   "cell_type": "code",
   "execution_count": 14,
   "metadata": {},
   "outputs": [],
   "source": [
    "def check_update(beta_1, updated_beta_1, tolerance = 0.1):\n",
    "    if abs(beta_1 - updated_beta_1) < tolerance:\n",
    "        return True\n",
    "    else:\n",
    "        return False"
   ]
  },
  {
   "cell_type": "markdown",
   "metadata": {},
   "source": [
    "#### Step 7: Save final value of $\\hat{\\beta}_1$."
   ]
  },
  {
   "cell_type": "markdown",
   "metadata": {},
   "source": [
    "#### Putting it all together..."
   ]
  },
  {
   "cell_type": "code",
   "execution_count": 30,
   "metadata": {},
   "outputs": [],
   "source": [
    "def gradient_descent(x, y, beta_1 = 0, alpha = 0.01, max_iter = 100):\n",
    "    # set converged = False\n",
    "    converged = False\n",
    "    \n",
    "    # Iterate through each of our observations\n",
    "    for i in range(max_iter):\n",
    "        \n",
    "        # Calculate  gradient\n",
    "        new_gradient = beta_1_gradient(x=x, y=y, beta_1=beta_1, beta_0=200000)\n",
    "        \n",
    "        # update beta_1\n",
    "        new_updated_beta_1 = update_beta_1(beta_1=beta_1, alpha=alpha, gradient=new_gradient)\n",
    "        \n",
    "        # Check for convergence\n",
    "        converged = check_update(beta_1=beta_1, updated_beta_1=new_updated_beta_1)\n",
    "        \n",
    "        #Overwrite beta_1\n",
    "        beta_1 = new_updated_beta_1\n",
    "        \n",
    "        # If we've converged, let us know!\n",
    "        if converged==True:\n",
    "            print(f'Our algorithm converged after {i} iterations with a beta_1 value of {beta_1}.')\n",
    "            break\n",
    "        print(f'Iteration {i} with beta_1 value of {beta_1}.')\n",
    "    \n",
    "    # If we didn't converge by the end of the loop, please let us know!\n",
    "    if converged == False:\n",
    "        print(\"Our algorithm did not converge. Kindly try not to trust the values I provided for beta_1.\")\n",
    "        \n",
    "    # return beta_1\n",
    "    return beta_1        "
   ]
  },
  {
   "cell_type": "code",
   "execution_count": 45,
   "metadata": {},
   "outputs": [
    {
     "name": "stdout",
     "output_type": "stream",
     "text": [
      "Iteration 0 with beta_1 value of 191698.8098804.\n",
      "Iteration 1 with beta_1 value of 183743.92216925736.\n",
      "Iteration 2 with beta_1 value of 176120.89009973803.\n",
      "Iteration 3 with beta_1 value of 168815.86958366923.\n",
      "Iteration 4 with beta_1 value of 161815.5940694734.\n",
      "Iteration 5 with beta_1 value of 155107.35044895834.\n",
      "Iteration 6 with beta_1 value of 148678.95596920906.\n",
      "Iteration 7 with beta_1 value of 142518.73610765036.\n",
      "Iteration 8 with beta_1 value of 136615.50337010028.\n",
      "Iteration 9 with beta_1 value of 130958.53697330914.\n",
      "Iteration 10 with beta_1 value of 125537.5633750862.\n",
      "Iteration 11 with beta_1 value of 120342.73761665505.\n",
      "Iteration 12 with beta_1 value of 115364.62544335354.\n",
      "Iteration 13 with beta_1 value of 110594.18617120806.\n",
      "Iteration 14 with beta_1 value of 106022.75626826653.\n",
      "Iteration 15 with beta_1 value of 101642.033620872.\n",
      "Iteration 16 with beta_1 value of 97444.06245630335.\n",
      "Iteration 17 with beta_1 value of 93421.21889440126.\n",
      "Iteration 18 with beta_1 value of 89566.19710193975.\n",
      "Iteration 19 with beta_1 value of 85871.9960245987.\n",
      "Iteration 20 with beta_1 value of 82331.90667244131.\n",
      "Iteration 21 with beta_1 value of 78939.49993580574.\n",
      "Iteration 22 with beta_1 value of 75688.61490948375.\n",
      "Iteration 23 with beta_1 value of 72573.34770398182.\n",
      "Iteration 24 with beta_1 value of 69588.04072354527.\n",
      "Iteration 25 with beta_1 value of 66727.27239147299.\n",
      "Iteration 26 with beta_1 value of 63985.84730406343.\n",
      "Iteration 27 with beta_1 value of 61358.786795310356.\n",
      "Iteration 28 with beta_1 value of 58841.31989521303.\n",
      "Iteration 29 with beta_1 value of 56428.874665280455.\n",
      "Iteration 30 with beta_1 value of 54117.069895494016.\n",
      "Iteration 31 with beta_1 value of 51901.707147649715.\n",
      "Iteration 32 with beta_1 value of 49778.763130629784.\n",
      "Iteration 33 with beta_1 value of 47744.38239375668.\n",
      "Iteration 34 with beta_1 value of 45794.87032495985.\n",
      "Iteration 35 with beta_1 value of 43926.686441039434.\n",
      "Iteration 36 with beta_1 value of 42136.437957841306.\n",
      "Iteration 37 with beta_1 value of 40420.87362866645.\n",
      "Iteration 38 with beta_1 value of 38776.87783972465.\n",
      "Iteration 39 with beta_1 value of 37201.464951909285.\n",
      "Iteration 40 with beta_1 value of 35691.773878617496.\n",
      "Iteration 41 with beta_1 value of 34245.06288976844.\n",
      "Iteration 42 with beta_1 value of 32858.70463258339.\n",
      "Iteration 43 with beta_1 value of 31530.18136008498.\n",
      "Iteration 44 with beta_1 value of 30257.08035865004.\n",
      "Iteration 45 with beta_1 value of 29037.089566312163.\n",
      "Iteration 46 with beta_1 value of 27867.993373856403.\n",
      "Iteration 47 with beta_1 value of 26747.66860108056.\n",
      "Iteration 48 with beta_1 value of 25674.080640915563.\n",
      "Iteration 49 with beta_1 value of 24645.27976440236.\n",
      "Iteration 50 with beta_1 value of 23659.39757981483.\n",
      "Iteration 51 with beta_1 value of 22714.64363949818.\n",
      "Iteration 52 with beta_1 value of 21809.302188260506.\n",
      "Iteration 53 with beta_1 value of 20941.729047412406.\n",
      "Iteration 54 with beta_1 value of 20110.34862879569.\n",
      "Iteration 55 with beta_1 value of 19313.651073378496.\n",
      "Iteration 56 with beta_1 value of 18550.189509220152.\n",
      "Iteration 57 with beta_1 value of 17818.577423826115.\n",
      "Iteration 58 with beta_1 value of 17117.486146120875.\n",
      "Iteration 59 with beta_1 value of 16445.64243346592.\n",
      "Iteration 60 with beta_1 value of 15801.826159340535.\n",
      "Iteration 61 with beta_1 value of 15184.868097486094.\n",
      "Iteration 62 with beta_1 value of 14593.647798489648.\n",
      "Iteration 63 with beta_1 value of 14027.091554950495.\n",
      "Iteration 64 with beta_1 value of 13484.170451534314.\n",
      "Iteration 65 with beta_1 value of 12963.898496373566.\n",
      "Iteration 66 with beta_1 value of 12465.33083042065.\n",
      "Iteration 67 with beta_1 value of 11987.562011501825.\n",
      "Iteration 68 with beta_1 value of 11529.7243699556.\n",
      "Iteration 69 with beta_1 value of 11090.98643286929.\n",
      "Iteration 70 with beta_1 value of 10670.551414051994.\n",
      "Iteration 71 with beta_1 value of 10267.655767001703.\n",
      "Iteration 72 with beta_1 value of 9881.567798238539.\n",
      "Iteration 73 with beta_1 value of 9511.586338485862.\n",
      "Iteration 74 with beta_1 value of 9157.039469285979.\n",
      "Iteration 75 with beta_1 value of 8817.283302737882.\n",
      "Iteration 76 with beta_1 value of 8491.700812140905.\n",
      "Iteration 77 with beta_1 value of 8179.700711420661.\n",
      "Iteration 78 with beta_1 value of 7880.716381302183.\n",
      "Iteration 79 with beta_1 value of 7594.204840280124.\n",
      "Iteration 80 with beta_1 value of 7319.64575851719.\n",
      "Iteration 81 with beta_1 value of 7056.540512879977.\n",
      "Iteration 82 with beta_1 value of 6804.41128139606.\n",
      "Iteration 83 with beta_1 value of 6562.800175487804.\n",
      "Iteration 84 with beta_1 value of 6331.268408406944.\n",
      "Iteration 85 with beta_1 value of 6109.39549835975.\n",
      "Iteration 86 with beta_1 value of 5896.778504875576.\n",
      "Iteration 87 with beta_1 value of 5693.03129703198.\n",
      "Iteration 88 with beta_1 value of 5497.783852207437.\n",
      "Iteration 89 with beta_1 value of 5310.681584088129.\n",
      "Iteration 90 with beta_1 value of 5131.384698708408.\n",
      "Iteration 91 with beta_1 value of 4959.567577355449.\n",
      "Iteration 92 with beta_1 value of 4794.918185217397.\n",
      "Iteration 93 with beta_1 value of 4637.137504701046.\n",
      "Iteration 94 with beta_1 value of 4485.938992389932.\n",
      "Iteration 95 with beta_1 value of 4341.048058656603.\n",
      "Iteration 96 with beta_1 value of 4202.201568984014.\n",
      "Iteration 97 with beta_1 value of 4069.147366090394.\n",
      "Iteration 98 with beta_1 value of 3941.6438119897275.\n",
      "Iteration 99 with beta_1 value of 3819.4593491561895.\n",
      "Iteration 100 with beta_1 value of 3702.372079995571.\n",
      "Iteration 101 with beta_1 value of 3590.1693638599795.\n",
      "Iteration 102 with beta_1 value of 3482.64743087396.\n",
      "Iteration 103 with beta_1 value of 3379.6110118707047.\n",
      "Iteration 104 with beta_1 value of 3280.8729837662922.\n",
      "Iteration 105 with beta_1 value of 3186.254029727917.\n",
      "Iteration 106 with beta_1 value of 3095.5823135189517.\n",
      "Iteration 107 with beta_1 value of 3008.6931674294187.\n",
      "Iteration 108 with beta_1 value of 2925.4287932251323.\n",
      "Iteration 109 with beta_1 value of 2845.6379755724006.\n",
      "Iteration 110 with beta_1 value of 2769.1758074178515.\n",
      "Iteration 111 with beta_1 value of 2695.9034268246396.\n",
      "Iteration 112 with beta_1 value of 2625.6877647871106.\n",
      "Iteration 113 with beta_1 value of 2558.4013035659336.\n",
      "Iteration 114 with beta_1 value of 2493.9218451048127.\n",
      "Iteration 115 with beta_1 value of 2432.1322891082064.\n",
      "Iteration 116 with beta_1 value of 2372.9204203770214.\n",
      "Iteration 117 with beta_1 value of 2316.178705016069.\n",
      "Iteration 118 with beta_1 value of 2261.804095143173.\n",
      "Iteration 119 with beta_1 value of 2209.6978417452665.\n",
      "Iteration 120 with beta_1 value of 2159.765315341611.\n",
      "Iteration 121 with beta_1 value of 2111.915834128442.\n",
      "Iteration 122 with beta_1 value of 2066.062499292939.\n",
      "Iteration 123 with beta_1 value of 2022.1220371974355.\n",
      "Iteration 124 with beta_1 value of 1980.0146481472625.\n",
      "Iteration 125 with beta_1 value of 1939.6638614675735.\n",
      "Iteration 126 with beta_1 value of 1900.9963966259584.\n",
      "Iteration 127 with beta_1 value of 1863.9420301486339.\n",
      "Iteration 128 with beta_1 value of 1828.4334680885172.\n",
      "Iteration 129 with beta_1 value of 1794.406223813575.\n",
      "Iteration 130 with beta_1 value of 1761.7985008934993.\n",
      "Iteration 131 with beta_1 value of 1730.551080872025.\n",
      "Iteration 132 with beta_1 value of 1700.6072157210706.\n",
      "Iteration 133 with beta_1 value of 1671.9125247813915.\n",
      "Iteration 134 with beta_1 value of 1644.4148960025814.\n",
      "Iteration 135 with beta_1 value of 1618.0643913030624.\n",
      "Iteration 136 with beta_1 value of 1592.8131558781943.\n",
      "Iteration 137 with beta_1 value of 1568.6153312917925.\n",
      "Iteration 138 with beta_1 value of 1545.4269721932264.\n",
      "Iteration 139 with beta_1 value of 1523.2059665088473.\n",
      "Iteration 140 with beta_1 value of 1501.9119589628044.\n",
      "Iteration 141 with beta_1 value of 1481.5062777883613.\n",
      "Iteration 142 with beta_1 value of 1461.9518644966088.\n",
      "Iteration 143 with beta_1 value of 1443.2132065750309.\n",
      "Iteration 144 with beta_1 value of 1425.256272993699.\n",
      "Iteration 145 with beta_1 value of 1408.0484524019662.\n",
      "Iteration 146 with beta_1 value of 1391.558493903423.\n",
      "Iteration 147 with beta_1 value of 1375.756450301555.\n",
      "Iteration 148 with beta_1 value of 1360.6136237130352.\n",
      "Iteration 149 with beta_1 value of 1346.1025134498736.\n",
      "Iteration 150 with beta_1 value of 1332.1967660757825.\n",
      "Iteration 151 with beta_1 value of 1318.871127546046.\n",
      "Iteration 152 with beta_1 value of 1306.101397343982.\n",
      "Iteration 153 with beta_1 value of 1293.8643845307035.\n",
      "Iteration 154 with beta_1 value of 1282.1378656283594.\n",
      "Iteration 155 with beta_1 value of 1270.900544260368.\n",
      "Iteration 156 with beta_1 value of 1260.1320124753493.\n",
      "Iteration 157 with beta_1 value of 1249.8127136845126.\n",
      "Iteration 158 with beta_1 value of 1239.923907145193.\n",
      "Iteration 159 with beta_1 value of 1230.4476339260355.\n",
      "Iteration 160 with beta_1 value of 1221.3666842920163.\n",
      "Iteration 161 with beta_1 value of 1212.6645664500695.\n",
      "Iteration 162 with beta_1 value of 1204.3254765985587.\n",
      "Iteration 163 with beta_1 value of 1196.3342702262014.\n",
      "Iteration 164 with beta_1 value of 1188.676434608321.\n",
      "Iteration 165 with beta_1 value of 1181.3380624504787.\n",
      "Iteration 166 with beta_1 value of 1174.3058266316195.\n",
      "Iteration 167 with beta_1 value of 1167.566956000863.\n",
      "Iteration 168 with beta_1 value of 1161.1092121839838.\n",
      "Iteration 169 with beta_1 value of 1154.9208673574622.\n",
      "Iteration 170 with beta_1 value of 1148.9906829497374.\n",
      "Iteration 171 with beta_1 value of 1143.3078892309866.\n",
      "Iteration 172 with beta_1 value of 1137.8621657543597.\n",
      "Iteration 173 with beta_1 value of 1132.6436226131518.\n",
      "Iteration 174 with beta_1 value of 1127.6427824798745.\n",
      "Iteration 175 with beta_1 value of 1122.8505633946052.\n",
      "Iteration 176 with beta_1 value of 1118.2582622713596.\n",
      "Iteration 177 with beta_1 value of 1113.8575390925328.\n",
      "Iteration 178 with beta_1 value of 1109.6404017627017.\n",
      "Iteration 179 with beta_1 value of 1105.5991915942866.\n",
      "Iteration 180 with beta_1 value of 1101.7265693987094.\n",
      "Iteration 181 with beta_1 value of 1098.0155021577896.\n",
      "Iteration 182 with beta_1 value of 1094.4592502511725.\n",
      "Iteration 183 with beta_1 value of 1091.0513552165944.\n",
      "Iteration 184 with beta_1 value of 1087.7856280207527.\n",
      "Iteration 185 with beta_1 value of 1084.6561378194854.\n",
      "Iteration 186 with beta_1 value of 1081.6572011868423.\n",
      "Iteration 187 with beta_1 value of 1078.7833717934905.\n",
      "Iteration 188 with beta_1 value of 1076.029430515707.\n",
      "Iteration 189 with beta_1 value of 1073.390375956997.\n",
      "Iteration 190 with beta_1 value of 1070.8614153651238.\n",
      "Iteration 191 with beta_1 value of 1068.4379559280537.\n",
      "Iteration 192 with beta_1 value of 1066.115596433012.\n",
      "Iteration 193 with beta_1 value of 1063.8901192734966.\n",
      "Iteration 194 with beta_1 value of 1061.7574827897402.\n",
      "Iteration 195 with beta_1 value of 1059.713813928704.\n",
      "Iteration 196 with beta_1 value of 1057.7554012102773.\n",
      "Iteration 197 with beta_1 value of 1055.878687986908.\n",
      "Iteration 198 with beta_1 value of 1054.0802659844205.\n",
      "Iteration 199 with beta_1 value of 1052.3568691122953.\n",
      "Iteration 200 with beta_1 value of 1050.7053675321638.\n",
      "Iteration 201 with beta_1 value of 1049.122761973751.\n",
      "Iteration 202 with beta_1 value of 1047.6061782879397.\n",
      "Iteration 203 with beta_1 value of 1046.152862227066.\n",
      "Iteration 204 with beta_1 value of 1044.760174442967.\n",
      "Iteration 205 with beta_1 value of 1043.4255856936948.\n",
      "Iteration 206 with beta_1 value of 1042.1466722501937.\n",
      "Iteration 207 with beta_1 value of 1040.9211114945979.\n",
      "Iteration 208 with beta_1 value of 1039.7466777021555.\n",
      "Iteration 209 with beta_1 value of 1038.621237999119.\n",
      "Iteration 210 with beta_1 value of 1037.5427484892623.\n",
      "Iteration 211 with beta_1 value of 1036.5092505419861.\n",
      "Iteration 212 with beta_1 value of 1035.518867235276.\n",
      "Iteration 213 with beta_1 value of 1034.5697999470485.\n",
      "Iteration 214 with beta_1 value of 1033.6603250886976.\n",
      "Iteration 215 with beta_1 value of 1032.7887909749074.\n",
      "Iteration 216 with beta_1 value of 1031.953614824049.\n",
      "Iteration 217 with beta_1 value of 1031.1532798837113.\n",
      "Iteration 218 with beta_1 value of 1030.3863326761466.\n",
      "Iteration 219 with beta_1 value of 1029.6513803586292.\n",
      "Iteration 220 with beta_1 value of 1028.9470881939321.\n",
      "Iteration 221 with beta_1 value of 1028.2721771263282.\n",
      "Iteration 222 with beta_1 value of 1027.6254214587136.\n",
      "Iteration 223 with beta_1 value of 1027.0056466266362.\n",
      "Iteration 224 with beta_1 value of 1026.4117270651836.\n",
      "Iteration 225 with beta_1 value of 1025.84258416486.\n",
      "Iteration 226 with beta_1 value of 1025.2971843127377.\n",
      "Iteration 227 with beta_1 value of 1024.7745370153264.\n",
      "Iteration 228 with beta_1 value of 1024.2736930997505.\n",
      "Iteration 229 with beta_1 value of 1023.7937429899696.\n",
      "Iteration 230 with beta_1 value of 1023.3338150549084.\n",
      "Iteration 231 with beta_1 value of 1022.8930740254998.\n",
      "Iteration 232 with beta_1 value of 1022.4707194777632.\n",
      "Iteration 233 with beta_1 value of 1022.0659843791655.\n",
      "Iteration 234 with beta_1 value of 1021.6781336956229.\n",
      "Iteration 235 with beta_1 value of 1021.3064630566159.\n",
      "Iteration 236 with beta_1 value of 1020.9502974759905.\n",
      "Iteration 237 with beta_1 value of 1020.6089901261251.\n",
      "Iteration 238 with beta_1 value of 1020.2819211632356.\n",
      "Iteration 239 with beta_1 value of 1019.9684966016846.\n",
      "Iteration 240 with beta_1 value of 1019.6681472352528.\n",
      "Iteration 241 with beta_1 value of 1019.3803276034104.\n",
      "Iteration 242 with beta_1 value of 1019.1045150007134.\n",
      "Iteration 243 with beta_1 value of 1018.8402085275256.\n",
      "Iteration 244 with beta_1 value of 1018.5869281803411.\n",
      "Iteration 245 with beta_1 value of 1018.3442139800562.\n",
      "Iteration 246 with beta_1 value of 1018.1116251366075.\n",
      "Iteration 247 with beta_1 value of 1017.8887392484586.\n",
      "Iteration 248 with beta_1 value of 1017.6751515354828.\n",
      "Iteration 249 with beta_1 value of 1017.4704741038468.\n",
      "Iteration 250 with beta_1 value of 1017.2743352415617.\n",
      "Iteration 251 with beta_1 value of 1017.0863787434224.\n",
      "Iteration 252 with beta_1 value of 1016.9062632641073.\n",
      "Iteration 253 with beta_1 value of 1016.7336616982659.\n",
      "Iteration 254 with beta_1 value of 1016.568260586467.\n",
      "Iteration 255 with beta_1 value of 1016.4097595459292.\n",
      "Iteration 256 with beta_1 value of 1016.2578707249997.\n",
      "Iteration 257 with beta_1 value of 1016.1123182803908.\n",
      "Iteration 258 with beta_1 value of 1015.972837876224.\n",
      "Iteration 259 with beta_1 value of 1015.839176203974.\n",
      "Iteration 260 with beta_1 value of 1015.7110905224376.\n",
      "Iteration 261 with beta_1 value of 1015.588348216895.\n",
      "Iteration 262 with beta_1 value of 1015.4707263766612.\n",
      "Iteration 263 with beta_1 value of 1015.3580113902608.\n",
      "Iteration 264 with beta_1 value of 1015.249998557491.\n",
      "Iteration 265 with beta_1 value of 1015.1464917176685.\n",
      "Our algorithm converged after 266 iterations with a beta_1 value of 1015.0473028933842.\n"
     ]
    },
    {
     "data": {
      "text/plain": [
       "1015.0473028933842"
      ]
     },
     "execution_count": 45,
     "metadata": {},
     "output_type": "execute_result"
    }
   ],
   "source": [
    "# Call gradient_descent with an initial beta_1 of 20, alpha of 0.01, and 100 iterations.\n",
    "gradient_descent(x= df['temp'], \n",
    "                 y=df['sodas'], \n",
    "                 beta_1 = 200000, \n",
    "                 alpha = 0.00001, \n",
    "                 max_iter = 100000)"
   ]
  },
  {
   "cell_type": "markdown",
   "metadata": {},
   "source": [
    "<details><summary>What should we do?</summary>\n",
    "\n",
    "- We **should not** adjust our maximum iterations. It doesn't look like we'll converge.\n",
    "- We should adjust our alpha!\n",
    "</details>"
   ]
  },
  {
   "cell_type": "code",
   "execution_count": 40,
   "metadata": {
    "scrolled": false
   },
   "outputs": [
    {
     "ename": "NameError",
     "evalue": "name 'converged' is not defined",
     "output_type": "error",
     "traceback": [
      "\u001b[1;31m---------------------------------------------------------------------------\u001b[0m",
      "\u001b[1;31mNameError\u001b[0m                                 Traceback (most recent call last)",
      "\u001b[1;32m<ipython-input-40-2159178de351>\u001b[0m in \u001b[0;36m<module>\u001b[1;34m()\u001b[0m\n\u001b[1;32m----> 1\u001b[1;33m \u001b[0mconverged\u001b[0m\u001b[1;33m\u001b[0m\u001b[0m\n\u001b[0m",
      "\u001b[1;31mNameError\u001b[0m: name 'converged' is not defined"
     ]
    }
   ],
   "source": [
    "converged"
   ]
  },
  {
   "cell_type": "code",
   "execution_count": null,
   "metadata": {},
   "outputs": [],
   "source": []
  }
 ],
 "metadata": {
  "kernelspec": {
   "display_name": "Python 3",
   "language": "python",
   "name": "python3"
  },
  "language_info": {
   "codemirror_mode": {
    "name": "ipython",
    "version": 3
   },
   "file_extension": ".py",
   "mimetype": "text/x-python",
   "name": "python",
   "nbconvert_exporter": "python",
   "pygments_lexer": "ipython3",
   "version": "3.6.5"
  }
 },
 "nbformat": 4,
 "nbformat_minor": 2
}
