{
 "cells": [
  {
   "cell_type": "markdown",
   "metadata": {},
   "source": [
    "# ![Logo](https://ga-dash.s3.amazonaws.com/production/assets/logo-9f88ae6c9c3871690e33280fcf557f33.png) Bayes Stat Testing\n",
    "\n",
    "### LEARNING OBJECTIVES\n",
    "*After this lesson, you will be able to:*\n",
    "\n",
    "1. Understand the mathematics behind the credible interval\n",
    "2. Apply your previous learnings on Bayesian statistics in a formal 'decision process' for statistical estimation\n",
    "3. Understand the difference between credible intervals and confidence intervals\n",
    "\n",
    "### STUDENT PRE-WORK\n",
    "*Before this lesson, you should already be able to:*\n",
    "\n",
    "1. Understand how to to simple hypothesis testing, including constructing classical confidence intervals\n",
    "2. Explain conceptually posterior distributions, and basic engage in basic Bayesian statistics covered earlier in the week\n",
    "\n",
    "## A Review of Classical Confidence Intervals\n",
    "\n",
    "As you recall, statistical testing forms the foundations of many statistical \"decision making processes.\" The point is to define some value: A difference of quantities, a quotient of quantities etc. This quantity is usually a population parameter which can be nicely analyzed under an assumed distribution (usually normality).\n",
    "\n",
    "Once we have a distribution, we can build the confidence band around the quantity that tells us ... tells us what? Well, this is where we need operate with care, because the formal definition of the confidence band is as follows:\n",
    "\n",
    "If we assume a certain confidence level $1-\\alpha$, and gather $k$ different samples of data, we expect that $k\\times(1-\\alpha)$% of the confidence intervals will \"include\" the quantity within the intervals lower and upper bounds.\n",
    "\n",
    "It's sort of like playing a game of horseshoes. Horseshoes is a game where people throw a horse shoe at a small metal pole, hoping to get the shoe around the pole (picture below). This is pretty much how you need to think about the confidence bands. For those of us who are not equestrians, we luckily have an analog to the classical view of confidence within the Bayesian purview.\n",
    "\n",
    "![Image](http://cdn.tradyouth.org/uploads/2014/05/2013-farm-show-horseshoe-pitching-contest-16feaa171c1f26f7.jpg)\n",
    "\n",
    "## Introducing Statistical Testing - Bayesian Way\n",
    "\n",
    "Like previously, we will show the equivalent Bayesian formalism for the confidence interval. As you recall, in many cases, we can reconstruct the frequentist statistic by constructing a non-informative posterior distribution. We usually like to show this equivalency because it better demonstrates that Bayesian statics can be thought of as a more general approach to statistical analysis, whereas frequentism requires a perfectly Uniform distribution as the prior distribution.\n",
    "\n",
    "Whereby, we can include prior information to tune results more towards \"reality\" or the local data, but barring that extra information, we arrive at similar or equivalent results to the established classical literature.\n",
    "\n",
    "To review, a posterior distribution looks like the following:\n",
    "\n",
    "$$ \\begin{equation} f(\\theta|x_1, x_2, ..., x_n ) = \\dfrac{f(x| \\theta_i )f(\\theta)}{\\sum\\limits_{i=0}^{n} f(x| \\theta_i)f(\\theta_i)} = \\frac{f(x| \\theta_i )f(\\theta)}{f(x)} \\propto f(x| \\theta_i )f(\\theta)\n",
    " \\end{equation}$$\n",
    "\n",
    "\n",
    "### The Mathematical Predicates for the Credibility Intervals\n",
    "\n",
    "If we pick a non-informative prior and assume our data are Normally distributed, then our posterior distribution of $\\mu$ and $\\sigma$ are given by:\n",
    "\n",
    "$$ f(\\mu,\\sigma|x_i)=\\prod_{i = 1}^{n}\\frac{1}{(2\\pi\\sigma_{i}^{2})^{1/2}} \\exp\\frac{(\\mu-x_i)^2}{2\\sigma_{x}^{2}} $$\n",
    "\n",
    "So what are we doing here? We're assuming the likelihood is normally distributed, and since we are assuming non-informativity, this makes the numerator much simpler, and we should get the same results as a classical confidence interval.\n",
    "\n",
    "## Blast from the past - Confidence Intervals\n",
    "\n",
    "To better hammer in the point of the similarity, let's go ahead and review and construct a classical confidence interval. As you recall, we learn about the confidence interval when we need to discern whether an effect we have observed from an experiment is \"statistically significant.\"\n",
    "\n",
    "The formula for a frequentist confidence interval for the population mean is given by:\n",
    "\n",
    "$$\n",
    "\\bar{x} \\pm t^* \\frac{s}{\\sqrt{n}}\n",
    "$$\n",
    "\n",
    "where $t^*$ is the critical value pulled from the Student's $t$ distribution, $s$ is the sample standard deviation of the collected data, and $n$ is the number of observations in the collected data.\n",
    "\n",
    "**Check:** What is the relationship between our use of $t$ and $s$?\n",
    "\n",
    "## Credible Intervals\n",
    "\n",
    "As previously with our Bayesian analysis, we need to do some mathematics to get to the result. Our non-informative predicate prevents the prior distribution from making our numerator more complex than it has to be. Therefore, resolving the posterior distribution will be more or less reduced to resolving the likelihood function. Yet, the likelihood function is itself a product of normally distributed variables... a monstrosity to disentangle mathematically.\n",
    "\n",
    "However, the best trick to solve this using MLE (or MAP). After a bunch of calculus and solving systems of equations, we get the following closed form as the solution:\n",
    "\n",
    "$$\\sigma=\\sigma_{(1)} + \\frac{log(1-.95)}{len(data)}$$\n",
    "\n",
    "Where, $\\sigma_{(1)}$ is the minimum value of the sample."
   ]
  },
  {
   "cell_type": "code",
   "execution_count": 1,
   "metadata": {},
   "outputs": [
    {
     "data": {
      "text/plain": [
       "(Mean(statistic=5.5, minmax=(3.3341494103866087, 7.6658505896133917)),\n",
       " Variance(statistic=11.785714285714285, minmax=(4.3369083233981929, 30.551148269758894)),\n",
       " Std_dev(statistic=3.3129812201742395, minmax=(2.0825245072743304, 5.527309315549374)))"
      ]
     },
     "execution_count": 1,
     "metadata": {},
     "output_type": "execute_result"
    }
   ],
   "source": [
    "from scipy import stats\n",
    "\n",
    "data = [1,2,3,4,5,6,7,8,9,10]\n",
    "\n",
    "stats.bayes_mvs(data, alpha=0.95)"
   ]
  },
  {
   "cell_type": "code",
   "execution_count": 8,
   "metadata": {},
   "outputs": [
    {
     "data": {
      "text/plain": [
       "(3.3341494103866087, 7.6658505896133917)"
      ]
     },
     "execution_count": 8,
     "metadata": {},
     "output_type": "execute_result"
    }
   ],
   "source": [
    "import numpy as np\n",
    "stats.t.interval(0.95, len(data)-1, loc=np.mean(data), scale=np.std(data, ddof=1)/len(data)**0.5)"
   ]
  },
  {
   "cell_type": "code",
   "execution_count": null,
   "metadata": {
    "collapsed": true
   },
   "outputs": [],
   "source": []
  },
  {
   "cell_type": "markdown",
   "metadata": {},
   "source": [
    "## Conclusion\n",
    "\n",
    "Our conclusion for the Bayesian credible interval of the mean is: There is a 95% chance that the population mean $\\mu$ is between 3.33 and 7.67.\n",
    "\n",
    "There's the same interpretation for the variance and standard deviation.\n",
    "\n",
    "We've gotten our feet wet with the Bayesian credibility interval, the net step will be to apply this to data and work closer with some Python library methods to make the computation easier/streamlined.\n",
    "\n",
    "## Resources\n",
    "\n",
    "+ [Math deep-dive MLE](https://onlinecourses.science.psu.edu/stat504/node/28)\n",
    "+ [Example of Maximum Likelihood Estimation](https://onlinecourses.science.psu.edu/stat414/node/191)\n",
    "+ [Bernoulli Distribution FYI](http://www.math.uah.edu/stat/bernoulli/Introduction.html)\n",
    "+ [Maximum a posteriori (MAP) estimation Video](https://www.youtube.com/watch?v=kkhdIriddSI)\n",
    "+ Calculus-light [Introduction to MLE](http://spia.uga.edu/faculty_pages/monogan/teaching/ts/B2mle.pdf)\n",
    "+ An excellent [history/analytical development of MLE](https://arxiv.org/pdf/0804.2996.pdf)\n",
    "+ [Credibility Intervals Wikipedia](https://en.wikipedia.org/wiki/Credible_interval)\n",
    "+ [Documentation SciPy](http://docs.scipy.org/doc/scipy/reference/generated/scipy.stats.bayes_mvs.html)\n",
    "+ [Scipy normal test](http://docs.scipy.org/doc/scipy/reference/generated/scipy.stats.normaltest.html)\n"
   ]
  }
 ],
 "metadata": {
  "kernelspec": {
   "display_name": "Python 3",
   "language": "python",
   "name": "python3"
  },
  "language_info": {
   "codemirror_mode": {
    "name": "ipython",
    "version": 3
   },
   "file_extension": ".py",
   "mimetype": "text/x-python",
   "name": "python",
   "nbconvert_exporter": "python",
   "pygments_lexer": "ipython3",
   "version": "3.6.5"
  }
 },
 "nbformat": 4,
 "nbformat_minor": 2
}
