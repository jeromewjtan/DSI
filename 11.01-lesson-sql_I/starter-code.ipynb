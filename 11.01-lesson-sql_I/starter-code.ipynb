{
 "cells": [
  {
   "cell_type": "code",
   "execution_count": null,
   "metadata": {},
   "outputs": [],
   "source": [
    "import pandas as pd\n",
    "from sqlalchemy import create_engine\n",
    "\n",
    "engine = create_engine('postgres://DSI8:p3c1341f0f241ef04befd0f0b3acc0365eb30839b9408f9a9b3278d96966f34b8@ec2-34-202-213-35.compute-1.amazonaws.com:5432/dc5rooirs71hh0')"
   ]
  },
  {
   "cell_type": "markdown",
   "metadata": {},
   "source": [
    "# `SELECT` and `FROM`\n",
    "---\n",
    "\n",
    "SQL is used to pull specific data from a database. The two primary clauses that must be present in every query are `SELECT`, and `FROM`.\n",
    "\n",
    "- `SELECT` allows you to select a subset of columns from a table\n",
    "- `FROM`: Since there are often many tables in a database, it's important to specify which table you're querying. \n",
    "\n",
    "```SQL\n",
    "-- Returns all columns from the users table\n",
    "SELECT * \n",
    "FROM users;\n",
    "```\n",
    "\n",
    "**Challenge: Show me all the columns from the `restaurants` table.**\n",
    "\n",
    "<details>\n",
    "    <summary>ERD</summary>\n",
    "    <img src=\"erd.png\">\n",
    "</details>"
   ]
  },
  {
   "cell_type": "code",
   "execution_count": null,
   "metadata": {},
   "outputs": [],
   "source": [
    "sql = \"\"\"\n",
    "\n",
    "\"\"\"\n",
    "\n",
    "df = pd.read_sql_query(sql, engine)\n",
    "df.head()"
   ]
  },
  {
   "cell_type": "markdown",
   "metadata": {},
   "source": [
    "We can also get a subset of the columns from a given table.\n",
    "\n",
    "```SQL\n",
    "-- Returns the name and salary columns from the users table\n",
    "SELECT name, salary\n",
    "FROM users;\n",
    "```\n",
    "\n",
    "\n",
    "**Challenge: Show me the `name` and `calories` columns from the `foods` table**\n",
    "\n",
    "<details>\n",
    "    <summary>ERD</summary>\n",
    "    <img src=\"erd.png\">\n",
    "</details>"
   ]
  },
  {
   "cell_type": "code",
   "execution_count": null,
   "metadata": {},
   "outputs": [],
   "source": [
    "sql = \"\"\"\n",
    "\n",
    "\"\"\"\n",
    "\n",
    "df = pd.read_sql_query(sql, engine)\n",
    "df.head()"
   ]
  },
  {
   "cell_type": "markdown",
   "metadata": {},
   "source": [
    "**Challenge: Give me the names of all the categories**\n",
    "\n",
    "<details>\n",
    "    <summary>ERD</summary>\n",
    "    <img src=\"erd.png\">\n",
    "</details>"
   ]
  },
  {
   "cell_type": "code",
   "execution_count": null,
   "metadata": {},
   "outputs": [],
   "source": [
    "sql = \"\"\"\n",
    "\n",
    "\"\"\"\n",
    "\n",
    "df = pd.read_sql_query(sql, engine)\n",
    "df.head()"
   ]
  },
  {
   "cell_type": "markdown",
   "metadata": {},
   "source": [
    "# Namespacing\n",
    "---\n",
    "\n",
    "Sometimes you see the columns prefixed by their corresponding table. This is overkill when you’re just querying, one table, but becomes important once you query from multiple tables.\n",
    "```SQL\n",
    "SELECT users.name, users.salary \n",
    "FROM users;\n",
    "```\n",
    "\n",
    "**Challenge: Show me the `name` and `calories` columns from the `foods` table**\n",
    "\n",
    "<details>\n",
    "    <summary>ERD</summary>\n",
    "    <img src=\"erd.png\">\n",
    "</details>"
   ]
  },
  {
   "cell_type": "code",
   "execution_count": null,
   "metadata": {},
   "outputs": [],
   "source": [
    "sql = \"\"\"\n",
    "\n",
    "\"\"\"\n",
    "\n",
    "df = pd.read_sql_query(sql, engine)\n",
    "df.head()"
   ]
  },
  {
   "cell_type": "markdown",
   "metadata": {},
   "source": [
    "**Challenge: Give me the names of all the `categories` using namespacing.**\n",
    "<details>\n",
    "    <summary>ERD</summary>\n",
    "    <img src=\"erd.png\">\n",
    "</details>"
   ]
  },
  {
   "cell_type": "code",
   "execution_count": null,
   "metadata": {},
   "outputs": [],
   "source": [
    "sql = \"\"\"\n",
    "\n",
    "\"\"\"\n",
    "\n",
    "df = pd.read_sql_query(sql, engine)\n",
    "df.head()"
   ]
  },
  {
   "cell_type": "markdown",
   "metadata": {},
   "source": [
    "You can also namespace a wildcard.\n",
    "```SQL\n",
    "SELECT users.* \n",
    "FROM users;\n",
    "```\n",
    "\n",
    "**Challenge: Give me every column from the `foods` table. Use namespacing.**\n",
    "\n",
    "<details>\n",
    "    <summary>ERD</summary>\n",
    "    <img src=\"erd.png\">\n",
    "</details>"
   ]
  },
  {
   "cell_type": "code",
   "execution_count": null,
   "metadata": {},
   "outputs": [],
   "source": [
    "sql = \"\"\"\n",
    "\n",
    "\"\"\"\n",
    "\n",
    "df = pd.read_sql_query(sql, engine)\n",
    "df.head()"
   ]
  },
  {
   "cell_type": "markdown",
   "metadata": {},
   "source": [
    "# Aliasing\n",
    "---\n",
    "\n",
    "Writing out the same table can get pretty cumbersome. Thankfully we can give our tables a _temporary_ (and hopefully shorter) name. This is called aliasing.\n",
    "\n",
    "```SQL\n",
    "SELECT u.name, u.salary \n",
    "FROM users AS u;\n",
    "```\n",
    "\n",
    "**Challenge: Query the `name` and `calories` columns from the `foods` table, and rename the `foods` table to `f`**\n",
    "\n",
    "<details>\n",
    "    <summary>ERD</summary>\n",
    "    <img src=\"erd.png\">\n",
    "</details>"
   ]
  },
  {
   "cell_type": "code",
   "execution_count": null,
   "metadata": {},
   "outputs": [],
   "source": [
    "sql = \"\"\"\n",
    "\n",
    "\"\"\"\n",
    "\n",
    "df = pd.read_sql_query(sql, engine)\n",
    "df.head()"
   ]
  },
  {
   "cell_type": "markdown",
   "metadata": {},
   "source": [
    "**Challenge: Give me the names of all the `restaurants`, and alias the table**\n",
    "\n",
    "<details>\n",
    "    <summary>ERD</summary>\n",
    "    <img src=\"erd.png\">\n",
    "</details>"
   ]
  },
  {
   "cell_type": "code",
   "execution_count": null,
   "metadata": {},
   "outputs": [],
   "source": [
    "sql = \"\"\"\n",
    "\n",
    "\"\"\"\n",
    "\n",
    "df = pd.read_sql_query(sql, engine)\n",
    "df.head()"
   ]
  },
  {
   "cell_type": "markdown",
   "metadata": {},
   "source": [
    "Recall that the `foods`, `restaurants` and `categories` tables all have a `name` column. When we start combining tables into a single query, we might want to give each name column an alias as well.\n",
    "```SQL\n",
    "-- Returns the name column from users table. \"name\" is renamed to \"user\"\n",
    "SELECT u.name AS user\n",
    "FROM users AS u;\n",
    "```\n",
    "\n",
    "**Show me the `name` (temporarily renamed to `food`) and `calories` columns from the `foods` table**\n",
    "\n",
    "<details>\n",
    "    <summary>ERD</summary>\n",
    "    <img src=\"erd.png\">\n",
    "</details>"
   ]
  },
  {
   "cell_type": "code",
   "execution_count": null,
   "metadata": {},
   "outputs": [],
   "source": [
    "sql = \"\"\"\n",
    "\n",
    "\"\"\"\n",
    "\n",
    "df = pd.read_sql_query(sql, engine)\n",
    "df.head()"
   ]
  },
  {
   "cell_type": "markdown",
   "metadata": {},
   "source": [
    "**Challenge: Give me all the category names, rename the `name` column to `category`**\n",
    "<details>\n",
    "    <summary>ERD</summary>\n",
    "    <img src=\"erd.png\">\n",
    "</details>"
   ]
  },
  {
   "cell_type": "code",
   "execution_count": null,
   "metadata": {},
   "outputs": [],
   "source": [
    "sql = \"\"\"\n",
    "\n",
    "\"\"\"\n",
    "\n",
    "df = pd.read_sql_query(sql, engine)\n",
    "df.head()"
   ]
  },
  {
   "cell_type": "markdown",
   "metadata": {},
   "source": [
    "# `DISTINCT`\n",
    "---\n",
    "\n",
    "`DISTINCT` returns a list of **unique** values from a given column:\n",
    "```SQL\n",
    "-- Returns the unique universities represented by all the users\n",
    "SELECT DISTINCT u.university\n",
    "FROM users u;\n",
    "```\n",
    "\n",
    "**Show me the unique names (renamed to `food`) from the `foods` table.**\n",
    "\n",
    "<details>\n",
    "    <summary>ERD</summary>\n",
    "    <img src=\"erd.png\">\n",
    "</details>"
   ]
  },
  {
   "cell_type": "code",
   "execution_count": null,
   "metadata": {},
   "outputs": [],
   "source": [
    "sql = \"\"\"\n",
    "\n",
    "\"\"\"\n",
    "\n",
    "df = pd.read_sql_query(sql, engine)\n",
    "df.head()"
   ]
  },
  {
   "cell_type": "markdown",
   "metadata": {},
   "source": [
    "**Challenge: From the `foods` table, query the unique values from the `restaurant_id` column**\n",
    "\n",
    "<details>\n",
    "    <summary>ERD</summary>\n",
    "    <img src=\"erd.png\">\n",
    "</details>"
   ]
  },
  {
   "cell_type": "code",
   "execution_count": null,
   "metadata": {},
   "outputs": [],
   "source": [
    "sql = \"\"\"\n",
    "\n",
    "\"\"\"\n",
    "\n",
    "df = pd.read_sql_query(sql, engine)\n",
    "df.head()"
   ]
  },
  {
   "cell_type": "markdown",
   "metadata": {},
   "source": [
    "# `ORDER BY`\n",
    "---\n",
    "\n",
    "Sometimes it makes sense to order your query on a certain column. For example, we might want to get a list of users sorted alphabetically:\n",
    "```SQL\n",
    "SELECT users.name\n",
    "FROM users\n",
    "ORDER BY users.name ASC;\n",
    "```\n",
    "\n",
    "**Show me the `name` (temporarily renamed to `food`) and `calories` columns from the `foods` table, ordered from most caloric to least**\n",
    "\n",
    "<details>\n",
    "    <summary>ERD</summary>\n",
    "    <img src=\"erd.png\">\n",
    "</details>"
   ]
  },
  {
   "cell_type": "code",
   "execution_count": null,
   "metadata": {},
   "outputs": [],
   "source": [
    "sql = \"\"\"\n",
    "\n",
    "\"\"\"\n",
    "\n",
    "df = pd.read_sql_query(sql, engine)\n",
    "df.head()"
   ]
  },
  {
   "cell_type": "markdown",
   "metadata": {},
   "source": [
    "**Give me all the `categories` in reverse alphabetical order.**\n",
    "\n",
    "<details>\n",
    "    <summary>ERD</summary>\n",
    "    <img src=\"erd.png\">\n",
    "</details>"
   ]
  },
  {
   "cell_type": "code",
   "execution_count": null,
   "metadata": {},
   "outputs": [],
   "source": [
    "sql = \"\"\"\n",
    "\n",
    "\"\"\"\n",
    "\n",
    "df = pd.read_sql_query(sql, engine)\n",
    "df.head()"
   ]
  },
  {
   "cell_type": "markdown",
   "metadata": {},
   "source": [
    "**Retrieve all the columns from `foods`, from most `carbs` to least**\n",
    "\n",
    "<details>\n",
    "    <summary>ERD</summary>\n",
    "    <img src=\"erd.png\">\n",
    "</details>"
   ]
  },
  {
   "cell_type": "code",
   "execution_count": null,
   "metadata": {},
   "outputs": [],
   "source": [
    "sql = \"\"\"\n",
    "\n",
    "\"\"\"\n",
    "\n",
    "df = pd.read_sql_query(sql, engine)\n",
    "df.head()"
   ]
  },
  {
   "cell_type": "markdown",
   "metadata": {},
   "source": [
    "**What food has the most fat?**\n",
    "\n",
    "<details>\n",
    "    <summary>ERD</summary>\n",
    "    <img src=\"erd.png\">\n",
    "</details>"
   ]
  },
  {
   "cell_type": "code",
   "execution_count": null,
   "metadata": {},
   "outputs": [],
   "source": [
    "sql = \"\"\"\n",
    "\n",
    "\"\"\"\n",
    "\n",
    "df = pd.read_sql_query(sql, engine)\n",
    "df.head()"
   ]
  },
  {
   "cell_type": "markdown",
   "metadata": {},
   "source": [
    "You can order on multiple columns. Priority is given from left to right in your `ORDER BY` clause.\n",
    "\n",
    "```SQL\n",
    "-- Returns users from oldest to youngest. If they have the same age, they will then be sorted alphabetically\n",
    "SELECT u.name, u.age\n",
    "FROM users u\n",
    "ORDER BY u.age DESC, u.name ASC\n",
    "```\n",
    "\n",
    "**Give me the `restaurant_id` (renamed to `rid`), `name` and `calories` from `foods`. Order first by `restaurant_id` from smallest to biggest, then by `calories` from biggest to smallest**\n",
    "\n",
    "<details>\n",
    "    <summary>ERD</summary>\n",
    "    <img src=\"erd.png\">\n",
    "</details>"
   ]
  },
  {
   "cell_type": "code",
   "execution_count": null,
   "metadata": {},
   "outputs": [],
   "source": [
    "sql = \"\"\"\n",
    "\n",
    "\"\"\"\n",
    "\n",
    "df = pd.read_sql_query(sql, engine)\n",
    "df.head()"
   ]
  },
  {
   "cell_type": "markdown",
   "metadata": {},
   "source": [
    "**Give me the `calories` and `name` from the `foods` table. Ordered first by `calories` in descending order, then by `name` in alphabetical order**\n",
    "\n",
    "<details>\n",
    "    <summary>ERD</summary>\n",
    "    <img src=\"erd.png\">\n",
    "</details>"
   ]
  },
  {
   "cell_type": "code",
   "execution_count": null,
   "metadata": {},
   "outputs": [],
   "source": [
    "sql = \"\"\"\n",
    "\n",
    "\"\"\"\n",
    "\n",
    "df = pd.read_sql_query(sql, engine)\n",
    "df.head()"
   ]
  },
  {
   "cell_type": "markdown",
   "metadata": {},
   "source": [
    "# `LIMIT`\n",
    "---\n",
    "\n",
    "Rather than returning ALL rows from a given table, you might only want a subset. This can be achieved with the `LIMIT` command.\n",
    "\n",
    "```SQL\n",
    "-- Returns the top ten highest paid users\n",
    "SELECT users.name, users.salary\n",
    "FROM users\n",
    "ORDER BY users.salary DESC\n",
    "LIMIT 10\n",
    "```\n",
    "\n",
    "**Give me the `name` and `calories` of the 20 most caloric items from the `foods` table.**\n",
    "\n",
    "<details>\n",
    "    <summary>ERD</summary>\n",
    "    <img src=\"erd.png\">\n",
    "</details>"
   ]
  },
  {
   "cell_type": "code",
   "execution_count": null,
   "metadata": {},
   "outputs": [],
   "source": [
    "sql = \"\"\"\n",
    "\n",
    "\"\"\"\n",
    "\n",
    "df = pd.read_sql_query(sql, engine)\n",
    "df.head()"
   ]
  },
  {
   "cell_type": "markdown",
   "metadata": {},
   "source": [
    "**What are the top ten most fatty foods?**\n",
    "\n",
    "<details>\n",
    "    <summary>ERD</summary>\n",
    "    <img src=\"erd.png\">\n",
    "</details>"
   ]
  },
  {
   "cell_type": "code",
   "execution_count": null,
   "metadata": {},
   "outputs": [],
   "source": [
    "sql = \"\"\"\n",
    "\n",
    "\"\"\"\n",
    "\n",
    "df = pd.read_sql_query(sql, engine)\n",
    "df.head()"
   ]
  },
  {
   "cell_type": "markdown",
   "metadata": {},
   "source": [
    "# `WHERE`\n",
    "---\n",
    "\n",
    "One of the more important skills in SQL is the ability to filter your queries based a certain condition. This is accomplished with the `WHERE` command.\n",
    "\n",
    "```SQL\n",
    "-- Returns all users who make less than $30k\n",
    "SELECT users.*\n",
    "FROM users\n",
    "WHERE users.salary < 30000\n",
    "```\n",
    "\n",
    "Numerical filters are similar to python:\n",
    "- Greater than: `>`\n",
    "- Greater than or equal to: `>=`\n",
    "- Less than: `<`\n",
    "- Less than or equal to: `<=`\n",
    "- Equal to: `=`\n",
    "\n",
    "**Give me the `name` and `calories` of `foods` with more than 1,000 calories.**\n",
    "\n",
    "<details>\n",
    "    <summary>ERD</summary>\n",
    "    <img src=\"erd.png\">\n",
    "</details>"
   ]
  },
  {
   "cell_type": "code",
   "execution_count": null,
   "metadata": {},
   "outputs": [],
   "source": [
    "sql = \"\"\"\n",
    "\n",
    "\"\"\"\n",
    "\n",
    "df = pd.read_sql_query(sql, engine)\n",
    "df.head()"
   ]
  },
  {
   "cell_type": "markdown",
   "metadata": {},
   "source": [
    "**What are the top 10 least caloric foods over 100 calories?**\n",
    "\n",
    "<details>\n",
    "    <summary>ERD</summary>\n",
    "    <img src=\"erd.png\">\n",
    "</details>"
   ]
  },
  {
   "cell_type": "code",
   "execution_count": null,
   "metadata": {},
   "outputs": [],
   "source": [
    "sql = \"\"\"\n",
    "\n",
    "\"\"\"\n",
    "\n",
    "df = pd.read_sql_query(sql, engine)\n",
    "df.head()"
   ]
  },
  {
   "cell_type": "markdown",
   "metadata": {},
   "source": [
    "# `AND`/`OR`\n",
    "---\n",
    "\n",
    "Multiple `WHERE` clauses can be chained together with `AND` and `OR`, similar to chaining multiple boolean expressions in Python.\n",
    "\n",
    "```SQL\n",
    "-- Returns all users under the age of 30 who are making more than $100k\n",
    "SELECT users.*\n",
    "FROM users\n",
    "WHERE users.age < 30\n",
    "AND users.salary > 100000\n",
    "```\n",
    "\n",
    "**Give me the `name`, `calories` and `carbs` from all `foods` over 1,000 calories or having _at least_ 30g of carbs.**\n",
    "\n",
    "<details>\n",
    "    <summary>ERD</summary>\n",
    "    <img src=\"erd.png\">\n",
    "</details>"
   ]
  },
  {
   "cell_type": "code",
   "execution_count": null,
   "metadata": {},
   "outputs": [],
   "source": [
    "sql = \"\"\"\n",
    "\n",
    "\"\"\"\n",
    "\n",
    "df = pd.read_sql_query(sql, engine)\n",
    "df.head()"
   ]
  },
  {
   "cell_type": "markdown",
   "metadata": {},
   "source": [
    "**Give me all foods from Jimmy Johns (`restaurant_id` = 27) with 700 or more calories**\n",
    "\n",
    "<details>\n",
    "    <summary>ERD</summary>\n",
    "    <img src=\"erd.png\">\n",
    "</details>"
   ]
  },
  {
   "cell_type": "code",
   "execution_count": null,
   "metadata": {},
   "outputs": [],
   "source": [
    "sql = \"\"\"\n",
    "\n",
    "\"\"\"\n",
    "\n",
    "df = pd.read_sql_query(sql, engine)\n",
    "df.head()"
   ]
  },
  {
   "cell_type": "markdown",
   "metadata": {},
   "source": [
    "# `BETWEEN`\n",
    "---\n",
    "\n",
    "You can also filter numerically based on a range with `BETWEEN`.\n",
    "\n",
    "```SQL\n",
    "-- Returns all users between 18 and 25 years old (inclusive)\n",
    "SELECT users.*\n",
    "FROM users\n",
    "WHERE users.age BETWEEN 18 AND 25\n",
    "```\n",
    "\n",
    "**Give me the `name` and `calories` of `foods` that are between 0 and 10 calories (inclusive)**\n",
    "\n",
    "<details>\n",
    "    <summary>ERD</summary>\n",
    "    <img src=\"erd.png\">\n",
    "</details>"
   ]
  },
  {
   "cell_type": "code",
   "execution_count": null,
   "metadata": {},
   "outputs": [],
   "source": [
    "sql = \"\"\"\n",
    "\n",
    "\"\"\"\n",
    "\n",
    "df = pd.read_sql_query(sql, engine)\n",
    "df.head()"
   ]
  },
  {
   "cell_type": "markdown",
   "metadata": {},
   "source": [
    "# Filtering on String Values\n",
    "---\n",
    "\n",
    "When filtering on a string value, use single quotes:\n",
    "\n",
    "```SQL\n",
    "SELECT users.*\n",
    "FROM users\n",
    "WHERE users.role = 'admin'\n",
    "```\n",
    "\n",
    "**Find McDonald's from the `restaurants` table. NOTE: Apostrophes are represented with two single quotes ('')**\n",
    "\n",
    "<details>\n",
    "    <summary>ERD</summary>\n",
    "    <img src=\"erd.png\">\n",
    "</details>"
   ]
  },
  {
   "cell_type": "code",
   "execution_count": null,
   "metadata": {},
   "outputs": [],
   "source": [
    "sql = \"\"\"\n",
    "\n",
    "\"\"\"\n",
    "\n",
    "df = pd.read_sql_query(sql, engine)\n",
    "df.head()"
   ]
  },
  {
   "cell_type": "markdown",
   "metadata": {},
   "source": [
    "# Wildcards\n",
    "---\n",
    "\n",
    "We can use `LIKE` and wildcards (%) to broaden our string filters:\n",
    "\n",
    "```SQL\n",
    "-- Returns all users whose name begins with a capital \"R\"\n",
    "SELECT users.*\n",
    "FROM users\n",
    "WHERE users.name LIKE 'R%'\n",
    "```\n",
    "\n",
    "```SQL\n",
    "-- Returns all users whose name ends with a capital \"R\"\n",
    "SELECT users.*\n",
    "FROM users\n",
    "WHERE users.name LIKE '%R'\n",
    "```\n",
    "\n",
    "```SQL\n",
    "-- Returns all users with a capital \"R\" somewhere in the name\n",
    "SELECT users.*\n",
    "FROM users\n",
    "WHERE users.name LIKE '%R%'\n",
    "```\n",
    "\n",
    "Notes:\n",
    "- `ILIKE` is a case insensitive `LIKE`. \n",
    "- You can negate a `LIKE` with `NOT LIKE`.\n",
    "- _In this lecture, all wildcards need to be double parentheses_ (`%%`).\n",
    "\n",
    "**Find all the Whoppers in the `foods` table.**\n",
    "\n",
    "<details>\n",
    "    <summary>ERD</summary>\n",
    "    <img src=\"erd.png\">\n",
    "</details>"
   ]
  },
  {
   "cell_type": "code",
   "execution_count": null,
   "metadata": {},
   "outputs": [],
   "source": [
    "sql = \"\"\"\n",
    "\n",
    "\"\"\"\n",
    "\n",
    "df = pd.read_sql_query(sql, engine)\n",
    "df.head()"
   ]
  },
  {
   "cell_type": "markdown",
   "metadata": {},
   "source": [
    "# Null values\n",
    "---\n",
    "\n",
    "Databases can have null values (our equivalent to `NaN`'s). You can filter them like so:\n",
    "\n",
    "```SQL\n",
    "-- Returns all users with no name\n",
    "SELECT users.*\n",
    "FROM users\n",
    "WHERE users.name IS NULL\n",
    "```\n",
    "\n",
    "```SQL\n",
    "-- Returns all users with a value for their name\n",
    "SELECT users.*\n",
    "FROM users\n",
    "WHERE users.name IS NOT NULL\n",
    "```\n",
    "\n",
    "**Give me everything from the foods table with null values in the `calories` column.**\n",
    "\n",
    "\n",
    "<details>\n",
    "    <summary>ERD</summary>\n",
    "    <img src=\"erd.png\">\n",
    "</details>"
   ]
  },
  {
   "cell_type": "code",
   "execution_count": null,
   "metadata": {},
   "outputs": [],
   "source": [
    "sql = \"\"\"\n",
    "\n",
    "\"\"\"\n",
    "\n",
    "df = pd.read_sql_query(sql, engine)\n",
    "df.head()"
   ]
  },
  {
   "cell_type": "markdown",
   "metadata": {},
   "source": [
    "# Joining Tables\n",
    "---\n",
    "\n",
    "It's very common to want to combine information from multiple tables into one query. \n",
    "\n",
    "For example, we might want to find the user's name for a given blog post. We can do this by joining. \n",
    "\n",
    "```SQL\n",
    "-- Returns all blog posts with the associated user name. \n",
    "-- A user has many posts, and a post belongs to a user. Therefore the foreign key (user_id)\n",
    "-- is on the child table: posts.\n",
    "SELECT posts.*, users.name\n",
    "FROM posts\n",
    "INNER JOIN users ON users.id = posts.user_id\n",
    "```\n",
    "\n",
    "There are several types of joins:\n",
    "- Inner join\n",
    "- Left/Right join\n",
    "- Left/Right outer join\n",
    "- Unions\n",
    "\n",
    "NOTE: The most common join is the inner join.\n",
    "\n",
    "**Give me the names of every food item with their associated restaurant. Be sure to alias the columns.**\n",
    "\n",
    "<details>\n",
    "    <summary>ERD</summary>\n",
    "    <img src=\"erd.png\">\n",
    "</details>"
   ]
  },
  {
   "cell_type": "code",
   "execution_count": null,
   "metadata": {},
   "outputs": [],
   "source": [
    "sql = \"\"\"\n",
    "\n",
    "\"\"\"\n",
    "\n",
    "df = pd.read_sql_query(sql, engine)\n",
    "df.head()"
   ]
  },
  {
   "cell_type": "markdown",
   "metadata": {},
   "source": [
    "**Give me the names of every food item from Burger King.**\n",
    "\n",
    "<details>\n",
    "    <summary>ERD</summary>\n",
    "    <img src=\"erd.png\">\n",
    "</details>"
   ]
  },
  {
   "cell_type": "code",
   "execution_count": null,
   "metadata": {},
   "outputs": [],
   "source": [
    "sql = \"\"\"\n",
    "\n",
    "\"\"\"\n",
    "\n",
    "df = pd.read_sql_query(sql, engine)\n",
    "df.head()"
   ]
  },
  {
   "cell_type": "markdown",
   "metadata": {},
   "source": [
    "**Give me the names of every food item with their associated category.**\n",
    "\n",
    "<details>\n",
    "    <summary>ERD</summary>\n",
    "    <img src=\"erd.png\">\n",
    "</details>"
   ]
  },
  {
   "cell_type": "code",
   "execution_count": null,
   "metadata": {},
   "outputs": [],
   "source": [
    "sql = \"\"\"\n",
    "\n",
    "\"\"\"\n",
    "\n",
    "df = pd.read_sql_query(sql, engine)\n",
    "df.head()"
   ]
  },
  {
   "cell_type": "markdown",
   "metadata": {},
   "source": [
    "**Give me the `name`, `restaurant`, `category` and `calories` of every food item. Sorted alphabetically by `restaurant`, then by `calories` in descending order.**\n",
    "\n",
    "<details>\n",
    "    <summary>ERD</summary>\n",
    "    <img src=\"erd.png\">\n",
    "</details>"
   ]
  },
  {
   "cell_type": "code",
   "execution_count": null,
   "metadata": {},
   "outputs": [],
   "source": [
    "sql = \"\"\"\n",
    "\n",
    "\"\"\"\n",
    "\n",
    "df = pd.read_sql_query(sql, engine)\n",
    "df.head()"
   ]
  },
  {
   "cell_type": "markdown",
   "metadata": {},
   "source": [
    "**Give me the names of every food item in the Desserts category.**\n",
    "\n",
    "<details>\n",
    "    <summary>ERD</summary>\n",
    "    <img src=\"erd.png\">\n",
    "</details>"
   ]
  },
  {
   "cell_type": "code",
   "execution_count": null,
   "metadata": {},
   "outputs": [],
   "source": [
    "sql = \"\"\"\n",
    "\n",
    "\"\"\"\n",
    "\n",
    "df = pd.read_sql_query(sql, engine)\n",
    "df.head()"
   ]
  },
  {
   "cell_type": "markdown",
   "metadata": {},
   "source": [
    "**Give me the `name`, `restaurant` and `calories` of the top ten most caloric \"Kid's Meals\" (this is a category)**\n",
    "\n",
    "<details>\n",
    "    <summary>ERD</summary>\n",
    "    <img src=\"erd.png\">\n",
    "</details>"
   ]
  },
  {
   "cell_type": "code",
   "execution_count": null,
   "metadata": {},
   "outputs": [],
   "source": [
    "sql = \"\"\"\n",
    "\n",
    "\"\"\"\n",
    "\n",
    "df = pd.read_sql_query(sql, engine)\n",
    "df.head()"
   ]
  },
  {
   "cell_type": "markdown",
   "metadata": {},
   "source": [
    "# Aggregating\n",
    "---\n",
    "\n",
    "Sometimes we might want to reduce our query to a single value. For example, we may want to know how many users our in our database:\n",
    "\n",
    "```SQL\n",
    "SELECT COUNT(users.id)\n",
    "FROM users\n",
    "```\n",
    "\n",
    "The `COUNT` in the previous query is an aggregate function. The most common aggregate functions are:\n",
    "\n",
    "- `COUNT`\n",
    "- `AVG`\n",
    "- `MIN`\n",
    "- `MAX`\n",
    "- `SUM`\n",
    "\n",
    "**What total number of calories in the entire `foods` table?**\n",
    "\n",
    "<details>\n",
    "    <summary>ERD</summary>\n",
    "    <img src=\"erd.png\">\n",
    "</details>"
   ]
  },
  {
   "cell_type": "code",
   "execution_count": null,
   "metadata": {},
   "outputs": [],
   "source": [
    "sql = \"\"\"\n",
    "\n",
    "\"\"\"\n",
    "\n",
    "df = pd.read_sql_query(sql, engine)\n",
    "df.head()"
   ]
  },
  {
   "cell_type": "markdown",
   "metadata": {},
   "source": [
    "# `GROUP BY`\n",
    "---\n",
    "\n",
    "Often we’ll want to group our data into buckets and then run some sort of aggregate function. \n",
    "\n",
    "```SQL\n",
    "-- Returns how much each user spends on average\n",
    "SELECT users.id, AVG(payments.amount)\n",
    "FROM users\n",
    "INNER JOIN payments ON payments.user_id = user.id\n",
    "GROUP BY users.id;\n",
    "```\n",
    "\n",
    "NOTE: Every column you're returning that isn't being aggregated needs to be in the `GROUP BY` clause:\n",
    "\n",
    "```SQL\n",
    "-- Returns how much each user spends on average\n",
    "SELECT users.id, users.name, AVG(payments.amount)\n",
    "FROM users\n",
    "INNER JOIN payments ON payments.user_id = user.id\n",
    "GROUP BY users.id, users.name\n",
    "```\n",
    "\n",
    "**Return the average number of calories for each restaurant, sorted alphabetically**\n",
    "\n",
    "<details>\n",
    "    <summary>ERD</summary>\n",
    "    <img src=\"erd.png\">\n",
    "</details>"
   ]
  },
  {
   "cell_type": "code",
   "execution_count": null,
   "metadata": {},
   "outputs": [],
   "source": [
    "sql = \"\"\"\n",
    "\n",
    "\"\"\"\n",
    "\n",
    "df = pd.read_sql_query(sql, engine)\n",
    "df.head()"
   ]
  },
  {
   "cell_type": "markdown",
   "metadata": {},
   "source": [
    "# `HAVING`\n",
    "---\n",
    "\n",
    "Sometimes you might want to use the result of an aggregate function as a filter. We can do this with `HAVING`, which is similar to `WHERE` but for aggregates:\n",
    "\n",
    "```SQL\n",
    "-- Returns the users who average more than $1,000 per purchase\n",
    "SELECT users.id, users.name, AVG(payments.amount)\n",
    "FROM users\n",
    "INNER JOIN payments ON payments.user_id = users.id\n",
    "GROUP BY users.id, users.name\n",
    "HAVING AVG(payments.amount) > 1000;\n",
    "```\n",
    "\n",
    "**Give me the `name` and average `calories` for all `restaurants` with more than 700 calories per menu item on average.**\n",
    "\n",
    "<details>\n",
    "    <summary>ERD</summary>\n",
    "    <img src=\"erd.png\">\n",
    "</details>"
   ]
  },
  {
   "cell_type": "code",
   "execution_count": null,
   "metadata": {},
   "outputs": [],
   "source": [
    "sql = \"\"\"\n",
    "\n",
    "\"\"\"\n",
    "\n",
    "df = pd.read_sql_query(sql, engine)\n",
    "df.head()"
   ]
  },
  {
   "cell_type": "markdown",
   "metadata": {},
   "source": [
    "**What `categories` average more than 750 `calories` per item? Order your results from most caloric to least.**\n",
    "\n",
    "<details>\n",
    "    <summary>ERD</summary>\n",
    "    <img src=\"erd.png\">\n",
    "</details>"
   ]
  },
  {
   "cell_type": "code",
   "execution_count": null,
   "metadata": {},
   "outputs": [],
   "source": [
    "sql = \"\"\"\n",
    "\n",
    "\"\"\"\n",
    "\n",
    "df = pd.read_sql_query(sql, engine)\n",
    "df.head()"
   ]
  },
  {
   "cell_type": "code",
   "execution_count": null,
   "metadata": {},
   "outputs": [],
   "source": []
  }
 ],
 "metadata": {
  "kernelspec": {
   "display_name": "Python 3",
   "language": "python",
   "name": "python3"
  },
  "language_info": {
   "codemirror_mode": {
    "name": "ipython",
    "version": 3
   },
   "file_extension": ".py",
   "mimetype": "text/x-python",
   "name": "python",
   "nbconvert_exporter": "python",
   "pygments_lexer": "ipython3",
   "version": "3.7.3"
  }
 },
 "nbformat": 4,
 "nbformat_minor": 2
}
