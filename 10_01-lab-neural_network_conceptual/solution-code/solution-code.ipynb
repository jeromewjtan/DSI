{
 "cells": [
  {
   "cell_type": "markdown",
   "metadata": {},
   "source": [
    "# Neural Networks Lab\n",
    "\n",
    "> Author: Matt Brems (DC)\n",
    "\n",
    "In this lab, we are going to find out why neural networks are so good at what they do. Specifically, we'll do three things:\n",
    "1. Build and plot a \"complicated, wiggly\" function. This function could resemble any complicated real-world process that we would like to be able to model.\n",
    "2. Build a neural network from scratch that very closely approximates this function. (That is, the predicted values from the neural network are very, very close to the true values from the \"real\" function.)\n",
    "3. Understand the reason why neural networks are great, called the _Universal Approximation Theorem_.\n",
    "\n",
    "**Optional Video**: If you want a visual refresher on neural networks and their building blocks, head to [this link](https://www.youtube.com/watch?v=aircAruvnKk) and watch the 3Blue1Brown video on \"But what *is* a Neural Network?\" It's a **phenomenal** 20-minute introduction to solidify the building blocks of a neural network. (This is optional, but probably worth your time!)\n",
    "\n",
    "**Required Reading**: Head over to [this site](http://neuralnetworksanddeeplearning.com/chap4.html) and read from the beginning of the page until the \"Many Input Variables\" section.\n",
    "\n",
    "#### Recommended Order of Reading\n",
    "The introduction and the \"Two Caveats\" section are pretty mathematical in nature. I think this is a great resource, but wish that the author didn't start off with a mathematical theorem. If I were reading this page, I would:\n",
    "- skim the introduction,\n",
    "- skip the \"Two Caveats\" section,\n",
    "- read the \"Universality with One Input and One Output\" section,\n",
    "- go back and read the introduction,\n",
    "- then go back and read the \"Two Caveats\" section.\n",
    "\n",
    "(You do not need to read the \"Many Input Variables\" section and beyond but are certainly welcome to do so!)"
   ]
  },
  {
   "cell_type": "markdown",
   "metadata": {},
   "source": [
    "**Problem 1:** Examine the image below. This shows a small neural network.\n",
    "\n",
    "<img src=\"../images/weight_bias.jpg\" alt=\"drawing\" width=\"400\"/>\n",
    "\n",
    "In this image:\n",
    "- How many input nodes are there?\n",
    "- How many hidden nodes are there?\n",
    "- How many hidden layers are there?\n",
    "- How many output nodes are there?\n",
    "- What does $w$ mean? \n",
    "- While only one is explicitly drawn on the diagram, how many values of $w$ would we expect in this neural network?\n",
    "- What does $b$ mean? \n",
    "- While only one is explicitly drawn on the diagram, how many values of $b$ would we expect in this neural network?"
   ]
  },
  {
   "cell_type": "markdown",
   "metadata": {},
   "source": [
    "**Answer:**\n",
    "- There is 1 input node.\n",
    "- There are 2 hidden nodes.\n",
    "- There is 1 hidden layer.\n",
    "- There is 1 output node.\n",
    "- $w$ corresponds to the **weight** of one node on another node.\n",
    "- There should be four weights, or four values of $w$, in this network. They should be on the two arrows connecting the input layer to the hidden layer, then on the two arrows connecting the hidden layer to the output layer.\n",
    "- $b$ corresponds to the **bias** of each node.\n",
    "- There should be three biases, or three values of $b$, in this network. They should be on the two nodes in the hidden layer and the one node in the output layer."
   ]
  },
  {
   "cell_type": "markdown",
   "metadata": {},
   "source": [
    "**Problem 2:** For a sigmoidal activation function to closely resemble a step function, how would you describe the values of $w$ and $b$?\n",
    "\n",
    "_Hint:_ Try playing around with the applets on the page to test how different parts of the perceptron affect the output.\n",
    "\n",
    "_Note:_ In an attempt to make things easier, the article defines $s = \\frac{−b}{w}$. The author's goal is to only describe one parameter $s$ instead of describing $b$ and $w$. I find this notation confusing, because that notation only applies to this article and isn't used elsewhere. I'm going to stick with $b$ and $w$."
   ]
  },
  {
   "cell_type": "markdown",
   "metadata": {
    "collapsed": true
   },
   "source": [
    "**Answer:** The weight $w$ coming in must be very high. The higher the $w$, the lower the bias $b$ must be so that the 'step' between output 0 and output 1 occurs in the range (0,1). The lower the bias, the higher the value of $x$ must be before the step occurs. \n",
    "\n",
    "This makes sense, since the purpose of the bias is to control the level of activation of a node given little or no input. The higher the weight, the lower the value of x must be in order to hit the 'step' and trigger activation of the node. This makes sense, since the node's inputs will have a greater linear effect on the activation of the node. (And we are here dealing with only positive inputs in the range (0,1).)\n",
    "\n",
    "Since we're working with a sigmoid activation function that acts very much like a step function, note that the location of the step is at $\\frac{-b}{w}$. (In the article, this is abbreviated as simply $s = -b/w$.)"
   ]
  },
  {
   "cell_type": "markdown",
   "metadata": {},
   "source": [
    "**Problem 3**: \n",
    "The author asks you to find values of $h_i$ that make your neural network closely approximate $f(x)$. Record your values of $h_i$ here and your best \"average deviation\" score.\n",
    "- Note $h$ is simply a weight. The author is calling it $h$ to correpond to height, but it's just a weight corresponding to the connection between the hidden layer and the output layer."
   ]
  },
  {
   "cell_type": "markdown",
   "metadata": {
    "collapsed": true
   },
   "source": [
    "**Answer:**\n",
    "\n",
    "$h_1 = -1.2$\n",
    "\n",
    "$h_2 = -1.6$\n",
    "\n",
    "$h_3 = -0.3$\n",
    "\n",
    "$h_4 = -1.0$\n",
    "\n",
    "$h_5 = 1.0$\n",
    "\n",
    "$\\text{average deviation} = .38$"
   ]
  },
  {
   "cell_type": "markdown",
   "metadata": {},
   "source": [
    "**Problem 4**: Build the neural network from your work in Problem 3 here.\n",
    "\n",
    "A few things to keep in mind:\n",
    "- How many inputs are there? \n",
    "- How many outputs are there?\n",
    "- How many neurons are in the hidden layer? \n",
    "- In order to create a step function at a specific value of $x$:\n",
    "    - what should the value of $w$ be?\n",
    "    - what should the value of $b$ be?\n",
    "    - use a [sigmoid activation function](https://en.wikipedia.org/wiki/Activation_function#Comparison_of_activation_functions).\n",
    "- What do the values of $h_i$ represent?\n",
    "- Use an [sigmoid activation function](https://en.wikipedia.org/wiki/Activation_function#Comparison_of_activation_functions) on the last layer.\n",
    "\n",
    "The values of $h$ on this diagram are **not correct**, but this image may be helpful to you as you plan out your network!\n",
    "\n",
    "<img src=\"network.jpg\" alt=\"drawing\" width=\"400\"/>"
   ]
  },
  {
   "cell_type": "code",
   "execution_count": 1,
   "metadata": {},
   "outputs": [],
   "source": [
    "import numpy as np\n",
    "\n",
    "import matplotlib.pyplot as plt\n",
    "%matplotlib inline"
   ]
  },
  {
   "cell_type": "code",
   "execution_count": 2,
   "metadata": {},
   "outputs": [],
   "source": [
    "# Define a sigmoid activation function.\n",
    "def sigmoid_activation(Z):\n",
    "    if Z > 8:\n",
    "        return 1\n",
    "    elif Z < -8:\n",
    "        return 0\n",
    "    # So that our function doesn't need to compute the sigmoid \n",
    "    # for very extreme values, which is computationally difficult.\n",
    "    else:\n",
    "        return 1 / (1 + np.exp(-Z))"
   ]
  },
  {
   "cell_type": "code",
   "execution_count": 3,
   "metadata": {},
   "outputs": [
    {
     "data": {
      "image/png": "[encoded data removed]",
      "text/plain": [
       "<Figure size 432x288 with 1 Axes>"
      ]
     },
     "metadata": {
      "needs_background": "light"
     },
     "output_type": "display_data"
    }
   ],
   "source": [
    "# Plot your activation function so that it looks correct.\n",
    "\n",
    "x = np.linspace(-9,9,100)\n",
    "y = [sigmoid_activation(Z) for Z in x]\n",
    "plt.plot(x, y)\n",
    "plt.title('My Sigmoid Curve');"
   ]
  },
  {
   "cell_type": "code",
   "execution_count": 4,
   "metadata": {},
   "outputs": [],
   "source": [
    "# Define a function that will take in your weight (w)\n",
    "# and where you want the step to occur, then solve for\n",
    "# the bias.\n",
    "\n",
    "def solve_for_bias(step, w = 500):\n",
    "    return(-w * step)"
   ]
  },
  {
   "cell_type": "code",
   "execution_count": 5,
   "metadata": {},
   "outputs": [],
   "source": [
    "# Set up model structure (topology) and define the weights and biases.\n",
    "\n",
    "# Specify weights and biases from input to hidden layer.\n",
    "steps = [0, 0.2, 0.2, 0.4, 0.4, 0.6, 0.6, 0.8, 0.8, 1]\n",
    "bias_hidden = np.array([solve_for_bias(s) for s in steps])\n",
    "weights_hidden = np.array([500] * 10)\n",
    "\n",
    "# Specify weights and biases from hidden to output layer.\n",
    "bias_output = 0\n",
    "\n",
    "# Remember: what are our values of weights from the hidden layer to the output layer?\n",
    "# These are the values of h that we got!\n",
    "weights_output = np.array([-1.2, 1.2, -1.6, 1.6, -.3, .3, -1, 1, 1, -1])"
   ]
  },
  {
   "cell_type": "code",
   "execution_count": 6,
   "metadata": {},
   "outputs": [],
   "source": [
    "# Define function to run the network:\n",
    "def run_network(x):\n",
    "    \n",
    "    # Define your input value. This should just be one value.\n",
    "    input_value = x\n",
    "    \n",
    "    # Calculate the value of the nodes in the hidden layer.\n",
    "    Z_hidden = input_value * weights_hidden + bias_hidden\n",
    "    \n",
    "    # Use your activation function to transform the value of your nodes.\n",
    "    activation_hidden = np.array([sigmoid_activation(Z) for Z in Z_hidden])\n",
    "\n",
    "    # Calculate the value of the nodes in the output layer.\n",
    "    Z_output = np.sum(activation_hidden * weights_output) + bias_output\n",
    "    \n",
    "    # Use your activation function to transform the value of your output node.\n",
    "    activation_output = sigmoid_activation(Z_output)\n",
    "    \n",
    "    # Return the output of your network!\n",
    "    return activation_output"
   ]
  },
  {
   "cell_type": "markdown",
   "metadata": {},
   "source": [
    "**Problem 5**: Now that we've built our neural network, let's evaluate the performance of it!\n",
    "\n",
    "\n",
    "- Use `np.linspace` to generate 1000 values of $x$ between 0 and 1. \n",
    "- Your $y$ values are the actual observed values of $f(x)=0.2+0.4x^2+0.3x\\sin(15x)+0.05\\cos(50x)$ for each of the $x$ that you generated using `np.linspace`. Generate $y$ (using the true function $f(x))$ for all values of $x$.\n",
    "- Your $\\hat{y}$ in this case are your predicted values from your neural network for each of the $x$ that you generated using `np.linspace`.\n",
    "- Visually compare $y$ and $\\hat{y}$ by plotting both on one grid.\n",
    "- Compare $y$ and $\\hat{y}$ using mean squared error.\n",
    "\n",
    "Recall that mean squared error is given by:\n",
    "\n",
    "$$\n",
    "\\frac{1}{n}\\sum_{i=1}^n (\\hat{y}-y)^2\n",
    "$$"
   ]
  },
  {
   "cell_type": "code",
   "execution_count": 7,
   "metadata": {},
   "outputs": [],
   "source": [
    "# Generate values of X from 0 to 1.\n",
    "x_values = np.linspace(0,1,1000)\n",
    "\n",
    "# Generate values of Y for each X from 0 to 1.\n",
    "def f(x):\n",
    "    return(0.2 + 0.4 * (x ** 2) +  0.3 * x * np.sin(15 * x)+ 0.05 * np.cos(50 * x))\n",
    "\n",
    "y = [f(x) for x in x_values]\n",
    "\n",
    "# Generate values of Y-hat for each X from 0 to 1.\n",
    "y_hat = [run_network(x) for x in x_values]"
   ]
  },
  {
   "cell_type": "code",
   "execution_count": 8,
   "metadata": {},
   "outputs": [
    {
     "data": {
      "image/png": "[encoded data removed]",
      "text/plain": [
       "<Figure size 432x288 with 1 Axes>"
      ]
     },
     "metadata": {
      "needs_background": "light"
     },
     "output_type": "display_data"
    }
   ],
   "source": [
    "# Plot your predicted and observed values.\n",
    "plt.plot(x_values, y, label = 'True')\n",
    "plt.plot(x_values, y_hat, label = 'Predicted')\n",
    "plt.legend()\n",
    "plt.xlim((0,1));"
   ]
  },
  {
   "cell_type": "code",
   "execution_count": 9,
   "metadata": {},
   "outputs": [
    {
     "data": {
      "text/plain": [
       "0.010691563479274455"
      ]
     },
     "execution_count": 9,
     "metadata": {},
     "output_type": "execute_result"
    }
   ],
   "source": [
    "# Calculate MSE.\n",
    "def my_MSE(y_hat, y):\n",
    "    if len(y_hat) != len(y):\n",
    "        print('y_hat and y must be of equal length!')\n",
    "        return\n",
    "    n   = len(y_hat)\n",
    "    SE  = [(y_hat[i] - y[i])**2 for i in range(n)]\n",
    "    MSE = sum(SE)/n\n",
    "    return(MSE)\n",
    "\n",
    "my_MSE(y_hat, y)"
   ]
  },
  {
   "cell_type": "markdown",
   "metadata": {},
   "source": [
    "Note: This will vary depending on your values of $h$ - your MSE may differ from others' MSE!"
   ]
  },
  {
   "cell_type": "markdown",
   "metadata": {},
   "source": [
    "**Problem 6**: Suppose you wanted to increase the performance of this neural network. How might you go about doing so?"
   ]
  },
  {
   "cell_type": "markdown",
   "metadata": {
    "collapsed": true
   },
   "source": [
    "**Answer:** There are many options, like increasing the number of nodes or increasing the number of layers."
   ]
  },
  {
   "cell_type": "markdown",
   "metadata": {},
   "source": [
    "**Problem 7**: Summarize the Universal Approximation Theorem and show that it explains why neural networks can perform very well. (Don't copy it; use your own words!)"
   ]
  },
  {
   "cell_type": "markdown",
   "metadata": {
    "collapsed": true
   },
   "source": [
    "**Answer:** The Universal Approximation Theorem says that neural networks can estimate (approximate) the output of **any** continuous mathematical function, no matter how many inputs that function takes or how many possible outputs it produces. Since basically any process can be described as a mathematical function, neural networks can predict the outcome of basically any process pretty well. If someone had said to run the above example, but to get an MSE that was below 0.0001, we could have done so by adding more and more nodes to the hidden layer. This way, instead of having \"five pieces\" predicting this function, we could have fifty or a hundred or a thousand \"pieces\" predicting the blue function. We can do this to **any** pre-specified level of performance! (For example, if we had to get an MSE below 0.00000000000001, we could theoretically do it as long as we had enough nodes!)\n",
    "\n",
    "In practice, a neural network must have the right size and level of complexity to 'learn' a complex process, and it must be trained correctly."
   ]
  }
 ],
 "metadata": {
  "kernelspec": {
   "display_name": "Python 3",
   "language": "python",
   "name": "python3"
  },
  "language_info": {
   "codemirror_mode": {
    "name": "ipython",
    "version": 3
   },
   "file_extension": ".py",
   "mimetype": "text/x-python",
   "name": "python",
   "nbconvert_exporter": "python",
   "pygments_lexer": "ipython3",
   "version": "3.7.3"
  }
 },
 "nbformat": 4,
 "nbformat_minor": 2
}
