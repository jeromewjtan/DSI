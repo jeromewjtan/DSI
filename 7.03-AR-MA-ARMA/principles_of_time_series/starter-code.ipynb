{
 "cells": [
  {
   "cell_type": "markdown",
   "metadata": {},
   "source": [
    "<img src=\"http://imgur.com/1ZcRyrc.png\" style=\"float: left; margin: 20px; height: 55px\">\n",
    "\n",
    "# Principles of Time Series Analysis\n",
    "\n",
    "_Author: Matt Brems, Matthew Garton_\n",
    "\n",
    "---\n",
    "\n",
    "### Learning Objectives \n",
    "_By the end of the lesson, students should be able to:_\n",
    "- Define time series and cross-sectional data.\n",
    "- Describe forecasting, some of its challenges, and when it's advised.\n",
    "- Generate and interpret time plots.\n",
    "- Define and identify trend, seasonality, and cyclic patterns in time series data.\n",
    "- Calculate, plot and interpret autocorrelation and partial autocorrelation.\n",
    "- Properly fit, generate predictions from, and evaluate a linear time series model."
   ]
  },
  {
   "cell_type": "code",
   "execution_count": null,
   "metadata": {},
   "outputs": [],
   "source": [
    "import pandas as pd\n",
    "import numpy as np\n",
    "import matplotlib.pyplot as plt\n",
    "from sklearn.model_selection import train_test_split\n",
    "\n",
    "%matplotlib inline\n",
    "\n",
    "# This will allow us to avoid a FutureWarning when plotting.\n",
    "from pandas.plotting import register_matplotlib_converters\n",
    "register_matplotlib_converters()"
   ]
  },
  {
   "cell_type": "markdown",
   "metadata": {},
   "source": [
    "## Introduction\n",
    "\n",
    "In class, much of the data we have worked with is **cross-sectional** data. That is, our data is gathered at one moment in time."
   ]
  },
  {
   "cell_type": "markdown",
   "metadata": {},
   "source": [
    "<details><summary>What are some examples of cross-sectional data we've worked with?</summary>\n",
    "\n",
    "- Ames housing data.\n",
    "- Titanic data.\n",
    "- Iris data.\n",
    "</details>"
   ]
  },
  {
   "cell_type": "markdown",
   "metadata": {},
   "source": [
    "However, some of the data we've worked with is **time series** data.\n",
    "- Time series data is data gathered over time.\n",
    "- You may also hear the terms longitudinal data or serial data."
   ]
  },
  {
   "cell_type": "markdown",
   "metadata": {},
   "source": [
    "<details><summary>What are some examples of time series data we've worked with?</summary>\n",
    "    \n",
    "- Stock data.\n",
    "- Forest fires data.\n",
    "- Reddit data.\n",
    "</details>"
   ]
  },
  {
   "cell_type": "markdown",
   "metadata": {},
   "source": [
    "## Time Series Data\n",
    "Data can be gathered at regular or irregular intervals. (Regular is better!)\n",
    "\n",
    "However, data that is gathered at _seemingly_ regular intervals can still give us some challenges.\n",
    "- Monthly data: if we're measuring sales over time, the length of each month can impact (Febuary is 10% shorter than the longest months!)\n",
    "\n",
    "<img src=\"./images/airlines.png\" alt=\"drawing\" width=\"500\"/>\n",
    "\n",
    "<img src=\"./images/airlines_february.png\" alt=\"drawing\" width=\"500\"/>\n",
    "\n",
    "- Missing data can present its own challenges.\n",
    "\n",
    "<img src=\"./images/missing_data.png\" alt=\"drawing\" width=\"500\"/>\n",
    "\n",
    "- In cases where our data is irregular, we _may_ be better off attempting to turn irregular data into more regular intervals where possible.\n",
    "- For example, instead of predicting monthly sales, would it be reasonable to for us to predict quarterly or annual quarterly sales?\n",
    "    - Quarterly sales range from 90 to 92 days.\n",
    "    - Annual sales will be 365 or 366 days.\n",
    "\n",
    "It all depends on what we're trying to **forecast**."
   ]
  },
  {
   "cell_type": "markdown",
   "metadata": {},
   "source": [
    "<details><summary>What do you think forecasting is?</summary>\n",
    "\n",
    "- Forecasting is predicting the future as accurately as possible.\n",
    "</details>"
   ]
  },
  {
   "cell_type": "markdown",
   "metadata": {},
   "source": [
    "## Forecasting\n",
    "\n",
    "Our main focus during time series week is not to conduct inference, but to generate forecasts for future values of one or more variables.\n",
    "\n",
    "**However, we should first determine whether or not we want to forecast.**\n",
    "- It's not enough to grab some data and throw it into a model. We have to think more intentionally about what we're trying to do.\n",
    "\n",
    "- Our model's performance will depend on many things:\n",
    "    - How much data is available.\n",
    "    - How well we understand factors that contribute to the thing we want to predict. (a.k.a. how predictable is the thing we want to predict!)\n",
    "    - Whether forecasts can affect what we want to forecast.\n",
    "\n",
    "### Notation\n",
    "\n",
    "In general, we'll use the following notation (which is commonly what you'll see in other resources, too):\n",
    "\n",
    "$$\n",
    "\\begin{eqnarray*}\n",
    "Y_t &=& \\text{the value of } Y \\text{ at time } t \\\\\n",
    "Y_{t-1} &=& \\text{the value of } Y \\text{ at time } t-1 \\\\\n",
    "\\text{as usual, } &Y& \\text{is the thing we want to predict!} \\\\\n",
    "\\\\\n",
    "X_t &=& \\text{the value of } X \\text{ at time } t \\\\\n",
    "\\text{as usual, } &X& \\text{is something that may help us predict } Y\n",
    "\\end{eqnarray*}\n",
    "$$\n",
    "\n",
    "We'll use models that can help us forecast time series.\n",
    "- Using past $Y$ values to predict future $Y$ values.\n",
    "- Using independent $X$ variables to predict future $Y$ values.\n",
    "- Using both past $Y$ values and independent $X$ variables to predict future $Y$ values.\n",
    "\n",
    "However, these bring up a lot of questions.\n",
    "- How many $Y$ values should be used when predicting future $Y$ values?\n",
    "- What $X$ variables should I use to predict future $Y$ values?\n",
    "- Depending on how far forward I want to forecast, will my desired $X$ variables even be available?\n",
    "    - Maybe I think Facebook's stock price today is a good predictor of Google's stock price tomorrow. If I want to predict Google's stock price 50 days from now, will I have access to Facebook's stock price 49 days from now? (No!)\n",
    "    - The further ahead we forecast, the more uncertain we are.\n",
    "    \n",
    "In order to help us answer the above questions, **we need to plot our data**."
   ]
  },
  {
   "cell_type": "code",
   "execution_count": null,
   "metadata": {},
   "outputs": [],
   "source": [
    "# Instantiate dataframe with index.\n",
    "df =\n",
    "\n",
    "# Set seed.\n",
    "np.random.seed(42)\n",
    "\n",
    "# Generate data.\n",
    "data = [1]\n",
    "for i in range(1,df.shape[0]):\n",
    "    data.append(data[i-1] + np.random.normal())\n",
    "    \n",
    "# Put data in DataFrame.\n",
    "df['co2'] = data"
   ]
  },
  {
   "cell_type": "markdown",
   "metadata": {},
   "source": [
    "## Plotting Time Series\n",
    "\n",
    "Plotting time series is hugely important. By plotting our time series, we can visualize short-term and long-term behavior, which significantly informs which model(s) we should fit.\n",
    "\n",
    "The most common type of plot is called a **time plot**.\n",
    "\n",
    "<img src=\"./images/airlines.png\" alt=\"drawing\" width=\"500\"/>\n",
    "\n",
    "- A time plot is a line plot with time on the horizontal axis and the value of our series on the vertical axis.\n",
    "\n",
    "To make things easier, we're going to write a function that will generate plots for us."
   ]
  },
  {
   "cell_type": "code",
   "execution_count": null,
   "metadata": {},
   "outputs": [],
   "source": [
    "# Write function called plot_series that takes in \n",
    "# a dataframe, a list of column names to plot, the \n",
    "# plot title and the axis labels as arguments,\n",
    "# then displays the line plot with a figure size\n",
    "# of 18 horizontal inches by 9 vertical inches.\n",
    "\n",
    "def plot_series(df, cols=None, title='Title', xlab=None, ylab=None):\n",
    "    \n",
    "    # Set figure size to be (18, 9).\n",
    "    plt.figure(figsize=(18,9))\n",
    "    \n",
    "    # Iterate through each column name.\n",
    "    for col in cols:\n",
    "        \n",
    "        # Generate a line plot of the column name.\n",
    "        # You only have to specify Y, since our\n",
    "        # index will be a datetime index.\n",
    "        plt.plot(df[col])\n",
    "        \n",
    "    # Generate title and labels.\n",
    "    plt.title(title, fontsize=26)\n",
    "    plt.xlabel(xlab, fontsize=20)\n",
    "    plt.ylabel(ylab, fontsize=20)\n",
    "    \n",
    "    # Enlarge tick marks.\n",
    "    plt.xticks(fontsize=18)\n",
    "    plt.yticks(fontsize=18);"
   ]
  },
  {
   "cell_type": "code",
   "execution_count": null,
   "metadata": {},
   "outputs": [],
   "source": [
    "plot_series()"
   ]
  },
  {
   "cell_type": "markdown",
   "metadata": {},
   "source": [
    "<details><summary>How would you describe this plot?</summary>\n",
    "    \n",
    "_(Answers will vary.)_\n",
    "\n",
    "- Across the full range of time, the value of $Y$ increases.\n",
    "- There is a sharp jump upward around July 2019.\n",
    "- $Y$ increases and decreases over time, but in irregular patterns.\n",
    "- The values of $Y_t$ and $Y_{t-1}$ are highly correlated with one another.\n",
    "</details>"
   ]
  },
  {
   "cell_type": "markdown",
   "metadata": {},
   "source": [
    "## Describing the Behavior of a Time Series\n",
    "\n",
    "When attempting to forecast time series data, it is critical for us to describe the behavior of the data. (*This is going to tell us how to model our data!*)\n",
    "\n",
    "We generally plot the data, then identify whether or not a few things are exhibited: trends, seasonality, cyclical patterns, and autocorrelation.\n",
    "\n",
    "### Trends\n",
    "\n",
    "In time series data, a **trend** is the long-term increase or decrease in the data.\n",
    "\n",
    "The two most common types of trends will be **linear (straight line) trends** and **exponential trends**.\n",
    "\n",
    "<img src=\"./images/column_1_small.png\" alt=\"drawing\" width=\"550\"/>"
   ]
  },
  {
   "cell_type": "markdown",
   "metadata": {},
   "source": [
    "<details><summary>Is there a trend in the change in carbon dioxide output? If so, do you think it's a straight line trend or an exponential trend?</summary>\n",
    "\n",
    "- Yes, there is a trend in the graph. There appears to be a long-term increase over time.\n",
    "- The trend could be either linear or exponential!\n",
    "</details>"
   ]
  },
  {
   "cell_type": "markdown",
   "metadata": {},
   "source": [
    "We'll decide how to model the above shortly.\n",
    "\n",
    "### Seasonality\n",
    "\n",
    "In time series data, **seasonality** describes when a time series is affected by factors that take on a **fixed and known frequency**.\n",
    "\n",
    "Seasonality does not have to explicitly refer to seasons of the year (and from an inclusivity standpoint, different regions of the world have different seasons), but seasonality almost always **will** be tied to some meaning on the calendar!"
   ]
  },
  {
   "cell_type": "markdown",
   "metadata": {},
   "source": [
    "<details><summary>Can you think of examples of time series data that exhibit seasonality?</summary>\n",
    "    \n",
    "- Sales data for many products likely exhibits seasonality. Purchases of heavier coats will probably peak in colder times of the year, which will occur roughly every twelve months.\n",
    "- Restaurant sales likely exhibits seasonality with a peak every week (usually Friday or Saturday).\n",
    "- Temperature itself would exhibit seasonality! We expect temperature to fluctuate up and down in a relatively consistent pattern every twelve months or so.\n",
    "    - Note that temperature also has an increasing trend... so trends and seasonality can occur together!\n",
    "</details>"
   ]
  },
  {
   "cell_type": "markdown",
   "metadata": {},
   "source": [
    "<img src=\"./images/column_1_small.png\" alt=\"drawing\" width=\"550\"/>"
   ]
  },
  {
   "cell_type": "markdown",
   "metadata": {},
   "source": [
    "<details><summary>Is there seasonality in the change in carbon dioxide output? If so, about how frequently?</summary>\n",
    "\n",
    "- No, there does not appear to be seasonality.\n",
    "- While $Y$ does fluctuate up and down, it does not appear to fluctuate with some fixed and known frequency.\n",
    "</details>"
   ]
  },
  {
   "cell_type": "markdown",
   "metadata": {},
   "source": [
    "### Cyclic Patterns\n",
    "\n",
    "In time series data, a **cyclic pattern** refers to fluctuations that are **not** of a fixed and known frequency.\n",
    "\n",
    "<img src=\"./images/column_1_small.png\" alt=\"drawing\" width=\"550\"/>"
   ]
  },
  {
   "cell_type": "markdown",
   "metadata": {},
   "source": [
    "<details><summary>Is there a cyclic pattern in the change in carbon dioxide output?</summary>\n",
    "\n",
    "- Yes, there is a cyclic pattern. $Y$ does fluctuate up and down and there is no fixed and known frequency.\n",
    "</details>"
   ]
  },
  {
   "cell_type": "markdown",
   "metadata": {},
   "source": [
    "One tool that _can_ be helpful is the `seasonal_decompose` tool from `statsmodels`. However, we have to be careful!"
   ]
  },
  {
   "cell_type": "code",
   "execution_count": null,
   "metadata": {},
   "outputs": [],
   "source": [
    "from statsmodels.tsa.seasonal import seasonal_decompose"
   ]
  },
  {
   "cell_type": "code",
   "execution_count": null,
   "metadata": {},
   "outputs": [],
   "source": [
    "# Decompose time series into trend, seasonal, and residual components.\n",
    "decomp =\n",
    "\n",
    "# Plot the decomposed time series.\n",
    ";"
   ]
  },
  {
   "cell_type": "markdown",
   "metadata": {},
   "source": [
    "By default, the decomposition will assume there is a linear trend. If you believe there is an exponential trend, you should change the argument `model` to be `multiplicative`, but this will fail with values that are less than or equal to 0.\n",
    "\n",
    "The plot will **always** pull out a seasonal component... even if there isn't a seasonal component in our data! In short, this is sometimes a helpful tool, but it's not a substitute for plotting your data with a time plot and examining it first."
   ]
  },
  {
   "cell_type": "markdown",
   "metadata": {},
   "source": [
    "### Autocorrelation\n",
    "\n",
    "When fitting a linear regression model, there are five assumptions when fitting that model. Some of these are violated by time series data!"
   ]
  },
  {
   "cell_type": "markdown",
   "metadata": {},
   "source": [
    "<details><summary>Which assumption of a multiple linear regression model do you think is most violated by time series data?</summary>\n",
    "\n",
    "- While any of the assumptions can be violated by time series data, the most common one to be violated is **independence of errors**.\n",
    "- Suppose I fit a linear regression model to our data and have a particularly large residual (error) at time $t=5$. There's a good chance I also have a large residual at time $t=4$ and time $t=6$.\n",
    "</details>"
   ]
  },
  {
   "cell_type": "markdown",
   "metadata": {},
   "source": [
    "In time series data, autocorrelation refers to the **correlation of one variable with lagged versions of itself**. (You may also hear the term **serial correlation**.)\n",
    "\n",
    "You might imagine a dataset that looks like this:\n",
    "\n",
    "|  $t$  | $Y_t$ | $Y_{t-1}$ | $Y_{t-2}$ | $Y_{t-3}$ |\n",
    "|-------|-------|-----------|-----------|-----------|\n",
    "| 1     | $y_1$ | NaN       | NaN       | NaN       |\n",
    "| 2     | $y_2$ | $y_1$     | NaN       | NaN       |\n",
    "| 3     | $y_3$ | $y_2$     | $y_1$     | NaN       |\n",
    "| 4     | $y_4$ | $y_3$     | $y_2$     | $y_1$     |"
   ]
  },
  {
   "cell_type": "code",
   "execution_count": null,
   "metadata": {},
   "outputs": [],
   "source": [
    "# Generate a dataframe with our CO2 data that\n",
    "# looks like the above dataframe.\n",
    "\n",
    "df['co2_lag_1'] = \n",
    "df['co2_lag_2'] = \n",
    "df['co2_lag_3'] = "
   ]
  },
  {
   "cell_type": "code",
   "execution_count": null,
   "metadata": {},
   "outputs": [],
   "source": [
    "df.head()"
   ]
  },
  {
   "cell_type": "markdown",
   "metadata": {},
   "source": [
    "We can calculate the correlation between $Y_t$ and $Y_{t-1}$, which tells us how highly correlated values of $Y$ are with the immediately previous value of $Y$."
   ]
  },
  {
   "cell_type": "markdown",
   "metadata": {},
   "source": [
    "<details><summary>BONUS: If you want to see the formula for autocorrelation, check here.</summary>\n",
    "    \n",
    "$$\n",
    "\\begin{eqnarray*}\n",
    "Corr(Y_t, Y_{t-k}) = \\frac{Cov(Y_t,Y_{t-k})}{Var(Y_t)Var(Y_{t-k})}\n",
    "\\end{eqnarray*}\n",
    "$$\n",
    "</details> "
   ]
  },
  {
   "cell_type": "code",
   "execution_count": null,
   "metadata": {},
   "outputs": [],
   "source": [
    "# Calculate the correlations among these columns.\n"
   ]
  },
  {
   "cell_type": "markdown",
   "metadata": {},
   "source": [
    "We can also calculate the correlation between $Y_t$ and $Y_{t-2}$, $Y_t$ and $Y_{t-3}$, and so on. But this can be tedious to do by hand, so we generally use a function to generate an **autocorrelation plot** that visualizes this all at once!"
   ]
  },
  {
   "cell_type": "code",
   "execution_count": null,
   "metadata": {},
   "outputs": [],
   "source": [
    "# Import the autocorrelation function (ACF) plot.\n",
    "from statsmodels.graphics.tsaplots import plot_acf"
   ]
  },
  {
   "cell_type": "code",
   "execution_count": null,
   "metadata": {},
   "outputs": [],
   "source": [
    "# Generate the ACF plot on co2 data\n",
    "# up to 20 time periods.\n",
    ";"
   ]
  },
  {
   "cell_type": "markdown",
   "metadata": {},
   "source": [
    "- The left-most value of the autocorrelation plot is $Corr(Y_t, Y_t)$. This should always be 1! (The height of the blue dot will always be 1.)\n",
    "- The next value (moving one step to the right) of the autocorrelation plot visualizes $Corr(Y_t, Y_{t-1})$. The height of the blue dot here is about 0.99.\n",
    "- The next value of the autocorrelation plot visualizes $Corr(Y_t, Y_{t-2})$. The height of the blue dot here is about 0.98.\n",
    "- The correlation between $Y_t$ and $Y_{t-20}$ is still above 0.9, which is quite high!\n",
    "- The blue band represents a 95% confidence interval. If the value of the autocorrelation goes outside the blue band, that means that correlation is statistically significant. _(With a small caveat, which we'll discuss shortly.)_\n",
    "\n",
    "#### Interpretation\n",
    "\n",
    "The autocorrelation plot is an important tool for a few reasons:\n",
    "- **We can use it to detect trends**: When the autocorrelation plot has large and positive values for small lags (e.g. lags 1, 2, 3), this is evidence that a trend exists.\n",
    "- **We can use it to detect seasonality**: Recall that seasonality means we have fluctuations in our $Y$ variable that occur with a fixed and known frequency. When the autocorrelation plot has larger values for the seasonal lags than other lags, this is evidence that seasonality exists. (Visually, this might look like a scalloped shape.)\n",
    "- **We can use this plot to inform our modeling choices**, along with a related plot - the partial autocorrelation function plot.\n",
    "\n",
    "### Partial Autocorrelation\n",
    "\n",
    "Based on the autocorrelation plot above, we might try to fit a model that looks like this:\n",
    "\n",
    "$$\n",
    "\\begin{eqnarray*}\n",
    "Y_t &=& \\beta_0 + \\beta_1Y_{t-1} + \\beta_2Y_{t-2} + \\cdots + \\beta_{20}Y_{t-20} \\\\\n",
    "&=& \\beta_0 + \\sum_{k=1}^{20}\\beta_kY_{t-k}\n",
    "\\end{eqnarray*}\n",
    "$$\n",
    "\n"
   ]
  },
  {
   "cell_type": "markdown",
   "metadata": {},
   "source": [
    "<details><summary>However, this can run into many problems!</summary>\n",
    "\n",
    "- The more variables we have, the likelier we are to overfit our model to the data.\n",
    "- $Y_{t-1}$ and $Y_{t-2}$ and $Y_{t-3}$ are all highly correlated with one another, so the inputs to our model in this case aren't independent of one another.\n",
    "- When we use a variable like $Y_{t-20}$, we effectively decrease our sample size by 20. (If our data are measured year over year, discarding 20 years of data is **a lot of data** to exclude from our model.)\n",
    "</details>"
   ]
  },
  {
   "cell_type": "markdown",
   "metadata": {},
   "source": [
    "To avoid this problem, we use the **partial autocorrelation function**.\n",
    "- The partial autocorrelation is like the autocorrelation in that it checks for the correlation between $Y_t$ and lagged versions of itself.\n",
    "- However, the partial autocorrelation **controls for all lower-lag autocorrelations**.\n",
    "    - That is, the partial autocorrelation between $Y_t$ and $Y_{t-2}$ is the correlation between $Y_t$ and $Y_{t-2}$  that has already taken into account the autocorrelation between $Y_t$ and $Y_{t-1}$.\n",
    "    \n",
    "    \n",
    "<details><summary>BONUS: If you want to see the formula for partial autocorrelation, check here.</summary>\n",
    "    \n",
    "$$\n",
    "\\begin{eqnarray*}\n",
    "PartialCorr(Y_t, Y_{t-k}) = \\frac{Cov(Y_t,Y_{t-k}|Y_{t-1},Y_{t-2},\\ldots,Y_{t-(k-1)})}{Var(Y_t|Y_{t-1},Y_{t-2},\\ldots,Y_{t-(k-1)})Var(Y_{t-k}|Y_{t-1},Y_{t-2},\\ldots,Y_{t-(k-1)})}\n",
    "\\end{eqnarray*}\n",
    "$$\n",
    "</details>     "
   ]
  },
  {
   "cell_type": "code",
   "execution_count": null,
   "metadata": {},
   "outputs": [],
   "source": [
    "# Import the partial autocorrelation function (PACF) plot.\n",
    "from statsmodels.graphics.tsaplots import plot_pacf"
   ]
  },
  {
   "cell_type": "code",
   "execution_count": null,
   "metadata": {},
   "outputs": [],
   "source": [
    "# Generate the PACF plot on CO2 data\n",
    "# up to 20 time periods.\n",
    ";"
   ]
  },
  {
   "cell_type": "markdown",
   "metadata": {},
   "source": [
    "- The blue band represents a 95% confidence interval. If the value of the partial autocorrelation goes outside the blue band, that means that correlation is statistically significant.\n",
    "\n",
    "#### Interpretation\n",
    "\n",
    "The partial autocorrelation plot is an important tool for a few reasons:\n",
    "- **We can use it to detect seasonality**: Recall that seasonality means we have fluctuations in our $Y$ variable that occur with a fixed and known frequency. When the partial autocorrelation plot has significant values for the seasonal lags, this is evidence that seasonality exists.\n",
    "- **We can use this plot to inform our modeling choices**: Here, we see that by using $Y_{t-1}$ as a predictor for $Y_t$, we probably won't get much important information if we were to also include $Y_{t-2}$ (or higher order lags) as a predictor."
   ]
  },
  {
   "cell_type": "markdown",
   "metadata": {},
   "source": [
    "## Recap\n",
    "\n",
    "When you look at a new time series, you should:\n",
    "- generate a time plot.\n",
    "- generate the autocorrelation plot.\n",
    "- generate the partial autocorrelation plot.\n",
    "\n",
    "Use these plots to determine:\n",
    "- is there a trend?\n",
    "- is there seasonality?\n",
    "- is there evidence of cyclic patterns?\n",
    "\n",
    "Once we answer these questions, we can begin to model.\n",
    "\n",
    "## Practice\n",
    "\n",
    "On your own, take 7 minutes to read in the following data and answer the following questions."
   ]
  },
  {
   "cell_type": "code",
   "execution_count": null,
   "metadata": {},
   "outputs": [],
   "source": [
    "# Read in airline data.\n",
    "airline_passengers = pd.read_csv('./data/airline-passengers.csv',\n",
    "                                 parse_dates=['Month'])\n",
    "\n",
    "# Set the index to be month over month.\n"
   ]
  },
  {
   "cell_type": "code",
   "execution_count": null,
   "metadata": {},
   "outputs": [],
   "source": [
    "airline_passengers.head()"
   ]
  },
  {
   "cell_type": "code",
   "execution_count": null,
   "metadata": {},
   "outputs": [],
   "source": [
    "# Generate a time plot of the airline passengers data.\n"
   ]
  },
  {
   "cell_type": "code",
   "execution_count": null,
   "metadata": {},
   "outputs": [],
   "source": [
    "# Generate a decomposition plot of the airline passengers data.\n"
   ]
  },
  {
   "cell_type": "code",
   "execution_count": null,
   "metadata": {},
   "outputs": [],
   "source": [
    "# Generate an ACF plot of the airline passengers data with 30 time periods.\n"
   ]
  },
  {
   "cell_type": "code",
   "execution_count": null,
   "metadata": {},
   "outputs": [],
   "source": [
    "# Generate an PACF plot of the airline passengers data with 30 time periods.\n"
   ]
  },
  {
   "cell_type": "markdown",
   "metadata": {},
   "source": [
    "<details><summary>1. Based on the time plot, is there evidence of a trend? If so, describe the trend. How can you tell?</summary>\n",
    "    \n",
    "- There is a trend. It seems to be increasing and pretty linear.\n",
    "</details>"
   ]
  },
  {
   "cell_type": "markdown",
   "metadata": {},
   "source": [
    "<details><summary>2. Based on the time plot, is there evidence of seasonality? If so, estimate the frequency of the seasonality. How can you tell?</summary>\n",
    "    \n",
    "- There is evidence of seasonality. There appear to be peaks in the data about every twelve months. This makes sense, because the number of people flying on planes in a given month may peak when there's more travel (e.g. summer) and it might die down in other months.\n",
    "- This evidence is strongest in the later years, where from 1954-1961 there's obviously one peak every year. (Note that there are two peaks between 1956 and 1958, two peaks between 1958 and 1960, etc.)\n",
    "</details>"
   ]
  },
  {
   "cell_type": "markdown",
   "metadata": {},
   "source": [
    "<details><summary>3. Based on the time plot, is there evidence of a cyclic pattern? How can you tell?</summary>\n",
    "    \n",
    "- This one is harder to tell! Maybe yes, maybe no.\n",
    "- To more definitively answer this, I'm going to use the `seasonal_decomposition` to see if, after removing the trend and seasonal pieces, there appears to be some cyclic pattern in the residuals.\n",
    "- Based on the decomposition below, it does appear that there's some cyclical pattern. The trend and seasonality by themselves explain a lot fo what happens between 1954 and 1956, but as we move farther away from 1955, our trend/seasonality appear to explain less and less of what's going on in our data.\n",
    "</details>"
   ]
  },
  {
   "cell_type": "markdown",
   "metadata": {},
   "source": [
    "<details><summary>4. Based on the ACF plot, is there evidence of a trend? If so, describe the trend. How can you tell?</summary>\n",
    "\n",
    "- Yes, there is a trend. In the ACF plot, the small lag values have large, positive autocorrelations.\n",
    "</details>"
   ]
  },
  {
   "cell_type": "markdown",
   "metadata": {},
   "source": [
    "<details><summary>5. Based on the ACF and PACF plots, is there evidence of seasonality? If so, estimate the frequency of the seasonality. How can you tell?</summary>\n",
    "    \n",
    "- Yes, there is seasonality. In the ACF plot, there is a \"scalloped\" shape, where we see ACF values peak roughly every 12 months.\n",
    "- In the PACF plot, we see significant values every 12 months or so. We also see some positive and some negative significant partial autocorrelations, which usually indicates strong seasonal fluctuations.\n",
    "</details>"
   ]
  },
  {
   "cell_type": "markdown",
   "metadata": {},
   "source": [
    "<details><summary>Based on the above plots, we might conclude:</summary>\n",
    "\n",
    "- The last two values are highly informative in predicting future values.\n",
    "- There is a linear trend in our data.\n",
    "- There is seasonality that occurs roughly every twelve months.\n",
    "\n",
    "Let's fit the following model:\n",
    "$$\n",
    "\\begin{eqnarray*}\n",
    "Y_t &=& \\beta_0 + \\beta_1Y_{t-1} + \\beta_2Y_{t-2} + \\beta_3Y_{t-12} + \\beta_4t\n",
    "\\end{eqnarray*}\n",
    "$$\n",
    "</details>"
   ]
  },
  {
   "cell_type": "code",
   "execution_count": null,
   "metadata": {},
   "outputs": [],
   "source": [
    "airline_passengers.head()"
   ]
  },
  {
   "cell_type": "code",
   "execution_count": null,
   "metadata": {},
   "outputs": [],
   "source": [
    "# Create a column called `lag_1` that lags Passengers by one month.\n",
    "airline_passengers['lag_1'] = \n",
    "\n",
    "# Create a column called `lag_2` that lags Passengers by two months.\n",
    "airline_passengers['lag_2'] = \n",
    "\n",
    "# Create a column called `seasonal_12` that lags Passengers by one year.\n",
    "airline_passengers['seasonal_12'] = \n",
    "\n",
    "# Create a variable called `time` that takes on a value of 0 in January 1949,\n",
    "# then increases by 1 each month until the end of the dataframe.\n",
    "airline_passengers['time'] = "
   ]
  },
  {
   "cell_type": "code",
   "execution_count": null,
   "metadata": {},
   "outputs": [],
   "source": [
    "# Confirm the top of our dataframe looks good.\n",
    "airline_passengers.head()"
   ]
  },
  {
   "cell_type": "code",
   "execution_count": null,
   "metadata": {},
   "outputs": [],
   "source": [
    "# Confirm the bottom of our dataframe looks good.\n",
    "airline_passengers.tail()"
   ]
  },
  {
   "cell_type": "markdown",
   "metadata": {},
   "source": [
    "## Split Data into X and y\n"
   ]
  },
  {
   "cell_type": "code",
   "execution_count": null,
   "metadata": {},
   "outputs": [],
   "source": [
    "X = airline_passengers.drop(columns='Passengers')\n",
    "y = airline_passengers['Passengers']"
   ]
  },
  {
   "cell_type": "markdown",
   "metadata": {},
   "source": [
    "Note: We won't always do this! If we're only using our $Y$ variable to predict our $Y$ variable, we may not need to manually engineer features into an $X$ dataframe, but the model may handle that. We'll get into these models later!"
   ]
  },
  {
   "cell_type": "markdown",
   "metadata": {},
   "source": [
    "## Train-Test Split\n",
    "\n",
    "Before building a model, we should split our data up into a training and testing set.\n",
    "\n",
    "Since our goal with time series models is almost always to forecast values forward in time, the idea with a time series train/test split is to train on earlier data and test/evaluate on later data.\n",
    "\n",
    "Most commonly, we'll set our:\n",
    "- training set to be the \"first\" 67% - 80% of our data timewise.\n",
    "- test set be the \"last\" 20% - 33% timewise.\n",
    "\n",
    "Let's split our dataframe by taking the first 80% of rows for training and the rest for testing."
   ]
  },
  {
   "cell_type": "code",
   "execution_count": null,
   "metadata": {},
   "outputs": [],
   "source": [
    "# Generate train/test split.\n",
    "X_train, X_test, y_train, y_test = train_test_split(X,\n",
    "                                                    y,\n",
    "                                                    test_size = 0.2)"
   ]
  },
  {
   "cell_type": "code",
   "execution_count": null,
   "metadata": {},
   "outputs": [],
   "source": [
    "# Check shape to confirm we did this properly.\n",
    "print(X_train.shape)\n",
    "print(X_test.shape)\n",
    "print(y_train.shape)\n",
    "print(y_test.shape)"
   ]
  },
  {
   "cell_type": "markdown",
   "metadata": {},
   "source": [
    "## Fit a linear model."
   ]
  },
  {
   "cell_type": "code",
   "execution_count": null,
   "metadata": {},
   "outputs": [],
   "source": [
    "# Import statsmodels.\n",
    "import statsmodels.api as sm"
   ]
  },
  {
   "cell_type": "code",
   "execution_count": null,
   "metadata": {},
   "outputs": [],
   "source": [
    "# Before fitting a model in statsmodels, what do we need\n",
    "# to do? (Hint: Think intercept.)\n",
    "\n",
    "\n",
    "\n",
    "# Confirm.\n"
   ]
  },
  {
   "cell_type": "code",
   "execution_count": null,
   "metadata": {},
   "outputs": [],
   "source": [
    "# statsmodels won't be able to handle missing values.\n",
    "\n"
   ]
  },
  {
   "cell_type": "code",
   "execution_count": null,
   "metadata": {},
   "outputs": [],
   "source": [
    "# Remember that, in statsmodels, we pass our data \n",
    "# in when we instantiate the model!\n",
    "\n",
    "lm ="
   ]
  },
  {
   "cell_type": "code",
   "execution_count": null,
   "metadata": {},
   "outputs": [],
   "source": [
    "# Then we fit our model.\n",
    "lm_results ="
   ]
  },
  {
   "cell_type": "code",
   "execution_count": null,
   "metadata": {},
   "outputs": [],
   "source": [
    "# Display our summary!\n",
    "print(lm_results.summary())"
   ]
  },
  {
   "cell_type": "code",
   "execution_count": null,
   "metadata": {},
   "outputs": [],
   "source": [
    "# Generate predicted test values.\n"
   ]
  },
  {
   "cell_type": "code",
   "execution_count": null,
   "metadata": {},
   "outputs": [],
   "source": [
    "# Import R2 score and MSE.\n",
    "from sklearn.metrics import r2_score, mean_squared_error"
   ]
  },
  {
   "cell_type": "code",
   "execution_count": null,
   "metadata": {},
   "outputs": [],
   "source": [
    "# Calculate R2 score.\n",
    "r2_score()"
   ]
  },
  {
   "cell_type": "code",
   "execution_count": null,
   "metadata": {},
   "outputs": [],
   "source": [
    "# Calculate RMSE.\n",
    "mean_squared_error()"
   ]
  },
  {
   "cell_type": "code",
   "execution_count": null,
   "metadata": {},
   "outputs": [],
   "source": [
    "# Let's plot our predictions! \n",
    "\n",
    "# Set figure size.\n",
    "plt.figure(figsize=(20,10))\n",
    "\n",
    "# Plot training data.\n",
    "plt.plot(y_train.index, y_train.values, color = 'blue')\n",
    "\n",
    "# Plot testing data.\n",
    "plt.plot(y_test.index, y_test.values, color = 'orange')\n",
    "\n",
    "# Plot predicted test values.\n",
    "plt.plot(lm_results.predict(X_test), color = 'green')\n",
    "\n",
    "# Set label.\n",
    "plt.title(label = 'Forecasting Airline Passengers 1958-1961', fontsize=24)\n",
    "\n",
    "# Resize tick marks.\n",
    "plt.xticks(fontsize=20)\n",
    "plt.yticks(fontsize=20);"
   ]
  },
  {
   "cell_type": "markdown",
   "metadata": {},
   "source": [
    "### Learning Objectives \n",
    "_By the end of the lesson, students should be able to:_\n",
    "- Define time series and cross-sectional data.\n",
    "- Describe forecasting, some of its challenges, and when it's advised.\n",
    "- Generate and interpret time plots.\n",
    "- Define and identify trend, seasonality, and cyclic patterns in time series data.\n",
    "- Calculate, plot and interpret autocorrelation and partial autocorrelation.\n",
    "- Properly fit, generate predictions from, and evaluate a linear time series model."
   ]
  }
 ],
 "metadata": {
  "kernelspec": {
   "display_name": "Python 3",
   "language": "python",
   "name": "python3"
  },
  "language_info": {
   "codemirror_mode": {
    "name": "ipython",
    "version": 3
   },
   "file_extension": ".py",
   "mimetype": "text/x-python",
   "name": "python",
   "nbconvert_exporter": "python",
   "pygments_lexer": "ipython3",
   "version": "3.6.8"
  }
 },
 "nbformat": 4,
 "nbformat_minor": 2
}
