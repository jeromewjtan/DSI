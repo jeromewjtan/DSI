{
 "cells": [
  {
   "cell_type": "markdown",
   "metadata": {},
   "source": [
    "<img src=\"http://imgur.com/1ZcRyrc.png\" style=\"float: left; margin: 20px; height: 55px\">\n",
    "\n",
    "# Recurrent Neural Networks (RNNs)\n",
    "\n",
    "_Author: Riley Dallas (ATX)_\n",
    "\n",
    "---\n",
    "\n",
    "\n",
    "### Learning Objectives\n",
    "\n",
    "- Learn how to train/test split for sequence data\n",
    "- Use `TimeseriesGenerator` to prep our time series data for modeling\n",
    "- Create a basic RNN model using `keras`"
   ]
  },
  {
   "cell_type": "code",
   "execution_count": 1,
   "metadata": {},
   "outputs": [
    {
     "name": "stderr",
     "output_type": "stream",
     "text": [
      "Using TensorFlow backend.\n"
     ]
    }
   ],
   "source": [
    "import pandas as pd\n",
    "\n",
    "from sklearn.preprocessing import StandardScaler\n",
    "from sklearn.model_selection import train_test_split\n",
    "from sklearn.metrics import accuracy_score\n",
    "\n",
    "from keras.models import Sequential\n",
    "from keras.layers import Dense, Dropout, GRU\n",
    "from keras.optimizers import Adam\n",
    "from keras.preprocessing.sequence import TimeseriesGenerator\n",
    "\n",
    "import matplotlib.pyplot as plt\n",
    "%matplotlib inline"
   ]
  },
  {
   "cell_type": "markdown",
   "metadata": {},
   "source": [
    "## Load data: AAPL stock prices and SEC filings\n",
    "---\n",
    "\n",
    "There are two datasets that we'll merge together:\n",
    "- Apple's historical stock prices (ticker: AAPL)\n",
    "- Their SEC filings:\n",
    "  - Annual earnings reports: 10-K\n",
    "  - Quarterly earnings reports: 10-Q\n",
    "  - Company news and updates: 8-K\n",
    "\n",
    "Load both in the cells below."
   ]
  },
  {
   "cell_type": "code",
   "execution_count": 2,
   "metadata": {},
   "outputs": [
    {
     "data": {
      "text/html": [
       "<div>\n",
       "<style scoped>\n",
       "    .dataframe tbody tr th:only-of-type {\n",
       "        vertical-align: middle;\n",
       "    }\n",
       "\n",
       "    .dataframe tbody tr th {\n",
       "        vertical-align: top;\n",
       "    }\n",
       "\n",
       "    .dataframe thead th {\n",
       "        text-align: right;\n",
       "    }\n",
       "</style>\n",
       "<table border=\"1\" class=\"dataframe\">\n",
       "  <thead>\n",
       "    <tr style=\"text-align: right;\">\n",
       "      <th></th>\n",
       "      <th>Date</th>\n",
       "      <th>Open</th>\n",
       "      <th>High</th>\n",
       "      <th>Low</th>\n",
       "      <th>Close</th>\n",
       "      <th>Adj Close</th>\n",
       "      <th>Volume</th>\n",
       "    </tr>\n",
       "  </thead>\n",
       "  <tbody>\n",
       "    <tr>\n",
       "      <th>0</th>\n",
       "      <td>2005-04-25</td>\n",
       "      <td>5.212857</td>\n",
       "      <td>5.288571</td>\n",
       "      <td>5.158571</td>\n",
       "      <td>5.282857</td>\n",
       "      <td>3.522625</td>\n",
       "      <td>186615100</td>\n",
       "    </tr>\n",
       "    <tr>\n",
       "      <th>1</th>\n",
       "      <td>2005-04-26</td>\n",
       "      <td>5.254286</td>\n",
       "      <td>5.358572</td>\n",
       "      <td>5.160000</td>\n",
       "      <td>5.170000</td>\n",
       "      <td>3.447372</td>\n",
       "      <td>202626900</td>\n",
       "    </tr>\n",
       "    <tr>\n",
       "      <th>2</th>\n",
       "      <td>2005-04-27</td>\n",
       "      <td>5.127143</td>\n",
       "      <td>5.194286</td>\n",
       "      <td>5.072857</td>\n",
       "      <td>5.135714</td>\n",
       "      <td>3.424510</td>\n",
       "      <td>153472200</td>\n",
       "    </tr>\n",
       "    <tr>\n",
       "      <th>3</th>\n",
       "      <td>2005-04-28</td>\n",
       "      <td>5.184286</td>\n",
       "      <td>5.191429</td>\n",
       "      <td>5.034286</td>\n",
       "      <td>5.077143</td>\n",
       "      <td>3.385454</td>\n",
       "      <td>143776500</td>\n",
       "    </tr>\n",
       "    <tr>\n",
       "      <th>4</th>\n",
       "      <td>2005-04-29</td>\n",
       "      <td>5.164286</td>\n",
       "      <td>5.175714</td>\n",
       "      <td>5.031428</td>\n",
       "      <td>5.151429</td>\n",
       "      <td>3.434988</td>\n",
       "      <td>167907600</td>\n",
       "    </tr>\n",
       "  </tbody>\n",
       "</table>\n",
       "</div>"
      ],
      "text/plain": [
       "         Date      Open      High       Low     Close  Adj Close     Volume\n",
       "0  2005-04-25  5.212857  5.288571  5.158571  5.282857   3.522625  186615100\n",
       "1  2005-04-26  5.254286  5.358572  5.160000  5.170000   3.447372  202626900\n",
       "2  2005-04-27  5.127143  5.194286  5.072857  5.135714   3.424510  153472200\n",
       "3  2005-04-28  5.184286  5.191429  5.034286  5.077143   3.385454  143776500\n",
       "4  2005-04-29  5.164286  5.175714  5.031428  5.151429   3.434988  167907600"
      ]
     },
     "execution_count": 2,
     "metadata": {},
     "output_type": "execute_result"
    }
   ],
   "source": [
    "prices = pd.read_csv('../datasets/AAPL.csv')\n",
    "prices.head()"
   ]
  },
  {
   "cell_type": "code",
   "execution_count": 3,
   "metadata": {
    "scrolled": true
   },
   "outputs": [
    {
     "data": {
      "text/html": [
       "<div>\n",
       "<style scoped>\n",
       "    .dataframe tbody tr th:only-of-type {\n",
       "        vertical-align: middle;\n",
       "    }\n",
       "\n",
       "    .dataframe tbody tr th {\n",
       "        vertical-align: top;\n",
       "    }\n",
       "\n",
       "    .dataframe thead th {\n",
       "        text-align: right;\n",
       "    }\n",
       "</style>\n",
       "<table border=\"1\" class=\"dataframe\">\n",
       "  <thead>\n",
       "    <tr style=\"text-align: right;\">\n",
       "      <th></th>\n",
       "      <th>Date</th>\n",
       "      <th>10-K</th>\n",
       "      <th>10-Q</th>\n",
       "      <th>8-K</th>\n",
       "    </tr>\n",
       "  </thead>\n",
       "  <tbody>\n",
       "    <tr>\n",
       "      <th>0</th>\n",
       "      <td>1994-12-13</td>\n",
       "      <td>1.0</td>\n",
       "      <td>0.0</td>\n",
       "      <td>0.0</td>\n",
       "    </tr>\n",
       "    <tr>\n",
       "      <th>1</th>\n",
       "      <td>1995-12-19</td>\n",
       "      <td>1.0</td>\n",
       "      <td>0.0</td>\n",
       "      <td>0.0</td>\n",
       "    </tr>\n",
       "    <tr>\n",
       "      <th>2</th>\n",
       "      <td>1996-12-19</td>\n",
       "      <td>1.0</td>\n",
       "      <td>0.0</td>\n",
       "      <td>0.0</td>\n",
       "    </tr>\n",
       "    <tr>\n",
       "      <th>3</th>\n",
       "      <td>1997-12-05</td>\n",
       "      <td>1.0</td>\n",
       "      <td>0.0</td>\n",
       "      <td>0.0</td>\n",
       "    </tr>\n",
       "    <tr>\n",
       "      <th>4</th>\n",
       "      <td>1999-12-22</td>\n",
       "      <td>1.0</td>\n",
       "      <td>0.0</td>\n",
       "      <td>0.0</td>\n",
       "    </tr>\n",
       "  </tbody>\n",
       "</table>\n",
       "</div>"
      ],
      "text/plain": [
       "         Date  10-K  10-Q  8-K\n",
       "0  1994-12-13   1.0   0.0  0.0\n",
       "1  1995-12-19   1.0   0.0  0.0\n",
       "2  1996-12-19   1.0   0.0  0.0\n",
       "3  1997-12-05   1.0   0.0  0.0\n",
       "4  1999-12-22   1.0   0.0  0.0"
      ]
     },
     "execution_count": 3,
     "metadata": {},
     "output_type": "execute_result"
    }
   ],
   "source": [
    "filings = pd.read_csv('../datasets/filings.csv')\n",
    "filings.head()"
   ]
  },
  {
   "cell_type": "markdown",
   "metadata": {},
   "source": [
    "## `Date` columns\n",
    "---\n",
    "\n",
    "For both datasets, we need to:\n",
    "1. Convert the `Date` column to be a `datetime` object\n",
    "2. Since these are time series datasets, we need the indices to be the `Date` columns"
   ]
  },
  {
   "cell_type": "code",
   "execution_count": 4,
   "metadata": {},
   "outputs": [],
   "source": [
    "prices['Date'] = pd.to_datetime(prices['Date'])"
   ]
  },
  {
   "cell_type": "code",
   "execution_count": 5,
   "metadata": {},
   "outputs": [],
   "source": [
    "prices.set_index('Date', inplace=True)\n",
    "prices.sort_index(inplace=True)"
   ]
  },
  {
   "cell_type": "code",
   "execution_count": 6,
   "metadata": {},
   "outputs": [],
   "source": [
    "filings['Date'] = pd.to_datetime(filings['Date'])"
   ]
  },
  {
   "cell_type": "code",
   "execution_count": 7,
   "metadata": {},
   "outputs": [],
   "source": [
    "filings.set_index('Date', inplace=True)\n",
    "filings.sort_index(inplace=True)"
   ]
  },
  {
   "cell_type": "markdown",
   "metadata": {},
   "source": [
    "## Data cleaning: Prices\n",
    "---\n",
    "\n",
    "For Apple's stock prices, we'll need to do a few things:\n",
    "1. Drop the `Adj Close` column since we already have a `Close` price\n",
    "2. De-trend the dataset using `.pct_change()`\n",
    "3. Drop any `NaN`s that were created from step 2"
   ]
  },
  {
   "cell_type": "code",
   "execution_count": 8,
   "metadata": {},
   "outputs": [],
   "source": [
    "prices.drop(columns='Adj Close', inplace=True)"
   ]
  },
  {
   "cell_type": "code",
   "execution_count": 9,
   "metadata": {},
   "outputs": [
    {
     "data": {
      "text/plain": [
       "<matplotlib.axes._subplots.AxesSubplot at 0x11f821eb8>"
      ]
     },
     "execution_count": 9,
     "metadata": {},
     "output_type": "execute_result"
    },
    {
     "data": {
      "image/png": "[encoded data removed]",
      "text/plain": [
       "<Figure size 432x288 with 1 Axes>"
      ]
     },
     "metadata": {
      "needs_background": "light"
     },
     "output_type": "display_data"
    }
   ],
   "source": [
    "prices['Close'].plot()"
   ]
  },
  {
   "cell_type": "code",
   "execution_count": 10,
   "metadata": {},
   "outputs": [
    {
     "data": {
      "text/html": [
       "<div>\n",
       "<style scoped>\n",
       "    .dataframe tbody tr th:only-of-type {\n",
       "        vertical-align: middle;\n",
       "    }\n",
       "\n",
       "    .dataframe tbody tr th {\n",
       "        vertical-align: top;\n",
       "    }\n",
       "\n",
       "    .dataframe thead th {\n",
       "        text-align: right;\n",
       "    }\n",
       "</style>\n",
       "<table border=\"1\" class=\"dataframe\">\n",
       "  <thead>\n",
       "    <tr style=\"text-align: right;\">\n",
       "      <th></th>\n",
       "      <th>Open</th>\n",
       "      <th>High</th>\n",
       "      <th>Low</th>\n",
       "      <th>Close</th>\n",
       "      <th>Volume</th>\n",
       "    </tr>\n",
       "    <tr>\n",
       "      <th>Date</th>\n",
       "      <th></th>\n",
       "      <th></th>\n",
       "      <th></th>\n",
       "      <th></th>\n",
       "      <th></th>\n",
       "    </tr>\n",
       "  </thead>\n",
       "  <tbody>\n",
       "    <tr>\n",
       "      <th>2005-04-25</th>\n",
       "      <td>NaN</td>\n",
       "      <td>NaN</td>\n",
       "      <td>NaN</td>\n",
       "      <td>NaN</td>\n",
       "      <td>NaN</td>\n",
       "    </tr>\n",
       "    <tr>\n",
       "      <th>2005-04-26</th>\n",
       "      <td>0.007947</td>\n",
       "      <td>0.013236</td>\n",
       "      <td>0.000277</td>\n",
       "      <td>-0.021363</td>\n",
       "      <td>0.085801</td>\n",
       "    </tr>\n",
       "    <tr>\n",
       "      <th>2005-04-27</th>\n",
       "      <td>-0.024198</td>\n",
       "      <td>-0.030659</td>\n",
       "      <td>-0.016888</td>\n",
       "      <td>-0.006632</td>\n",
       "      <td>-0.242587</td>\n",
       "    </tr>\n",
       "    <tr>\n",
       "      <th>2005-04-28</th>\n",
       "      <td>0.011145</td>\n",
       "      <td>-0.000550</td>\n",
       "      <td>-0.007603</td>\n",
       "      <td>-0.011405</td>\n",
       "      <td>-0.063176</td>\n",
       "    </tr>\n",
       "    <tr>\n",
       "      <th>2005-04-29</th>\n",
       "      <td>-0.003858</td>\n",
       "      <td>-0.003027</td>\n",
       "      <td>-0.000568</td>\n",
       "      <td>0.014631</td>\n",
       "      <td>0.167838</td>\n",
       "    </tr>\n",
       "  </tbody>\n",
       "</table>\n",
       "</div>"
      ],
      "text/plain": [
       "                Open      High       Low     Close    Volume\n",
       "Date                                                        \n",
       "2005-04-25       NaN       NaN       NaN       NaN       NaN\n",
       "2005-04-26  0.007947  0.013236  0.000277 -0.021363  0.085801\n",
       "2005-04-27 -0.024198 -0.030659 -0.016888 -0.006632 -0.242587\n",
       "2005-04-28  0.011145 -0.000550 -0.007603 -0.011405 -0.063176\n",
       "2005-04-29 -0.003858 -0.003027 -0.000568  0.014631  0.167838"
      ]
     },
     "execution_count": 10,
     "metadata": {},
     "output_type": "execute_result"
    }
   ],
   "source": [
    "prices = prices.pct_change()\n",
    "prices.head()"
   ]
  },
  {
   "cell_type": "code",
   "execution_count": 11,
   "metadata": {},
   "outputs": [],
   "source": [
    "prices.dropna(inplace=True)"
   ]
  },
  {
   "cell_type": "code",
   "execution_count": 12,
   "metadata": {},
   "outputs": [
    {
     "data": {
      "text/plain": [
       "<matplotlib.axes._subplots.AxesSubplot at 0x110599b00>"
      ]
     },
     "execution_count": 12,
     "metadata": {},
     "output_type": "execute_result"
    },
    {
     "data": {
      "image/png": "[encoded data removed]",
      "text/plain": [
       "<Figure size 432x288 with 1 Axes>"
      ]
     },
     "metadata": {
      "needs_background": "light"
     },
     "output_type": "display_data"
    }
   ],
   "source": [
    "prices.Close.plot()"
   ]
  },
  {
   "cell_type": "markdown",
   "metadata": {},
   "source": [
    "## Create `Target` column\n",
    "---\n",
    "\n",
    "Our column of interest is the `Close` prices. We could build a regression model, where we predict the actual percentage change, or we could set this up as a binary classification problem:\n",
    "- 1: The `Close` price was greater than or equal to the previous day\n",
    "- 0: The `Close` price was lower than the previous day\n",
    "\n",
    "We'll go with the latter option. In the cell below, let's create our binary `Target` column."
   ]
  },
  {
   "cell_type": "code",
   "execution_count": 13,
   "metadata": {},
   "outputs": [
    {
     "data": {
      "text/html": [
       "<div>\n",
       "<style scoped>\n",
       "    .dataframe tbody tr th:only-of-type {\n",
       "        vertical-align: middle;\n",
       "    }\n",
       "\n",
       "    .dataframe tbody tr th {\n",
       "        vertical-align: top;\n",
       "    }\n",
       "\n",
       "    .dataframe thead th {\n",
       "        text-align: right;\n",
       "    }\n",
       "</style>\n",
       "<table border=\"1\" class=\"dataframe\">\n",
       "  <thead>\n",
       "    <tr style=\"text-align: right;\">\n",
       "      <th></th>\n",
       "      <th>Open</th>\n",
       "      <th>High</th>\n",
       "      <th>Low</th>\n",
       "      <th>Close</th>\n",
       "      <th>Volume</th>\n",
       "      <th>Target</th>\n",
       "    </tr>\n",
       "    <tr>\n",
       "      <th>Date</th>\n",
       "      <th></th>\n",
       "      <th></th>\n",
       "      <th></th>\n",
       "      <th></th>\n",
       "      <th></th>\n",
       "      <th></th>\n",
       "    </tr>\n",
       "  </thead>\n",
       "  <tbody>\n",
       "    <tr>\n",
       "      <th>2005-04-26</th>\n",
       "      <td>0.007947</td>\n",
       "      <td>0.013236</td>\n",
       "      <td>0.000277</td>\n",
       "      <td>-0.021363</td>\n",
       "      <td>0.085801</td>\n",
       "      <td>0</td>\n",
       "    </tr>\n",
       "    <tr>\n",
       "      <th>2005-04-27</th>\n",
       "      <td>-0.024198</td>\n",
       "      <td>-0.030659</td>\n",
       "      <td>-0.016888</td>\n",
       "      <td>-0.006632</td>\n",
       "      <td>-0.242587</td>\n",
       "      <td>0</td>\n",
       "    </tr>\n",
       "    <tr>\n",
       "      <th>2005-04-28</th>\n",
       "      <td>0.011145</td>\n",
       "      <td>-0.000550</td>\n",
       "      <td>-0.007603</td>\n",
       "      <td>-0.011405</td>\n",
       "      <td>-0.063176</td>\n",
       "      <td>0</td>\n",
       "    </tr>\n",
       "    <tr>\n",
       "      <th>2005-04-29</th>\n",
       "      <td>-0.003858</td>\n",
       "      <td>-0.003027</td>\n",
       "      <td>-0.000568</td>\n",
       "      <td>0.014631</td>\n",
       "      <td>0.167838</td>\n",
       "      <td>1</td>\n",
       "    </tr>\n",
       "    <tr>\n",
       "      <th>2005-05-02</th>\n",
       "      <td>0.001660</td>\n",
       "      <td>0.011593</td>\n",
       "      <td>0.022714</td>\n",
       "      <td>0.010261</td>\n",
       "      <td>-0.306285</td>\n",
       "      <td>1</td>\n",
       "    </tr>\n",
       "  </tbody>\n",
       "</table>\n",
       "</div>"
      ],
      "text/plain": [
       "                Open      High       Low     Close    Volume  Target\n",
       "Date                                                                \n",
       "2005-04-26  0.007947  0.013236  0.000277 -0.021363  0.085801       0\n",
       "2005-04-27 -0.024198 -0.030659 -0.016888 -0.006632 -0.242587       0\n",
       "2005-04-28  0.011145 -0.000550 -0.007603 -0.011405 -0.063176       0\n",
       "2005-04-29 -0.003858 -0.003027 -0.000568  0.014631  0.167838       1\n",
       "2005-05-02  0.001660  0.011593  0.022714  0.010261 -0.306285       1"
      ]
     },
     "execution_count": 13,
     "metadata": {},
     "output_type": "execute_result"
    }
   ],
   "source": [
    "prices['Target'] = (prices['Close'] > 0).astype(int)\n",
    "prices.head()"
   ]
  },
  {
   "cell_type": "markdown",
   "metadata": {},
   "source": [
    "## Merge Prices with SEC filings\n",
    "---\n",
    "\n",
    "SEC filings tend to have a huge impact on stock prices. Because of this, we'll want to merge the prices and filings `DataFrames` together.\n",
    "\n",
    "**NOTE** We'll want to do a left join, so that we don't lose any rows that aren't associated with any SEC filings."
   ]
  },
  {
   "cell_type": "code",
   "execution_count": 14,
   "metadata": {},
   "outputs": [],
   "source": [
    "df = pd.merge(prices, filings, left_index=True, right_index=True, how='left')"
   ]
  },
  {
   "cell_type": "markdown",
   "metadata": {},
   "source": [
    "## Fill `NaN`s\n",
    "---\n",
    "\n",
    "After the merge, we now have a bunch of `NaN`s for rows that didn't have any SEC filings on that date. Let's fill those in with 0."
   ]
  },
  {
   "cell_type": "code",
   "execution_count": 15,
   "metadata": {
    "scrolled": true
   },
   "outputs": [
    {
     "data": {
      "text/plain": [
       "Open         0\n",
       "High         0\n",
       "Low          0\n",
       "Close        0\n",
       "Volume       0\n",
       "Target       0\n",
       "10-K      3431\n",
       "10-Q      3431\n",
       "8-K       3431\n",
       "dtype: int64"
      ]
     },
     "execution_count": 15,
     "metadata": {},
     "output_type": "execute_result"
    }
   ],
   "source": [
    "df.isnull().sum()"
   ]
  },
  {
   "cell_type": "code",
   "execution_count": 16,
   "metadata": {},
   "outputs": [],
   "source": [
    "df.fillna(0, inplace=True)"
   ]
  },
  {
   "cell_type": "code",
   "execution_count": 17,
   "metadata": {},
   "outputs": [
    {
     "data": {
      "text/plain": [
       "Open      0\n",
       "High      0\n",
       "Low       0\n",
       "Close     0\n",
       "Volume    0\n",
       "Target    0\n",
       "10-K      0\n",
       "10-Q      0\n",
       "8-K       0\n",
       "dtype: int64"
      ]
     },
     "execution_count": 17,
     "metadata": {},
     "output_type": "execute_result"
    }
   ],
   "source": [
    "df.isnull().sum()"
   ]
  },
  {
   "cell_type": "markdown",
   "metadata": {},
   "source": [
    "## Train/Test Split\n",
    "---\n",
    "\n",
    "Since we're dealing with time series data, we don't want the model to be able to see the future. \n",
    "\n",
    "**When using `train_test_split` on time series date, set `shuffle=False` so that the order is maintained.**"
   ]
  },
  {
   "cell_type": "code",
   "execution_count": 18,
   "metadata": {},
   "outputs": [],
   "source": [
    "features = [col for col in df.columns if not col == 'Target']\n",
    "X = df[features]\n",
    "y = df[['Target']].values"
   ]
  },
  {
   "cell_type": "code",
   "execution_count": 19,
   "metadata": {},
   "outputs": [
    {
     "data": {
      "text/html": [
       "<div>\n",
       "<style scoped>\n",
       "    .dataframe tbody tr th:only-of-type {\n",
       "        vertical-align: middle;\n",
       "    }\n",
       "\n",
       "    .dataframe tbody tr th {\n",
       "        vertical-align: top;\n",
       "    }\n",
       "\n",
       "    .dataframe thead th {\n",
       "        text-align: right;\n",
       "    }\n",
       "</style>\n",
       "<table border=\"1\" class=\"dataframe\">\n",
       "  <thead>\n",
       "    <tr style=\"text-align: right;\">\n",
       "      <th></th>\n",
       "      <th>Open</th>\n",
       "      <th>High</th>\n",
       "      <th>Low</th>\n",
       "      <th>Close</th>\n",
       "      <th>Volume</th>\n",
       "      <th>10-K</th>\n",
       "      <th>10-Q</th>\n",
       "      <th>8-K</th>\n",
       "    </tr>\n",
       "    <tr>\n",
       "      <th>Date</th>\n",
       "      <th></th>\n",
       "      <th></th>\n",
       "      <th></th>\n",
       "      <th></th>\n",
       "      <th></th>\n",
       "      <th></th>\n",
       "      <th></th>\n",
       "      <th></th>\n",
       "    </tr>\n",
       "  </thead>\n",
       "  <tbody>\n",
       "    <tr>\n",
       "      <th>2005-04-26</th>\n",
       "      <td>0.007947</td>\n",
       "      <td>0.013236</td>\n",
       "      <td>0.000277</td>\n",
       "      <td>-0.021363</td>\n",
       "      <td>0.085801</td>\n",
       "      <td>0.0</td>\n",
       "      <td>0.0</td>\n",
       "      <td>0.0</td>\n",
       "    </tr>\n",
       "    <tr>\n",
       "      <th>2005-04-27</th>\n",
       "      <td>-0.024198</td>\n",
       "      <td>-0.030659</td>\n",
       "      <td>-0.016888</td>\n",
       "      <td>-0.006632</td>\n",
       "      <td>-0.242587</td>\n",
       "      <td>0.0</td>\n",
       "      <td>0.0</td>\n",
       "      <td>0.0</td>\n",
       "    </tr>\n",
       "    <tr>\n",
       "      <th>2005-04-28</th>\n",
       "      <td>0.011145</td>\n",
       "      <td>-0.000550</td>\n",
       "      <td>-0.007603</td>\n",
       "      <td>-0.011405</td>\n",
       "      <td>-0.063176</td>\n",
       "      <td>0.0</td>\n",
       "      <td>0.0</td>\n",
       "      <td>0.0</td>\n",
       "    </tr>\n",
       "    <tr>\n",
       "      <th>2005-04-29</th>\n",
       "      <td>-0.003858</td>\n",
       "      <td>-0.003027</td>\n",
       "      <td>-0.000568</td>\n",
       "      <td>0.014631</td>\n",
       "      <td>0.167838</td>\n",
       "      <td>0.0</td>\n",
       "      <td>0.0</td>\n",
       "      <td>0.0</td>\n",
       "    </tr>\n",
       "    <tr>\n",
       "      <th>2005-05-02</th>\n",
       "      <td>0.001660</td>\n",
       "      <td>0.011593</td>\n",
       "      <td>0.022714</td>\n",
       "      <td>0.010261</td>\n",
       "      <td>-0.306285</td>\n",
       "      <td>0.0</td>\n",
       "      <td>0.0</td>\n",
       "      <td>0.0</td>\n",
       "    </tr>\n",
       "  </tbody>\n",
       "</table>\n",
       "</div>"
      ],
      "text/plain": [
       "                Open      High       Low     Close    Volume  10-K  10-Q  8-K\n",
       "Date                                                                         \n",
       "2005-04-26  0.007947  0.013236  0.000277 -0.021363  0.085801   0.0   0.0  0.0\n",
       "2005-04-27 -0.024198 -0.030659 -0.016888 -0.006632 -0.242587   0.0   0.0  0.0\n",
       "2005-04-28  0.011145 -0.000550 -0.007603 -0.011405 -0.063176   0.0   0.0  0.0\n",
       "2005-04-29 -0.003858 -0.003027 -0.000568  0.014631  0.167838   0.0   0.0  0.0\n",
       "2005-05-02  0.001660  0.011593  0.022714  0.010261 -0.306285   0.0   0.0  0.0"
      ]
     },
     "execution_count": 19,
     "metadata": {},
     "output_type": "execute_result"
    }
   ],
   "source": [
    "X_train, X_test, y_train, y_test = train_test_split(X, y, shuffle=False)\n",
    "X_train.head()"
   ]
  },
  {
   "cell_type": "markdown",
   "metadata": {},
   "source": [
    "## Scaling\n",
    "---\n",
    "\n",
    "You want to scale your data for any model that uses gradient descent, which includes neural networks."
   ]
  },
  {
   "cell_type": "code",
   "execution_count": 20,
   "metadata": {},
   "outputs": [],
   "source": [
    "ss = StandardScaler()\n",
    "X_train_sc = ss.fit_transform(X_train)\n",
    "X_test_sc = ss.transform(X_test)"
   ]
  },
  {
   "cell_type": "markdown",
   "metadata": {},
   "source": [
    "## `TimeseriesGenerator`\n",
    "---\n",
    "\n",
    "We'll now convert our data into series' using `TimeseriesGenerator`. The `length` parameter dictates how many rows will constitute a sample. The generator also creates our batches.\n",
    "\n",
    "```python\n",
    "train_sequences = TimeseriesGenerator(X_train_sc, y_train, length=3, batch_size=64)\n",
    "```\n",
    "\n",
    "In the cells below, convert your training and validation data into sequences."
   ]
  },
  {
   "cell_type": "code",
   "execution_count": 21,
   "metadata": {},
   "outputs": [],
   "source": [
    "train_sequences = TimeseriesGenerator(X_train_sc, y_train, length=3, batch_size=64)"
   ]
  },
  {
   "cell_type": "code",
   "execution_count": 22,
   "metadata": {},
   "outputs": [],
   "source": [
    "batch_x, batch_y = train_sequences[0]"
   ]
  },
  {
   "cell_type": "code",
   "execution_count": 23,
   "metadata": {},
   "outputs": [
    {
     "data": {
      "text/plain": [
       "(64, 3, 8)"
      ]
     },
     "execution_count": 23,
     "metadata": {},
     "output_type": "execute_result"
    }
   ],
   "source": [
    "batch_x.shape"
   ]
  },
  {
   "cell_type": "code",
   "execution_count": 24,
   "metadata": {},
   "outputs": [
    {
     "data": {
      "text/plain": [
       "(64, 1)"
      ]
     },
     "execution_count": 24,
     "metadata": {},
     "output_type": "execute_result"
    }
   ],
   "source": [
    "batch_y.shape"
   ]
  },
  {
   "cell_type": "code",
   "execution_count": 25,
   "metadata": {},
   "outputs": [
    {
     "data": {
      "text/plain": [
       "array([[ 0.277762  ,  0.65593887, -0.05122123, -1.04709738,  0.0686483 ,\n",
       "        -0.06165092, -0.10536889, -0.02752931],\n",
       "       [-1.09289224, -1.76187057, -0.82999299, -0.36944379, -0.74627527,\n",
       "        -0.06165092, -0.10536889, -0.02752931],\n",
       "       [ 0.41411047, -0.10343687, -0.40875   , -0.58900501, -0.30105021,\n",
       "        -0.06165092, -0.10536889, -0.02752931]])"
      ]
     },
     "execution_count": 25,
     "metadata": {},
     "output_type": "execute_result"
    }
   ],
   "source": [
    "batch_x[0]"
   ]
  },
  {
   "cell_type": "code",
   "execution_count": 26,
   "metadata": {},
   "outputs": [
    {
     "data": {
      "text/html": [
       "<div>\n",
       "<style scoped>\n",
       "    .dataframe tbody tr th:only-of-type {\n",
       "        vertical-align: middle;\n",
       "    }\n",
       "\n",
       "    .dataframe tbody tr th {\n",
       "        vertical-align: top;\n",
       "    }\n",
       "\n",
       "    .dataframe thead th {\n",
       "        text-align: right;\n",
       "    }\n",
       "</style>\n",
       "<table border=\"1\" class=\"dataframe\">\n",
       "  <thead>\n",
       "    <tr style=\"text-align: right;\">\n",
       "      <th></th>\n",
       "      <th>Open</th>\n",
       "      <th>High</th>\n",
       "      <th>Low</th>\n",
       "      <th>Close</th>\n",
       "      <th>Volume</th>\n",
       "      <th>10-K</th>\n",
       "      <th>10-Q</th>\n",
       "      <th>8-K</th>\n",
       "    </tr>\n",
       "  </thead>\n",
       "  <tbody>\n",
       "    <tr>\n",
       "      <th>0</th>\n",
       "      <td>0.277762</td>\n",
       "      <td>0.655939</td>\n",
       "      <td>-0.051221</td>\n",
       "      <td>-1.047097</td>\n",
       "      <td>0.068648</td>\n",
       "      <td>-0.061651</td>\n",
       "      <td>-0.105369</td>\n",
       "      <td>-0.027529</td>\n",
       "    </tr>\n",
       "    <tr>\n",
       "      <th>1</th>\n",
       "      <td>-1.092892</td>\n",
       "      <td>-1.761871</td>\n",
       "      <td>-0.829993</td>\n",
       "      <td>-0.369444</td>\n",
       "      <td>-0.746275</td>\n",
       "      <td>-0.061651</td>\n",
       "      <td>-0.105369</td>\n",
       "      <td>-0.027529</td>\n",
       "    </tr>\n",
       "    <tr>\n",
       "      <th>2</th>\n",
       "      <td>0.414110</td>\n",
       "      <td>-0.103437</td>\n",
       "      <td>-0.408750</td>\n",
       "      <td>-0.589005</td>\n",
       "      <td>-0.301050</td>\n",
       "      <td>-0.061651</td>\n",
       "      <td>-0.105369</td>\n",
       "      <td>-0.027529</td>\n",
       "    </tr>\n",
       "  </tbody>\n",
       "</table>\n",
       "</div>"
      ],
      "text/plain": [
       "       Open      High       Low     Close    Volume      10-K      10-Q  \\\n",
       "0  0.277762  0.655939 -0.051221 -1.047097  0.068648 -0.061651 -0.105369   \n",
       "1 -1.092892 -1.761871 -0.829993 -0.369444 -0.746275 -0.061651 -0.105369   \n",
       "2  0.414110 -0.103437 -0.408750 -0.589005 -0.301050 -0.061651 -0.105369   \n",
       "\n",
       "        8-K  \n",
       "0 -0.027529  \n",
       "1 -0.027529  \n",
       "2 -0.027529  "
      ]
     },
     "execution_count": 26,
     "metadata": {},
     "output_type": "execute_result"
    }
   ],
   "source": [
    "pd.DataFrame(X_train_sc, columns=X_train.columns).head(3)"
   ]
  },
  {
   "cell_type": "code",
   "execution_count": 27,
   "metadata": {},
   "outputs": [],
   "source": [
    "test_sequences = TimeseriesGenerator(X_test_sc, y_test, length=3, batch_size=64)"
   ]
  },
  {
   "cell_type": "markdown",
   "metadata": {},
   "source": [
    "## Modeling time!\n",
    "---\n",
    "\n",
    "Now it's time to design our RNN model. We'll have:\n",
    "\n",
    "- 2 `GRU` layers\n",
    "- 2 hidden `Dense` layers\n",
    "- 1 `Dense` output layer\n",
    "\n",
    "We're doing a binary classification problem. As a result, our output layer needs to be 1 neuron, with the `sigmoid` activation function. This way, our model predicts a probability."
   ]
  },
  {
   "cell_type": "code",
   "execution_count": 28,
   "metadata": {},
   "outputs": [],
   "source": [
    "model = Sequential()\n",
    "model.add(GRU(8, input_shape=(3, 8), return_sequences=True))\n",
    "model.add(GRU(8))\n",
    "\n",
    "model.add(Dense(4, activation='relu'))\n",
    "\n",
    "model.add(Dense(1, activation='sigmoid'))"
   ]
  },
  {
   "cell_type": "code",
   "execution_count": 29,
   "metadata": {},
   "outputs": [],
   "source": [
    "model.compile(optimizer=Adam(lr=.0005), loss='binary_crossentropy', metrics=['acc'])\n",
    "\n",
    "history = model.fit_generator(train_sequences, validation_data=test_sequences, epochs=20, verbose=0)"
   ]
  },
  {
   "cell_type": "code",
   "execution_count": 30,
   "metadata": {},
   "outputs": [
    {
     "data": {
      "image/png": "[encoded data removed]",
      "text/plain": [
       "<Figure size 432x288 with 1 Axes>"
      ]
     },
     "metadata": {
      "needs_background": "light"
     },
     "output_type": "display_data"
    }
   ],
   "source": [
    "plt.plot(history.history['loss'], label='Train loss')\n",
    "plt.plot(history.history['val_loss'], label='Test loss')\n",
    "plt.legend();"
   ]
  },
  {
   "cell_type": "code",
   "execution_count": 31,
   "metadata": {},
   "outputs": [
    {
     "data": {
      "image/png": "[encoded data removed]",
      "text/plain": [
       "<Figure size 432x288 with 1 Axes>"
      ]
     },
     "metadata": {
      "needs_background": "light"
     },
     "output_type": "display_data"
    }
   ],
   "source": [
    "plt.plot(history.history['acc'], label='Train accuracy')\n",
    "plt.plot(history.history['val_acc'], label='Test accuracy')\n",
    "plt.legend();"
   ]
  },
  {
   "cell_type": "code",
   "execution_count": null,
   "metadata": {},
   "outputs": [],
   "source": []
  }
 ],
 "metadata": {
  "kernelspec": {
   "display_name": "Python 3",
   "language": "python",
   "name": "python3"
  },
  "language_info": {
   "codemirror_mode": {
    "name": "ipython",
    "version": 3
   },
   "file_extension": ".py",
   "mimetype": "text/x-python",
   "name": "python",
   "nbconvert_exporter": "python",
   "pygments_lexer": "ipython3",
   "version": "3.6.7"
  }
 },
 "nbformat": 4,
 "nbformat_minor": 2
}
