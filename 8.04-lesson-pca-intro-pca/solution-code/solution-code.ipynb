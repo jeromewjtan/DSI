{
 "cells": [
  {
   "cell_type": "markdown",
   "metadata": {},
   "source": [
    "# ![](https://ga-dash.s3.amazonaws.com/production/assets/logo-9f88ae6c9c3871690e33280fcf557f33.png) Principal Component Analysis\n",
    "\n",
    "> Authors: Justin Pounders, Matt Brems"
   ]
  },
  {
   "cell_type": "markdown",
   "metadata": {},
   "source": [
    "### LEARNING OBJECTIVES\n",
    "By the end of the lesson, students should be able to:\n",
    "1. Differentiate between feature elimination and feature extraction.\n",
    "2. Describe the PCA algorithm.\n",
    "3. Implement PCA in `scikit-learn`.\n",
    "4. Calculate and interpret proportion of explained variance.\n",
    "5. Identify use cases for PCA."
   ]
  },
  {
   "cell_type": "code",
   "execution_count": 13,
   "metadata": {},
   "outputs": [],
   "source": [
    "# Import our libraries.\n",
    "import pandas as pd\n",
    "import numpy as np\n",
    "import matplotlib.pyplot as plt\n",
    "import seaborn as sns\n",
    "\n",
    "# Import from sklearn.\n",
    "from sklearn.model_selection import train_test_split\n",
    "from sklearn.linear_model import LinearRegression\n",
    "from sklearn.metrics import r2_score\n",
    "from sklearn.preprocessing import PolynomialFeatures, StandardScaler\n",
    "\n",
    "# Set a random seed.\n",
    "np.random.seed(42)\n",
    "\n",
    "%matplotlib inline"
   ]
  },
  {
   "cell_type": "markdown",
   "metadata": {},
   "source": [
    "### Introduction of Problem\n",
    "\n",
    "Today, we're going to be using the [wine quality](http://www3.dsi.uminho.pt/pcortez/wine/) dataset by Cortez, Cerdeira, Almeida, Matos and Reis.\n",
    "\n",
    "Specifically, we are going to use physicochemical properties of the wine in order to predict the quality of the wine."
   ]
  },
  {
   "cell_type": "code",
   "execution_count": 14,
   "metadata": {},
   "outputs": [
    {
     "data": {
      "text/html": [
       "<div>\n",
       "<style scoped>\n",
       "    .dataframe tbody tr th:only-of-type {\n",
       "        vertical-align: middle;\n",
       "    }\n",
       "\n",
       "    .dataframe tbody tr th {\n",
       "        vertical-align: top;\n",
       "    }\n",
       "\n",
       "    .dataframe thead th {\n",
       "        text-align: right;\n",
       "    }\n",
       "</style>\n",
       "<table border=\"1\" class=\"dataframe\">\n",
       "  <thead>\n",
       "    <tr style=\"text-align: right;\">\n",
       "      <th></th>\n",
       "      <th>fixed acidity</th>\n",
       "      <th>volatile acidity</th>\n",
       "      <th>citric acid</th>\n",
       "      <th>residual sugar</th>\n",
       "      <th>chlorides</th>\n",
       "      <th>free sulfur dioxide</th>\n",
       "      <th>total sulfur dioxide</th>\n",
       "      <th>density</th>\n",
       "      <th>pH</th>\n",
       "      <th>sulphates</th>\n",
       "      <th>alcohol</th>\n",
       "      <th>quality</th>\n",
       "    </tr>\n",
       "  </thead>\n",
       "  <tbody>\n",
       "    <tr>\n",
       "      <th>0</th>\n",
       "      <td>7.4</td>\n",
       "      <td>0.70</td>\n",
       "      <td>0.00</td>\n",
       "      <td>1.9</td>\n",
       "      <td>0.076</td>\n",
       "      <td>11.0</td>\n",
       "      <td>34.0</td>\n",
       "      <td>0.9978</td>\n",
       "      <td>3.51</td>\n",
       "      <td>0.56</td>\n",
       "      <td>9.4</td>\n",
       "      <td>5</td>\n",
       "    </tr>\n",
       "    <tr>\n",
       "      <th>1</th>\n",
       "      <td>7.8</td>\n",
       "      <td>0.88</td>\n",
       "      <td>0.00</td>\n",
       "      <td>2.6</td>\n",
       "      <td>0.098</td>\n",
       "      <td>25.0</td>\n",
       "      <td>67.0</td>\n",
       "      <td>0.9968</td>\n",
       "      <td>3.20</td>\n",
       "      <td>0.68</td>\n",
       "      <td>9.8</td>\n",
       "      <td>5</td>\n",
       "    </tr>\n",
       "    <tr>\n",
       "      <th>2</th>\n",
       "      <td>7.8</td>\n",
       "      <td>0.76</td>\n",
       "      <td>0.04</td>\n",
       "      <td>2.3</td>\n",
       "      <td>0.092</td>\n",
       "      <td>15.0</td>\n",
       "      <td>54.0</td>\n",
       "      <td>0.9970</td>\n",
       "      <td>3.26</td>\n",
       "      <td>0.65</td>\n",
       "      <td>9.8</td>\n",
       "      <td>5</td>\n",
       "    </tr>\n",
       "    <tr>\n",
       "      <th>3</th>\n",
       "      <td>11.2</td>\n",
       "      <td>0.28</td>\n",
       "      <td>0.56</td>\n",
       "      <td>1.9</td>\n",
       "      <td>0.075</td>\n",
       "      <td>17.0</td>\n",
       "      <td>60.0</td>\n",
       "      <td>0.9980</td>\n",
       "      <td>3.16</td>\n",
       "      <td>0.58</td>\n",
       "      <td>9.8</td>\n",
       "      <td>6</td>\n",
       "    </tr>\n",
       "    <tr>\n",
       "      <th>4</th>\n",
       "      <td>7.4</td>\n",
       "      <td>0.70</td>\n",
       "      <td>0.00</td>\n",
       "      <td>1.9</td>\n",
       "      <td>0.076</td>\n",
       "      <td>11.0</td>\n",
       "      <td>34.0</td>\n",
       "      <td>0.9978</td>\n",
       "      <td>3.51</td>\n",
       "      <td>0.56</td>\n",
       "      <td>9.4</td>\n",
       "      <td>5</td>\n",
       "    </tr>\n",
       "  </tbody>\n",
       "</table>\n",
       "</div>"
      ],
      "text/plain": [
       "   fixed acidity  volatile acidity  citric acid  residual sugar  chlorides  \\\n",
       "0            7.4              0.70         0.00             1.9      0.076   \n",
       "1            7.8              0.88         0.00             2.6      0.098   \n",
       "2            7.8              0.76         0.04             2.3      0.092   \n",
       "3           11.2              0.28         0.56             1.9      0.075   \n",
       "4            7.4              0.70         0.00             1.9      0.076   \n",
       "\n",
       "   free sulfur dioxide  total sulfur dioxide  density    pH  sulphates  \\\n",
       "0                 11.0                  34.0   0.9978  3.51       0.56   \n",
       "1                 25.0                  67.0   0.9968  3.20       0.68   \n",
       "2                 15.0                  54.0   0.9970  3.26       0.65   \n",
       "3                 17.0                  60.0   0.9980  3.16       0.58   \n",
       "4                 11.0                  34.0   0.9978  3.51       0.56   \n",
       "\n",
       "   alcohol  quality  \n",
       "0      9.4        5  \n",
       "1      9.8        5  \n",
       "2      9.8        5  \n",
       "3      9.8        6  \n",
       "4      9.4        5  "
      ]
     },
     "execution_count": 14,
     "metadata": {},
     "output_type": "execute_result"
    }
   ],
   "source": [
    "# Read in the wine quality datasets.\n",
    "df_red = pd.read_csv('../datasets/winequality-red.csv', sep=';')\n",
    "df_white = pd.read_csv('../datasets/winequality-white.csv', sep=';')\n",
    "\n",
    "# Stack datasets together. (They have the same column names!)\n",
    "df = pd.concat([df_red, df_white])\n",
    "\n",
    "# Check out head of our dataframe.\n",
    "df.head()"
   ]
  },
  {
   "cell_type": "code",
   "execution_count": 15,
   "metadata": {},
   "outputs": [
    {
     "data": {
      "text/plain": [
       "6    43.7\n",
       "5    32.9\n",
       "7    16.6\n",
       "4     3.3\n",
       "8     3.0\n",
       "3     0.5\n",
       "9     0.1\n",
       "Name: quality, dtype: float64"
      ]
     },
     "execution_count": 15,
     "metadata": {},
     "output_type": "execute_result"
    }
   ],
   "source": [
    "# Is this a regression problem or classification problem?\n",
    "round(df['quality'].value_counts(normalize = True), 3) * 100"
   ]
  },
  {
   "cell_type": "markdown",
   "metadata": {},
   "source": [
    "### Fit a multiple linear regression model in `sklearn`."
   ]
  },
  {
   "cell_type": "code",
   "execution_count": 16,
   "metadata": {},
   "outputs": [
    {
     "data": {
      "text/plain": [
       "fixed acidity           0\n",
       "volatile acidity        0\n",
       "citric acid             0\n",
       "residual sugar          0\n",
       "chlorides               0\n",
       "free sulfur dioxide     0\n",
       "total sulfur dioxide    0\n",
       "density                 0\n",
       "pH                      0\n",
       "sulphates               0\n",
       "alcohol                 0\n",
       "dtype: int64"
      ]
     },
     "execution_count": 16,
     "metadata": {},
     "output_type": "execute_result"
    }
   ],
   "source": [
    "# Set y to be the quality column.\n",
    "y = df['quality']\n",
    "\n",
    "# Set X as all other columns.\n",
    "X = df.drop(columns=['quality'])\n",
    "\n",
    "# How much missing data do we have?\n",
    "X.isnull().sum()"
   ]
  },
  {
   "cell_type": "code",
   "execution_count": 17,
   "metadata": {},
   "outputs": [
    {
     "name": "stdout",
     "output_type": "stream",
     "text": [
      "(6497, 364)\n",
      "(6497, 12)\n"
     ]
    }
   ],
   "source": [
    "# To show off the strength of PCA, we're going to make many, many more features.\n",
    "pf = PolynomialFeatures(degree = 3)\n",
    "\n",
    "# Fit and transform our X data using Polynomial Features.\n",
    "X_new = pf.fit_transform(X)\n",
    "\n",
    "# How many features do we have now?\n",
    "print(X_new.shape)\n",
    "\n",
    "# How many features did we start out with?\n",
    "print(df.shape)"
   ]
  },
  {
   "cell_type": "code",
   "execution_count": 18,
   "metadata": {},
   "outputs": [],
   "source": [
    "# Train/test split our data.\n",
    "X_train, X_test, y_train, y_test = train_test_split(X_new,\n",
    "                                                    y,\n",
    "                                                    test_size = 0.33,\n",
    "                                                    random_state = 42)"
   ]
  },
  {
   "cell_type": "code",
   "execution_count": 19,
   "metadata": {},
   "outputs": [
    {
     "data": {
      "text/plain": [
       "(4352, 364)"
      ]
     },
     "execution_count": 19,
     "metadata": {},
     "output_type": "execute_result"
    }
   ],
   "source": [
    "X_train.shape"
   ]
  },
  {
   "cell_type": "code",
   "execution_count": 20,
   "metadata": {},
   "outputs": [
    {
     "name": "stdout",
     "output_type": "stream",
     "text": [
      "Training Score: 0.4562.\n",
      "Testing Score: -0.8916.\n"
     ]
    }
   ],
   "source": [
    "# Instantiate and fit a linear regression model.\n",
    "lm = LinearRegression()\n",
    "lm.fit(X_train, y_train)\n",
    "\n",
    "# Score on training set. (We'll use R^2 for the score today.)\n",
    "print(f'Training Score: {round(lm.score(X_train, y_train),4)}.')\n",
    "\n",
    "# Score on testing set.\n",
    "print(f'Testing Score: {round(lm.score(X_test, y_test),4)}.')"
   ]
  },
  {
   "cell_type": "markdown",
   "metadata": {},
   "source": [
    "<details><summary>Check: What is the problem with this?</summary>\n",
    "    \n",
    "- We've clearly overfit our model to the data (so much so that our model's performance is really bad)!\n",
    "- We have a lot of columns relative to our number of rows! (If you have $n$ rows, it's often advised to keep your number of columns below $\\sqrt{n}$.)\n",
    "</details>"
   ]
  },
  {
   "cell_type": "markdown",
   "metadata": {},
   "source": [
    "<details><summary>Check: How can we overcome this problem?</summary>\n",
    "\n",
    "- We can drop features from our model. (However, this loses any benefit we'd get from dropping those features! It can also be time-consuming and/or require subject-matter expertise.)\n",
    "- Maybe we can combine features together so that we can get the benefits of most/all of our features. (This is what PCA will do.)\n",
    "</details>"
   ]
  },
  {
   "cell_type": "markdown",
   "metadata": {},
   "source": [
    "### Dimensionality Reduction\n",
    "\n",
    "[Dimensionality reduction](https://www.analyticsvidhya.com/blog/2015/07/dimension-reduction-methods/) refers to (approximately) reducing the number of features we use in our model."
   ]
  },
  {
   "cell_type": "markdown",
   "metadata": {},
   "source": [
    "<details><summary>Dimensionality reduction has a number of advantages:</summary>\n",
    "\n",
    "- Increases computational efficiency when fitting models.\n",
    "- Can help with addressing a multicollinearity problem.\n",
    "- Makes visualization simpler (or feasible).\n",
    "</details>"
   ]
  },
  {
   "cell_type": "markdown",
   "metadata": {},
   "source": [
    "<details><summary>Dimensionality reduction can suffer from some drawbacks, though:</summary>\n",
    "\n",
    "- We've invested our time and money into collecting information... why do we want to get rid of it?\n",
    "</details>"
   ]
  },
  {
   "cell_type": "markdown",
   "metadata": {},
   "source": [
    "### Is there a way to get the advantages of dimensionality reduction while minimizing the drawbacks?\n",
    "\n",
    "Dimensionality reduction can generally be broken down into one of two categories:\n",
    "- **Feature Elimination**\n",
    "    - In feature elimination, we drop variables from our model.\n",
    "- **Feature Extraction**\n",
    "    - In feature extraction, we take our existing features and combine them together in a particular way. We can then drop some of these \"new\" variables, but the variables we keep are still a combination of the old variables!\n",
    "    - This allows us to still reduce the number of features in our model **but** we can keep all of the most important pieces of the original features!\n",
    "\n",
    "### $$\n",
    "\\begin{eqnarray*}\n",
    "X_1, \\ldots, X_p &\\Rightarrow& Z_1, \\ldots, Z_p \\\\\n",
    "\\\\\n",
    "\\text{most important: }Z_1 &=& w_{1,1}X_1 + w_{1,2}X_2 + \\cdots + w_{1,p}X_p \\\\\n",
    "\\text{slightly less important: }Z_2 &=& w_{2,1}X_1 + w_{2,2}X_2 + \\cdots + w_{2,p}X_p \\\\\n",
    "&\\vdots&\\\\\n",
    "\\text{least important: }Z_p &=& w_{p,1}X_1 + w_{p,2}X_2 + \\cdots + w_{p,p}X_p \\\\\n",
    "\\end{eqnarray*}\n",
    "$$\n",
    "\n",
    "- We don't usually care about the values of weights here. They aren't very meaningful and we don't try to interpret them.\n",
    "- You can think of $Z_1$ as a \"high performance\" predictor, where $Z_1$ has all of the best pieces of our original predictors $X_1$ through $X_p$.\n",
    "- As we move down the list toward $Z_p$, the variables will consist of the more \"redundant\" parts of our $X$ variables. \n",
    "- You can think of $Z_p$ as a \"low performance\" predictor.\n",
    "\n",
    "I like to use a feast or buffet analogy here."
   ]
  },
  {
   "cell_type": "markdown",
   "metadata": {},
   "source": [
    "<details><summary>If I'm going to keep three of my new predictors, which three would I keep?</summary>\n",
    "    \n",
    "- The first three: $Z_1$, $Z_2$, and $Z_3$.\n",
    "- This is where feature extraction comes into play! You can think of $Z_1$, $Z_2$, and $Z_3$ as having takena three-dimensional representation\n",
    "</details>"
   ]
  },
  {
   "cell_type": "markdown",
   "metadata": {},
   "source": [
    "Dimensionality reduction can be used as an exploratory/unsupervised learning method or as a pre-processing step for supervised learning later.\n",
    "\n",
    "**Principal component analysis** is a method used for feature extraction."
   ]
  },
  {
   "cell_type": "markdown",
   "metadata": {},
   "source": [
    "<details><summary>How would you describe the difference between feature elimination and feature extraction?</summary>\n",
    "\n",
    "- Feature elimination is a process of dropping original features from our model.\n",
    "- Feature extraction is a process of transforming our original features into \"new\" features, then dropping some of the \"new\" features from our model.\n",
    "</details>"
   ]
  },
  {
   "cell_type": "markdown",
   "metadata": {},
   "source": [
    "## Principal Component Analysis\n",
    "\n",
    "### Big picture, what is PCA doing?\n",
    "1. We are going to look at how all of the $X$ variables relate to one another and summarize these relationships.\n",
    "2. Then, we will take this summary and look at which combinations of our $X$ variables are most important.\n",
    "3. We can also quantify how important each combination is and rank these combinations.\n",
    "\n",
    "Once we've taken our original $X$ data and transformed it into $Z$, we can then drop the columns of $Z$ that are \"least important.\""
   ]
  },
  {
   "cell_type": "markdown",
   "metadata": {},
   "source": [
    "**Essentially...**\n",
    "\n",
    "- PCA finds *linear combinations* of current predictor variables that...\n",
    "- create new \"principal components,\" where these principal components explain...\n",
    "- the maximum possible amount of variance in your predictors.\n",
    "\n",
    "$$ Z_1 = w_{1,1}X_1 + w_{1,2}X_2 + \\cdots + w_{1,p}X_p $$\n",
    "\n",
    "$$ Z_2 = w_{2,1}X_1 + w_{2,2}X_2 + \\cdots + w_{2,p}X_p $$\n",
    "\n",
    "$$\\vdots$$\n",
    "\n",
    "$$ Z_p = w_{p,1}X_1 + w_{p,2}X_2 + \\cdots + w_{p,p}X_p $$\n",
    "\n",
    "This is cool because...\n",
    "\n",
    "- $Z_1$ explains more variability in our $X$ data than $Z_2$, which explains more variability in our $X$ data than $Z_3$, and so on.\n",
    "- $Z_1$, $Z_2$, $Z_3$, $\\ldots$ are *uncorrelated* with one another.\n",
    "\n",
    "---\n",
    "\n",
    "**Visually...**\n",
    "\n",
    "> Think of our data floating out in $p$-dimensional space. Each observation is a dot and you can imagine this massive cloud of dots that exists somewhere. PCA is a way to rotate this cloud of dots (formally, a [coordinate transformation](http://farside.ph.utexas.edu/teaching/336k/Newtonhtml/node153.html)). The old axes are the original $X_1$, $X_2$, $\\ldots$ features. **The new axes are the principal components from PCA**.\n",
    "\n",
    "The principal components are the most concise, informative descriptors of our data as a whole.\n",
    "- What does this mean?\n",
    "- If we wanted to take our full data set and condense it into one dimension (think like our $X$ axis), we'd only use $Z_1$.\n",
    "- If we wanted to take our full data set and condense it into two dimensions (think like our $X$ and $Y$ axes), we'd use $Z_1$ and $Z_2$.\n",
    "\n",
    "Let's head to [this site](http://setosa.io/ev/principal-component-analysis/). Play around with the 2D data. Take 2-3 minutes.\n",
    "1. As you interact with the data, how would you describe the red line?\n",
    "2. As you interact with the data, how would you describe the green line?\n",
    "\n",
    "---\n",
    "\n",
    "### Principal Components\n",
    "\n",
    "- We are looking for new *directions*. ([Insert Glee joke here](https://glee.fandom.com/wiki/New_Directions).)\n",
    "- Each consecutive direction tries to explain the maximum *remaining variance* in our $X$ data.\n",
    "- Each direction is *orthogonal* to all the others.\n",
    "\n",
    "**These new *directions* are the \"principal components.\"**\n",
    "\n",
    "> Applying PCA to your data *transforms* your original data columns (variables) onto the new principal component axes.\n"
   ]
  },
  {
   "cell_type": "markdown",
   "metadata": {},
   "source": [
    "### Two notes:\n",
    "\n",
    "1. You will do your train/test split **before** applying PCA!\n",
    "2. Standardize our data **before** applying PCA!"
   ]
  },
  {
   "cell_type": "code",
   "execution_count": 21,
   "metadata": {},
   "outputs": [],
   "source": [
    "# Instantiate our StandardScaler.\n",
    "ss = StandardScaler()\n",
    "\n",
    "# Scale X_train.\n",
    "X_train = ss.fit_transform(X_train)\n",
    "\n",
    "# Scale X_test.\n",
    "X_test = ss.transform(X_test)"
   ]
  },
  {
   "cell_type": "code",
   "execution_count": 22,
   "metadata": {},
   "outputs": [],
   "source": [
    "# Import PCA.\n",
    "from sklearn.decomposition import PCA"
   ]
  },
  {
   "cell_type": "markdown",
   "metadata": {},
   "source": [
    "#### (BONUS) Why decomposition?\n",
    "The way PCA works \"under the hood\" is it takes one matrix and **decomposes** that matrix into multiple matrices.\n",
    "\n",
    "Written out, we might take some matrix $\\mathbf{A}$ and break it down into matrices $\\mathbf{B}$ and $\\mathbf{C}$ like this:\n",
    "\n",
    "$$\n",
    "\\begin{eqnarray*}\n",
    "\\mathbf{A} &=& \\mathbf{B}\\mathbf{C}\n",
    "\\end{eqnarray*}\n",
    "$$\n",
    "\n",
    "This might seem like a silly thing to do, but it actually can be **very** computationally appealing! Check out [the Wikipedia article](https://en.wikipedia.org/wiki/Matrix_decomposition) for a list of 100+ ways to decompose matrices.\n",
    "- The specific method of decomposition commonly used for PCA is known as the [eigendecomposition](https://en.wikipedia.org/wiki/Eigendecomposition_of_a_matrix) or spectral decomposition of a matrix."
   ]
  },
  {
   "cell_type": "code",
   "execution_count": 23,
   "metadata": {},
   "outputs": [],
   "source": [
    "# Instantiate PCA.\n",
    "pca = PCA()"
   ]
  },
  {
   "cell_type": "code",
   "execution_count": 24,
   "metadata": {},
   "outputs": [
    {
     "data": {
      "text/plain": [
       "PCA(copy=True, iterated_power='auto', n_components=None, random_state=None,\n",
       "    svd_solver='auto', tol=0.0, whiten=False)"
      ]
     },
     "execution_count": 24,
     "metadata": {},
     "output_type": "execute_result"
    }
   ],
   "source": [
    "# Fit PCA on the training data.\n",
    "pca.fit(X_train)"
   ]
  },
  {
   "cell_type": "code",
   "execution_count": 25,
   "metadata": {},
   "outputs": [],
   "source": [
    "# Transform PCA on the training data.\n",
    "Z_train = pca.transform(X_train)"
   ]
  },
  {
   "cell_type": "code",
   "execution_count": 26,
   "metadata": {},
   "outputs": [
    {
     "data": {
      "text/html": [
       "<div>\n",
       "<style scoped>\n",
       "    .dataframe tbody tr th:only-of-type {\n",
       "        vertical-align: middle;\n",
       "    }\n",
       "\n",
       "    .dataframe tbody tr th {\n",
       "        vertical-align: top;\n",
       "    }\n",
       "\n",
       "    .dataframe thead th {\n",
       "        text-align: right;\n",
       "    }\n",
       "</style>\n",
       "<table border=\"1\" class=\"dataframe\">\n",
       "  <thead>\n",
       "    <tr style=\"text-align: right;\">\n",
       "      <th></th>\n",
       "      <th>0</th>\n",
       "      <th>1</th>\n",
       "      <th>2</th>\n",
       "      <th>3</th>\n",
       "      <th>4</th>\n",
       "      <th>5</th>\n",
       "      <th>6</th>\n",
       "      <th>7</th>\n",
       "      <th>8</th>\n",
       "      <th>9</th>\n",
       "      <th>...</th>\n",
       "      <th>354</th>\n",
       "      <th>355</th>\n",
       "      <th>356</th>\n",
       "      <th>357</th>\n",
       "      <th>358</th>\n",
       "      <th>359</th>\n",
       "      <th>360</th>\n",
       "      <th>361</th>\n",
       "      <th>362</th>\n",
       "      <th>363</th>\n",
       "    </tr>\n",
       "  </thead>\n",
       "  <tbody>\n",
       "    <tr>\n",
       "      <th>count</th>\n",
       "      <td>4.352000e+03</td>\n",
       "      <td>4.352000e+03</td>\n",
       "      <td>4.352000e+03</td>\n",
       "      <td>4.352000e+03</td>\n",
       "      <td>4.352000e+03</td>\n",
       "      <td>4.352000e+03</td>\n",
       "      <td>4.352000e+03</td>\n",
       "      <td>4.352000e+03</td>\n",
       "      <td>4.352000e+03</td>\n",
       "      <td>4.352000e+03</td>\n",
       "      <td>...</td>\n",
       "      <td>4.352000e+03</td>\n",
       "      <td>4.352000e+03</td>\n",
       "      <td>4.352000e+03</td>\n",
       "      <td>4.352000e+03</td>\n",
       "      <td>4.352000e+03</td>\n",
       "      <td>4.352000e+03</td>\n",
       "      <td>4.352000e+03</td>\n",
       "      <td>4.352000e+03</td>\n",
       "      <td>4.352000e+03</td>\n",
       "      <td>4.352000e+03</td>\n",
       "    </tr>\n",
       "    <tr>\n",
       "      <th>mean</th>\n",
       "      <td>2.914335e-16</td>\n",
       "      <td>-2.558462e-16</td>\n",
       "      <td>1.020426e-16</td>\n",
       "      <td>-4.061294e-17</td>\n",
       "      <td>9.464447e-18</td>\n",
       "      <td>-2.045953e-17</td>\n",
       "      <td>-4.336809e-18</td>\n",
       "      <td>-5.938877e-17</td>\n",
       "      <td>6.709298e-17</td>\n",
       "      <td>1.673498e-17</td>\n",
       "      <td>...</td>\n",
       "      <td>9.910113e-18</td>\n",
       "      <td>-4.515030e-17</td>\n",
       "      <td>-6.695954e-18</td>\n",
       "      <td>2.108467e-17</td>\n",
       "      <td>-2.065392e-17</td>\n",
       "      <td>9.361526e-18</td>\n",
       "      <td>3.821082e-18</td>\n",
       "      <td>1.801473e-17</td>\n",
       "      <td>5.774076e-17</td>\n",
       "      <td>3.920119e-26</td>\n",
       "    </tr>\n",
       "    <tr>\n",
       "      <th>std</th>\n",
       "      <td>1.059077e+01</td>\n",
       "      <td>8.173139e+00</td>\n",
       "      <td>6.290206e+00</td>\n",
       "      <td>5.899809e+00</td>\n",
       "      <td>4.755777e+00</td>\n",
       "      <td>4.187379e+00</td>\n",
       "      <td>3.663482e+00</td>\n",
       "      <td>3.519570e+00</td>\n",
       "      <td>2.952624e+00</td>\n",
       "      <td>2.382871e+00</td>\n",
       "      <td>...</td>\n",
       "      <td>3.324420e-07</td>\n",
       "      <td>2.824236e-07</td>\n",
       "      <td>2.473689e-07</td>\n",
       "      <td>1.937117e-07</td>\n",
       "      <td>1.745561e-07</td>\n",
       "      <td>1.617731e-07</td>\n",
       "      <td>1.377643e-07</td>\n",
       "      <td>9.470085e-08</td>\n",
       "      <td>2.940241e-08</td>\n",
       "      <td>3.084790e-16</td>\n",
       "    </tr>\n",
       "    <tr>\n",
       "      <th>min</th>\n",
       "      <td>-2.652547e+01</td>\n",
       "      <td>-1.274783e+01</td>\n",
       "      <td>-2.469224e+01</td>\n",
       "      <td>-4.787008e+01</td>\n",
       "      <td>-2.255302e+01</td>\n",
       "      <td>-2.058849e+01</td>\n",
       "      <td>-2.871649e+01</td>\n",
       "      <td>-1.818558e+01</td>\n",
       "      <td>-1.423366e+01</td>\n",
       "      <td>-2.376801e+01</td>\n",
       "      <td>...</td>\n",
       "      <td>-3.023989e-06</td>\n",
       "      <td>-2.779914e-06</td>\n",
       "      <td>-1.989357e-06</td>\n",
       "      <td>-1.760353e-06</td>\n",
       "      <td>-1.692596e-06</td>\n",
       "      <td>-1.716397e-06</td>\n",
       "      <td>-1.619285e-06</td>\n",
       "      <td>-8.943172e-07</td>\n",
       "      <td>-2.324601e-07</td>\n",
       "      <td>-7.468380e-15</td>\n",
       "    </tr>\n",
       "    <tr>\n",
       "      <th>25%</th>\n",
       "      <td>-7.399924e+00</td>\n",
       "      <td>-5.048388e+00</td>\n",
       "      <td>-4.000986e+00</td>\n",
       "      <td>-3.001194e+00</td>\n",
       "      <td>-2.383840e+00</td>\n",
       "      <td>-2.356163e+00</td>\n",
       "      <td>-2.189302e+00</td>\n",
       "      <td>-2.283286e+00</td>\n",
       "      <td>-1.858204e+00</td>\n",
       "      <td>-1.434927e+00</td>\n",
       "      <td>...</td>\n",
       "      <td>-1.378026e-07</td>\n",
       "      <td>-9.565181e-08</td>\n",
       "      <td>-1.013028e-07</td>\n",
       "      <td>-7.476632e-08</td>\n",
       "      <td>-6.683678e-08</td>\n",
       "      <td>-6.463550e-08</td>\n",
       "      <td>-4.998106e-08</td>\n",
       "      <td>-3.541248e-08</td>\n",
       "      <td>-1.156609e-08</td>\n",
       "      <td>-7.859317e-17</td>\n",
       "    </tr>\n",
       "    <tr>\n",
       "      <th>50%</th>\n",
       "      <td>-1.779810e+00</td>\n",
       "      <td>-1.784668e+00</td>\n",
       "      <td>-6.808596e-01</td>\n",
       "      <td>-6.803642e-02</td>\n",
       "      <td>-4.819930e-02</td>\n",
       "      <td>-7.350413e-02</td>\n",
       "      <td>-1.303354e-01</td>\n",
       "      <td>-1.860893e-01</td>\n",
       "      <td>1.402668e-01</td>\n",
       "      <td>-7.198744e-02</td>\n",
       "      <td>...</td>\n",
       "      <td>1.628219e-08</td>\n",
       "      <td>1.037889e-08</td>\n",
       "      <td>-9.718861e-09</td>\n",
       "      <td>3.965882e-09</td>\n",
       "      <td>3.880114e-10</td>\n",
       "      <td>-1.324978e-09</td>\n",
       "      <td>6.129295e-10</td>\n",
       "      <td>2.191272e-09</td>\n",
       "      <td>4.248709e-10</td>\n",
       "      <td>1.950243e-17</td>\n",
       "    </tr>\n",
       "    <tr>\n",
       "      <th>75%</th>\n",
       "      <td>6.595688e+00</td>\n",
       "      <td>2.770390e+00</td>\n",
       "      <td>3.760017e+00</td>\n",
       "      <td>3.103933e+00</td>\n",
       "      <td>2.411031e+00</td>\n",
       "      <td>2.287913e+00</td>\n",
       "      <td>1.959506e+00</td>\n",
       "      <td>2.180386e+00</td>\n",
       "      <td>1.909862e+00</td>\n",
       "      <td>1.358250e+00</td>\n",
       "      <td>...</td>\n",
       "      <td>1.393233e-07</td>\n",
       "      <td>1.054804e-07</td>\n",
       "      <td>1.014314e-07</td>\n",
       "      <td>7.356252e-08</td>\n",
       "      <td>6.753657e-08</td>\n",
       "      <td>5.911348e-08</td>\n",
       "      <td>4.857960e-08</td>\n",
       "      <td>3.957595e-08</td>\n",
       "      <td>1.240289e-08</td>\n",
       "      <td>1.172730e-16</td>\n",
       "    </tr>\n",
       "    <tr>\n",
       "      <th>max</th>\n",
       "      <td>9.524253e+01</td>\n",
       "      <td>1.149057e+02</td>\n",
       "      <td>8.074751e+01</td>\n",
       "      <td>1.338557e+02</td>\n",
       "      <td>7.609410e+01</td>\n",
       "      <td>3.965114e+01</td>\n",
       "      <td>3.559624e+01</td>\n",
       "      <td>5.628123e+01</td>\n",
       "      <td>1.936733e+01</td>\n",
       "      <td>2.458697e+01</td>\n",
       "      <td>...</td>\n",
       "      <td>4.492273e-06</td>\n",
       "      <td>4.635209e-06</td>\n",
       "      <td>3.338466e-06</td>\n",
       "      <td>2.044531e-06</td>\n",
       "      <td>2.028879e-06</td>\n",
       "      <td>1.779281e-06</td>\n",
       "      <td>1.906753e-06</td>\n",
       "      <td>1.092489e-06</td>\n",
       "      <td>4.183708e-07</td>\n",
       "      <td>1.523538e-15</td>\n",
       "    </tr>\n",
       "  </tbody>\n",
       "</table>\n",
       "<p>8 rows × 364 columns</p>\n",
       "</div>"
      ],
      "text/plain": [
       "                0             1             2             3             4    \\\n",
       "count  4.352000e+03  4.352000e+03  4.352000e+03  4.352000e+03  4.352000e+03   \n",
       "mean   2.914335e-16 -2.558462e-16  1.020426e-16 -4.061294e-17  9.464447e-18   \n",
       "std    1.059077e+01  8.173139e+00  6.290206e+00  5.899809e+00  4.755777e+00   \n",
       "min   -2.652547e+01 -1.274783e+01 -2.469224e+01 -4.787008e+01 -2.255302e+01   \n",
       "25%   -7.399924e+00 -5.048388e+00 -4.000986e+00 -3.001194e+00 -2.383840e+00   \n",
       "50%   -1.779810e+00 -1.784668e+00 -6.808596e-01 -6.803642e-02 -4.819930e-02   \n",
       "75%    6.595688e+00  2.770390e+00  3.760017e+00  3.103933e+00  2.411031e+00   \n",
       "max    9.524253e+01  1.149057e+02  8.074751e+01  1.338557e+02  7.609410e+01   \n",
       "\n",
       "                5             6             7             8             9    \\\n",
       "count  4.352000e+03  4.352000e+03  4.352000e+03  4.352000e+03  4.352000e+03   \n",
       "mean  -2.045953e-17 -4.336809e-18 -5.938877e-17  6.709298e-17  1.673498e-17   \n",
       "std    4.187379e+00  3.663482e+00  3.519570e+00  2.952624e+00  2.382871e+00   \n",
       "min   -2.058849e+01 -2.871649e+01 -1.818558e+01 -1.423366e+01 -2.376801e+01   \n",
       "25%   -2.356163e+00 -2.189302e+00 -2.283286e+00 -1.858204e+00 -1.434927e+00   \n",
       "50%   -7.350413e-02 -1.303354e-01 -1.860893e-01  1.402668e-01 -7.198744e-02   \n",
       "75%    2.287913e+00  1.959506e+00  2.180386e+00  1.909862e+00  1.358250e+00   \n",
       "max    3.965114e+01  3.559624e+01  5.628123e+01  1.936733e+01  2.458697e+01   \n",
       "\n",
       "       ...           354           355           356           357  \\\n",
       "count  ...  4.352000e+03  4.352000e+03  4.352000e+03  4.352000e+03   \n",
       "mean   ...  9.910113e-18 -4.515030e-17 -6.695954e-18  2.108467e-17   \n",
       "std    ...  3.324420e-07  2.824236e-07  2.473689e-07  1.937117e-07   \n",
       "min    ... -3.023989e-06 -2.779914e-06 -1.989357e-06 -1.760353e-06   \n",
       "25%    ... -1.378026e-07 -9.565181e-08 -1.013028e-07 -7.476632e-08   \n",
       "50%    ...  1.628219e-08  1.037889e-08 -9.718861e-09  3.965882e-09   \n",
       "75%    ...  1.393233e-07  1.054804e-07  1.014314e-07  7.356252e-08   \n",
       "max    ...  4.492273e-06  4.635209e-06  3.338466e-06  2.044531e-06   \n",
       "\n",
       "                358           359           360           361           362  \\\n",
       "count  4.352000e+03  4.352000e+03  4.352000e+03  4.352000e+03  4.352000e+03   \n",
       "mean  -2.065392e-17  9.361526e-18  3.821082e-18  1.801473e-17  5.774076e-17   \n",
       "std    1.745561e-07  1.617731e-07  1.377643e-07  9.470085e-08  2.940241e-08   \n",
       "min   -1.692596e-06 -1.716397e-06 -1.619285e-06 -8.943172e-07 -2.324601e-07   \n",
       "25%   -6.683678e-08 -6.463550e-08 -4.998106e-08 -3.541248e-08 -1.156609e-08   \n",
       "50%    3.880114e-10 -1.324978e-09  6.129295e-10  2.191272e-09  4.248709e-10   \n",
       "75%    6.753657e-08  5.911348e-08  4.857960e-08  3.957595e-08  1.240289e-08   \n",
       "max    2.028879e-06  1.779281e-06  1.906753e-06  1.092489e-06  4.183708e-07   \n",
       "\n",
       "                363  \n",
       "count  4.352000e+03  \n",
       "mean   3.920119e-26  \n",
       "std    3.084790e-16  \n",
       "min   -7.468380e-15  \n",
       "25%   -7.859317e-17  \n",
       "50%    1.950243e-17  \n",
       "75%    1.172730e-16  \n",
       "max    1.523538e-15  \n",
       "\n",
       "[8 rows x 364 columns]"
      ]
     },
     "execution_count": 26,
     "metadata": {},
     "output_type": "execute_result"
    }
   ],
   "source": [
    "# Let's check out the resulting data.\n",
    "pd.DataFrame(Z_train).describe()"
   ]
  },
  {
   "cell_type": "code",
   "execution_count": 27,
   "metadata": {},
   "outputs": [],
   "source": [
    "# Don't forget to transform the test data!\n",
    "Z_test = pca.transform(X_test)"
   ]
  },
  {
   "cell_type": "markdown",
   "metadata": {},
   "source": [
    "### So, like, big picture, what is PCA doing?\n",
    "Well, we're transforming our data. Specifically, we are:\n",
    "1. We are going to look at how all of the $X$ variables relate to one another, then summarize these relationships. (This is done with the **covariance matrix**.)\n",
    "2. Then, we will take this summary and look at which combinations of our $X$ variables are most important. (We will decompose our covariance matrix into its **eigenvectors**, which is a linear algebra term that allows us to understand the most important \"directions\" in our data, which are our principal components!)\n",
    "3. We can also see exactly how important each combination is, then rank these combinations. (With each eigenvector, we get an **eigenvalue**. This eigenvalue is a number that tells us how important each \"direction\" or principal component is.)\n",
    "    - Want a better understanding of eigenvectors and eigenvalues? [Check this 3Blue1Brown video out!](https://www.youtube.com/watch?v=PFDu9oVAE-g)\n",
    "\n",
    "Remember that one of our goals with PCA is to do dimensionality reduction (a.k.a. get rid of features).\n",
    "\n",
    "We can: \n",
    "- measure how important each principal component is using the eigenvalue, \n",
    "- rank the columns of `Z_train` by their eigenvalues,\n",
    "- then drop the columns with small eigenvalues (little importance) but keep the columns with big eigenvalues (very important).\n",
    "    - In `sklearn`, when transformed by PCA, the columns will already be sorted by their eigenvalues from biggest to smallest! The first column will be the most important, the second column will be the next most important, and so on.\n",
    "\n",
    "#### But how many features do we discard?\n",
    "\n",
    "A useful measure is the **proportion of explained variance**, which is calculated from the **eigenvalues**. \n",
    "\n",
    "The explained variance tells us how much information (variance) is captured by each principal component.\n",
    "\n",
    "### $$ \\text{explained variance of }PC_k = \\bigg(\\frac{\\text{eigenvalue of } PC_k}{\\sum_{i=1}^p\\text{eigenvalue of } PC_i}\\bigg)$$\n",
    "\n",
    "Rather than write out \"$\\text{eigenvalue of } PC_k$\", we usually just write $\\lambda_k$.\n",
    "\n",
    "If I want to calculate the proportion of explained variance by retaining $PC_1$ and $PC_2$, I would calculate this as:\n",
    "\n",
    "### $$ \\text{explained variance of } PC_1 \\text{ and } PC_2 = \\bigg(\\frac{\\lambda_1 + \\lambda_2}{\\sum_{i=1}^p \\lambda_i} \\bigg)$$"
   ]
  },
  {
   "cell_type": "code",
   "execution_count": 28,
   "metadata": {},
   "outputs": [
    {
     "name": "stdout",
     "output_type": "stream",
     "text": [
      "Explained variance (first 20 components): [0.309 0.184 0.109 0.096 0.062 0.048 0.037 0.034 0.024 0.016 0.013 0.011\n",
      " 0.009 0.006 0.004 0.003 0.003 0.003 0.003 0.002]\n",
      "\n",
      "Cumulative explained variance (first 20 components): [0.309 0.493 0.602 0.698 0.76  0.808 0.845 0.879 0.903 0.919 0.932 0.943\n",
      " 0.952 0.958 0.962 0.966 0.969 0.972 0.975 0.977]\n"
     ]
    }
   ],
   "source": [
    "# Pull the explained variance attribute.\n",
    "var_exp = pca.explained_variance_ratio_\n",
    "print(f'Explained variance (first 20 components): {np.round(var_exp[:20],3)}')\n",
    "\n",
    "print('')\n",
    "\n",
    "# Generate the cumulative explained variance.\n",
    "cum_var_exp = np.cumsum(var_exp)\n",
    "print(f'Cumulative explained variance (first 20 components): {np.round(cum_var_exp[:20],3)}')"
   ]
  },
  {
   "cell_type": "markdown",
   "metadata": {},
   "source": [
    "<details><summary>Check: If I wanted to explain at least 80% of the variability in my data with principal components, what is the smallest number of principal components that I would need to keep? </summary>\n",
    "\n",
    "- Only six! \n",
    "- I could keep $Z_1, Z_2, \\ldots, Z_6$ in my model, and this would explain 80.833% of the variability in my $X$ data.\n",
    "</details>"
   ]
  },
  {
   "cell_type": "code",
   "execution_count": 29,
   "metadata": {},
   "outputs": [
    {
     "data": {
      "image/png": "[encoded data removed]",
      "text/plain": [
       "<Figure size 864x576 with 1 Axes>"
      ]
     },
     "metadata": {
      "needs_background": "light"
     },
     "output_type": "display_data"
    }
   ],
   "source": [
    "# Plot the variance explained (and cumulative variance explained).\n",
    "\n",
    "# Set figure size.\n",
    "plt.figure(figsize=(12,8))\n",
    "\n",
    "# Plot the explained variance.\n",
    "plt.plot(range(len(var_exp)), var_exp, lw=3, label = 'Variance Explained')\n",
    "\n",
    "# Plot the cumulative explained variance.\n",
    "plt.plot(range(len(var_exp)), cum_var_exp, lw=3, color = 'orange', label = 'Cumulative Variance Explained')\n",
    "\n",
    "# Add horizontal lines at y=0 and y=1.\n",
    "plt.axhline(y=0, linewidth=1, color='grey', ls='dashed')\n",
    "plt.axhline(y=1, linewidth=1, color='grey', ls='dashed')\n",
    "\n",
    "# Set the limits of the axes.\n",
    "plt.xlim([-1,21])\n",
    "plt.ylim([-0.01,1.01])\n",
    "\n",
    "# Label the axes.\n",
    "plt.ylabel('Variance Explained', fontsize=20)\n",
    "plt.xlabel('Principal Component', fontsize=20)\n",
    "\n",
    "# Make the tick labels bigger\n",
    "plt.xticks(range(0, 21, 5), range(1, 22, 5), fontsize=12)\n",
    "plt.yticks(fontsize=12)\n",
    "    \n",
    "# Add title and legend.\n",
    "plt.title('Component vs. Variance Explained', fontsize=24)\n",
    "plt.legend(fontsize=11);"
   ]
  },
  {
   "cell_type": "markdown",
   "metadata": {},
   "source": [
    "## Let's compare our PCA'ed performance to our original performance!\n",
    "\n",
    "#### Original performance:"
   ]
  },
  {
   "cell_type": "code",
   "execution_count": 30,
   "metadata": {},
   "outputs": [
    {
     "name": "stdout",
     "output_type": "stream",
     "text": [
      "Training Score: 0.4616.\n",
      "Testing Score: -0.7413.\n"
     ]
    }
   ],
   "source": [
    "# Instantiate linear regression model.\n",
    "lm = LinearRegression()\n",
    "lm.fit(X_train, y_train)\n",
    "\n",
    "# Score on training and testing sets.\n",
    "print(f'Training Score: {round(lm.score(X_train, y_train),4)}.')\n",
    "print(f'Testing Score: {round(lm.score(X_test, y_test),4)}.')"
   ]
  },
  {
   "cell_type": "markdown",
   "metadata": {},
   "source": [
    "<details><summary>What's going on here?!</summary>\n",
    "    \n",
    "- This model is really, really bad. \n",
    "- It's so overfit that our test $R^2$ is negative!\n",
    "- When our test $R^2$ is negative, this means that our predicted values $\\hat{Y}$ are worse than if we simply predicted the average $Y$ value from our test set.\n",
    "</details>"
   ]
  },
  {
   "cell_type": "markdown",
   "metadata": {},
   "source": [
    "#### Principal Component Regression performance:"
   ]
  },
  {
   "cell_type": "code",
   "execution_count": 31,
   "metadata": {},
   "outputs": [
    {
     "data": {
      "text/plain": [
       "PCA(copy=True, iterated_power='auto', n_components=10, random_state=None,\n",
       "    svd_solver='auto', tol=0.0, whiten=False)"
      ]
     },
     "execution_count": 31,
     "metadata": {},
     "output_type": "execute_result"
    }
   ],
   "source": [
    "# Instantiate PCA with 10 components.\n",
    "pca = PCA(n_components = 10)\n",
    "\n",
    "# Fit PCA to training data.\n",
    "pca.fit(X_train)"
   ]
  },
  {
   "cell_type": "code",
   "execution_count": 33,
   "metadata": {},
   "outputs": [
    {
     "name": "stdout",
     "output_type": "stream",
     "text": [
      "Training Score: 0.2902\n",
      "Testing Score: 0.2639\n"
     ]
    }
   ],
   "source": [
    "# Instantiate linear regression model.\n",
    "lm = LinearRegression()\n",
    "\n",
    "# Transform Z_train and Z_test.\n",
    "Z_train = pca.transform(X_train)\n",
    "Z_test = pca.transform(X_test)\n",
    "\n",
    "# Fit on Z_train.\n",
    "lm.fit(Z_train, y_train)\n",
    "\n",
    "# Score on training and testing sets.\n",
    "print(f'Training Score: {round(lm.score(Z_train, y_train),4)}')\n",
    "print(f'Testing Score: {round(lm.score(Z_test, y_test),4)}')"
   ]
  },
  {
   "cell_type": "markdown",
   "metadata": {},
   "source": [
    "Our final model here is:\n",
    "\n",
    "$$\n",
    "\\begin{eqnarray*}\n",
    "[\\text{quality}] &=& \\beta_0 + \\beta_1Z_1 + \\beta_2Z_2 + \\cdots + \\beta_{10}Z_{10} \\\\\n",
    "\\\\\n",
    "\\text{where } Z_1 &=& \\gamma_1X_1 + \\gamma_2X_2 + \\gamma_3X_3 + \\cdots \\gamma_pX_p \\\\\n",
    "\\text{and } Z_2 &=& \\delta_1X_1 + \\delta_2X_2 + \\delta_3X_3 + \\cdots \\delta_pX_p \\\\\n",
    "&\\vdots& \\\\\n",
    "\\text{and } Z_{10} &=& \\eta_1X_1 + \\eta_2X_2 + \\eta_3X_3 + \\cdots \\eta_pX_p \\\\\n",
    "\\end{eqnarray*}\n",
    "$$"
   ]
  },
  {
   "cell_type": "markdown",
   "metadata": {},
   "source": [
    "**Two assumptions that PCA makes:**\n",
    "1. **Linearity:** PCA detects and controls for linear relationships, so we assume that the data does not hold nonlinear relationships (or that we don't care about these nonlinear relationships).\n",
    "    - We are using our covariance matrix to determine important \"directions,\" which is a measure of the linear relationship between observations!\n",
    "    - There are other types of feature extraction like [t-SNE](https://lvdmaaten.github.io/tsne/) and [PPA](https://towardsdatascience.com/interesting-projections-where-pca-fails-fe64ddca73e6), though we won't formally cover those in a global lesson.\n",
    "    \n",
    "    \n",
    "2. **Large variances define importance:** If data is spread in a direction, that direction is important! If there is little spread in a direction, that direction is not very important.\n",
    "    - That aligns with what we saw [here](http://setosa.io/ev/principal-component-analysis/)."
   ]
  },
  {
   "cell_type": "markdown",
   "metadata": {},
   "source": [
    "### Potential Use Cases for PCA\n",
    "- Situations where $p \\not\\ll n$. (Situations where $p$ is not substantially smaller than $n$.)\n",
    "- Situations in which there are variables with high multicollinearity. (Can be traditional models or models with highly correlated inputs by design, like images.)\n",
    "- Situations in which there are many variables, even without explicit multicollinearity."
   ]
  },
  {
   "cell_type": "markdown",
   "metadata": {},
   "source": [
    "### Interview Questions"
   ]
  },
  {
   "cell_type": "markdown",
   "metadata": {},
   "source": [
    "<details><summary>Explain PCA to me.</summary>\n",
    "\n",
    "- Principal component analysis is a method of dimensionality reduction that **identifies important relationships** in our data, **transforms the existing data** based on these relationships, and then **quantifies the importance** of these relationships so we can keep the most important relationships and drop the others!\n",
    "\n",
    "<details><summary>How can I remember the above?</summary>\n",
    "\n",
    "Matt's \"Three Signposts:\"\n",
    "- Covariance Matrix\n",
    "- Eigenvectors\n",
    "- Eigenvalues\n",
    "</details>\n",
    "</details>"
   ]
  },
  {
   "cell_type": "markdown",
   "metadata": {},
   "source": [
    "<details><summary>In what cases would I not use PCA?</summary>\n",
    "\n",
    "- Since PCA distorts the interpretability of our features, we should not use PCA if our goal is to interpret the output of our model.\n",
    "- If we have relatively few features as inputs, PCA is unlikely to have a large positive impact on our model.\n",
    "</details>"
   ]
  },
  {
   "cell_type": "markdown",
   "metadata": {},
   "source": [
    "### LEARNING OBJECTIVES\n",
    "By the end of the lesson, students should be able to:\n",
    "1. Differentiate between feature elimination and feature extraction.\n",
    "2. Describe the PCA algorithm.\n",
    "3. Implement PCA in `scikit-learn`.\n",
    "4. Calculate and interpret proportion of explained variance.\n",
    "5. Identify use cases for PCA."
   ]
  }
 ],
 "metadata": {
  "kernelspec": {
   "display_name": "Python 3",
   "language": "python",
   "name": "python3"
  },
  "language_info": {
   "codemirror_mode": {
    "name": "ipython",
    "version": 3
   },
   "file_extension": ".py",
   "mimetype": "text/x-python",
   "name": "python",
   "nbconvert_exporter": "python",
   "pygments_lexer": "ipython3",
   "version": "3.7.3"
  }
 },
 "nbformat": 4,
 "nbformat_minor": 2
}
