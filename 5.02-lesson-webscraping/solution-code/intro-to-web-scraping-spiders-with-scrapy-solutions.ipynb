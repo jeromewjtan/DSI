{
 "cells": [
  {
   "cell_type": "markdown",
   "metadata": {},
   "source": [
    "<img src=\"http://imgur.com/1ZcRyrc.png\" style=\"float: left; margin: 20px; height: 55px\">\n",
    "\n",
    "# Introduction to Web Scraping and Spiders With Scrapy\n",
    "\n",
    "_Authors: Dave Yerrington (SF), Sam Stack(DC)_\n",
    "\n",
    "_Modified for DSI-EAST-2 by Justin Pounders_\n",
    "\n",
    "---\n",
    "\n",
    "### Learning Objectives\n",
    "- Decipher the structure and content of HTML\n",
    "- Use Beautiful Soup to parse HTML\n",
    "- Use XPath to select HTML elements\n",
    "- Practice using Scrapy to get data from Craigslist\n",
    "- Walk through the construction of a spider built using Scrapy\n"
   ]
  },
  {
   "cell_type": "markdown",
   "metadata": {},
   "source": [
    "<a id='introduction'></a>\n",
    "\n",
    "![What is HTML?](http://designshack.designshack.netdna-cdn.com/wp-content/uploads/htmlbasics-0.jpg)\n",
    "\n",
    "One of the largest sources of data in the world is all around us — the web. Most people consume the web in some form every day. One of the most powerful Python tool sets we'll learn allows us to extract and normalize data from unstructured sources such as web pages.  \n",
    "\n",
    "**If you can see it, it can be scraped, mined, and put into a DataFrame.**\n",
    "\n",
    "Before we begin the actual process of web scraping with Python, it's important to cover the basic constructs that describe HTML as unstructured data. \n",
    "\n",
    "We'll then cover a powerful selection technique called XPath and look at a basic workflow using a framework called [Scrapy](http://www.scrapy.org)."
   ]
  },
  {
   "cell_type": "markdown",
   "metadata": {},
   "source": [
    "<a id='html'></a>\n",
    "\n",
    "## Hypertext Markup Language (HTML)\n",
    "\n",
    "---\n",
    "\n",
    "In the HTML document object model (DOM), everything is a node:\n",
    " * The document itself is a document node.\n",
    " * All HTML elements are element nodes.\n",
    " * All HTML attributes are attribute nodes.\n",
    " * Text inside HTML elements are text nodes.\n",
    " * Comments are comment nodes."
   ]
  },
  {
   "cell_type": "markdown",
   "metadata": {},
   "source": [
    "<a id='elements'></a>\n",
    "### Elements\n",
    "Elements begin and end with opening and closing \"tags,\" which are defined by namespaced, encapsulated strings. These namespaces, which begin and end the elements, must be the same. \n",
    "\n",
    "```html\n",
    "<title>I am a title.</title>\n",
    "<p>I am a paragraph.</p>\n",
    "<strong>I am bold.</strong>\n",
    "```\n",
    "\n",
    "When you have several different titles or paragraphs on a single page, you can assign ID values to namespaces to make more unique reference points. IDs are also useful for labelling nested elements.\n",
    "```html\n",
    "<title id ='title_1'>I am the first title.</title>\n",
    "<p id ='para_1'>I am the first paragraph.</p>\n",
    "<title id ='title_2'>I am the second title.</title>\n",
    "<p id ='para_2'>I am the second paragraph.</p>\n",
    "```\n",
    "\n",
    "\n",
    "**Elements can have parents and children.**\n",
    "It's important to remember that an element can be both a parent and a child — whether an element is referred to as a parent or child depends on the specific element you're referencing.\n",
    "\n",
    "\n",
    "```html\n",
    "<body id = 'parent'>\n",
    "    <div id = 'child_1'>I am the child of 'parent.'\n",
    "        <div id = 'child_2'>I am the child of 'child_1.'\n",
    "            <div id = 'child_3'>I am the child of 'child_2.'\n",
    "                <div id = 'child_4'>I am the child of 'child_4.'</div>\n",
    "            </div>\n",
    "        </div>\n",
    "    </div>\n",
    "</body>\n",
    "```\n",
    "**or**\n",
    "```html\n",
    "<body id = 'parent'>\n",
    "    <div id = 'child_1'>I am the parent of 'child_2.'\n",
    "        <div id = 'child_2'>I am the parent of 'child_3.'\n",
    "            <div id = 'child_3'> I am the parent of 'child_4.'\n",
    "                <div id = 'child_4'>I am not a parent. </div>\n",
    "            </div>\n",
    "        </div>\n",
    "    </div>\n",
    "</body>\n",
    "```"
   ]
  },
  {
   "cell_type": "markdown",
   "metadata": {},
   "source": [
    "<a id='attributes'></a>\n",
    "### Attributes\n",
    "\n",
    "HTML elements can also have attributes. They describe the properties and characteristics of elements. Some affect how the element behaves or looks in terms of the output rendered by the browser.\n",
    "\n",
    "The most common element is an anchor element. Anchor elements often have an \"href\" element, which tells the browser where to go after it's clicked. An anchor element is typically formatted in bold type and is sometimes underlined as a visual cue to differentiate it.\n",
    "\n",
    "**The markup that describes an element with attributes literally looks like this:**\n",
    "\n",
    "```html\n",
    "<a href=\"https://www.youtube.com/watch?v=dQw4w9WgXcQ\">An Awesome Website</a>\n",
    "```\n",
    "\n",
    "**However, this element, once rendered, looks like this:**\n",
    "\n",
    "[An Awesome Website](https://www.youtube.com/watch?v=dQw4w9WgXcQ)"
   ]
  },
  {
   "cell_type": "markdown",
   "metadata": {},
   "source": [
    "<a id='element-hierarchy'></a>\n",
    "### Element Hierarchy\n",
    "\n",
    "![Nodes](http://www.computerhope.com/jargon/d/dom1.jpg)\n",
    "\n",
    "**Literally represented as:**\n",
    "\n",
    "```html\n",
    "<html>\n",
    "    \n",
    "    <head>\n",
    "        <title>Example</title>\n",
    "    </head>\n",
    "    \n",
    "    <body>\n",
    "        <h1>Example Page</h1>\n",
    "        <p>This is an example page.</p>\n",
    "    </body>\n",
    "    \n",
    "</html>\n",
    "```"
   ]
  },
  {
   "cell_type": "markdown",
   "metadata": {},
   "source": [
    "<a id='html-resources'></a>\n",
    "### Additional HTML Resources\n",
    "\n",
    "Read all about the different elements supported by modern browsers:\n",
    " * [HTML5 cheat sheet](http://websitesetup.org/html5-cheat-sheet/).\n",
    " * [Mozilla HTML element reference](https://developer.mozilla.org/en-US/docs/Web/HTML/Element).\n",
    " * [HTML5 visual cheat sheet](http://www.unitedleather.biz/PDF/HTML5-Visual-Cheat-Sheet1.pdf).\n",
    " "
   ]
  },
  {
   "cell_type": "markdown",
   "metadata": {},
   "source": [
    "<a id='practical'></a>\n",
    "\n",
    "## Using Requests and Beautiful Soup to Extract Information From a Web Page\n",
    "\n",
    "---\n",
    "\n",
    "Beautiful Soup is a Python library that's useful for pulling data out of HTML and XML files. It works with many parsers, such as XPath, and can be executed in an IDE, meaning it can be easier to work with when first extracting information from HTML.\n",
    "\n",
    "Please make sure that the required packages are installed: \n",
    "\n",
    "```bash\n",
    "# Beautiful Soup:\n",
    "> conda install beautifulsoup4\n",
    "> conda install lxml\n",
    "\n",
    "# Or if conda doesn't work:\n",
    "> pip install beautifulsoup4\n",
    "> pip install lxml\n",
    "```"
   ]
  },
  {
   "cell_type": "code",
   "execution_count": 1,
   "metadata": {},
   "outputs": [],
   "source": [
    "from bs4 import BeautifulSoup"
   ]
  },
  {
   "cell_type": "code",
   "execution_count": 4,
   "metadata": {},
   "outputs": [],
   "source": [
    "soup = BeautifulSoup(open(\"sample.html\"), \"lxml\")"
   ]
  },
  {
   "cell_type": "code",
   "execution_count": 5,
   "metadata": {},
   "outputs": [
    {
     "data": {
      "text/plain": [
       "<!DOCTYPE html>\n",
       "<html>\n",
       "<head>\n",
       "<title>Hello, World!</title>\n",
       "</head>\n",
       "<body>\n",
       "<h1>Header 1</h1>\n",
       "<h2>Header 2</h2>\n",
       "<p>This is a paragraph</p>\n",
       "<a href=\"https://www.google.com/\">Google it!</a>\n",
       "<h3>What's in a div?</h3>\n",
       "<div class=\"divvy-it-up\" id=\"foobar\">\n",
       "<p id=\"layer1\">I'm in a div.  Yeah!</p>\n",
       "<div>\n",
       "<p id=\"layer2\">I'm in a div, too!</p>\n",
       "</div>\n",
       "</div>\n",
       "<div class=\"todo\">\n",
       "<ul>\n",
       "<li> Take out trash</li>\n",
       "<li> Walk dog</li>\n",
       "</ul>\n",
       "</div>\n",
       "<div class=\"something\">\n",
       "<ol>\n",
       "<li>One</li>\n",
       "<li>Two</li>\n",
       "</ol>\n",
       "</div>\n",
       "</body>\n",
       "</html>"
      ]
     },
     "execution_count": 5,
     "metadata": {},
     "output_type": "execute_result"
    }
   ],
   "source": [
    "soup.extract()"
   ]
  },
  {
   "cell_type": "code",
   "execution_count": 6,
   "metadata": {},
   "outputs": [
    {
     "name": "stdout",
     "output_type": "stream",
     "text": [
      "<title>Hello, World!</title>\n",
      "Hello, World!\n"
     ]
    }
   ],
   "source": [
    "print(soup.title)\n",
    "print(soup.title.text)"
   ]
  },
  {
   "cell_type": "code",
   "execution_count": 42,
   "metadata": {},
   "outputs": [
    {
     "name": "stdout",
     "output_type": "stream",
     "text": [
      "One\n",
      "Two\n"
     ]
    }
   ],
   "source": [
    "olist = soup.find('ol')\n",
    "for list_item in olist.find_all('li'):\n",
    "    print(list_item.text)"
   ]
  },
  {
   "cell_type": "code",
   "execution_count": 27,
   "metadata": {},
   "outputs": [
    {
     "data": {
      "text/plain": [
       "'https://www.google.com/'"
      ]
     },
     "execution_count": 27,
     "metadata": {},
     "output_type": "execute_result"
    }
   ],
   "source": [
    "soup.find_all('a')[0]['href']"
   ]
  },
  {
   "cell_type": "code",
   "execution_count": 36,
   "metadata": {},
   "outputs": [
    {
     "data": {
      "text/plain": [
       "[<p id=\"layer2\">I'm in a div, too!</p>]"
      ]
     },
     "execution_count": 36,
     "metadata": {},
     "output_type": "execute_result"
    }
   ],
   "source": [
    "div_results = soup.body.find_all('div', {'class':'divvy-it-up'})\n",
    "div_results[0].find_all('p', {'id':'layer2'})"
   ]
  },
  {
   "cell_type": "markdown",
   "metadata": {},
   "source": [
    "### Let's buy a car!"
   ]
  },
  {
   "cell_type": "markdown",
   "metadata": {},
   "source": [
    "\n",
    "\n",
    "![](assets/craigslist.jpg)\n",
    "\n",
    "https://atlanta.craigslist.org/atl/wan/d/cheap-or-free-running-car-or/6485015376.html"
   ]
  },
  {
   "cell_type": "markdown",
   "metadata": {},
   "source": [
    "<a id='step1'></a>\n",
    "### 1) Fetch the content by URL.\n"
   ]
  },
  {
   "cell_type": "code",
   "execution_count": 18,
   "metadata": {},
   "outputs": [
    {
     "name": "stdout",
     "output_type": "stream",
     "text": [
      "Status Code:  200\n",
      "\n",
      "First part of HTML document fetched as string:\n",
      "\n",
      "<!DOCTYPE html>\n",
      "<html class=\"no-js\">\n",
      "<head>\n",
      "<title>Antique Style sofa - furniture - by owner - sale</title>\n",
      "    \t<link rel=\"canonical\" href=\"https://atlanta.craigslist.org/atl/fuo/d/decatur-antique-style-sofa/6988802869.html\">\n",
      "\t<meta name=\"description\" content=\"Antique style sofa, in great condition haven&#39;t had long, very comfortable and clean. If able to pick up will negotiate the price No LowBalling SERIOUS INQUIRIES ONLY\">\n",
      "\t<meta name=\"geo.placename\" content=\"Decatur\">\n",
      "\t<meta name=\"geo.position\" content=\"33.758366;-84.214868\">\n",
      "\t<meta name=\"geo.region\" content=\"US-GA\">\n",
      "\t<meta name=\"robots\" content=\"noarchive,nofollow,unavailable_after: 12-Nov-19 21:08:39 EST\">\n",
      "\t<meta name=\"twitter:card\n"
     ]
    }
   ],
   "source": [
    "# You'll need the requests library in order to fully utilize bs4.\n",
    "import requests\n",
    "from bs4 import BeautifulSoup\n",
    "\n",
    "# Target web page:\n",
    "#url = \"https://atlanta.craigslist.org/atl/wan/d/cheap-or-free-running-car-or/6485015376.html\"\n",
    "#url ='https://atlanta.craigslist.org/atl/vac/d/romantic-charmer-in-the-north-georgia/6979245408.html'\n",
    "url = 'https://atlanta.craigslist.org/atl/fuo/d/decatur-antique-style-sofa/6988802869.html'\n",
    "# Establishing the connection to the web page:\n",
    "response = requests.get(url)\n",
    "\n",
    "# You can use status codes to understand how the target server responds to your request.\n",
    "# Ex., 200 = OK, 400 = Bad Request, 403 = Forbidden, 404 = Not Found.\n",
    "print('Status Code: ',response.status_code)\n",
    "\n",
    "# Pull the HTML string out of requests and convert it to a Python string.\n",
    "html = response.text\n",
    "\n",
    "# The first 700 characters of the content.\n",
    "print(\"\\nFirst part of HTML document fetched as string:\\n\")\n",
    "print(html[:700])"
   ]
  },
  {
   "cell_type": "markdown",
   "metadata": {},
   "source": [
    "More information on [request status codes](http://www.restapitutorial.com/httpstatuscodes.html)."
   ]
  },
  {
   "cell_type": "markdown",
   "metadata": {},
   "source": [
    "<a id='step2'></a>\n",
    "### 2) Parse the HTML document with Beautiful Soup.\n",
    "\n",
    "This step allows us to access the elements of the document by XPath expressions."
   ]
  },
  {
   "cell_type": "code",
   "execution_count": 19,
   "metadata": {},
   "outputs": [],
   "source": [
    "soup = BeautifulSoup(html, 'lxml')"
   ]
  },
  {
   "cell_type": "code",
   "execution_count": 20,
   "metadata": {},
   "outputs": [
    {
     "data": {
      "text/plain": [
       "<title>Antique Style sofa - furniture - by owner - sale</title>"
      ]
     },
     "execution_count": 20,
     "metadata": {},
     "output_type": "execute_result"
    }
   ],
   "source": [
    "# Singular element:\n",
    "soup.html.title"
   ]
  },
  {
   "cell_type": "code",
   "execution_count": 21,
   "metadata": {},
   "outputs": [
    {
     "name": "stdout",
     "output_type": "stream",
     "text": [
      "Antique Style sofa - furniture - by owner - sale\n"
     ]
    }
   ],
   "source": [
    "# Just the text between elements:\n",
    "print(soup.html.title.text)"
   ]
  },
  {
   "cell_type": "code",
   "execution_count": 22,
   "metadata": {},
   "outputs": [
    {
     "data": {
      "text/plain": [
       "<a class=\"header-logo\" href=\"/\" name=\"logoLink\">CL</a>"
      ]
     },
     "execution_count": 22,
     "metadata": {},
     "output_type": "execute_result"
    }
   ],
   "source": [
    "# Find single or multiple elements.\n",
    "# First parameter:\n",
    "element = soup.find_all(\"a\", {\"class\": \"header-logo\"})\n",
    "element[0]"
   ]
  },
  {
   "cell_type": "code",
   "execution_count": 23,
   "metadata": {},
   "outputs": [
    {
     "data": {
      "text/plain": [
       "'$800'"
      ]
     },
     "execution_count": 23,
     "metadata": {},
     "output_type": "execute_result"
    }
   ],
   "source": [
    "price_search = soup.findAll('span', {\"class\": \"price\"})\n",
    "price_search[0].text"
   ]
  },
  {
   "cell_type": "code",
   "execution_count": 34,
   "metadata": {},
   "outputs": [],
   "source": [
    "# What about all car listings in ATL:\n",
    "response = requests.get(\"https://atlanta.craigslist.org/search/cto\")\n",
    "\n",
    "#response = requests.get(\"https://atlanta.craigslist.org/search/cto?s=120\")"
   ]
  },
  {
   "cell_type": "code",
   "execution_count": 35,
   "metadata": {},
   "outputs": [],
   "source": [
    "soup = BeautifulSoup(response.text, \"lxml\")\n",
    "result_list = soup.find_all('p', {'class':'result-info'})\n",
    "\n",
    "results = []\n",
    "for result in result_list:\n",
    "    car = {}\n",
    "    car['text'] = result.find('a', {'class':'hdrlnk'}).text\n",
    "    car['price'] = int(result.find('span', {'class':'result-price'}).text.replace('$',''))\n",
    "    hood = result.find('span', {'class':'result-hood'})\n",
    "    car['hood'] = hood.text.replace('(','').replace(')','') if hood else None\n",
    "    results.append(car)"
   ]
  },
  {
   "cell_type": "code",
   "execution_count": 36,
   "metadata": {},
   "outputs": [
    {
     "data": {
      "text/html": [
       "<div>\n",
       "<style scoped>\n",
       "    .dataframe tbody tr th:only-of-type {\n",
       "        vertical-align: middle;\n",
       "    }\n",
       "\n",
       "    .dataframe tbody tr th {\n",
       "        vertical-align: top;\n",
       "    }\n",
       "\n",
       "    .dataframe thead th {\n",
       "        text-align: right;\n",
       "    }\n",
       "</style>\n",
       "<table border=\"1\" class=\"dataframe\">\n",
       "  <thead>\n",
       "    <tr style=\"text-align: right;\">\n",
       "      <th></th>\n",
       "      <th>hood</th>\n",
       "      <th>price</th>\n",
       "      <th>text</th>\n",
       "    </tr>\n",
       "  </thead>\n",
       "  <tbody>\n",
       "    <tr>\n",
       "      <th>0</th>\n",
       "      <td>None</td>\n",
       "      <td>9600</td>\n",
       "      <td>Toyota tacoma 2005</td>\n",
       "    </tr>\n",
       "    <tr>\n",
       "      <th>1</th>\n",
       "      <td>SOUTH FULTON</td>\n",
       "      <td>2500</td>\n",
       "      <td>1952 MERCURY COUPE</td>\n",
       "    </tr>\n",
       "    <tr>\n",
       "      <th>2</th>\n",
       "      <td>SOUTH FULTON</td>\n",
       "      <td>1750</td>\n",
       "      <td>1983 Z28 CHEVROLET CAMARO</td>\n",
       "    </tr>\n",
       "    <tr>\n",
       "      <th>3</th>\n",
       "      <td>SOUTH FULTON</td>\n",
       "      <td>4500</td>\n",
       "      <td>1979 MAZDA RX7</td>\n",
       "    </tr>\n",
       "    <tr>\n",
       "      <th>4</th>\n",
       "      <td>SOUTH FULTON Georgia</td>\n",
       "      <td>5500</td>\n",
       "      <td>1957 Ford pickup truck</td>\n",
       "    </tr>\n",
       "    <tr>\n",
       "      <th>5</th>\n",
       "      <td>SOUTH FULTON</td>\n",
       "      <td>3500</td>\n",
       "      <td>1986 CAMARO BERLINETTA</td>\n",
       "    </tr>\n",
       "    <tr>\n",
       "      <th>6</th>\n",
       "      <td>SOUTH FULTON</td>\n",
       "      <td>1700</td>\n",
       "      <td>1941 CHRYSLER</td>\n",
       "    </tr>\n",
       "    <tr>\n",
       "      <th>7</th>\n",
       "      <td>SOUTH FULTON</td>\n",
       "      <td>1700</td>\n",
       "      <td>1941 CHRYSLER</td>\n",
       "    </tr>\n",
       "    <tr>\n",
       "      <th>8</th>\n",
       "      <td>Gainesville</td>\n",
       "      <td>24500</td>\n",
       "      <td>2013 Toyota Tacoma TRD 4x4</td>\n",
       "    </tr>\n",
       "    <tr>\n",
       "      <th>9</th>\n",
       "      <td>None</td>\n",
       "      <td>1000</td>\n",
       "      <td>**** 2009 TOYOTA COROLLA S Headlamps</td>\n",
       "    </tr>\n",
       "    <tr>\n",
       "      <th>10</th>\n",
       "      <td>HIRAM</td>\n",
       "      <td>10600</td>\n",
       "      <td>BEAUTIFUL 2005 CHEVY SILVERADO Z71 4WD</td>\n",
       "    </tr>\n",
       "    <tr>\n",
       "      <th>11</th>\n",
       "      <td>Atlanta</td>\n",
       "      <td>2000</td>\n",
       "      <td>2009 CHEVROLET HHR</td>\n",
       "    </tr>\n",
       "    <tr>\n",
       "      <th>12</th>\n",
       "      <td>lawrenceville</td>\n",
       "      <td>8400</td>\n",
       "      <td>2013 BMW X5 M Parkage with 94000miles</td>\n",
       "    </tr>\n",
       "    <tr>\n",
       "      <th>13</th>\n",
       "      <td>Canton</td>\n",
       "      <td>23500</td>\n",
       "      <td>H2 Hummer</td>\n",
       "    </tr>\n",
       "    <tr>\n",
       "      <th>14</th>\n",
       "      <td>TUCKER</td>\n",
       "      <td>4350</td>\n",
       "      <td>2002 LEXUS RX 300 4X4 in excellent condition</td>\n",
       "    </tr>\n",
       "    <tr>\n",
       "      <th>15</th>\n",
       "      <td>Molena</td>\n",
       "      <td>28000</td>\n",
       "      <td>2018 Ford Transit 350 Van</td>\n",
       "    </tr>\n",
       "    <tr>\n",
       "      <th>16</th>\n",
       "      <td>Evansville Indiana</td>\n",
       "      <td>28000</td>\n",
       "      <td>1964 Ford Falcon Futura Convertible - Awesome</td>\n",
       "    </tr>\n",
       "    <tr>\n",
       "      <th>17</th>\n",
       "      <td>Ellijay, Ga</td>\n",
       "      <td>16900</td>\n",
       "      <td>1957 Chevrolet Bel Air</td>\n",
       "    </tr>\n",
       "    <tr>\n",
       "      <th>18</th>\n",
       "      <td>McDonough</td>\n",
       "      <td>2900</td>\n",
       "      <td>1996 Ford Econoline E350</td>\n",
       "    </tr>\n",
       "    <tr>\n",
       "      <th>19</th>\n",
       "      <td>White</td>\n",
       "      <td>9500</td>\n",
       "      <td>2008 Honda Pilot exl 4wd with dvd</td>\n",
       "    </tr>\n",
       "    <tr>\n",
       "      <th>20</th>\n",
       "      <td>None</td>\n",
       "      <td>2000</td>\n",
       "      <td>2013 Hyundai Elantra Economy cars</td>\n",
       "    </tr>\n",
       "    <tr>\n",
       "      <th>21</th>\n",
       "      <td>Atlanta</td>\n",
       "      <td>2150</td>\n",
       "      <td>2005 Cadillac  DeVille</td>\n",
       "    </tr>\n",
       "    <tr>\n",
       "      <th>22</th>\n",
       "      <td>Duluth</td>\n",
       "      <td>4800</td>\n",
       "      <td>2004 FORD F150 XLT EXTENDED CAB 4DOORS</td>\n",
       "    </tr>\n",
       "    <tr>\n",
       "      <th>23</th>\n",
       "      <td>Roswell</td>\n",
       "      <td>4399</td>\n",
       "      <td>2005 Honda Odyssey Touring w/Navigation w/DVD</td>\n",
       "    </tr>\n",
       "    <tr>\n",
       "      <th>24</th>\n",
       "      <td>Thomaston Ga</td>\n",
       "      <td>575</td>\n",
       "      <td>2001 Dodge Dakota</td>\n",
       "    </tr>\n",
       "    <tr>\n",
       "      <th>25</th>\n",
       "      <td>Doraville</td>\n",
       "      <td>975</td>\n",
       "      <td>Honda Odyssey. MECHANIC SPECIAL</td>\n",
       "    </tr>\n",
       "    <tr>\n",
       "      <th>26</th>\n",
       "      <td>Winder</td>\n",
       "      <td>5000</td>\n",
       "      <td>2013 Hyundai Elantra GLS</td>\n",
       "    </tr>\n",
       "    <tr>\n",
       "      <th>27</th>\n",
       "      <td>None</td>\n",
       "      <td>3000</td>\n",
       "      <td>2003 Infiniti G 35</td>\n",
       "    </tr>\n",
       "    <tr>\n",
       "      <th>28</th>\n",
       "      <td>None</td>\n",
       "      <td>3800</td>\n",
       "      <td>2011 Nissan Altima 2.5 S</td>\n",
       "    </tr>\n",
       "    <tr>\n",
       "      <th>29</th>\n",
       "      <td>Chamblee</td>\n",
       "      <td>6800</td>\n",
       "      <td>2005 Chevrolet express 3500 V8 6 .0 millas 139...</td>\n",
       "    </tr>\n",
       "    <tr>\n",
       "      <th>...</th>\n",
       "      <td>...</td>\n",
       "      <td>...</td>\n",
       "      <td>...</td>\n",
       "    </tr>\n",
       "    <tr>\n",
       "      <th>90</th>\n",
       "      <td>Lilburn GA</td>\n",
       "      <td>1200</td>\n",
       "      <td>2004 Toyota Sienna won’t start</td>\n",
       "    </tr>\n",
       "    <tr>\n",
       "      <th>91</th>\n",
       "      <td>Peachtree corners</td>\n",
       "      <td>4000</td>\n",
       "      <td>2001 Lexus GS 430</td>\n",
       "    </tr>\n",
       "    <tr>\n",
       "      <th>92</th>\n",
       "      <td>ATLANTA</td>\n",
       "      <td>5500</td>\n",
       "      <td>2014 CHEVY MALIBU LS</td>\n",
       "    </tr>\n",
       "    <tr>\n",
       "      <th>93</th>\n",
       "      <td>Austell</td>\n",
       "      <td>2300</td>\n",
       "      <td>2004 Volkswagen Jetta</td>\n",
       "    </tr>\n",
       "    <tr>\n",
       "      <th>94</th>\n",
       "      <td>Atlanta</td>\n",
       "      <td>37500</td>\n",
       "      <td>2017 Lexus GX460- Sport- Captain Chairs- Premi...</td>\n",
       "    </tr>\n",
       "    <tr>\n",
       "      <th>95</th>\n",
       "      <td>ATLANTA</td>\n",
       "      <td>4200</td>\n",
       "      <td>2012 DODGE AVENGER SE ONLY 116K</td>\n",
       "    </tr>\n",
       "    <tr>\n",
       "      <th>96</th>\n",
       "      <td>Atlanta</td>\n",
       "      <td>32900</td>\n",
       "      <td>2016 Lexus GX460- Navigation- Premium- Blind S...</td>\n",
       "    </tr>\n",
       "    <tr>\n",
       "      <th>97</th>\n",
       "      <td>Marietta</td>\n",
       "      <td>2000</td>\n",
       "      <td>2006 Mercedes ML 350</td>\n",
       "    </tr>\n",
       "    <tr>\n",
       "      <th>98</th>\n",
       "      <td>ATLANTA</td>\n",
       "      <td>3900</td>\n",
       "      <td>2006 CHRYSLER 300 TOURING LEATHER AND SUNROOF</td>\n",
       "    </tr>\n",
       "    <tr>\n",
       "      <th>99</th>\n",
       "      <td>Atlanta</td>\n",
       "      <td>23900</td>\n",
       "      <td>2016 Lexus ES 300h Luxury- Navigation - Safety...</td>\n",
       "    </tr>\n",
       "    <tr>\n",
       "      <th>100</th>\n",
       "      <td>Dawsonville</td>\n",
       "      <td>15950</td>\n",
       "      <td>2016 Volkswagen Tiguan S</td>\n",
       "    </tr>\n",
       "    <tr>\n",
       "      <th>101</th>\n",
       "      <td>None</td>\n",
       "      <td>2500</td>\n",
       "      <td>2003 Honda Accord</td>\n",
       "    </tr>\n",
       "    <tr>\n",
       "      <th>102</th>\n",
       "      <td>Suwanee</td>\n",
       "      <td>29975</td>\n",
       "      <td>2014 Range Rover Sport HSE 4x4</td>\n",
       "    </tr>\n",
       "    <tr>\n",
       "      <th>103</th>\n",
       "      <td>Roswell</td>\n",
       "      <td>4000</td>\n",
       "      <td>2008 Chevrolet Tahoe</td>\n",
       "    </tr>\n",
       "    <tr>\n",
       "      <th>104</th>\n",
       "      <td>Atlanta</td>\n",
       "      <td>25900</td>\n",
       "      <td>2016 Lexus IS350 F Sport- Navigation- Blind Sp...</td>\n",
       "    </tr>\n",
       "    <tr>\n",
       "      <th>105</th>\n",
       "      <td>Hiram</td>\n",
       "      <td>1200</td>\n",
       "      <td>1991 Cadillac Brougham</td>\n",
       "    </tr>\n",
       "    <tr>\n",
       "      <th>106</th>\n",
       "      <td>Alpharetta</td>\n",
       "      <td>3500</td>\n",
       "      <td>2006 Honda Accord sedan hybrid</td>\n",
       "    </tr>\n",
       "    <tr>\n",
       "      <th>107</th>\n",
       "      <td>Rome ga</td>\n",
       "      <td>8900</td>\n",
       "      <td>1997 dodge 3500</td>\n",
       "    </tr>\n",
       "    <tr>\n",
       "      <th>108</th>\n",
       "      <td>Buford</td>\n",
       "      <td>0</td>\n",
       "      <td>2OO2 Honda Civic $1700 obo</td>\n",
       "    </tr>\n",
       "    <tr>\n",
       "      <th>109</th>\n",
       "      <td>Atlanta</td>\n",
       "      <td>32900</td>\n",
       "      <td>2015 Lexus GX460- Blind Spot Monitor- Navigati...</td>\n",
       "    </tr>\n",
       "    <tr>\n",
       "      <th>110</th>\n",
       "      <td>None</td>\n",
       "      <td>6500</td>\n",
       "      <td>2012 Nissan Sentra SR</td>\n",
       "    </tr>\n",
       "    <tr>\n",
       "      <th>111</th>\n",
       "      <td>Fayetteville</td>\n",
       "      <td>4450</td>\n",
       "      <td>2010 Mazda 3i SPORT. LOW MILES</td>\n",
       "    </tr>\n",
       "    <tr>\n",
       "      <th>112</th>\n",
       "      <td>Lithonia</td>\n",
       "      <td>2950</td>\n",
       "      <td>2008 Altima priced to sell</td>\n",
       "    </tr>\n",
       "    <tr>\n",
       "      <th>113</th>\n",
       "      <td>Sharpsburg</td>\n",
       "      <td>10000</td>\n",
       "      <td>V6 2014 Mustang</td>\n",
       "    </tr>\n",
       "    <tr>\n",
       "      <th>114</th>\n",
       "      <td>Gainesville, GA</td>\n",
       "      <td>7000</td>\n",
       "      <td>1995 Mercedes Convertible With Only 45k miles!!!</td>\n",
       "    </tr>\n",
       "    <tr>\n",
       "      <th>115</th>\n",
       "      <td>None</td>\n",
       "      <td>9000</td>\n",
       "      <td>1996 Chevrolet Impala SS</td>\n",
       "    </tr>\n",
       "    <tr>\n",
       "      <th>116</th>\n",
       "      <td>Brookhaven</td>\n",
       "      <td>5500</td>\n",
       "      <td>BMW 2008 335i</td>\n",
       "    </tr>\n",
       "    <tr>\n",
       "      <th>117</th>\n",
       "      <td>Atlanta</td>\n",
       "      <td>3999</td>\n",
       "      <td>Cadillac SRX 2005 - My Loss YOUR GAIN</td>\n",
       "    </tr>\n",
       "    <tr>\n",
       "      <th>118</th>\n",
       "      <td>Morrow, Georgia</td>\n",
       "      <td>3500</td>\n",
       "      <td>Beautiful 2011 Ford Focus</td>\n",
       "    </tr>\n",
       "    <tr>\n",
       "      <th>119</th>\n",
       "      <td>Braselton</td>\n",
       "      <td>5750</td>\n",
       "      <td>2000 Jeep Wrangler</td>\n",
       "    </tr>\n",
       "  </tbody>\n",
       "</table>\n",
       "<p>120 rows × 3 columns</p>\n",
       "</div>"
      ],
      "text/plain": [
       "                      hood  price  \\\n",
       "0                     None   9600   \n",
       "1             SOUTH FULTON   2500   \n",
       "2             SOUTH FULTON   1750   \n",
       "3             SOUTH FULTON   4500   \n",
       "4     SOUTH FULTON Georgia   5500   \n",
       "5             SOUTH FULTON   3500   \n",
       "6             SOUTH FULTON   1700   \n",
       "7             SOUTH FULTON   1700   \n",
       "8              Gainesville  24500   \n",
       "9                     None   1000   \n",
       "10                   HIRAM  10600   \n",
       "11                 Atlanta   2000   \n",
       "12           lawrenceville   8400   \n",
       "13                  Canton  23500   \n",
       "14                  TUCKER   4350   \n",
       "15                  Molena  28000   \n",
       "16      Evansville Indiana  28000   \n",
       "17             Ellijay, Ga  16900   \n",
       "18               McDonough   2900   \n",
       "19                   White   9500   \n",
       "20                    None   2000   \n",
       "21                 Atlanta   2150   \n",
       "22                  Duluth   4800   \n",
       "23                 Roswell   4399   \n",
       "24            Thomaston Ga    575   \n",
       "25               Doraville    975   \n",
       "26                  Winder   5000   \n",
       "27                    None   3000   \n",
       "28                    None   3800   \n",
       "29                Chamblee   6800   \n",
       "..                     ...    ...   \n",
       "90              Lilburn GA   1200   \n",
       "91       Peachtree corners   4000   \n",
       "92                 ATLANTA   5500   \n",
       "93                 Austell   2300   \n",
       "94                 Atlanta  37500   \n",
       "95                 ATLANTA   4200   \n",
       "96                 Atlanta  32900   \n",
       "97                Marietta   2000   \n",
       "98                 ATLANTA   3900   \n",
       "99                 Atlanta  23900   \n",
       "100            Dawsonville  15950   \n",
       "101                   None   2500   \n",
       "102                Suwanee  29975   \n",
       "103                Roswell   4000   \n",
       "104                Atlanta  25900   \n",
       "105                  Hiram   1200   \n",
       "106             Alpharetta   3500   \n",
       "107                Rome ga   8900   \n",
       "108                 Buford      0   \n",
       "109                Atlanta  32900   \n",
       "110                   None   6500   \n",
       "111           Fayetteville   4450   \n",
       "112               Lithonia   2950   \n",
       "113             Sharpsburg  10000   \n",
       "114        Gainesville, GA   7000   \n",
       "115                   None   9000   \n",
       "116             Brookhaven   5500   \n",
       "117                Atlanta   3999   \n",
       "118        Morrow, Georgia   3500   \n",
       "119              Braselton   5750   \n",
       "\n",
       "                                                  text  \n",
       "0                                   Toyota tacoma 2005  \n",
       "1                                   1952 MERCURY COUPE  \n",
       "2                            1983 Z28 CHEVROLET CAMARO  \n",
       "3                                       1979 MAZDA RX7  \n",
       "4                               1957 Ford pickup truck  \n",
       "5                               1986 CAMARO BERLINETTA  \n",
       "6                                        1941 CHRYSLER  \n",
       "7                                        1941 CHRYSLER  \n",
       "8                           2013 Toyota Tacoma TRD 4x4  \n",
       "9                 **** 2009 TOYOTA COROLLA S Headlamps  \n",
       "10              BEAUTIFUL 2005 CHEVY SILVERADO Z71 4WD  \n",
       "11                                  2009 CHEVROLET HHR  \n",
       "12               2013 BMW X5 M Parkage with 94000miles  \n",
       "13                                           H2 Hummer  \n",
       "14        2002 LEXUS RX 300 4X4 in excellent condition  \n",
       "15                           2018 Ford Transit 350 Van  \n",
       "16       1964 Ford Falcon Futura Convertible - Awesome  \n",
       "17                              1957 Chevrolet Bel Air  \n",
       "18                            1996 Ford Econoline E350  \n",
       "19                   2008 Honda Pilot exl 4wd with dvd  \n",
       "20                   2013 Hyundai Elantra Economy cars  \n",
       "21                              2005 Cadillac  DeVille  \n",
       "22              2004 FORD F150 XLT EXTENDED CAB 4DOORS  \n",
       "23       2005 Honda Odyssey Touring w/Navigation w/DVD  \n",
       "24                                   2001 Dodge Dakota  \n",
       "25                     Honda Odyssey. MECHANIC SPECIAL  \n",
       "26                            2013 Hyundai Elantra GLS  \n",
       "27                                  2003 Infiniti G 35  \n",
       "28                            2011 Nissan Altima 2.5 S  \n",
       "29   2005 Chevrolet express 3500 V8 6 .0 millas 139...  \n",
       "..                                                 ...  \n",
       "90                      2004 Toyota Sienna won’t start  \n",
       "91                                   2001 Lexus GS 430  \n",
       "92                                2014 CHEVY MALIBU LS  \n",
       "93                               2004 Volkswagen Jetta  \n",
       "94   2017 Lexus GX460- Sport- Captain Chairs- Premi...  \n",
       "95                     2012 DODGE AVENGER SE ONLY 116K  \n",
       "96   2016 Lexus GX460- Navigation- Premium- Blind S...  \n",
       "97                                2006 Mercedes ML 350  \n",
       "98       2006 CHRYSLER 300 TOURING LEATHER AND SUNROOF  \n",
       "99   2016 Lexus ES 300h Luxury- Navigation - Safety...  \n",
       "100                           2016 Volkswagen Tiguan S  \n",
       "101                                  2003 Honda Accord  \n",
       "102                     2014 Range Rover Sport HSE 4x4  \n",
       "103                               2008 Chevrolet Tahoe  \n",
       "104  2016 Lexus IS350 F Sport- Navigation- Blind Sp...  \n",
       "105                             1991 Cadillac Brougham  \n",
       "106                     2006 Honda Accord sedan hybrid  \n",
       "107                                    1997 dodge 3500  \n",
       "108                         2OO2 Honda Civic $1700 obo  \n",
       "109  2015 Lexus GX460- Blind Spot Monitor- Navigati...  \n",
       "110                              2012 Nissan Sentra SR  \n",
       "111                     2010 Mazda 3i SPORT. LOW MILES  \n",
       "112                         2008 Altima priced to sell  \n",
       "113                                    V6 2014 Mustang  \n",
       "114   1995 Mercedes Convertible With Only 45k miles!!!  \n",
       "115                           1996 Chevrolet Impala SS  \n",
       "116                                      BMW 2008 335i  \n",
       "117              Cadillac SRX 2005 - My Loss YOUR GAIN  \n",
       "118                          Beautiful 2011 Ford Focus  \n",
       "119                                 2000 Jeep Wrangler  \n",
       "\n",
       "[120 rows x 3 columns]"
      ]
     },
     "execution_count": 36,
     "metadata": {},
     "output_type": "execute_result"
    }
   ],
   "source": [
    "import pandas as pd\n",
    "pd.DataFrame(results)"
   ]
  },
  {
   "cell_type": "markdown",
   "metadata": {},
   "source": [
    "**Practice**\n",
    "\n",
    "- How would you get the next 120 results?\n",
    "- How would you get the text associated with a particular car?"
   ]
  },
  {
   "cell_type": "markdown",
   "metadata": {},
   "source": [
    "<a id='xpath'></a>\n",
    "\n",
    "## What is XPath?\n",
    "\n",
    "---\n",
    "\n",
    "![](assets/obama_wiki.png)\n",
    "\n",
    "Understanding how to identify elements and attributes within HTML documents gives us the ability to write simple expressions that create structured data. We can think of XPath like a query language for HTML.\n",
    "\n",
    "To simplify this process, we'll be using the Chrome extension XPath Helper. It's not necessary but highly recommended when building XPath expressions.\n",
    "\n",
    "[XPath Helper](https://chrome.google.com/webstore/detail/xpath-helper/hgimnogjllphhhkhlmebbmlgjoejdpjl?hl=en).\n",
    "\n",
    "XPath expressions can select elements, element attributes, and element text. These selections can apply to a single item or multiple items. Generally, if you're not specific enough, you'll end up selecting multiple elements.\n",
    "\n",
    "\n",
    "<a id='multiple-selections'></a>\n",
    "### Multiple Selections\n",
    "\n",
    "***Multiple selections*** are useful for capturing search results or any repeating element. For instance, the _titles_ from apartment listing search results on Craigslist.\n",
    "\n",
    "\n",
    "**URL**\n",
    "\n",
    "[http://sfbay.craigslist.org/search/sfc/apa](http://sfbay.craigslist.org/search/sfc/apa)\n",
    "\n",
    "\n",
    "**Example HTML Markup**\n",
    "```html\n",
    "...\n",
    "<span class=\"pl\"> \n",
    "    <time datetime=\"2016-01-12 23:27\" title=\"Tue 12 Jan 11:27:35 PM\">Jan 12</time> \n",
    "    <a href=\"/sfc/apa/5400584579.html\" data-id=\"5400584579\" class=\"hdrlnk\">Welcome home to a sweetly renovated four-bedroom, one-and-a-half bath.</a> \n",
    "</span>\n",
    "...\n",
    "```\n",
    "\n",
    "**XPath:: Multiple Titles** _Copy this into the XPath Helper Query box_:\n",
    "```\n",
    "//a[@class='result-title hdrlnk']\n",
    "```\n",
    "\n",
    "**Returns (Ad Titles)**\n",
    "```\n",
    "***New Remodeled two bedroom Apartment***\n",
    "WONDERFUL ONE BR APARTMENT HOME\n",
    "Beautiful 1bed/1bath Apartment in Russian Hill NO SECURITY DEPOSIT\n",
    "Knockout SF View|Green Oasis|Private Driveway|Furnished\n",
    "3BR/3BA Spacious, Beautiful SOMA Loft: 5 month lease\n",
    "Nob Hill Large Studio - Light, Quiet, Lovely Building\n",
    "etc...\n",
    "```"
   ]
  },
  {
   "cell_type": "markdown",
   "metadata": {},
   "source": [
    "<a id='singular-selections'></a>\n",
    "\n",
    "### Singular Selections\n",
    "\n",
    "***Singular selections*** are necessary when you want to grab specific, unique text within elements. Here's an example of a details page on Craigslist:\n",
    "\n",
    "**URL**\n",
    "\n",
    "[https://sfbay.craigslist.org/sfc/apa/6161864063.html](https://sfbay.craigslist.org/sfc/apa/6161864063.html)\n",
    "\n",
    "**HTML Markup**\n",
    "\n",
    "```html\n",
    "<div class=\"postinginfos\">\n",
    "    <p class=\"postinginfo\">post id: 5400585892</p>\n",
    "    <p class=\"postinginfo\">posted: <time datetime=\"2016-01-12T23:23:19-0800\" class=\"xh-highlight\">2016-01-12 11:23pm</time></p>\n",
    "    <p class=\"postinginfo\"><a href=\"https://accounts.craigslist.org/eaf?postingID=5400585892\" class=\"tsb\">email to friend</a></p>\n",
    "    <p class=\"postinginfo\"><a class=\"bestof-link\" data-flag=\"9\" href=\"https://post.craigslist.org/flag?flagCode=9&amp;postingID=5400585892\" title=\"nominate for best-of-CL\"><span class=\"bestof-icon\">♥ </span><span class=\"bestof-text\">best of</span></a> <sup>[<a href=\"http://www.craigslist.org/about/best-of-craigslist\">?</a>]</sup>    </p>\n",
    "</div>\n",
    "```\n",
    "\n",
    "**XPath: Single Item**\n",
    "\n",
    "```\n",
    "//p[@class='postinginfo'][2]/time\n",
    "```\n",
    "**Returns (Time of Posting or Age of Post)**\n",
    "```\n",
    "2016-01-12 11:23pm\n",
    "```"
   ]
  },
  {
   "cell_type": "markdown",
   "metadata": {},
   "source": [
    "<a id='scrapy'></a>\n",
    "\n",
    "## A Simple Example Using Scrapy and XPath\n",
    "\n",
    "---\n",
    "\n",
    "Below is an example of how to get information out of fake HTML using the XPath capabilities of the Scrapy package. You'll likely need to install the Scrapy package using `conda install scrapy`.   \n",
    "\n",
    "**Note:** `conda install` will install the necessary dependent packages needed for Scrapy; `pip install` will **not**."
   ]
  },
  {
   "cell_type": "markdown",
   "metadata": {},
   "source": [
    "We'll use the `selector` class from the Scrapy library to help us construct our query.\n",
    "\n",
    "`Selector` classes take the HTML target as an argument and can then utilize several query types to extract information. In this case, we'll specify `XPath`, as our query will utilize XPath language. \n",
    "\n",
    "Just like with writing Python scripts, there are several ways you can access the exact same information in HTML. Let's try a few."
   ]
  },
  {
   "cell_type": "code",
   "execution_count": 2,
   "metadata": {},
   "outputs": [
    {
     "data": {
      "text/plain": [
       "['best of']"
      ]
     },
     "execution_count": 2,
     "metadata": {},
     "output_type": "execute_result"
    }
   ],
   "source": [
    "from scrapy.selector import Selector\n",
    "from scrapy.http import HtmlResponse\n",
    "\n",
    "# HTML structure string:\n",
    "HTML = \"\"\"\n",
    "<div class=\"postinginfos\">\n",
    "    <p class=\"postinginfo\">post id: 5400585892</p>\n",
    "    <p class=\"postinginfo\">posted: <time datetime=\"2016-01-12T23:23:19-0800\" class=\"xh-highlight\">2016-01-12 11:23pm</time></p>\n",
    "    <p class=\"postinginfo\"><a href=\"https://accounts.craigslist.org/eaf?postingID=5400585892\" class=\"tsb\">email to friend</a></p>\n",
    "    <p class=\"postinginfo\"><a class=\"bestof-link\" data-flag=\"9\" href=\"https://post.craigslist.org/flag?flagCode=9&amp;postingID=5400585892\" title=\"nominate for best-of-CL\"><span class=\"bestof-icon\">♥ </span><span class=\"bestof-text\">best of</span></a> <sup>[<a href=\"http://www.craigslist.org/about/best-of-craigslist\">?</a>]</sup>    </p>\n",
    "</div>\n",
    "\"\"\"\n",
    "\n",
    "# Option 1: Use the exact class name to get its associated text.\n",
    "best = Selector(text=HTML).xpath(\"//span[@class='bestof-text']/text()\").extract()\n",
    "best"
   ]
  },
  {
   "cell_type": "code",
   "execution_count": 3,
   "metadata": {},
   "outputs": [
    {
     "data": {
      "text/plain": [
       "['best of']"
      ]
     },
     "execution_count": 3,
     "metadata": {},
     "output_type": "execute_result"
    }
   ],
   "source": [
    "# Option 2: Use the contains() function to extract any text that includes the text 'best of.'\n",
    "best = Selector(text=HTML).xpath(\"//span[contains(text(), 'best of')]/text()\").extract()\n",
    "best"
   ]
  },
  {
   "cell_type": "code",
   "execution_count": 4,
   "metadata": {},
   "outputs": [
    {
     "data": {
      "text/plain": [
       "['best of']"
      ]
     },
     "execution_count": 4,
     "metadata": {},
     "output_type": "execute_result"
    }
   ],
   "source": [
    "# Option 3: Grabs the entire HTML post where class='bestof-link'.\n",
    "best =  Selector(text=HTML).xpath(\"/html/body/div/p/a[@class='bestof-link']\")\n",
    "        # Parse the first grabbed chunk of the text for the specific element with class='bestof-text'.\n",
    "nested_best =  best.xpath(\"./span[@class='bestof-text']/text()\").extract()\n",
    "nested_best"
   ]
  },
  {
   "cell_type": "markdown",
   "metadata": {},
   "source": [
    "_Option 3 will probably be the most common because there's a good chance you'll want to grab information from several child elements that exist within one parent element._"
   ]
  },
  {
   "cell_type": "markdown",
   "metadata": {},
   "source": [
    "## Where's Waldo? — XPath Edition\n",
    "\n",
    "In this example, we'll find Waldo together. Find Waldo as:\n",
    "\n",
    "- An element.\n",
    "- An attribute.\n",
    "- A text element."
   ]
  },
  {
   "cell_type": "code",
   "execution_count": 5,
   "metadata": {},
   "outputs": [],
   "source": [
    "HTML = \"\"\"\n",
    "<html>\n",
    "    <body>\n",
    "        \n",
    "        <ul id=\"waldo\">\n",
    "            <li class=\"waldo\">\n",
    "                <span> yo I'm not here</span>\n",
    "            </li>\n",
    "            <li class=\"waldo\">Height:  ???</li>\n",
    "            <li class=\"waldo\">Weight:  ???</li>\n",
    "            <li class=\"waldo\">Last Location:  ???</li>\n",
    "            <li class=\"nerds\">\n",
    "                <div class=\"alpha\">Bill Gates</div>\n",
    "                <div class=\"alpha\">Zuckerberg</div>\n",
    "                <div class=\"beta\">Theil</div>\n",
    "                <div class=\"animal\">Parker</div>\n",
    "            </li>\n",
    "        </ul>\n",
    "        \n",
    "        <ul id=\"tim\">\n",
    "            <li class=\"tdawg\">\n",
    "                <span>yo im here</span>\n",
    "            </li>\n",
    "        </ul>\n",
    "        <li>stuff</li>\n",
    "        <li>stuff2</li>\n",
    "        \n",
    "        <div id=\"cooldiv\">\n",
    "            <span class=\"dsi-rocks\">\n",
    "               YO!\n",
    "            </span>\n",
    "        </div>\n",
    "        \n",
    "        \n",
    "        <waldo>Waldo</waldo>\n",
    "    </body>\n",
    "</html>\n",
    "\"\"\""
   ]
  },
  {
   "cell_type": "markdown",
   "metadata": {},
   "source": [
    "**Tip:** We can use the asterisk character `*` as a placeholder for \"all possible.\"\n",
    "\n",
    "```python\n",
    "# All elements where class='alpha':\n",
    "Selector(text=HTML).xpath('//*[@class=\"alpha\"]').extract()\n",
    "\n",
    "\n",
    "\n",
    "# Returns:\n",
    "\n",
    "[u'<div class=\"alpha\">Bill gates</div>',\n",
    " u'<div class=\"alpha\">Zuckerberg</div>']\n",
    "```\n"
   ]
  },
  {
   "cell_type": "code",
   "execution_count": 6,
   "metadata": {},
   "outputs": [
    {
     "data": {
      "text/plain": [
       "['<div class=\"alpha\">Bill Gates</div>', '<div class=\"alpha\">Zuckerberg</div>']"
      ]
     },
     "execution_count": 6,
     "metadata": {},
     "output_type": "execute_result"
    }
   ],
   "source": [
    "Selector(text=HTML).xpath('//*[@class=\"alpha\"]').extract()"
   ]
  },
  {
   "cell_type": "markdown",
   "metadata": {},
   "source": [
    "** Find the element 'Waldo': **"
   ]
  },
  {
   "cell_type": "code",
   "execution_count": null,
   "metadata": {},
   "outputs": [],
   "source": []
  },
  {
   "cell_type": "code",
   "execution_count": 7,
   "metadata": {},
   "outputs": [
    {
     "data": {
      "text/plain": [
       "['Waldo']"
      ]
     },
     "execution_count": 7,
     "metadata": {},
     "output_type": "execute_result"
    }
   ],
   "source": [
    "# Text contents of the element Waldo:\n",
    "Selector(text=HTML).xpath('/html/body/waldo/text()').extract()"
   ]
  },
  {
   "cell_type": "markdown",
   "metadata": {},
   "source": [
    "**Find the attribute(s) 'Waldo':**"
   ]
  },
  {
   "cell_type": "code",
   "execution_count": 18,
   "metadata": {},
   "outputs": [
    {
     "data": {
      "text/plain": [
       "['<ul id=\"waldo\">\\n            <li class=\"waldo\">\\n                <span> yo I\\'m not here</span>\\n            </li>\\n            <li class=\"waldo\">Height:  ???</li>\\n            <li class=\"waldo\">Weight:  ???</li>\\n            <li class=\"waldo\">Last Location:  ???</li>\\n            <li class=\"nerds\">\\n                <div class=\"alpha\">Bill Gates</div>\\n                <div class=\"alpha\">Zuckerberg</div>\\n                <div class=\"beta\">Theil</div>\\n                <div class=\"animal\">Parker</div>\\n            </li>\\n        </ul>',\n",
       " '<li class=\"waldo\">\\n                <span> yo I\\'m not here</span>\\n            </li>',\n",
       " '<li class=\"waldo\">Height:  ???</li>',\n",
       " '<li class=\"waldo\">Weight:  ???</li>',\n",
       " '<li class=\"waldo\">Last Location:  ???</li>']"
      ]
     },
     "execution_count": 18,
     "metadata": {},
     "output_type": "execute_result"
    }
   ],
   "source": [
    "# Contents of all attributes named Waldo:\n",
    "Selector(text=HTML).xpath('//*[@*=\"waldo\"]').extract()"
   ]
  },
  {
   "cell_type": "code",
   "execution_count": 19,
   "metadata": {},
   "outputs": [
    {
     "data": {
      "text/plain": [
       "['<li class=\"waldo\">\\n                <span> yo I\\'m not here</span>\\n            </li>',\n",
       " '<li class=\"waldo\">Height:  ???</li>',\n",
       " '<li class=\"waldo\">Weight:  ???</li>',\n",
       " '<li class=\"waldo\">Last Location:  ???</li>']"
      ]
     },
     "execution_count": 19,
     "metadata": {},
     "output_type": "execute_result"
    }
   ],
   "source": [
    "# Contents of all class attributes named Waldo:\n",
    "Selector(text=HTML).xpath('//*[@class=\"waldo\"]').extract()"
   ]
  },
  {
   "cell_type": "markdown",
   "metadata": {},
   "source": [
    "**Find the text element Waldo.**"
   ]
  },
  {
   "cell_type": "code",
   "execution_count": 20,
   "metadata": {},
   "outputs": [
    {
     "data": {
      "text/plain": [
       "['<waldo>Waldo</waldo>']"
      ]
     },
     "execution_count": 20,
     "metadata": {},
     "output_type": "execute_result"
    }
   ],
   "source": [
    "# Gets everything around the text element Waldo:\n",
    "Selector(text=HTML).xpath(\"//*[text()='Waldo']\").extract()"
   ]
  },
  {
   "cell_type": "markdown",
   "metadata": {},
   "source": [
    "<a id='scrapy'></a>\n",
    "<a scrapy-spiders></a>\n",
    "## What is a Scrapy Spider?\n",
    "\n",
    "---\n",
    "\n",
    "> *\"[Scrapy](http://scrapy.org/) is an application framework for writing web spiders that \"crawl\" around websites and extract data from them.\"*\n",
    "\n",
    "Below we'll walk through the creation of a **spider** using Scrapy. Spiders are automated processes that will crawl through a web page or web pages to collect information.\n",
    "\n",
    "> **Note:** This code should be written in a script outside of Jupyter.\n",
    "\n",
    "<a id='scrapy-project'></a>\n",
    "### 1) Create a new Scrapy project.\n",
    "\n",
    "In your terminal, `cd` into a directory where you want to create your spider's folder. We recommend the desktop for easy access to the files.\n",
    "> `scrapy startproject craigslist`\n",
    "\n",
    "**It should create an output that looks like this:**\n",
    "<blockquote>\n",
    "```\n",
    "New Scrapy project 'craigslist', using template directory '/Users/jmpounders/anaconda3/lib/python3.6/site-packages/scrapy/templates/project', created in:\n",
    "    /Users/jmpounders/dsi-east-2/scrapy/craigslist\n",
    "\n",
    "You can start your first spider with:\n",
    "    cd craigslist\n",
    "    scrapy genspider example example.com\n",
    "```\n",
    "</blockquote>\n",
    "\n",
    "**That command generates a set of project files:**\n",
    "<blockquote>\n",
    "```\n",
    "├── craigslist\n",
    "│   ├── __init__.py\n",
    "│   ├── __pycache__\n",
    "│   ├── items.py\n",
    "│   ├── middlewares.py\n",
    "│   ├── pipelines.py\n",
    "│   ├── settings.py\n",
    "│   └── spiders\n",
    "│       ├── __init__.py\n",
    "│       └── __pycache__\n",
    "└── scrapy.cfg\n",
    "```\n",
    "</blockquote>\n",
    "\n",
    "Generally, these are our files. We'll go into more detail on these soon.\n",
    "\n",
    " * **`scrapy.cfg`:** The project's configuration file.\n",
    " * **`craigslist/`:** The project’s Python module — you’ll import your code from here later.\n",
    " * **`craigslist/items.py`:** The project’s items file.\n",
    " * **`craigslist/pipelines.py`:** The project’s pipelines file.\n",
    " * **`craigslist/settings.py`:** The project’s settings file.\n",
    " * **`craigslist/spiders/`:** A directory where you’ll store your spiders.\n",
    " \n",
    "Please also add this line to your `craigslist/settings.py` file before continuing:\n",
    " \n",
    " <blockquote>\n",
    " ```\n",
    " DOWNLOAD_HANDLERS = {'s3': None,}\n",
    " ```\n",
    " </blockquote>\n",
    "\n"
   ]
  },
  {
   "cell_type": "markdown",
   "metadata": {},
   "source": [
    "--- \n",
    "<a id='define-item'></a>\n",
    "### 2) Define an \"item.\"\n",
    "\n",
    "When we define an item, we're telling our new application what it will be collecting. In essence, an item is an entity that has attributes (\"title,\" \"description,\" \"price,\" etc.) that are descriptive and relate to elements on pages we'll be scraping.  \n",
    "\n",
    "In more precise terms, this is a model (for those who are familiar with object-relational mapping or relational database terms). Don't worry if this is a foreign concept.  The main idea is to understand that a model has attributes that closely resemble or relate to elements on our target web page(s).\n",
    "\n",
    "```python\n",
    "# -*- coding: utf-8 -*-\n",
    "\n",
    "# Define here the models for your scraped items.\n",
    "#\n",
    "# See documentation in:\n",
    "# http://doc.scrapy.org/en/latest/topics/items.html\n",
    "\n",
    "import scrapy\n",
    "\n",
    "class CraigslistItem(scrapy.Item):\n",
    "    # Define the fields for your item here like:\n",
    "    # name = scrapy.Field()\n",
    "    title = scrapy.Field()\n",
    "    link = scrapy.Field()\n",
    "    price = scrapy.Field()\n",
    "```\n"
   ]
  },
  {
   "cell_type": "markdown",
   "metadata": {},
   "source": [
    "---\n",
    "\n",
    "<a id='spider-crawl'></a>\n",
    "### 3) A spider that crawls.\n",
    "\n",
    "An item is a model that resembles data on a web page. A spider is something that crawls pages and uses our item model to get and hold items for us.\n",
    "\n",
    "**Scrapy spiders are Python classes. Let's write our first file, called `craigslist_spider.py`, and put it in our `/spiders` directory.**\n",
    "\n",
    "```python\n",
    "import scrapy\n",
    "\n",
    "class CraigslistSpider(scrapy.Spider):\n",
    "    name = \"craigslist\"\n",
    "    allowed_domains = [\"craigslist.org\"]\n",
    "    start_urls = [\n",
    "        \"https://atlanta.craigslist.org/search/cto\"\n",
    "    ]\n",
    "\n",
    "    def parse(self, response):\n",
    "        filename = response.url.split(\"/\")[-2]\n",
    "        with open(filename, 'wb') as f:\n",
    "            f.write(response.body)\n",
    "```\n",
    "\n",
    "**Next, let's dive in and crawl from our `/craigslist/craigslist` directory.**\n",
    "\n",
    "```\n",
    "> scrapy crawl craigslist\n",
    "```\n",
    "\n",
    "**What just happened?**\n",
    " * Our application requested the URLs from the `start_urls` class attribute.\n",
    " * It parsed over the content containing the HTML markup of each request URL.\n",
    " * What else?\n",
    " \n",
    "```python\n",
    "    with open(filename, 'wb') as f:\n",
    "        f.write(response.body)\n",
    "```\n",
    "\n",
    "It saved a file in our base project directory. It should be named based on the end of the URL. In our case, it should create a file called \"sfc.\" This is taken directly from the Scrapy docs and its only point is to illustrate the workflow so far. It's nice to have a reference to our HTML file.  \n",
    "\n",
    "There might be some errors listed when we crawl, but they are fine for now."
   ]
  },
  {
   "cell_type": "code",
   "execution_count": 9,
   "metadata": {},
   "outputs": [
    {
     "data": {
      "text/plain": [
       "'search'"
      ]
     },
     "execution_count": 9,
     "metadata": {},
     "output_type": "execute_result"
    }
   ],
   "source": [
    "'https://atlanta.craigslist.org/search/cto'.split('/')[-2]"
   ]
  },
  {
   "cell_type": "markdown",
   "metadata": {},
   "source": [
    "--- \n",
    "<a id='xpath-spider'></a>\n",
    "### 4) XPath and parsing with our spider.\n",
    "\n",
    "So far, we've defined the fields we'll get, some URLs to fetch, and saved some content to a file. Now, it's about to get interesting.\n",
    "\n",
    "**We should let our spider know about the item model we created earlier. In the head of the `craigslist/craigslist/spiders/craigslist_spider.py`, let's add a new import.**\n",
    "\n",
    "```python\n",
    "from craigslist.items import CraigslistItem\n",
    "```\n",
    "\n",
    "> **Check:** Why won't it work otherwise?\n",
    "\n",
    "<br><br><br>\n",
    "**Let's replace our `parse()` method to find some data from our Craigslist spider response and map them to our item model, `CraigslistItem`.**\n",
    "\n",
    "\n",
    "```python\n",
    "def parse(self, response): # Define parse() function. \n",
    "    items = [] # Element for storing scraped information.\n",
    "\thxs = Selector(response) # Selector allows us to grab HTML from the response (target website).\n",
    "\tfor sel in hxs.xpath(\"//li[@class='result-row']/p\"): # Because we're using XPath language, we need to specify that the paragraphs we're trying to isolate are expressed via XPath.\n",
    "\t\titem = CraigslistItem()\n",
    "        item['title'] =  sel.xpath(\"a/text()\").extract() # Title text from the 'a' element. \n",
    "\t\titem['link']  =  sel.xpath(\"a/@href\").extract() # Href/URL from the 'a' element. \n",
    "\t\titem['price'] =  sel.xpath('span/span[@class=\"result-price\"]/text()').extract()[0]\n",
    "                # Price from the result price class nested in a few span elements.\n",
    "        items.append(item)\n",
    "\treturn items # Shows scraped information as terminal output.\n",
    "\n",
    "```\n",
    "\n"
   ]
  },
  {
   "cell_type": "markdown",
   "metadata": {},
   "source": [
    "---\n",
    "\n",
    "<a id='save-examine'></a>\n",
    "### 5) Save and examine our scraped data.\n",
    "\n",
    "By default, we can save our crawled data in a CSV format. To save our data, we just need to pass a few optional parameters to our crawl call:\n",
    "\n",
    "<blockquote>\n",
    "```\n",
    "> scrapy crawl craigslist -o items.csv -t csv\n",
    "```\n",
    "</blockquote>\n",
    "\n",
    "It's always good to iteratively check the data when developing a spider to make sure the set is close to what we want. \n",
    "\n",
    "> *Pro tip: The longer your iterations are between checks, the harder it's going to be to understand what's not working and fix bugs.*\n",
    "\n",
    "You should now have a file called '`items.csv`' in the directory from which you ran the `scrapy crawl` command."
   ]
  },
  {
   "cell_type": "markdown",
   "metadata": {},
   "source": [
    "<a id='addendum'></a>\n",
    "## Addendum: Leveraging XPath to Get More Results\n",
    "\n",
    "---\n",
    "\n",
    "Generally, a workflow that's useful in this context is to load the page in your Chrome browser, check out the page using the XPath Helper plugin, and, from that, derive your own XPath expressions based on the output.\n",
    "\n",
    "`text()` selects only the text of a given element (between the tags), and `@attribute_name` is used to select attributes.\n",
    "\n",
    "**Here are a few examples of `text()`:**\n",
    "<blockquote>\n",
    "```\n",
    "<h1>Darwin - The Evolution Of An Exhibition</h1>\n",
    "```\n",
    "</blockquote>\n",
    "\n",
    "The XPath selector for this:\n",
    "\n",
    "<blockquote>\n",
    "```\n",
    "//h1/text()\n",
    "```\n",
    "</blockquote>\n",
    "\n",
    "**Here are a few examples of attributes:**\n",
    "\n",
    "And the description is contained inside a `<div>` tag with `id=\"description\"`:\n",
    "<blockquote>\n",
    "```\n",
    "<h2>Description:</h2>\n",
    "\n",
    "<div id=\"description\">\n",
    "Short documentary made for the Plymouth City Museum and Art Gallery regarding the set up of an exhibit about Charles Darwin in conjunction with the 200th anniversary of his birth.\n",
    "</div>\n",
    "...\n",
    "```\n",
    "</blockquote>\n",
    "\n",
    "XPath\n",
    "<blockquote>\n",
    "```\n",
    "//div[@id='description']\n",
    "```\n",
    "</blockquote>"
   ]
  },
  {
   "cell_type": "markdown",
   "metadata": {},
   "source": [
    "---\n",
    "<a id='follow-links'></a>\n",
    "### Following Links for More Results\n",
    "\n",
    "One hundred results is pretty good, but what if we want more? We need to follow the \"next\" links and find new pages to grab. Using the **`parse()`** method of our spider class, we need to return another type of object.\n",
    "\n",
    "See [Stack Overflow](https://stackoverflow.com/questions/30152261/make-scrapy-follow-links-and-collect-data) for details!\n"
   ]
  },
  {
   "cell_type": "code",
   "execution_count": null,
   "metadata": {
    "collapsed": true
   },
   "outputs": [],
   "source": []
  }
 ],
 "metadata": {
  "anaconda-cloud": {},
  "kernelspec": {
   "display_name": "Python 3",
   "language": "python",
   "name": "python3"
  },
  "language_info": {
   "codemirror_mode": {
    "name": "ipython",
    "version": 3
   },
   "file_extension": ".py",
   "mimetype": "text/x-python",
   "name": "python",
   "nbconvert_exporter": "python",
   "pygments_lexer": "ipython3",
   "version": "3.7.3"
  }
 },
 "nbformat": 4,
 "nbformat_minor": 1
}
