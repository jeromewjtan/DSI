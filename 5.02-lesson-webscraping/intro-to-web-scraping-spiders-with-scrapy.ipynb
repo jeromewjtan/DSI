{
 "cells": [
  {
   "cell_type": "markdown",
   "metadata": {},
   "source": [
    "<img src=\"http://imgur.com/1ZcRyrc.png\" style=\"float: left; margin: 20px; height: 55px\">\n",
    "\n",
    "# Introduction to Web Scraping and Spiders With Scrapy\n",
    "\n",
    "_Authors: Dave Yerrington (SF), Sam Stack(DC)_\n",
    "\n",
    "_Modified for DSI-EAST-2 by Justin Pounders_\n",
    "\n",
    "---\n",
    "\n",
    "### Learning Objectives\n",
    "- Decipher the structure and content of HTML\n",
    "- Use Beautiful Soup to parse HTML\n",
    "- Use XPath to select HTML elements\n",
    "- Practice using Scrapy to get data from Craigslist\n",
    "- Walk through the construction of a spider built using Scrapy\n"
   ]
  },
  {
   "cell_type": "markdown",
   "metadata": {},
   "source": [
    "<a id='introduction'></a>\n",
    "\n",
    "![What is HTML?](http://designshack.designshack.netdna-cdn.com/wp-content/uploads/htmlbasics-0.jpg)\n",
    "\n",
    "One of the largest sources of data in the world is all around us — the web. Most people consume the web in some form every day. One of the most powerful Python tool sets we'll learn allows us to extract and normalize data from unstructured sources such as web pages.  \n",
    "\n",
    "**If you can see it, it can be scraped, mined, and put into a DataFrame.**\n",
    "\n",
    "Before we begin the actual process of web scraping with Python, it's important to cover the basic constructs that describe HTML as unstructured data. \n",
    "\n",
    "We'll then cover a powerful selection technique called XPath and look at a basic workflow using a framework called [Scrapy](http://www.scrapy.org)."
   ]
  },
  {
   "cell_type": "markdown",
   "metadata": {},
   "source": [
    "<a id='html'></a>\n",
    "\n",
    "## Hypertext Markup Language (HTML)\n",
    "\n",
    "---\n",
    "\n",
    "In the HTML document object model (DOM), everything is a node:\n",
    " * The document itself is a document node.\n",
    " * All HTML elements are element nodes.\n",
    " * All HTML attributes are attribute nodes.\n",
    " * Text inside HTML elements are text nodes.\n",
    " * Comments are comment nodes."
   ]
  },
  {
   "cell_type": "markdown",
   "metadata": {},
   "source": [
    "<a id='elements'></a>\n",
    "### Elements\n",
    "Elements begin and end with opening and closing \"tags,\" which are defined by namespaced, encapsulated strings. These namespaces, which begin and end the elements, must be the same. \n",
    "\n",
    "```html\n",
    "<title>I am a title.</title>\n",
    "<p>I am a paragraph.</p>\n",
    "<strong>I am bold.</strong>\n",
    "```\n",
    "\n",
    "When you have several different titles or paragraphs on a single page, you can assign ID values to namespaces to make more unique reference points. IDs are also useful for labelling nested elements.\n",
    "```html\n",
    "<title id ='title_1'>I am the first title.</title>\n",
    "<p id ='para_1'>I am the first paragraph.</p>\n",
    "<title id ='title_2'>I am the second title.</title>\n",
    "<p id ='para_2'>I am the second paragraph.</p>\n",
    "```\n",
    "\n",
    "\n",
    "**Elements can have parents and children.**\n",
    "It's important to remember that an element can be both a parent and a child — whether an element is referred to as a parent or child depends on the specific element you're referencing.\n",
    "\n",
    "\n",
    "```html\n",
    "<body id = 'parent'>\n",
    "    <div id = 'child_1'>I am the child of 'parent.'\n",
    "        <div id = 'child_2'>I am the child of 'child_1.'\n",
    "            <div id = 'child_3'>I am the child of 'child_2.'\n",
    "                <div id = 'child_4'>I am the child of 'child_4.'</div>\n",
    "            </div>\n",
    "        </div>\n",
    "    </div>\n",
    "</body>\n",
    "```\n",
    "**or**\n",
    "```html\n",
    "<body id = 'parent'>\n",
    "    <div id = 'child_1'>I am the parent of 'child_2.'\n",
    "        <div id = 'child_2'>I am the parent of 'child_3.'\n",
    "            <div id = 'child_3'> I am the parent of 'child_4.'\n",
    "                <div id = 'child_4'>I am not a parent. </div>\n",
    "            </div>\n",
    "        </div>\n",
    "    </div>\n",
    "</body>\n",
    "```"
   ]
  },
  {
   "cell_type": "markdown",
   "metadata": {},
   "source": [
    "<a id='attributes'></a>\n",
    "### Attributes\n",
    "\n",
    "HTML elements can also have attributes. They describe the properties and characteristics of elements. Some affect how the element behaves or looks in terms of the output rendered by the browser.\n",
    "\n",
    "The most common element is an anchor element. Anchor elements often have an \"href\" element, which tells the browser where to go after it's clicked. An anchor element is typically formatted in bold type and is sometimes underlined as a visual cue to differentiate it.\n",
    "\n",
    "**The markup that describes an element with attributes literally looks like this:**\n",
    "\n",
    "```html\n",
    "<a href=\"https://www.youtube.com/watch?v=dQw4w9WgXcQ\">An Awesome Website</a>\n",
    "```\n",
    "\n",
    "**However, this element, once rendered, looks like this:**\n",
    "\n",
    "[An Awesome Website](https://www.youtube.com/watch?v=dQw4w9WgXcQ)"
   ]
  },
  {
   "cell_type": "markdown",
   "metadata": {},
   "source": [
    "<a id='element-hierarchy'></a>\n",
    "### Element Hierarchy\n",
    "\n",
    "![Nodes](http://www.computerhope.com/jargon/d/dom1.jpg)\n",
    "\n",
    "**Literally represented as:**\n",
    "\n",
    "```html\n",
    "<html>\n",
    "    \n",
    "    <head>\n",
    "        <title>Example</title>\n",
    "    </head>\n",
    "    \n",
    "    <body>\n",
    "        <h1>Example Page</h1>\n",
    "        <p>This is an example page.</p>\n",
    "    </body>\n",
    "    \n",
    "</html>\n",
    "```"
   ]
  },
  {
   "cell_type": "markdown",
   "metadata": {},
   "source": [
    "<a id='html-resources'></a>\n",
    "### Additional HTML Resources\n",
    "\n",
    "Read all about the different elements supported by modern browsers:\n",
    " * [HTML5 cheat sheet](http://websitesetup.org/html5-cheat-sheet/).\n",
    " * [Mozilla HTML element reference](https://developer.mozilla.org/en-US/docs/Web/HTML/Element).\n",
    " * [HTML5 visual cheat sheet](http://www.unitedleather.biz/PDF/HTML5-Visual-Cheat-Sheet1.pdf).\n",
    " "
   ]
  },
  {
   "cell_type": "markdown",
   "metadata": {},
   "source": [
    "<a id='practical'></a>\n",
    "\n",
    "## Using Requests and Beautiful Soup to Extract Information From a Web Page\n",
    "\n",
    "---\n",
    "\n",
    "Beautiful Soup is a Python library that's useful for pulling data out of HTML and XML files. It works with many parsers, such as XPath, and can be executed in an IDE, meaning it can be easier to work with when first extracting information from HTML.\n",
    "\n",
    "Please make sure that the required packages are installed: \n",
    "\n",
    "```bash\n",
    "# Beautiful Soup:\n",
    "> conda install beautifulsoup4\n",
    "> conda install lxml\n",
    "\n",
    "# Or if conda doesn't work:\n",
    "> pip install beautifulsoup4\n",
    "> pip install lxml\n",
    "```"
   ]
  },
  {
   "cell_type": "code",
   "execution_count": 1,
   "metadata": {},
   "outputs": [],
   "source": [
    "from bs4 import BeautifulSoup"
   ]
  },
  {
   "cell_type": "code",
   "execution_count": 19,
   "metadata": {},
   "outputs": [],
   "source": [
    "soup = BeautifulSoup(open(\"sample.html\"), \"lxml\")"
   ]
  },
  {
   "cell_type": "code",
   "execution_count": 3,
   "metadata": {},
   "outputs": [
    {
     "data": {
      "text/plain": [
       "<!DOCTYPE html>\n",
       "<html>\n",
       "<head>\n",
       "<title>Hello, World!</title>\n",
       "</head>\n",
       "<body>\n",
       "<h1>Header 1</h1>\n",
       "<h2>Header 2</h2>\n",
       "<p>This is a paragraph</p>\n",
       "<a href=\"https://www.google.com/\">Google it!</a>\n",
       "<h3>What's in a div?</h3>\n",
       "<div class=\"divvy-it-up\" id=\"foobar\">\n",
       "<p id=\"layer1\">I'm in a div.  Yeah!</p>\n",
       "<div>\n",
       "<p id=\"layer2\">I'm in a div, too!</p>\n",
       "</div>\n",
       "</div>\n",
       "<div class=\"todo\">\n",
       "<ul>\n",
       "<li> Take out trash</li>\n",
       "<li> Walk dog</li>\n",
       "</ul>\n",
       "</div>\n",
       "<div class=\"something\">\n",
       "<ol>\n",
       "<li>One</li>\n",
       "<li>Two</li>\n",
       "</ol>\n",
       "</div>\n",
       "</body>\n",
       "</html>"
      ]
     },
     "execution_count": 3,
     "metadata": {},
     "output_type": "execute_result"
    }
   ],
   "source": [
    "soup.extract()"
   ]
  },
  {
   "cell_type": "code",
   "execution_count": 4,
   "metadata": {},
   "outputs": [
    {
     "name": "stdout",
     "output_type": "stream",
     "text": [
      "<title>Hello, World!</title>\n",
      "Hello, World!\n"
     ]
    }
   ],
   "source": [
    "print(soup.title)\n",
    "print(soup.title.text)"
   ]
  },
  {
   "cell_type": "code",
   "execution_count": 5,
   "metadata": {},
   "outputs": [
    {
     "name": "stdout",
     "output_type": "stream",
     "text": [
      " Take out trash\n",
      " Walk dog\n"
     ]
    }
   ],
   "source": [
    "ulist = soup.find('ul') # return the _first_ <ul>\n",
    "for list_item in ulist.find_all('li'):    # return _all_ matches, <li>\n",
    "    print(list_item.text)"
   ]
  },
  {
   "cell_type": "code",
   "execution_count": 6,
   "metadata": {},
   "outputs": [],
   "source": [
    "p_text = soup.find_all('div')"
   ]
  },
  {
   "cell_type": "code",
   "execution_count": 7,
   "metadata": {},
   "outputs": [
    {
     "data": {
      "text/plain": [
       "[<div class=\"divvy-it-up\" id=\"foobar\">\n",
       " <p id=\"layer1\">I'm in a div.  Yeah!</p>\n",
       " <div>\n",
       " <p id=\"layer2\">I'm in a div, too!</p>\n",
       " </div>\n",
       " </div>, <div>\n",
       " <p id=\"layer2\">I'm in a div, too!</p>\n",
       " </div>, <div class=\"todo\">\n",
       " <ul>\n",
       " <li> Take out trash</li>\n",
       " <li> Walk dog</li>\n",
       " </ul>\n",
       " </div>, <div class=\"something\">\n",
       " <ol>\n",
       " <li>One</li>\n",
       " <li>Two</li>\n",
       " </ol>\n",
       " </div>]"
      ]
     },
     "execution_count": 7,
     "metadata": {},
     "output_type": "execute_result"
    }
   ],
   "source": [
    "p_text"
   ]
  },
  {
   "cell_type": "code",
   "execution_count": 8,
   "metadata": {},
   "outputs": [
    {
     "name": "stdout",
     "output_type": "stream",
     "text": [
      "\n",
      "I'm in a div.  Yeah!\n",
      "\n",
      "I'm in a div, too!\n",
      "\n",
      "\n",
      "\n",
      "I'm in a div, too!\n",
      "\n",
      "\n",
      "\n",
      " Take out trash\n",
      " Walk dog\n",
      "\n",
      "\n",
      "\n",
      "\n",
      "One\n",
      "Two\n",
      "\n",
      "\n"
     ]
    }
   ],
   "source": [
    "for element in p_text:\n",
    "    print(element.text)"
   ]
  },
  {
   "cell_type": "code",
   "execution_count": 21,
   "metadata": {},
   "outputs": [
    {
     "name": "stdout",
     "output_type": "stream",
     "text": [
      "[<a href=\"https://www.google.com/\">Google it!</a>]\n",
      "<a href=\"https://www.google.com/\">Google it!</a>\n",
      "https://www.google.com/\n"
     ]
    }
   ],
   "source": [
    "# <a href=\"https://www.google.com/\">\n",
    "a_list = soup.find_all('a')\n",
    "print(a_list)\n",
    "first_a = a_list[0]    # access the results like a list\n",
    "print(first_a)\n",
    "link = first_a['href'] # access attributes of an element like a dict\n",
    "print(link)"
   ]
  },
  {
   "cell_type": "code",
   "execution_count": 31,
   "metadata": {},
   "outputs": [
    {
     "name": "stdout",
     "output_type": "stream",
     "text": [
      "[<div class=\"divvy-it-up\" id=\"foobar\">\n",
      "<p id=\"layer1\">I'm in a div.  Yeah!</p>\n",
      "<div>\n",
      "<p id=\"layer2\">I'm in a div, too!</p>\n",
      "</div>\n",
      "</div>]\n"
     ]
    }
   ],
   "source": [
    "#<div class=\"divvy-it-up\" id=\"foobar\">\n",
    "#<p id=\"layer1\">I'm in a div.  Yeah!</p>\n",
    "#<div>\n",
    "#<p id=\"layer2\">I'm in a div, too!</p>\n",
    "#</div>\n",
    "#</div>\n",
    "\n",
    "#div_results = soup.body.find_all(class_='divvy-it-up')\n",
    "div_results = soup.body.find_all(id='foobar')\n",
    "\n",
    "#div_results = soup.body.find_all('div', \n",
    " #                      {'id':'foobar', 'class':'divvy-it-up'})\n",
    "print(div_results)\n",
    "#print(\"\\n\\n\",div_results[0].find('p', {'id':'layer2'}).text)"
   ]
  },
  {
   "cell_type": "markdown",
   "metadata": {},
   "source": [
    "### Let's scrape DataTau!"
   ]
  },
  {
   "cell_type": "markdown",
   "metadata": {},
   "source": [
    "<a id='step1'></a>\n",
    "### 1) Fetch the content by URL.\n"
   ]
  },
  {
   "cell_type": "code",
   "execution_count": 21,
   "metadata": {},
   "outputs": [
    {
     "name": "stdout",
     "output_type": "stream",
     "text": [
      "200\n"
     ]
    },
    {
     "data": {
      "text/plain": [
       "'\\n\\n<html lang=\"en\">\\n\\n<head>\\n\\n  \\n  <title>DataTau - Hacker News Clone - Data Science Newsboard</title>\\n  \\n\\n  <link rel=\"canonical\" href=\"https://datatau.net\">\\n\\n  <!-- Global site tag (gtag.js) - Google Analytics -->\\n<script async src=\"https://www.googletagmanager.com/gtag/js?id=UA-138960039-3\"></script>\\n<script>\\n  window.dataLayer = window.dataLayer || [];\\n  function gtag(){dataLayer.push(arguments);}\\n  gtag(\\'js\\', new Date());\\n\\n  gtag(\\'config\\', \\'UA-138960039-3\\');\\n</script>\\n  \\n\\n<meta charset=\"UTF-8\">\\n<meta name=\"description\"\\n      content=\"DataTau: Hacker News Clone - Data Science Newsboard\">\\n<meta name=\"keywords\"\\n      content=\"datatau, machine learning, data science, ai, artificial inteligence,\\n       blog, forum, deep learning, newsboard\">\\n<meta name=\"viewport\" content=\"width=device-width, initial-scale=1.0\">\\n\\n\\n\\n<meta property=\"og:title\" content=\"DataTau\"/>\\n<meta property=\"og:description\" content=\"DataTau: Hacker News Clone - Data Science Newsboard\"/>\\n<meta property=\"og:type\" content=\"website\"/>\\n<meta property=\"og:url\" content=\"https://datatau.net\"/>\\n<meta property=\"og:site_name\" content=\"https://datatau.net\"/>\\n<meta property=\"og:image\" content=\"https://datatau.net/static/img/og.png\"/>\\n\\n\\n\\n<meta name=\"twitter:card\" content=\"summary\">\\n<meta name=\"twitter:url\" content=\"https://datatau.net\">\\n<meta name=\"twitter:title\" content=\"DataTau\">\\n<meta name=\"twitter:description\" content=\"DataTau: Hacker News Clone - Data Science Newsboard\"/>\\n<meta name=\"twitter:image\" content=\"https://datatau.net/static/img/og.png\">\\n<meta name=\"twitter:site\" content=\"@TheGurusTeam\">\\n<meta name=\"twitter:creator\" content=\"@TheGurusTeam\">\\n\\n  \\n\\n<!-- Favicon -->\\n<link rel=\"shortcut icon\" href=\"/static/img/favicon.ico\"/>\\n\\n<!-- custom landing page stylesheets -->\\n<link rel=\"stylesheet\" href=\"/static/css/style.css\"/>\\n\\n\\n</head>\\n\\n<body>\\n<div class=\"center\">\\n  <table bgcolor=\"#f6f6ef\" border=\"0\" cellpadding=\"0\" cellspacing=\"0\" id=\"hnmain\" width=\"85%\">\\n    <tr>\\n      <td bgcolor=\"#00b4b4\">\\n        <table border=\"0\" cellpadding=\"0\" cellspacing=\"0\" style=\"padding:2px\" width=\"100%\">\\n          <tr>\\n            <td style=\"width:18px;padding-right:4px\">\\n              <a href=\"/\">\\n                <img alt=\"DataTau logo\"\\n                     height=\"18\" src=\"/static/img/datatau.png\"\\n                     style=\"border:1px white solid;\"\\n                     width=\"18\">\\n              </a>\\n            </td>\\n            <td style=\"line-height:12pt; height:10px;\">\\n              <span class=\"pagetop\">\\n                    <h1 class=\"hnname\"><a href=\"/\">DataTau</a></h1>\\n\\n                    <a href=\"/new\">new</a> |\\n                    <a href=\"/ask\">ask</a> |\\n                    <a href=\"/show\">show</a> |\\n                    <a href=\"/submit\">submit</a>\\n              </span>\\n            </td>\\n            <td style=\"text-align:right;padding-right:4px;\">\\n              <span class=\"pagetop\">\\n                \\n                    <a href=\"/accounts/login/\">login</a>\\n                \\n              </span>\\n            </td>\\n          </tr>\\n        </table>\\n      </td>\\n    </tr>\\n    \\n    <tr id=\"pagespace\" style=\"height:10px\" title=\"\"></tr>\\n    \\n    <tr>\\n      <td>\\n        \\n<table border=\"0\" cellpadding=\"0\" cellspacing=\"0\" class=\"itemlist\">\\n\\n  <!-- repeat this block n times-->\\n  \\n\\n  <tr class=\\'athing\\' id=557>\\n    <td align=\"right\" class=\"title\" valign=\"top\"><span class=\"rank\">1.</span>\\n    </td>\\n    <td class=\"votelinks\" valign=\"top\">\\n      <div class=\"center\">\\n        \\n        \\n        <a id=\"up_557\" onclick=\"upvotePost(this)\" style=\"cursor: pointer\">\\n          <div class=\\'votearrow\\' title=\\'upvote\\'></div>\\n        </a>\\n        \\n        \\n      </div>\\n    </td>\\n    <td class=\"title\">\\n      \\n      <a href=\"https://www.interviewquery.com/company/facebook-data-scientist-interview\" title=\"The Facebook Data Science Interview\" id=\"title_557\" class=\"storylink\">The Facebook Data Science Interview</a>\\n      \\n      <span class=\"sitebit comhead\"> (<a href=\"/site/interviewquery.com\"><span\\n          class=\"sitestr\">interviewquery.com</span></a>)</span>\\n    </td>\\n  </tr>\\n\\n  <tr>\\n    <td colspan=\"2\"></td>\\n    <td class=\"subtext\">\\n\\n      <span class=\"score\" id=\"score_557\">\\n        5 points</span> by\\n      <a class=\"hnuser\" href=\"/profile/135\">data4lyfe</a>\\n      <a class=\"age\" href=\"/post/557\">6 days ago</a> |\\n      <a href=\"/post/557\">\\n        \\n        discuss\\n        \\n      </a>\\n      \\n    </td>\\n  </tr>\\n\\n  <tr class=\"spacer\" style=\"height:5px\"></tr>\\n\\n  \\n\\n  <tr class=\\'athing\\' id=562>\\n    <td align=\"right\" class=\"title\" valign=\"top\"><span class=\"rank\">2.</span>\\n    </td>\\n    <td class=\"votelinks\" valign=\"top\">\\n      <div class=\"center\">\\n        \\n        \\n        <a id=\"up_562\" onclick=\"upvotePost(this)\" style=\"cursor: pointer\">\\n          <div class=\\'votearrow\\' title=\\'upvote\\'></div>\\n        </a>\\n        \\n        \\n      </div>\\n    </td>\\n    <td class=\"title\">\\n      \\n      <a href=\"https://www.youtube.com/watch?v=oBklltKXtDE\" title=\"Autonomous Driving at Tesla using Pytorch by Karpathy\" id=\"title_562\" class=\"storylink\">Autonomous Driving at Tesla using Pytorch by Karpathy</a>\\n      \\n      <span class=\"sitebit comhead\"> (<a href=\"/site/youtube.com\"><span\\n          class=\"sitestr\">youtube.com</span></a>)</span>\\n    </td>\\n  </tr>\\n\\n  <tr>\\n    <td colspan=\"2\"></td>\\n    <td class=\"subtext\">\\n\\n      <span class=\"score\" id=\"score_562\">\\n        3 points</span> by\\n      <a class=\"hnuser\" href=\"/profile/234\">ninja</a>\\n      <a class=\"age\" href=\"/post/562\">4 days ago</a> |\\n      <a href=\"/post/562\">\\n        \\n        discuss\\n        \\n      </a>\\n      \\n    </td>\\n  </tr>\\n\\n  <tr class=\"spacer\" style=\"height:5px\"></tr>\\n\\n  \\n\\n  <tr class=\\'athing\\' id=542>\\n    <td align=\"right\" class=\"title\" valign=\"top\"><span class=\"rank\">3.</span>\\n    </td>\\n    <td class=\"votelinks\" valign=\"top\">\\n      <div class=\"center\">\\n        \\n        \\n        <a id=\"up_542\" onclick=\"upvotePost(this)\" style=\"cursor: pointer\">\\n          <div class=\\'votearrow\\' title=\\'upvote\\'></div>\\n        </a>\\n        \\n        \\n      </div>\\n    </td>\\n    <td class=\"title\">\\n      \\n      <a href=\"https://towardsdatascience.com/exploratory-data-analysis-with-pandas-508a5e8a5964\" title=\"Exploratory Data Analysis with pandas\" id=\"title_542\" class=\"storylink\">Exploratory Data Analysis with pandas</a>\\n      \\n      <span class=\"sitebit comhead\"> (<a href=\"/site/towardsdatascience.com\"><span\\n          class=\"sitestr\">towardsdatascience.com</span></a>)</span>\\n    </td>\\n  </tr>\\n\\n  <tr>\\n    <td colspan=\"2\"></td>\\n    <td class=\"subtext\">\\n\\n      <span class=\"score\" id=\"score_542\">\\n        5 points</span> by\\n      <a class=\"hnuser\" href=\"/profile/275\">hippohoppy</a>\\n      <a class=\"age\" href=\"/post/542\">8 days ago</a> |\\n      <a href=\"/post/542\">\\n        \\n        1 comment\\n        \\n      </a>\\n      \\n    </td>\\n  </tr>\\n\\n  <tr class=\"spacer\" style=\"height:5px\"></tr>\\n\\n  \\n\\n  <tr class=\\'athing\\' id=564>\\n    <td align=\"right\" class=\"title\" valign=\"top\"><span class=\"rank\">4.</span>\\n    </td>\\n    <td class=\"votelinks\" valign=\"top\">\\n      <div class=\"center\">\\n        \\n        \\n        <a id=\"up_564\" onclick=\"upvotePost(this)\" style=\"cursor: pointer\">\\n          <div class=\\'votearrow\\' title=\\'upvote\\'></div>\\n        </a>\\n        \\n        \\n      </div>\\n    </td>\\n    <td class=\"title\">\\n      \\n      <a href=\"https://ai-jobs.net/mlops-the-new-mantra-for-businesses-in-the-ai-and-ml-game/\" title=\"MLOps – The New Mantra for Businesses in the AI and ML Game\" id=\"title_564\" class=\"storylink\">MLOps – The New Mantra for Businesses in the AI and ML Game</a>\\n      \\n      <span class=\"sitebit comhead\"> (<a href=\"/site/ai-jobs.net\"><span\\n          class=\"sitestr\">ai-jobs.net</span></a>)</span>\\n    </td>\\n  </tr>\\n\\n  <tr>\\n    <td colspan=\"2\"></td>\\n    <td class=\"subtext\">\\n\\n      <span class=\"score\" id=\"score_564\">\\n        2 points</span> by\\n      <a class=\"hnuser\" href=\"/profile/85\">pat</a>\\n      <a class=\"age\" href=\"/post/564\">4 days ago</a> |\\n      <a href=\"/post/564\">\\n        \\n        discuss\\n        \\n      </a>\\n      \\n    </td>\\n  </tr>\\n\\n  <tr class=\"spacer\" style=\"height:5px\"></tr>\\n\\n  \\n\\n  <tr class=\\'athing\\' id=563>\\n    <td align=\"right\" class=\"title\" valign=\"top\"><span class=\"rank\">5.</span>\\n    </td>\\n    <td class=\"votelinks\" valign=\"top\">\\n      <div class=\"center\">\\n        \\n        \\n        <a id=\"up_563\" onclick=\"upvotePost(this)\" style=\"cursor: pointer\">\\n          <div class=\\'votearrow\\' title=\\'upvote\\'></div>\\n        </a>\\n        \\n        \\n      </div>\\n    </td>\\n    <td class=\"title\">\\n      \\n      <a href=\"https://medium.com/propertyfinder-engineering/pf-toilet-finder-12391498d421\" title=\"Toilet Finder: Using Transfer Learning to Create a Rapid Image Classification Pipeline\" id=\"title_563\" class=\"storylink\">Toilet Finder: Using Transfer Learning to Create a Rapid Image Classification Pipeline</a>\\n      \\n      <span class=\"sitebit comhead\"> (<a href=\"/site/medium.com\"><span\\n          class=\"sitestr\">medium.com</span></a>)</span>\\n    </td>\\n  </tr>\\n\\n  <tr>\\n    <td colspan=\"2\"></td>\\n    <td class=\"subtext\">\\n\\n      <span class=\"score\" id=\"score_563\">\\n        2 points</span> by\\n      <a class=\"hnuser\" href=\"/profile/360\">baddar</a>\\n      <a class=\"age\" href=\"/post/563\">4 days ago</a> |\\n      <a href=\"/post/563\">\\n        \\n        discuss\\n        \\n      </a>\\n      \\n    </td>\\n  </tr>\\n\\n  <tr class=\"spacer\" style=\"height:5px\"></tr>\\n\\n  \\n\\n  <tr class=\\'athing\\' id=544>\\n    <td align=\"right\" class=\"title\" valign=\"top\"><span class=\"rank\">6.</span>\\n    </td>\\n    <td class=\"votelinks\" valign=\"top\">\\n      <div class=\"center\">\\n        \\n        \\n        <a id=\"up_544\" onclick=\"upvotePost(this)\" style=\"cursor: pointer\">\\n          <div class=\\'votearrow\\' title=\\'upvote\\'></div>\\n        </a>\\n        \\n        \\n      </div>\\n    </td>\\n    <td class=\"title\">\\n      \\n      <a href=\"https://medium.com/analytics-and-data/data-scientists-should-act-more-like-product-managers-98b6c55fc956https://medium.com/analytics-and-data/data-scientists-should-act-more-like-product-managers-98b6c55fc956\" title=\"Data Scientists should act more like Product Managers\" id=\"title_544\" class=\"storylink\">Data Scientists should act more like Product Managers</a>\\n      \\n      <span class=\"sitebit comhead\"> (<a href=\"/site/medium.com\"><span\\n          class=\"sitestr\">medium.com</span></a>)</span>\\n    </td>\\n  </tr>\\n\\n  <tr>\\n    <td colspan=\"2\"></td>\\n    <td class=\"subtext\">\\n\\n      <span class=\"score\" id=\"score_544\">\\n        3 points</span> by\\n      <a class=\"hnuser\" href=\"/profile/152\">linkerzx</a>\\n      <a class=\"age\" href=\"/post/544\">8 days ago</a> |\\n      <a href=\"/post/544\">\\n        \\n        discuss\\n        \\n      </a>\\n      \\n    </td>\\n  </tr>\\n\\n  <tr class=\"spacer\" style=\"height:5px\"></tr>\\n\\n  \\n\\n  <tr class=\\'athing\\' id=541>\\n    <td align=\"right\" class=\"title\" valign=\"top\"><span class=\"rank\">7.</span>\\n    </td>\\n    <td class=\"votelinks\" valign=\"top\">\\n      <div class=\"center\">\\n        \\n        \\n        <a id=\"up_541\" onclick=\"upvotePost(this)\" style=\"cursor: pointer\">\\n          <div class=\\'votearrow\\' title=\\'upvote\\'></div>\\n        </a>\\n        \\n        \\n      </div>\\n    </td>\\n    <td class=\"title\">\\n      \\n      <a href=\"https://towardsdatascience.com/memory-management-in-python-6bea0c8aecc9?source=friends_link&amp;sk=c23f4b6e508d25e779d5d9b99679c3b6\" title=\"Memory Management in Python\" id=\"title_541\" class=\"storylink\">Memory Management in Python</a>\\n      \\n      <span class=\"sitebit comhead\"> (<a href=\"/site/towardsdatascience.com\"><span\\n          class=\"sitestr\">towardsdatascience.com</span></a>)</span>\\n    </td>\\n  </tr>\\n\\n  <tr>\\n    <td colspan=\"2\"></td>\\n    <td class=\"subtext\">\\n\\n      <span class=\"score\" id=\"score_541\">\\n        3 points</span> by\\n      <a class=\"hnuser\" href=\"/profile/139\">jwwriting</a>\\n      <a class=\"age\" href=\"/post/541\">9 days ago</a> |\\n      <a href=\"/post/541\">\\n        \\n        discuss\\n        \\n      </a>\\n      \\n    </td>\\n  </tr>\\n\\n  <tr class=\"spacer\" style=\"height:5px\"></tr>\\n\\n  \\n\\n  <tr class=\\'athing\\' id=510>\\n    <td align=\"right\" class=\"title\" valign=\"top\"><span class=\"rank\">8.</span>\\n    </td>\\n    <td class=\"votelinks\" valign=\"top\">\\n      <div class=\"center\">\\n        \\n        \\n        <a id=\"up_510\" onclick=\"upvotePost(this)\" style=\"cursor: pointer\">\\n          <div class=\\'votearrow\\' title=\\'upvote\\'></div>\\n        </a>\\n        \\n        \\n      </div>\\n    </td>\\n    <td class=\"title\">\\n      \\n      <a href=\"https://medium.com/p/5-mistakes-when-writing-sql-queries-b34ce31fcbe4?source=email-68bf0657a0cd--writer.postDistributed&amp;sk=ffb2ff2e03e33bed0e9b0c4a63c9f9e9\" title=\"5 mistakes when writing SQL queries\" id=\"title_510\" class=\"storylink\">5 mistakes when writing SQL queries</a>\\n      \\n      <span class=\"sitebit comhead\"> (<a href=\"/site/medium.com\"><span\\n          class=\"sitestr\">medium.com</span></a>)</span>\\n    </td>\\n  </tr>\\n\\n  <tr>\\n    <td colspan=\"2\"></td>\\n    <td class=\"subtext\">\\n\\n      <span class=\"score\" id=\"score_510\">\\n        5 points</span> by\\n      <a class=\"hnuser\" href=\"/profile/341\">someonw</a>\\n      <a class=\"age\" href=\"/post/510\">14 days ago</a> |\\n      <a href=\"/post/510\">\\n        \\n        discuss\\n        \\n      </a>\\n      \\n    </td>\\n  </tr>\\n\\n  <tr class=\"spacer\" style=\"height:5px\"></tr>\\n\\n  \\n\\n  <tr class=\\'athing\\' id=548>\\n    <td align=\"right\" class=\"title\" valign=\"top\"><span class=\"rank\">9.</span>\\n    </td>\\n    <td class=\"votelinks\" valign=\"top\">\\n      <div class=\"center\">\\n        \\n        \\n        <a id=\"up_548\" onclick=\"upvotePost(this)\" style=\"cursor: pointer\">\\n          <div class=\\'votearrow\\' title=\\'upvote\\'></div>\\n        </a>\\n        \\n        \\n      </div>\\n    </td>\\n    <td class=\"title\">\\n      \\n      <a href=\"https://medium.com/syncedreview/huawei-tops-eth-zurich-2019-smartphone-deep-learning-rankings-4a16fe9e7857\" title=\"Huawei Tops ETH Zurich 2019 Smartphone Deep Learning Rankings\" id=\"title_548\" class=\"storylink\">Huawei Tops ETH Zurich 2019 Smartphone Deep Learning Rankings</a>\\n      \\n      <span class=\"sitebit comhead\"> (<a href=\"/site/medium.com\"><span\\n          class=\"sitestr\">medium.com</span></a>)</span>\\n    </td>\\n  </tr>\\n\\n  <tr>\\n    <td colspan=\"2\"></td>\\n    <td class=\"subtext\">\\n\\n      <span class=\"score\" id=\"score_548\">\\n        2 points</span> by\\n      <a class=\"hnuser\" href=\"/profile/281\">raunnie</a>\\n      <a class=\"age\" href=\"/post/548\">7 days ago</a> |\\n      <a href=\"/post/548\">\\n        \\n        discuss\\n        \\n      </a>\\n      \\n    </td>\\n  </tr>\\n\\n  <tr class=\"spacer\" style=\"height:5px\"></tr>\\n\\n  \\n\\n  <tr class=\\'athing\\' id=525>\\n    <td align=\"right\" class=\"title\" valign=\"top\"><span class=\"rank\">10.</span>\\n    </td>\\n    <td class=\"votelinks\" valign=\"top\">\\n      <div class=\"center\">\\n        \\n        \\n        <a id=\"up_525\" onclick=\"upvotePost(this)\" style=\"cursor: pointer\">\\n          <div class=\\'votearrow\\' title=\\'upvote\\'></div>\\n        </a>\\n        \\n        \\n      </div>\\n    </td>\\n    <td class=\"title\">\\n      \\n      <a href=\"https://medium.com/better-programming/how-to-market-yourself-as-a-programmer-e145635ba534?source=friends_link&amp;sk=e099e86bb92cd56efe1beb6862ea325c\" title=\"How To Market Yourself As a Programmer\" id=\"title_525\" class=\"storylink\">How To Market Yourself As a Programmer</a>\\n      \\n      <span class=\"sitebit comhead\"> (<a href=\"/site/medium.com\"><span\\n          class=\"sitestr\">medium.com</span></a>)</span>\\n    </td>\\n  </tr>\\n\\n  <tr>\\n    <td colspan=\"2\"></td>\\n    <td class=\"subtext\">\\n\\n      <span class=\"score\" id=\"score_525\">\\n        3 points</span> by\\n      <a class=\"hnuser\" href=\"/profile/139\">jwwriting</a>\\n      <a class=\"age\" href=\"/post/525\">12 days ago</a> |\\n      <a href=\"/post/525\">\\n        \\n        discuss\\n        \\n      </a>\\n      \\n    </td>\\n  </tr>\\n\\n  <tr class=\"spacer\" style=\"height:5px\"></tr>\\n\\n  \\n\\n  <tr class=\\'athing\\' id=540>\\n    <td align=\"right\" class=\"title\" valign=\"top\"><span class=\"rank\">11.</span>\\n    </td>\\n    <td class=\"votelinks\" valign=\"top\">\\n      <div class=\"center\">\\n        \\n        \\n        <a id=\"up_540\" onclick=\"upvotePost(this)\" style=\"cursor: pointer\">\\n          <div class=\\'votearrow\\' title=\\'upvote\\'></div>\\n        </a>\\n        \\n        \\n      </div>\\n    </td>\\n    <td class=\"title\">\\n      \\n      <a href=\"https://www.forbes.com/sites/cognitiveworld/2019/11/16/can-artificial-intelligence-learn-tolearn/#198ac65e3df7\" title=\"Can Artificial Intelligence Learn to Learn?\" id=\"title_540\" class=\"storylink\">Can Artificial Intelligence Learn to Learn?</a>\\n      \\n      <span class=\"sitebit comhead\"> (<a href=\"/site/forbes.com\"><span\\n          class=\"sitestr\">forbes.com</span></a>)</span>\\n    </td>\\n  </tr>\\n\\n  <tr>\\n    <td colspan=\"2\"></td>\\n    <td class=\"subtext\">\\n\\n      <span class=\"score\" id=\"score_540\">\\n        2 points</span> by\\n      <a class=\"hnuser\" href=\"/profile/139\">jwwriting</a>\\n      <a class=\"age\" href=\"/post/540\">9 days ago</a> |\\n      <a href=\"/post/540\">\\n        \\n        discuss\\n        \\n      </a>\\n      \\n    </td>\\n  </tr>\\n\\n  <tr class=\"spacer\" style=\"height:5px\"></tr>\\n\\n  \\n\\n  <tr class=\\'athing\\' id=539>\\n    <td align=\"right\" class=\"title\" valign=\"top\"><span class=\"rank\">12.</span>\\n    </td>\\n    <td class=\"votelinks\" valign=\"top\">\\n      <div class=\"center\">\\n        \\n        \\n        <a id=\"up_539\" onclick=\"upvotePost(this)\" style=\"cursor: pointer\">\\n          <div class=\\'votearrow\\' title=\\'upvote\\'></div>\\n        </a>\\n        \\n        \\n      </div>\\n    </td>\\n    <td class=\"title\">\\n      \\n      <a href=\"https://towardsdatascience.com/powering-sql-with-machine-learning-capabilities-24eba7d0914c\" title=\"Powering SQL With Machine Learning Capabilities\" id=\"title_539\" class=\"storylink\">Powering SQL With Machine Learning Capabilities</a>\\n      \\n      <span class=\"sitebit comhead\"> (<a href=\"/site/towardsdatascience.com\"><span\\n          class=\"sitestr\">towardsdatascience.com</span></a>)</span>\\n    </td>\\n  </tr>\\n\\n  <tr>\\n    <td colspan=\"2\"></td>\\n    <td class=\"subtext\">\\n\\n      <span class=\"score\" id=\"score_539\">\\n        2 points</span> by\\n      <a class=\"hnuser\" href=\"/profile/151\">eyaltrabelsi</a>\\n      <a class=\"age\" href=\"/post/539\">9 days ago</a> |\\n      <a href=\"/post/539\">\\n        \\n        discuss\\n        \\n      </a>\\n      \\n    </td>\\n  </tr>\\n\\n  <tr class=\"spacer\" style=\"height:5px\"></tr>\\n\\n  \\n\\n  <tr class=\\'athing\\' id=512>\\n    <td align=\"right\" class=\"title\" valign=\"top\"><span class=\"rank\">13.</span>\\n    </td>\\n    <td class=\"votelinks\" valign=\"top\">\\n      <div class=\"center\">\\n        \\n        \\n        <a id=\"up_512\" onclick=\"upvotePost(this)\" style=\"cursor: pointer\">\\n          <div class=\\'votearrow\\' title=\\'upvote\\'></div>\\n        </a>\\n        \\n        \\n      </div>\\n    </td>\\n    <td class=\"title\">\\n      \\n      <a href=\"https://ai-jobs.net/\" title=\"AI Jobs + Internships\" id=\"title_512\" class=\"storylink\">AI Jobs + Internships</a>\\n      \\n      <span class=\"sitebit comhead\"> (<a href=\"/site/ai-jobs.net\"><span\\n          class=\"sitestr\">ai-jobs.net</span></a>)</span>\\n    </td>\\n  </tr>\\n\\n  <tr>\\n    <td colspan=\"2\"></td>\\n    <td class=\"subtext\">\\n\\n      <span class=\"score\" id=\"score_512\">\\n        3 points</span> by\\n      <a class=\"hnuser\" href=\"/profile/85\">pat</a>\\n      <a class=\"age\" href=\"/post/512\">14 days ago</a> |\\n      <a href=\"/post/512\">\\n        \\n        discuss\\n        \\n      </a>\\n      \\n    </td>\\n  </tr>\\n\\n  <tr class=\"spacer\" style=\"height:5px\"></tr>\\n\\n  \\n\\n  <tr class=\\'athing\\' id=511>\\n    <td align=\"right\" class=\"title\" valign=\"top\"><span class=\"rank\">14.</span>\\n    </td>\\n    <td class=\"votelinks\" valign=\"top\">\\n      <div class=\"center\">\\n        \\n        \\n        <a id=\"up_511\" onclick=\"upvotePost(this)\" style=\"cursor: pointer\">\\n          <div class=\\'votearrow\\' title=\\'upvote\\'></div>\\n        </a>\\n        \\n        \\n      </div>\\n    </td>\\n    <td class=\"title\">\\n      \\n      <a href=\"https://allainews.com\" title=\"AI News in One Page\" id=\"title_511\" class=\"storylink\">AI News in One Page</a>\\n      \\n      <span class=\"sitebit comhead\"> (<a href=\"/site/allainews.com\"><span\\n          class=\"sitestr\">allainews.com</span></a>)</span>\\n    </td>\\n  </tr>\\n\\n  <tr>\\n    <td colspan=\"2\"></td>\\n    <td class=\"subtext\">\\n\\n      <span class=\"score\" id=\"score_511\">\\n        3 points</span> by\\n      <a class=\"hnuser\" href=\"/profile/85\">pat</a>\\n      <a class=\"age\" href=\"/post/511\">14 days ago</a> |\\n      <a href=\"/post/511\">\\n        \\n        discuss\\n        \\n      </a>\\n      \\n    </td>\\n  </tr>\\n\\n  <tr class=\"spacer\" style=\"height:5px\"></tr>\\n\\n  \\n\\n  <tr class=\\'athing\\' id=537>\\n    <td align=\"right\" class=\"title\" valign=\"top\"><span class=\"rank\">15.</span>\\n    </td>\\n    <td class=\"votelinks\" valign=\"top\">\\n      <div class=\"center\">\\n        \\n        \\n        <a id=\"up_537\" onclick=\"upvotePost(this)\" style=\"cursor: pointer\">\\n          <div class=\\'votearrow\\' title=\\'upvote\\'></div>\\n        </a>\\n        \\n        \\n      </div>\\n    </td>\\n    <td class=\"title\">\\n      \\n      <a href=\"https://medium.com/syncedreview/deepmind-research-lead-doina-precup-on-reinforcement-learning-a82740fb0b6c\" title=\"DeepMind Research Lead Doina Precup On Reinforcement Learning\" id=\"title_537\" class=\"storylink\">DeepMind Research Lead Doina Precup On Reinforcement Learning</a>\\n      \\n      <span class=\"sitebit comhead\"> (<a href=\"/site/medium.com\"><span\\n          class=\"sitestr\">medium.com</span></a>)</span>\\n    </td>\\n  </tr>\\n\\n  <tr>\\n    <td colspan=\"2\"></td>\\n    <td class=\"subtext\">\\n\\n      <span class=\"score\" id=\"score_537\">\\n        2 points</span> by\\n      <a class=\"hnuser\" href=\"/profile/281\">raunnie</a>\\n      <a class=\"age\" href=\"/post/537\">10 days ago</a> |\\n      <a href=\"/post/537\">\\n        \\n        discuss\\n        \\n      </a>\\n      \\n    </td>\\n  </tr>\\n\\n  <tr class=\"spacer\" style=\"height:5px\"></tr>\\n\\n  \\n\\n  <tr class=\\'athing\\' id=536>\\n    <td align=\"right\" class=\"title\" valign=\"top\"><span class=\"rank\">16.</span>\\n    </td>\\n    <td class=\"votelinks\" valign=\"top\">\\n      <div class=\"center\">\\n        \\n        \\n        <a id=\"up_536\" onclick=\"upvotePost(this)\" style=\"cursor: pointer\">\\n          <div class=\\'votearrow\\' title=\\'upvote\\'></div>\\n        </a>\\n        \\n        \\n      </div>\\n    </td>\\n    <td class=\"title\">\\n      \\n      <a href=\"https://medium.com/syncedreview/weekly-papers-emnlp-2019-best-paper-facebook-xlm-r-and-more-8059403e39f3\" title=\"Weekly Papers | EMNLP 2019 Best Paper; Facebook XLM-R and More!\" id=\"title_536\" class=\"storylink\">Weekly Papers | EMNLP 2019 Best Paper; Facebook XLM-R and More!</a>\\n      \\n      <span class=\"sitebit comhead\"> (<a href=\"/site/medium.com\"><span\\n          class=\"sitestr\">medium.com</span></a>)</span>\\n    </td>\\n  </tr>\\n\\n  <tr>\\n    <td colspan=\"2\"></td>\\n    <td class=\"subtext\">\\n\\n      <span class=\"score\" id=\"score_536\">\\n        2 points</span> by\\n      <a class=\"hnuser\" href=\"/profile/281\">raunnie</a>\\n      <a class=\"age\" href=\"/post/536\">10 days ago</a> |\\n      <a href=\"/post/536\">\\n        \\n        discuss\\n        \\n      </a>\\n      \\n    </td>\\n  </tr>\\n\\n  <tr class=\"spacer\" style=\"height:5px\"></tr>\\n\\n  \\n\\n  <tr class=\\'athing\\' id=534>\\n    <td align=\"right\" class=\"title\" valign=\"top\"><span class=\"rank\">17.</span>\\n    </td>\\n    <td class=\"votelinks\" valign=\"top\">\\n      <div class=\"center\">\\n        \\n        \\n        <a id=\"up_534\" onclick=\"upvotePost(this)\" style=\"cursor: pointer\">\\n          <div class=\\'votearrow\\' title=\\'upvote\\'></div>\\n        </a>\\n        \\n        \\n      </div>\\n    </td>\\n    <td class=\"title\">\\n      \\n      <a href=\"https://thenextweb.com/podium/2019/11/11/machine-learning-algorithms-and-the-art-of-hyperparameter-selection/\" title=\"The Art of Hyperparameter Selection\" id=\"title_534\" class=\"storylink\">The Art of Hyperparameter Selection</a>\\n      \\n      <span class=\"sitebit comhead\"> (<a href=\"/site/thenextweb.com\"><span\\n          class=\"sitestr\">thenextweb.com</span></a>)</span>\\n    </td>\\n  </tr>\\n\\n  <tr>\\n    <td colspan=\"2\"></td>\\n    <td class=\"subtext\">\\n\\n      <span class=\"score\" id=\"score_534\">\\n        2 points</span> by\\n      <a class=\"hnuser\" href=\"/profile/315\">hseldon</a>\\n      <a class=\"age\" href=\"/post/534\">11 days ago</a> |\\n      <a href=\"/post/534\">\\n        \\n        discuss\\n        \\n      </a>\\n      \\n    </td>\\n  </tr>\\n\\n  <tr class=\"spacer\" style=\"height:5px\"></tr>\\n\\n  \\n\\n  <tr class=\\'athing\\' id=533>\\n    <td align=\"right\" class=\"title\" valign=\"top\"><span class=\"rank\">18.</span>\\n    </td>\\n    <td class=\"votelinks\" valign=\"top\">\\n      <div class=\"center\">\\n        \\n        \\n        <a id=\"up_533\" onclick=\"upvotePost(this)\" style=\"cursor: pointer\">\\n          <div class=\\'votearrow\\' title=\\'upvote\\'></div>\\n        </a>\\n        \\n        \\n      </div>\\n    </td>\\n    <td class=\"title\">\\n      \\n      <a href=\"https://medium.com/syncedreview/intel-ai-summit-2019-chip-giant-accelerates-ai-at-the-edge-efe823015009\" title=\"Intel AI Summit 2019 | Chip Giant Accelerates AI at the Edge\" id=\"title_533\" class=\"storylink\">Intel AI Summit 2019 | Chip Giant Accelerates AI at the Edge</a>\\n      \\n      <span class=\"sitebit comhead\"> (<a href=\"/site/medium.com\"><span\\n          class=\"sitestr\">medium.com</span></a>)</span>\\n    </td>\\n  </tr>\\n\\n  <tr>\\n    <td colspan=\"2\"></td>\\n    <td class=\"subtext\">\\n\\n      <span class=\"score\" id=\"score_533\">\\n        2 points</span> by\\n      <a class=\"hnuser\" href=\"/profile/281\">raunnie</a>\\n      <a class=\"age\" href=\"/post/533\">11 days ago</a> |\\n      <a href=\"/post/533\">\\n        \\n        discuss\\n        \\n      </a>\\n      \\n    </td>\\n  </tr>\\n\\n  <tr class=\"spacer\" style=\"height:5px\"></tr>\\n\\n  \\n\\n  <tr class=\\'athing\\' id=532>\\n    <td align=\"right\" class=\"title\" valign=\"top\"><span class=\"rank\">19.</span>\\n    </td>\\n    <td class=\"votelinks\" valign=\"top\">\\n      <div class=\"center\">\\n        \\n        \\n        <a id=\"up_532\" onclick=\"upvotePost(this)\" style=\"cursor: pointer\">\\n          <div class=\\'votearrow\\' title=\\'upvote\\'></div>\\n        </a>\\n        \\n        \\n      </div>\\n    </td>\\n    <td class=\"title\">\\n      \\n      <a href=\"https://medium.com/syncedreview/japanese-scientist-insists-his-robot-twin-is-not-creepy-be2dbf1fb901\" title=\"Japanese Scientist Insists His Robot Twin Is Not Creepy\" id=\"title_532\" class=\"storylink\">Japanese Scientist Insists His Robot Twin Is Not Creepy</a>\\n      \\n      <span class=\"sitebit comhead\"> (<a href=\"/site/medium.com\"><span\\n          class=\"sitestr\">medium.com</span></a>)</span>\\n    </td>\\n  </tr>\\n\\n  <tr>\\n    <td colspan=\"2\"></td>\\n    <td class=\"subtext\">\\n\\n      <span class=\"score\" id=\"score_532\">\\n        2 points</span> by\\n      <a class=\"hnuser\" href=\"/profile/281\">raunnie</a>\\n      <a class=\"age\" href=\"/post/532\">11 days ago</a> |\\n      <a href=\"/post/532\">\\n        \\n        discuss\\n        \\n      </a>\\n      \\n    </td>\\n  </tr>\\n\\n  <tr class=\"spacer\" style=\"height:5px\"></tr>\\n\\n  \\n\\n  <tr class=\\'athing\\' id=528>\\n    <td align=\"right\" class=\"title\" valign=\"top\"><span class=\"rank\">20.</span>\\n    </td>\\n    <td class=\"votelinks\" valign=\"top\">\\n      <div class=\"center\">\\n        \\n        \\n        <a id=\"up_528\" onclick=\"upvotePost(this)\" style=\"cursor: pointer\">\\n          <div class=\\'votearrow\\' title=\\'upvote\\'></div>\\n        </a>\\n        \\n        \\n      </div>\\n    </td>\\n    <td class=\"title\">\\n      \\n      <a href=\"https://www.kdnuggets.com/2019/11/orchestrating-dynamic-reports-python-r-rmd-files.html\" title=\"Orchestrating Dynamic Reports in Python and R with Rmd Files\" id=\"title_528\" class=\"storylink\">Orchestrating Dynamic Reports in Python and R with Rmd Files</a>\\n      \\n      <span class=\"sitebit comhead\"> (<a href=\"/site/kdnuggets.com\"><span\\n          class=\"sitestr\">kdnuggets.com</span></a>)</span>\\n    </td>\\n  </tr>\\n\\n  <tr>\\n    <td colspan=\"2\"></td>\\n    <td class=\"subtext\">\\n\\n      <span class=\"score\" id=\"score_528\">\\n        2 points</span> by\\n      <a class=\"hnuser\" href=\"/profile/1\">thegurus</a>\\n      <a class=\"age\" href=\"/post/528\">11 days ago</a> |\\n      <a href=\"/post/528\">\\n        \\n        discuss\\n        \\n      </a>\\n      \\n    </td>\\n  </tr>\\n\\n  <tr class=\"spacer\" style=\"height:5px\"></tr>\\n\\n  \\n\\n  <tr class=\\'athing\\' id=527>\\n    <td align=\"right\" class=\"title\" valign=\"top\"><span class=\"rank\">21.</span>\\n    </td>\\n    <td class=\"votelinks\" valign=\"top\">\\n      <div class=\"center\">\\n        \\n        \\n        <a id=\"up_527\" onclick=\"upvotePost(this)\" style=\"cursor: pointer\">\\n          <div class=\\'votearrow\\' title=\\'upvote\\'></div>\\n        </a>\\n        \\n        \\n      </div>\\n    </td>\\n    <td class=\"title\">\\n      \\n      <a href=\"https://medium.com/syncedreview/head-of-microsoft-ai-and-research-harry-shum-is-leaving-the-company-b9c2ffddf506\" title=\"Head of Microsoft AI and Research Harry Shum Is Leaving the Company\" id=\"title_527\" class=\"storylink\">Head of Microsoft AI and Research Harry Shum Is Leaving the Company</a>\\n      \\n      <span class=\"sitebit comhead\"> (<a href=\"/site/medium.com\"><span\\n          class=\"sitestr\">medium.com</span></a>)</span>\\n    </td>\\n  </tr>\\n\\n  <tr>\\n    <td colspan=\"2\"></td>\\n    <td class=\"subtext\">\\n\\n      <span class=\"score\" id=\"score_527\">\\n        2 points</span> by\\n      <a class=\"hnuser\" href=\"/profile/281\">raunnie</a>\\n      <a class=\"age\" href=\"/post/527\">12 days ago</a> |\\n      <a href=\"/post/527\">\\n        \\n        discuss\\n        \\n      </a>\\n      \\n    </td>\\n  </tr>\\n\\n  <tr class=\"spacer\" style=\"height:5px\"></tr>\\n\\n  \\n\\n  <tr class=\\'athing\\' id=526>\\n    <td align=\"right\" class=\"title\" valign=\"top\"><span class=\"rank\">22.</span>\\n    </td>\\n    <td class=\"votelinks\" valign=\"top\">\\n      <div class=\"center\">\\n        \\n        \\n        <a id=\"up_526\" onclick=\"upvotePost(this)\" style=\"cursor: pointer\">\\n          <div class=\\'votearrow\\' title=\\'upvote\\'></div>\\n        </a>\\n        \\n        \\n      </div>\\n    </td>\\n    <td class=\"title\">\\n      \\n      <a href=\"https://medium.com/syncedreview/aaai-2020-reports-record-high-paper-submissions-67f88080c93c\" title=\"AAAI 2020 Reports Record-High Paper Submissions\" id=\"title_526\" class=\"storylink\">AAAI 2020 Reports Record-High Paper Submissions</a>\\n      \\n      <span class=\"sitebit comhead\"> (<a href=\"/site/medium.com\"><span\\n          class=\"sitestr\">medium.com</span></a>)</span>\\n    </td>\\n  </tr>\\n\\n  <tr>\\n    <td colspan=\"2\"></td>\\n    <td class=\"subtext\">\\n\\n      <span class=\"score\" id=\"score_526\">\\n        2 points</span> by\\n      <a class=\"hnuser\" href=\"/profile/281\">raunnie</a>\\n      <a class=\"age\" href=\"/post/526\">12 days ago</a> |\\n      <a href=\"/post/526\">\\n        \\n        discuss\\n        \\n      </a>\\n      \\n    </td>\\n  </tr>\\n\\n  <tr class=\"spacer\" style=\"height:5px\"></tr>\\n\\n  \\n\\n  <tr class=\\'athing\\' id=523>\\n    <td align=\"right\" class=\"title\" valign=\"top\"><span class=\"rank\">23.</span>\\n    </td>\\n    <td class=\"votelinks\" valign=\"top\">\\n      <div class=\"center\">\\n        \\n        \\n        <a id=\"up_523\" onclick=\"upvotePost(this)\" style=\"cursor: pointer\">\\n          <div class=\\'votearrow\\' title=\\'upvote\\'></div>\\n        </a>\\n        \\n        \\n      </div>\\n    </td>\\n    <td class=\"title\">\\n      \\n      <a href=\"https://youtu.be/Y8YaU9mv_us\" title=\"Self-Training with Noisy Student\" id=\"title_523\" class=\"storylink\">Self-Training with Noisy Student</a>\\n      \\n      <span class=\"sitebit comhead\"> (<a href=\"/site/youtu.be\"><span\\n          class=\"sitestr\">youtu.be</span></a>)</span>\\n    </td>\\n  </tr>\\n\\n  <tr>\\n    <td colspan=\"2\"></td>\\n    <td class=\"subtext\">\\n\\n      <span class=\"score\" id=\"score_523\">\\n        2 points</span> by\\n      <a class=\"hnuser\" href=\"/profile/345\">henryailabs</a>\\n      <a class=\"age\" href=\"/post/523\">13 days ago</a> |\\n      <a href=\"/post/523\">\\n        \\n        discuss\\n        \\n      </a>\\n      \\n    </td>\\n  </tr>\\n\\n  <tr class=\"spacer\" style=\"height:5px\"></tr>\\n\\n  \\n\\n  <tr class=\\'athing\\' id=522>\\n    <td align=\"right\" class=\"title\" valign=\"top\"><span class=\"rank\">24.</span>\\n    </td>\\n    <td class=\"votelinks\" valign=\"top\">\\n      <div class=\"center\">\\n        \\n        \\n        <a id=\"up_522\" onclick=\"upvotePost(this)\" style=\"cursor: pointer\">\\n          <div class=\\'votearrow\\' title=\\'upvote\\'></div>\\n        </a>\\n        \\n        \\n      </div>\\n    </td>\\n    <td class=\"title\">\\n      \\n      <a href=\"https://youtu.be/kPQQ61Ks46A\" title=\"Inference in Deep Learning\" id=\"title_522\" class=\"storylink\">Inference in Deep Learning</a>\\n      \\n      <span class=\"sitebit comhead\"> (<a href=\"/site/youtu.be\"><span\\n          class=\"sitestr\">youtu.be</span></a>)</span>\\n    </td>\\n  </tr>\\n\\n  <tr>\\n    <td colspan=\"2\"></td>\\n    <td class=\"subtext\">\\n\\n      <span class=\"score\" id=\"score_522\">\\n        2 points</span> by\\n      <a class=\"hnuser\" href=\"/profile/345\">henryailabs</a>\\n      <a class=\"age\" href=\"/post/522\">13 days ago</a> |\\n      <a href=\"/post/522\">\\n        \\n        discuss\\n        \\n      </a>\\n      \\n    </td>\\n  </tr>\\n\\n  <tr class=\"spacer\" style=\"height:5px\"></tr>\\n\\n  \\n\\n  <tr class=\\'athing\\' id=521>\\n    <td align=\"right\" class=\"title\" valign=\"top\"><span class=\"rank\">25.</span>\\n    </td>\\n    <td class=\"votelinks\" valign=\"top\">\\n      <div class=\"center\">\\n        \\n        \\n        <a id=\"up_521\" onclick=\"upvotePost(this)\" style=\"cursor: pointer\">\\n          <div class=\\'votearrow\\' title=\\'upvote\\'></div>\\n        </a>\\n        \\n        \\n      </div>\\n    </td>\\n    <td class=\"title\">\\n      \\n      <a href=\"https://medium.com/syncedreview/texas-a-m-and-simon-fraser-universities-open-source-rl-toolkit-for-card-games-858e22195f36\" title=\"Texas A&amp;M and Simon Fraser Universities Open-Source RL Toolkit for Card Games\" id=\"title_521\" class=\"storylink\">Texas A&amp;M and Simon Fraser Universities Open-Source RL Toolkit for Card Games</a>\\n      \\n      <span class=\"sitebit comhead\"> (<a href=\"/site/medium.com\"><span\\n          class=\"sitestr\">medium.com</span></a>)</span>\\n    </td>\\n  </tr>\\n\\n  <tr>\\n    <td colspan=\"2\"></td>\\n    <td class=\"subtext\">\\n\\n      <span class=\"score\" id=\"score_521\">\\n        2 points</span> by\\n      <a class=\"hnuser\" href=\"/profile/281\">raunnie</a>\\n      <a class=\"age\" href=\"/post/521\">13 days ago</a> |\\n      <a href=\"/post/521\">\\n        \\n        discuss\\n        \\n      </a>\\n      \\n    </td>\\n  </tr>\\n\\n  <tr class=\"spacer\" style=\"height:5px\"></tr>\\n\\n  \\n\\n  <tr class=\\'athing\\' id=518>\\n    <td align=\"right\" class=\"title\" valign=\"top\"><span class=\"rank\">26.</span>\\n    </td>\\n    <td class=\"votelinks\" valign=\"top\">\\n      <div class=\"center\">\\n        \\n        \\n        <a id=\"up_518\" onclick=\"upvotePost(this)\" style=\"cursor: pointer\">\\n          <div class=\\'votearrow\\' title=\\'upvote\\'></div>\\n        </a>\\n        \\n        \\n      </div>\\n    </td>\\n    <td class=\"title\">\\n      \\n      <a href=\"https://towardsdatascience.com/ready-the-easy-way-to-extend-pandas-api-dcf4f6612615\" title=\"The Easy Way to Extend Pandas API\" id=\"title_518\" class=\"storylink\">The Easy Way to Extend Pandas API</a>\\n      \\n      <span class=\"sitebit comhead\"> (<a href=\"/site/towardsdatascience.com\"><span\\n          class=\"sitestr\">towardsdatascience.com</span></a>)</span>\\n    </td>\\n  </tr>\\n\\n  <tr>\\n    <td colspan=\"2\"></td>\\n    <td class=\"subtext\">\\n\\n      <span class=\"score\" id=\"score_518\">\\n        2 points</span> by\\n      <a class=\"hnuser\" href=\"/profile/151\">eyaltrabelsi</a>\\n      <a class=\"age\" href=\"/post/518\">13 days ago</a> |\\n      <a href=\"/post/518\">\\n        \\n        discuss\\n        \\n      </a>\\n      \\n    </td>\\n  </tr>\\n\\n  <tr class=\"spacer\" style=\"height:5px\"></tr>\\n\\n  \\n\\n  <tr class=\\'athing\\' id=517>\\n    <td align=\"right\" class=\"title\" valign=\"top\"><span class=\"rank\">27.</span>\\n    </td>\\n    <td class=\"votelinks\" valign=\"top\">\\n      <div class=\"center\">\\n        \\n        \\n        <a id=\"up_517\" onclick=\"upvotePost(this)\" style=\"cursor: pointer\">\\n          <div class=\\'votearrow\\' title=\\'upvote\\'></div>\\n        </a>\\n        \\n        \\n      </div>\\n    </td>\\n    <td class=\"title\">\\n      \\n      <a href=\"https://www.kdnuggets.com/2019/11/10-free-must-read-books-ai.html\" title=\"10 Free Must-read Books on AI\" id=\"title_517\" class=\"storylink\">10 Free Must-read Books on AI</a>\\n      \\n      <span class=\"sitebit comhead\"> (<a href=\"/site/kdnuggets.com\"><span\\n          class=\"sitestr\">kdnuggets.com</span></a>)</span>\\n    </td>\\n  </tr>\\n\\n  <tr>\\n    <td colspan=\"2\"></td>\\n    <td class=\"subtext\">\\n\\n      <span class=\"score\" id=\"score_517\">\\n        2 points</span> by\\n      <a class=\"hnuser\" href=\"/profile/1\">thegurus</a>\\n      <a class=\"age\" href=\"/post/517\">13 days ago</a> |\\n      <a href=\"/post/517\">\\n        \\n        discuss\\n        \\n      </a>\\n      \\n    </td>\\n  </tr>\\n\\n  <tr class=\"spacer\" style=\"height:5px\"></tr>\\n\\n  \\n\\n  <tr class=\\'athing\\' id=516>\\n    <td align=\"right\" class=\"title\" valign=\"top\"><span class=\"rank\">28.</span>\\n    </td>\\n    <td class=\"votelinks\" valign=\"top\">\\n      <div class=\"center\">\\n        \\n        \\n        <a id=\"up_516\" onclick=\"upvotePost(this)\" style=\"cursor: pointer\">\\n          <div class=\\'votearrow\\' title=\\'upvote\\'></div>\\n        </a>\\n        \\n        \\n      </div>\\n    </td>\\n    <td class=\"title\">\\n      \\n      <a href=\"https://pythonspeed.com/articles/data-doesnt-fit-in-memory/\" title=\"When your data doesn’t fit in memory: the basic techniques\" id=\"title_516\" class=\"storylink\">When your data doesn’t fit in memory: the basic techniques</a>\\n      \\n      <span class=\"sitebit comhead\"> (<a href=\"/site/pythonspeed.com\"><span\\n          class=\"sitestr\">pythonspeed.com</span></a>)</span>\\n    </td>\\n  </tr>\\n\\n  <tr>\\n    <td colspan=\"2\"></td>\\n    <td class=\"subtext\">\\n\\n      <span class=\"score\" id=\"score_516\">\\n        2 points</span> by\\n      <a class=\"hnuser\" href=\"/profile/85\">pat</a>\\n      <a class=\"age\" href=\"/post/516\">13 days ago</a> |\\n      <a href=\"/post/516\">\\n        \\n        discuss\\n        \\n      </a>\\n      \\n    </td>\\n  </tr>\\n\\n  <tr class=\"spacer\" style=\"height:5px\"></tr>\\n\\n  \\n\\n  <tr class=\\'athing\\' id=515>\\n    <td align=\"right\" class=\"title\" valign=\"top\"><span class=\"rank\">29.</span>\\n    </td>\\n    <td class=\"votelinks\" valign=\"top\">\\n      <div class=\"center\">\\n        \\n        \\n        <a id=\"up_515\" onclick=\"upvotePost(this)\" style=\"cursor: pointer\">\\n          <div class=\\'votearrow\\' title=\\'upvote\\'></div>\\n        </a>\\n        \\n        \\n      </div>\\n    </td>\\n    <td class=\"title\">\\n      \\n      <a href=\"https://medium.com/syncedreview/extreme-e-commerce-shipping-2-8-billion-singles-day-parcels-85ba472117e\" title=\"Extreme E-Commerce: Shipping 2.8 Billion Singles’ Day Parcels\" id=\"title_515\" class=\"storylink\">Extreme E-Commerce: Shipping 2.8 Billion Singles’ Day Parcels</a>\\n      \\n      <span class=\"sitebit comhead\"> (<a href=\"/site/medium.com\"><span\\n          class=\"sitestr\">medium.com</span></a>)</span>\\n    </td>\\n  </tr>\\n\\n  <tr>\\n    <td colspan=\"2\"></td>\\n    <td class=\"subtext\">\\n\\n      <span class=\"score\" id=\"score_515\">\\n        2 points</span> by\\n      <a class=\"hnuser\" href=\"/profile/281\">raunnie</a>\\n      <a class=\"age\" href=\"/post/515\">14 days ago</a> |\\n      <a href=\"/post/515\">\\n        \\n        discuss\\n        \\n      </a>\\n      \\n    </td>\\n  </tr>\\n\\n  <tr class=\"spacer\" style=\"height:5px\"></tr>\\n\\n  \\n\\n  <tr class=\\'athing\\' id=514>\\n    <td align=\"right\" class=\"title\" valign=\"top\"><span class=\"rank\">30.</span>\\n    </td>\\n    <td class=\"votelinks\" valign=\"top\">\\n      <div class=\"center\">\\n        \\n        \\n        <a id=\"up_514\" onclick=\"upvotePost(this)\" style=\"cursor: pointer\">\\n          <div class=\\'votearrow\\' title=\\'upvote\\'></div>\\n        </a>\\n        \\n        \\n      </div>\\n    </td>\\n    <td class=\"title\">\\n      \\n      <a href=\"https://medium.com/better-programming/soft-skills-every-programmer-or-data-scientist-should-master-e09742b34f38?source=friends_link&amp;sk=8f8f0642e8f424d6fbf458e3389dd0d4\" title=\"Soft Skills Every Programmer or Data Scientist Should Master\" id=\"title_514\" class=\"storylink\">Soft Skills Every Programmer or Data Scientist Should Master</a>\\n      \\n      <span class=\"sitebit comhead\"> (<a href=\"/site/medium.com\"><span\\n          class=\"sitestr\">medium.com</span></a>)</span>\\n    </td>\\n  </tr>\\n\\n  <tr>\\n    <td colspan=\"2\"></td>\\n    <td class=\"subtext\">\\n\\n      <span class=\"score\" id=\"score_514\">\\n        2 points</span> by\\n      <a class=\"hnuser\" href=\"/profile/139\">jwwriting</a>\\n      <a class=\"age\" href=\"/post/514\">14 days ago</a> |\\n      <a href=\"/post/514\">\\n        \\n        discuss\\n        \\n      </a>\\n      \\n    </td>\\n  </tr>\\n\\n  <tr class=\"spacer\" style=\"height:5px\"></tr>\\n\\n  \\n  <!-- repeat this block n times-->\\n\\n  <tr class=\"morespace\" style=\"height:10px\"></tr>\\n  <tr>\\n    <td colspan=\"2\"></td>\\n    <td class=\"title\"><a class=\"morelink\"\\n                         href=\"\\n                         /2\\n                         \"\\n                         rel=\"next\">More</a></td>\\n  </tr>\\n\\n</table>\\n\\n      </td>\\n    </tr>\\n    <tr>\\n      <td>\\n        <div style=\"height: 10px\"></div>\\n        <table cellpadding=\"1\" cellspacing=\"0\" width=\"100%\">\\n          <tr>\\n            <td bgcolor=\"#00b4b4\"></td>\\n          </tr>\\n        </table>\\n        <br>\\n        <div class=\"center\">\\n            <span class=\"yclinks\">\\n              <a href=\"https://thegurus.tech\">Made with ❤️ by The Gurus</a> |\\n              <a href=\"mailto:datatau@thegurus.tech\">Support</a> |\\n              <a href=\"mailto:datatau@thegurus.tech\">Contact</a> |\\n              <a href=\"/feed/\">RSS</a> |\\n              <a rel=\"noopener noreferrer\" target=\"_blank\" href=\"https://twitter.com/datatau_net\">Twitter</a>\\n            </span><br><br>\\n        </div>\\n      </td>\\n    </tr>\\n  </table>\\n</div>\\n</body>\\n\\n\\n\\n<!-- app js -->\\n<script src=\"/static/js/app.js\"></script>\\n\\n\\n</html>\\n'"
      ]
     },
     "execution_count": 21,
     "metadata": {},
     "output_type": "execute_result"
    }
   ],
   "source": [
    "# You'll need the requests library in order to fully utilize bs4.\n",
    "import requests\n",
    "from bs4 import BeautifulSoup\n",
    "\n",
    "# Target web page:\n",
    "url = \"https://www.datatau.net/\"\n",
    "\n",
    "# Establishing the connection to the web page:\n",
    "response = requests.get(url)\n",
    "\n",
    "# You can use status codes to understand how the target server responds to your request.\n",
    "# Ex., 200 = OK, 400 = Bad Request, 403 = Forbidden, 404 = Not Found.\n",
    "print(response.status_code)\n",
    "\n",
    "# Pull the HTML string out of requests and convert it to a Python string.\n",
    "html = response.text\n",
    "\n",
    "# The first 700 characters of the content.\n",
    "html"
   ]
  },
  {
   "cell_type": "code",
   "execution_count": 4,
   "metadata": {},
   "outputs": [],
   "source": [
    "soup2 = BeautifulSoup(html, \"lxml\")"
   ]
  },
  {
   "cell_type": "code",
   "execution_count": 10,
   "metadata": {},
   "outputs": [],
   "source": [
    "res = soup2.find_all(class_='athing')"
   ]
  },
  {
   "cell_type": "code",
   "execution_count": 11,
   "metadata": {},
   "outputs": [
    {
     "data": {
      "text/plain": [
       "30"
      ]
     },
     "execution_count": 11,
     "metadata": {},
     "output_type": "execute_result"
    }
   ],
   "source": [
    "len(res)"
   ]
  },
  {
   "cell_type": "code",
   "execution_count": null,
   "metadata": {},
   "outputs": [],
   "source": []
  },
  {
   "cell_type": "code",
   "execution_count": 20,
   "metadata": {},
   "outputs": [
    {
     "name": "stdout",
     "output_type": "stream",
     "text": [
      "1.The Facebook Data Science Interview (interviewquery.com)\n",
      "2.Autonomous Driving at Tesla using Pytorch by Karpathy (youtube.com)\n",
      "3.Exploratory Data Analysis with pandas (towardsdatascience.com)\n",
      "4.MLOps – The New Mantra for Businesses in the AI and ML Game (ai-jobs.net)\n",
      "5.Toilet Finder: Using Transfer Learning to Create a Rapid Image Classification Pipeline (medium.com)\n",
      "6.Data Scientists should act more like Product Managers (medium.com)\n",
      "7.Memory Management in Python (towardsdatascience.com)\n",
      "8.5 mistakes when writing SQL queries (medium.com)\n",
      "9.Huawei Tops ETH Zurich 2019 Smartphone Deep Learning Rankings (medium.com)\n",
      "10.How To Market Yourself As a Programmer (medium.com)\n",
      "11.Can Artificial Intelligence Learn to Learn? (forbes.com)\n",
      "12.Powering SQL With Machine Learning Capabilities (towardsdatascience.com)\n",
      "13.AI Jobs + Internships (ai-jobs.net)\n",
      "14.AI News in One Page (allainews.com)\n",
      "15.DeepMind Research Lead Doina Precup On Reinforcement Learning (medium.com)\n",
      "16.Weekly Papers | EMNLP 2019 Best Paper; Facebook XLM-R and More! (medium.com)\n",
      "17.The Art of Hyperparameter Selection (thenextweb.com)\n",
      "18.Intel AI Summit 2019 | Chip Giant Accelerates AI at the Edge (medium.com)\n",
      "19.Japanese Scientist Insists His Robot Twin Is Not Creepy (medium.com)\n",
      "20.Orchestrating Dynamic Reports in Python and R with Rmd Files (kdnuggets.com)\n",
      "21.Head of Microsoft AI and Research Harry Shum Is Leaving the Company (medium.com)\n",
      "22.AAAI 2020 Reports Record-High Paper Submissions (medium.com)\n",
      "23.Self-Training with Noisy Student (youtu.be)\n",
      "24.Inference in Deep Learning (youtu.be)\n",
      "25.Texas A&M and Simon Fraser Universities Open-Source RL Toolkit for Card Games (medium.com)\n",
      "26.The Easy Way to Extend Pandas API (towardsdatascience.com)\n",
      "27.10 Free Must-read Books on AI (kdnuggets.com)\n",
      "28.When your data doesn’t fit in memory: the basic techniques (pythonspeed.com)\n",
      "29.Extreme E-Commerce: Shipping 2.8 Billion Singles’ Day Parcels (medium.com)\n",
      "30.Soft Skills Every Programmer or Data Scientist Should Master (medium.com)\n"
     ]
    }
   ],
   "source": [
    "for element in res:\n",
    "    #ter2= [k for k in element.text if k!= '\\n']\n",
    "    ter = ''.join([k for k in element.text if k!= '\\n'])\n",
    "    print(ter)"
   ]
  },
  {
   "cell_type": "markdown",
   "metadata": {},
   "source": [
    "More information on [request status codes](http://www.restapitutorial.com/httpstatuscodes.html)."
   ]
  },
  {
   "cell_type": "markdown",
   "metadata": {},
   "source": [
    "<a id='step2'></a>\n",
    "### 2) Parse the HTML document with Beautiful Soup.\n",
    "\n",
    "This step allows us to access the elements of the document by XPath expressions."
   ]
  },
  {
   "cell_type": "code",
   "execution_count": 22,
   "metadata": {},
   "outputs": [],
   "source": [
    "soup = BeautifulSoup(html, 'lxml')"
   ]
  },
  {
   "cell_type": "code",
   "execution_count": 23,
   "metadata": {
    "scrolled": true
   },
   "outputs": [
    {
     "data": {
      "text/plain": [
       "{'title': 'The Facebook Data Science Interview',\n",
       " 'link': 'https://www.interviewquery.com/company/facebook-data-scientist-interview',\n",
       " 'url': 'interviewquery.com'}"
      ]
     },
     "execution_count": 23,
     "metadata": {},
     "output_type": "execute_result"
    }
   ],
   "source": [
    "# This code collects the titles, links and urls for DataTau's homepage\n",
    "\n",
    "# List to store results\n",
    "results_list = []\n",
    "\n",
    "# Get all the <td class=\"title\"... elements\n",
    "all_td = soup.find_all('td', {'class':'title'})\n",
    "for element in all_td:\n",
    "    # start a dictionary to store this item's data\n",
    "    result = {}\n",
    "    \n",
    "    # get the title and full link/url\n",
    "    a_href = element.find('a')\n",
    "    if a_href:\n",
    "        result['title'] = a_href.text   # element text\n",
    "        result['link'] = a_href['href'] # href link\n",
    "        \n",
    "    # get the url domain\n",
    "    span = element.find('span', {'class':'comhead'})\n",
    "    if span:\n",
    "        result['url'] = span.text.strip()[1:-1]\n",
    "        \n",
    "    # only store \"full\" rows of data\n",
    "    if len(result) == 3:\n",
    "        results_list.append(result)\n",
    "        \n",
    "results_list[0]"
   ]
  },
  {
   "cell_type": "code",
   "execution_count": 24,
   "metadata": {},
   "outputs": [
    {
     "data": {
      "text/html": [
       "<div>\n",
       "<style scoped>\n",
       "    .dataframe tbody tr th:only-of-type {\n",
       "        vertical-align: middle;\n",
       "    }\n",
       "\n",
       "    .dataframe tbody tr th {\n",
       "        vertical-align: top;\n",
       "    }\n",
       "\n",
       "    .dataframe thead th {\n",
       "        text-align: right;\n",
       "    }\n",
       "</style>\n",
       "<table border=\"1\" class=\"dataframe\">\n",
       "  <thead>\n",
       "    <tr style=\"text-align: right;\">\n",
       "      <th></th>\n",
       "      <th>title</th>\n",
       "      <th>link</th>\n",
       "      <th>url</th>\n",
       "    </tr>\n",
       "  </thead>\n",
       "  <tbody>\n",
       "    <tr>\n",
       "      <td>0</td>\n",
       "      <td>The Facebook Data Science Interview</td>\n",
       "      <td>https://www.interviewquery.com/company/faceboo...</td>\n",
       "      <td>interviewquery.com</td>\n",
       "    </tr>\n",
       "    <tr>\n",
       "      <td>1</td>\n",
       "      <td>Autonomous Driving at Tesla using Pytorch by K...</td>\n",
       "      <td>https://www.youtube.com/watch?v=oBklltKXtDE</td>\n",
       "      <td>youtube.com</td>\n",
       "    </tr>\n",
       "    <tr>\n",
       "      <td>2</td>\n",
       "      <td>Exploratory Data Analysis with pandas</td>\n",
       "      <td>https://towardsdatascience.com/exploratory-dat...</td>\n",
       "      <td>towardsdatascience.com</td>\n",
       "    </tr>\n",
       "    <tr>\n",
       "      <td>3</td>\n",
       "      <td>MLOps – The New Mantra for Businesses in the A...</td>\n",
       "      <td>https://ai-jobs.net/mlops-the-new-mantra-for-b...</td>\n",
       "      <td>ai-jobs.net</td>\n",
       "    </tr>\n",
       "    <tr>\n",
       "      <td>4</td>\n",
       "      <td>Toilet Finder: Using Transfer Learning to Crea...</td>\n",
       "      <td>https://medium.com/propertyfinder-engineering/...</td>\n",
       "      <td>medium.com</td>\n",
       "    </tr>\n",
       "    <tr>\n",
       "      <td>5</td>\n",
       "      <td>Data Scientists should act more like Product M...</td>\n",
       "      <td>https://medium.com/analytics-and-data/data-sci...</td>\n",
       "      <td>medium.com</td>\n",
       "    </tr>\n",
       "    <tr>\n",
       "      <td>6</td>\n",
       "      <td>Memory Management in Python</td>\n",
       "      <td>https://towardsdatascience.com/memory-manageme...</td>\n",
       "      <td>towardsdatascience.com</td>\n",
       "    </tr>\n",
       "    <tr>\n",
       "      <td>7</td>\n",
       "      <td>5 mistakes when writing SQL queries</td>\n",
       "      <td>https://medium.com/p/5-mistakes-when-writing-s...</td>\n",
       "      <td>medium.com</td>\n",
       "    </tr>\n",
       "    <tr>\n",
       "      <td>8</td>\n",
       "      <td>Huawei Tops ETH Zurich 2019 Smartphone Deep Le...</td>\n",
       "      <td>https://medium.com/syncedreview/huawei-tops-et...</td>\n",
       "      <td>medium.com</td>\n",
       "    </tr>\n",
       "    <tr>\n",
       "      <td>9</td>\n",
       "      <td>How To Market Yourself As a Programmer</td>\n",
       "      <td>https://medium.com/better-programming/how-to-m...</td>\n",
       "      <td>medium.com</td>\n",
       "    </tr>\n",
       "    <tr>\n",
       "      <td>10</td>\n",
       "      <td>Can Artificial Intelligence Learn to Learn?</td>\n",
       "      <td>https://www.forbes.com/sites/cognitiveworld/20...</td>\n",
       "      <td>forbes.com</td>\n",
       "    </tr>\n",
       "    <tr>\n",
       "      <td>11</td>\n",
       "      <td>Powering SQL With Machine Learning Capabilities</td>\n",
       "      <td>https://towardsdatascience.com/powering-sql-wi...</td>\n",
       "      <td>towardsdatascience.com</td>\n",
       "    </tr>\n",
       "    <tr>\n",
       "      <td>12</td>\n",
       "      <td>AI Jobs + Internships</td>\n",
       "      <td>https://ai-jobs.net/</td>\n",
       "      <td>ai-jobs.net</td>\n",
       "    </tr>\n",
       "    <tr>\n",
       "      <td>13</td>\n",
       "      <td>AI News in One Page</td>\n",
       "      <td>https://allainews.com</td>\n",
       "      <td>allainews.com</td>\n",
       "    </tr>\n",
       "    <tr>\n",
       "      <td>14</td>\n",
       "      <td>DeepMind Research Lead Doina Precup On Reinfor...</td>\n",
       "      <td>https://medium.com/syncedreview/deepmind-resea...</td>\n",
       "      <td>medium.com</td>\n",
       "    </tr>\n",
       "    <tr>\n",
       "      <td>15</td>\n",
       "      <td>Weekly Papers | EMNLP 2019 Best Paper; Faceboo...</td>\n",
       "      <td>https://medium.com/syncedreview/weekly-papers-...</td>\n",
       "      <td>medium.com</td>\n",
       "    </tr>\n",
       "    <tr>\n",
       "      <td>16</td>\n",
       "      <td>The Art of Hyperparameter Selection</td>\n",
       "      <td>https://thenextweb.com/podium/2019/11/11/machi...</td>\n",
       "      <td>thenextweb.com</td>\n",
       "    </tr>\n",
       "    <tr>\n",
       "      <td>17</td>\n",
       "      <td>Intel AI Summit 2019 | Chip Giant Accelerates ...</td>\n",
       "      <td>https://medium.com/syncedreview/intel-ai-summi...</td>\n",
       "      <td>medium.com</td>\n",
       "    </tr>\n",
       "    <tr>\n",
       "      <td>18</td>\n",
       "      <td>Japanese Scientist Insists His Robot Twin Is N...</td>\n",
       "      <td>https://medium.com/syncedreview/japanese-scien...</td>\n",
       "      <td>medium.com</td>\n",
       "    </tr>\n",
       "    <tr>\n",
       "      <td>19</td>\n",
       "      <td>Orchestrating Dynamic Reports in Python and R ...</td>\n",
       "      <td>https://www.kdnuggets.com/2019/11/orchestratin...</td>\n",
       "      <td>kdnuggets.com</td>\n",
       "    </tr>\n",
       "    <tr>\n",
       "      <td>20</td>\n",
       "      <td>Head of Microsoft AI and Research Harry Shum I...</td>\n",
       "      <td>https://medium.com/syncedreview/head-of-micros...</td>\n",
       "      <td>medium.com</td>\n",
       "    </tr>\n",
       "    <tr>\n",
       "      <td>21</td>\n",
       "      <td>AAAI 2020 Reports Record-High Paper Submissions</td>\n",
       "      <td>https://medium.com/syncedreview/aaai-2020-repo...</td>\n",
       "      <td>medium.com</td>\n",
       "    </tr>\n",
       "    <tr>\n",
       "      <td>22</td>\n",
       "      <td>Self-Training with Noisy Student</td>\n",
       "      <td>https://youtu.be/Y8YaU9mv_us</td>\n",
       "      <td>youtu.be</td>\n",
       "    </tr>\n",
       "    <tr>\n",
       "      <td>23</td>\n",
       "      <td>Inference in Deep Learning</td>\n",
       "      <td>https://youtu.be/kPQQ61Ks46A</td>\n",
       "      <td>youtu.be</td>\n",
       "    </tr>\n",
       "    <tr>\n",
       "      <td>24</td>\n",
       "      <td>Texas A&amp;M and Simon Fraser Universities Open-S...</td>\n",
       "      <td>https://medium.com/syncedreview/texas-a-m-and-...</td>\n",
       "      <td>medium.com</td>\n",
       "    </tr>\n",
       "    <tr>\n",
       "      <td>25</td>\n",
       "      <td>The Easy Way to Extend Pandas API</td>\n",
       "      <td>https://towardsdatascience.com/ready-the-easy-...</td>\n",
       "      <td>towardsdatascience.com</td>\n",
       "    </tr>\n",
       "    <tr>\n",
       "      <td>26</td>\n",
       "      <td>10 Free Must-read Books on AI</td>\n",
       "      <td>https://www.kdnuggets.com/2019/11/10-free-must...</td>\n",
       "      <td>kdnuggets.com</td>\n",
       "    </tr>\n",
       "    <tr>\n",
       "      <td>27</td>\n",
       "      <td>When your data doesn’t fit in memory: the basi...</td>\n",
       "      <td>https://pythonspeed.com/articles/data-doesnt-f...</td>\n",
       "      <td>pythonspeed.com</td>\n",
       "    </tr>\n",
       "    <tr>\n",
       "      <td>28</td>\n",
       "      <td>Extreme E-Commerce: Shipping 2.8 Billion Singl...</td>\n",
       "      <td>https://medium.com/syncedreview/extreme-e-comm...</td>\n",
       "      <td>medium.com</td>\n",
       "    </tr>\n",
       "    <tr>\n",
       "      <td>29</td>\n",
       "      <td>Soft Skills Every Programmer or Data Scientist...</td>\n",
       "      <td>https://medium.com/better-programming/soft-ski...</td>\n",
       "      <td>medium.com</td>\n",
       "    </tr>\n",
       "  </tbody>\n",
       "</table>\n",
       "</div>"
      ],
      "text/plain": [
       "                                                title  \\\n",
       "0                 The Facebook Data Science Interview   \n",
       "1   Autonomous Driving at Tesla using Pytorch by K...   \n",
       "2               Exploratory Data Analysis with pandas   \n",
       "3   MLOps – The New Mantra for Businesses in the A...   \n",
       "4   Toilet Finder: Using Transfer Learning to Crea...   \n",
       "5   Data Scientists should act more like Product M...   \n",
       "6                         Memory Management in Python   \n",
       "7                 5 mistakes when writing SQL queries   \n",
       "8   Huawei Tops ETH Zurich 2019 Smartphone Deep Le...   \n",
       "9              How To Market Yourself As a Programmer   \n",
       "10        Can Artificial Intelligence Learn to Learn?   \n",
       "11    Powering SQL With Machine Learning Capabilities   \n",
       "12                              AI Jobs + Internships   \n",
       "13                                AI News in One Page   \n",
       "14  DeepMind Research Lead Doina Precup On Reinfor...   \n",
       "15  Weekly Papers | EMNLP 2019 Best Paper; Faceboo...   \n",
       "16                The Art of Hyperparameter Selection   \n",
       "17  Intel AI Summit 2019 | Chip Giant Accelerates ...   \n",
       "18  Japanese Scientist Insists His Robot Twin Is N...   \n",
       "19  Orchestrating Dynamic Reports in Python and R ...   \n",
       "20  Head of Microsoft AI and Research Harry Shum I...   \n",
       "21    AAAI 2020 Reports Record-High Paper Submissions   \n",
       "22                   Self-Training with Noisy Student   \n",
       "23                         Inference in Deep Learning   \n",
       "24  Texas A&M and Simon Fraser Universities Open-S...   \n",
       "25                  The Easy Way to Extend Pandas API   \n",
       "26                      10 Free Must-read Books on AI   \n",
       "27  When your data doesn’t fit in memory: the basi...   \n",
       "28  Extreme E-Commerce: Shipping 2.8 Billion Singl...   \n",
       "29  Soft Skills Every Programmer or Data Scientist...   \n",
       "\n",
       "                                                 link                     url  \n",
       "0   https://www.interviewquery.com/company/faceboo...      interviewquery.com  \n",
       "1         https://www.youtube.com/watch?v=oBklltKXtDE             youtube.com  \n",
       "2   https://towardsdatascience.com/exploratory-dat...  towardsdatascience.com  \n",
       "3   https://ai-jobs.net/mlops-the-new-mantra-for-b...             ai-jobs.net  \n",
       "4   https://medium.com/propertyfinder-engineering/...              medium.com  \n",
       "5   https://medium.com/analytics-and-data/data-sci...              medium.com  \n",
       "6   https://towardsdatascience.com/memory-manageme...  towardsdatascience.com  \n",
       "7   https://medium.com/p/5-mistakes-when-writing-s...              medium.com  \n",
       "8   https://medium.com/syncedreview/huawei-tops-et...              medium.com  \n",
       "9   https://medium.com/better-programming/how-to-m...              medium.com  \n",
       "10  https://www.forbes.com/sites/cognitiveworld/20...              forbes.com  \n",
       "11  https://towardsdatascience.com/powering-sql-wi...  towardsdatascience.com  \n",
       "12                               https://ai-jobs.net/             ai-jobs.net  \n",
       "13                              https://allainews.com           allainews.com  \n",
       "14  https://medium.com/syncedreview/deepmind-resea...              medium.com  \n",
       "15  https://medium.com/syncedreview/weekly-papers-...              medium.com  \n",
       "16  https://thenextweb.com/podium/2019/11/11/machi...          thenextweb.com  \n",
       "17  https://medium.com/syncedreview/intel-ai-summi...              medium.com  \n",
       "18  https://medium.com/syncedreview/japanese-scien...              medium.com  \n",
       "19  https://www.kdnuggets.com/2019/11/orchestratin...           kdnuggets.com  \n",
       "20  https://medium.com/syncedreview/head-of-micros...              medium.com  \n",
       "21  https://medium.com/syncedreview/aaai-2020-repo...              medium.com  \n",
       "22                       https://youtu.be/Y8YaU9mv_us                youtu.be  \n",
       "23                       https://youtu.be/kPQQ61Ks46A                youtu.be  \n",
       "24  https://medium.com/syncedreview/texas-a-m-and-...              medium.com  \n",
       "25  https://towardsdatascience.com/ready-the-easy-...  towardsdatascience.com  \n",
       "26  https://www.kdnuggets.com/2019/11/10-free-must...           kdnuggets.com  \n",
       "27  https://pythonspeed.com/articles/data-doesnt-f...         pythonspeed.com  \n",
       "28  https://medium.com/syncedreview/extreme-e-comm...              medium.com  \n",
       "29  https://medium.com/better-programming/soft-ski...              medium.com  "
      ]
     },
     "execution_count": 24,
     "metadata": {},
     "output_type": "execute_result"
    }
   ],
   "source": [
    "import pandas as pd\n",
    "\n",
    "pd.DataFrame(results_list)"
   ]
  },
  {
   "cell_type": "markdown",
   "metadata": {},
   "source": [
    "<a id='xpath'></a>\n",
    "\n",
    "## What is XPath?\n",
    "\n",
    "---\n",
    "\n",
    "![](assets/obama_wiki.png)\n",
    "\n",
    "Understanding how to identify elements and attributes within HTML documents gives us the ability to write simple expressions that create structured data. We can think of XPath like a query language for HTML.\n",
    "\n",
    "To simplify this process, we'll be using the Chrome extension XPath Helper. It's not necessary but highly recommended when building XPath expressions.\n",
    "\n",
    "[XPath Helper](https://chrome.google.com/webstore/detail/xpath-helper/hgimnogjllphhhkhlmebbmlgjoejdpjl?hl=en).\n",
    "\n",
    "XPath expressions can select elements, element attributes, and element text. These selections can apply to a single item or multiple items. Generally, if you're not specific enough, you'll end up selecting multiple elements.\n",
    "\n",
    "\n",
    "<a id='multiple-selections'></a>\n",
    "### Multiple Selections\n",
    "\n",
    "***Multiple selections*** are useful for capturing search results or any repeating element. For instance, the _titles_ from apartment listing search results on Craigslist.\n",
    "\n",
    "\n",
    "**URL**\n",
    "\n",
    "[http://sfbay.craigslist.org/search/sfc/apa](http://sfbay.craigslist.org/search/sfc/apa)\n",
    "\n",
    "\n",
    "**Example HTML Markup**\n",
    "```html\n",
    "...\n",
    "<span class=\"pl\"> \n",
    "    <time datetime=\"2016-01-12 23:27\" title=\"Tue 12 Jan 11:27:35 PM\">Jan 12</time> \n",
    "    <a href=\"/sfc/apa/5400584579.html\" data-id=\"5400584579\" class=\"hdrlnk\">Welcome home to a sweetly renovated four-bedroom, one-and-a-half bath.</a> \n",
    "</span>\n",
    "...\n",
    "```\n",
    "\n",
    "**XPath:: Multiple Titles** _Copy this into the XPath Helper Query box_:\n",
    "```\n",
    "//a[@class='hdrlnk']\n",
    "```\n",
    "\n",
    "**Returns (Ad Titles)**\n",
    "```\n",
    "***New Remodeled two bedroom Apartment***\n",
    "WONDERFUL ONE BR APARTMENT HOME\n",
    "Beautiful 1bed/1bath Apartment in Russian Hill NO SECURITY DEPOSIT\n",
    "Knockout SF View|Green Oasis|Private Driveway|Furnished\n",
    "3BR/3BA Spacious, Beautiful SOMA Loft: 5 month lease\n",
    "Nob Hill Large Studio - Light, Quiet, Lovely Building\n",
    "etc...\n",
    "```"
   ]
  },
  {
   "cell_type": "markdown",
   "metadata": {},
   "source": [
    "<a id='singular-selections'></a>\n",
    "\n",
    "### Singular Selections\n",
    "\n",
    "***Singular selections*** are necessary when you want to grab specific, unique text within elements. Here's an example of a details page on Craigslist:\n",
    "\n",
    "**URL**\n",
    "\n",
    "[https://sfbay.craigslist.org/sfc/apa/6161864063.html](https://sfbay.craigslist.org/sfc/apa/6161864063.html)\n",
    "\n",
    "**HTML Markup**\n",
    "\n",
    "```html\n",
    "<div class=\"postinginfos\">\n",
    "    <p class=\"postinginfo\">post id: 5400585892</p>\n",
    "    <p class=\"postinginfo\">posted: <time datetime=\"2016-01-12T23:23:19-0800\" class=\"xh-highlight\">2016-01-12 11:23pm</time></p>\n",
    "    <p class=\"postinginfo\"><a href=\"https://accounts.craigslist.org/eaf?postingID=5400585892\" class=\"tsb\">email to friend</a></p>\n",
    "    <p class=\"postinginfo\"><a class=\"bestof-link\" data-flag=\"9\" href=\"https://post.craigslist.org/flag?flagCode=9&amp;postingID=5400585892\" title=\"nominate for best-of-CL\"><span class=\"bestof-icon\">♥ </span><span class=\"bestof-text\">best of</span></a> <sup>[<a href=\"http://www.craigslist.org/about/best-of-craigslist\">?</a>]</sup>    </p>\n",
    "</div>\n",
    "```\n",
    "\n",
    "**XPath: Single Item**\n",
    "\n",
    "```\n",
    "//p[@class='postinginfo'][2]/time\n",
    "```\n",
    "**Returns (Time of Posting or Age of Post)**\n",
    "```\n",
    "2016-01-12 11:23pm\n",
    "```"
   ]
  },
  {
   "cell_type": "markdown",
   "metadata": {},
   "source": [
    "<a id='scrapy'></a>\n",
    "\n",
    "## A Simple Example Using Scrapy and XPath\n",
    "\n",
    "---\n",
    "\n",
    "Below is an example of how to get information out of fake HTML using the XPath capabilities of the Scrapy package. You'll likely need to install the Scrapy package using `conda install scrapy`.   \n",
    "\n",
    "**Note:** `conda install` will install the necessary dependent packages needed for Scrapy; `pip install` will **not**."
   ]
  },
  {
   "cell_type": "markdown",
   "metadata": {},
   "source": [
    "We'll use the `selector` class from the Scrapy library to help us construct our query.\n",
    "\n",
    "`Selector` classes take the HTML target as an argument and can then utilize several query types to extract information. In this case, we'll specify `XPath`, as our query will utilize XPath language. \n",
    "\n",
    "Just like with writing Python scripts, there are several ways you can access the exact same information in HTML. Let's try a few."
   ]
  },
  {
   "cell_type": "code",
   "execution_count": 15,
   "metadata": {},
   "outputs": [
    {
     "data": {
      "text/plain": [
       "['best of']"
      ]
     },
     "execution_count": 15,
     "metadata": {},
     "output_type": "execute_result"
    }
   ],
   "source": [
    "from scrapy.selector import Selector\n",
    "from scrapy.http import HtmlResponse\n",
    "\n",
    "# HTML structure string:\n",
    "HTML = \"\"\"\n",
    "<div class=\"postinginfos\">\n",
    "    <p class=\"postinginfo\">post id: 5400585892</p>\n",
    "    <p class=\"postinginfo\">posted: <time datetime=\"2016-01-12T23:23:19-0800\" class=\"xh-highlight\">2016-01-12 11:23pm</time></p>\n",
    "    <p class=\"postinginfo\"><a href=\"https://accounts.craigslist.org/eaf?postingID=5400585892\" class=\"tsb\">email to friend</a></p>\n",
    "    <p class=\"postinginfo\"><a class=\"bestof-link\" data-flag=\"9\" href=\"https://post.craigslist.org/flag?flagCode=9&amp;postingID=5400585892\" title=\"nominate for best-of-CL\"><span class=\"bestof-icon\">♥ </span><span class=\"bestof-text\">best of</span></a> <sup>[<a href=\"http://www.craigslist.org/about/best-of-craigslist\">?</a>]</sup>    </p>\n",
    "</div>\n",
    "\"\"\"\n",
    "\n",
    "# Option 1: Use the exact class name to get its associated text.\n",
    "# //span[@class='bestof-text']/text()\n",
    "best = Selector(text=HTML).xpath(\"//span[@class='bestof-text']/text()\").extract()\n",
    "best"
   ]
  },
  {
   "cell_type": "code",
   "execution_count": 16,
   "metadata": {},
   "outputs": [
    {
     "data": {
      "text/plain": [
       "['best of']"
      ]
     },
     "execution_count": 16,
     "metadata": {},
     "output_type": "execute_result"
    }
   ],
   "source": [
    "# Option 2: Grabs the entire HTML post where class='bestof-link'.\n",
    "best =  Selector(text=HTML).xpath(\"/html/body/div/p/a[@class='bestof-link']\")\n",
    "\n",
    "# Parse the first grabbed chunk of the text for the specific element with class='bestof-text'.\n",
    "nested_best =  best.xpath(\"./span[@class='bestof-text']/text()\").extract()\n",
    "nested_best"
   ]
  },
  {
   "cell_type": "markdown",
   "metadata": {},
   "source": [
    "_Option 3 will probably be the most common because there's a good chance you'll want to grab information from several child elements that exist within one parent element._"
   ]
  },
  {
   "cell_type": "markdown",
   "metadata": {},
   "source": [
    "## Where's Waldo? — XPath Edition\n",
    "\n",
    "In this example, we'll find Waldo together. Find Waldo as:\n",
    "\n",
    "- An element.\n",
    "- An attribute.\n",
    "- A text element."
   ]
  },
  {
   "cell_type": "code",
   "execution_count": 17,
   "metadata": {},
   "outputs": [],
   "source": [
    "HTML = \"\"\"\n",
    "<html>\n",
    "    <body>\n",
    "        \n",
    "        <ul id=\"waldo\">\n",
    "            <li class=\"waldo\">\n",
    "                <span> yo I'm not here</span>\n",
    "            </li>\n",
    "            <li class=\"waldo\">Height:  ???</li>\n",
    "            <li class=\"waldo\">Weight:  ???</li>\n",
    "            <li class=\"waldo\">Last Location:  ???</li>\n",
    "            <li class=\"nerds\">\n",
    "                <div class=\"alpha\">Bill Gates</div>\n",
    "                <div class=\"alpha\">Zuckerberg</div>\n",
    "                <div class=\"beta\">Theil</div>\n",
    "                <div class=\"animal\">Parker</div>\n",
    "            </li>\n",
    "        </ul>\n",
    "        \n",
    "        <ul id=\"tim\">\n",
    "            <li class=\"tdawg\">\n",
    "                <span>yo im here</span>\n",
    "            </li>\n",
    "        </ul>\n",
    "        <li>stuff</li>\n",
    "        <li>stuff2</li>\n",
    "        \n",
    "        <div id=\"cooldiv\">\n",
    "            <span class=\"dsi-rocks\">\n",
    "               YO!\n",
    "            </span>\n",
    "        </div>\n",
    "        \n",
    "        \n",
    "        <waldo>Waldo</waldo>\n",
    "    </body>\n",
    "</html>\n",
    "\"\"\""
   ]
  },
  {
   "cell_type": "markdown",
   "metadata": {},
   "source": [
    "**Tip:** We can use the asterisk character `*` as a placeholder for \"all possible.\"\n",
    "\n",
    "```python\n",
    "# All elements where class='alpha':\n",
    "Selector(text=HTML).xpath('//*[@class=\"alpha\"]').extract()\n",
    "\n",
    "\n",
    "\n",
    "# Returns:\n",
    "\n",
    "[u'<div class=\"alpha\">Bill gates</div>',\n",
    " u'<div class=\"alpha\">Zuckerberg</div>']\n",
    "```\n"
   ]
  },
  {
   "cell_type": "markdown",
   "metadata": {},
   "source": [
    "** Find the element 'Waldo': **"
   ]
  },
  {
   "cell_type": "code",
   "execution_count": 18,
   "metadata": {},
   "outputs": [
    {
     "data": {
      "text/plain": [
       "['Waldo']"
      ]
     },
     "execution_count": 18,
     "metadata": {},
     "output_type": "execute_result"
    }
   ],
   "source": [
    "# Text contents of the element Waldo:\n",
    "Selector(text=HTML).xpath('/html/body/waldo/text()').extract()"
   ]
  },
  {
   "cell_type": "markdown",
   "metadata": {},
   "source": [
    "**Find the attribute(s) 'Waldo':**"
   ]
  },
  {
   "cell_type": "code",
   "execution_count": 19,
   "metadata": {},
   "outputs": [
    {
     "data": {
      "text/plain": [
       "['<ul id=\"waldo\">\\n            <li class=\"waldo\">\\n                <span> yo I\\'m not here</span>\\n            </li>\\n            <li class=\"waldo\">Height:  ???</li>\\n            <li class=\"waldo\">Weight:  ???</li>\\n            <li class=\"waldo\">Last Location:  ???</li>\\n            <li class=\"nerds\">\\n                <div class=\"alpha\">Bill Gates</div>\\n                <div class=\"alpha\">Zuckerberg</div>\\n                <div class=\"beta\">Theil</div>\\n                <div class=\"animal\">Parker</div>\\n            </li>\\n        </ul>',\n",
       " '<li class=\"waldo\">\\n                <span> yo I\\'m not here</span>\\n            </li>',\n",
       " '<li class=\"waldo\">Height:  ???</li>',\n",
       " '<li class=\"waldo\">Weight:  ???</li>',\n",
       " '<li class=\"waldo\">Last Location:  ???</li>']"
      ]
     },
     "execution_count": 19,
     "metadata": {},
     "output_type": "execute_result"
    }
   ],
   "source": [
    "# Contents of all attributes named Waldo:\n",
    "Selector(text=HTML).xpath('//*[@*=\"waldo\"]').extract()"
   ]
  },
  {
   "cell_type": "code",
   "execution_count": 13,
   "metadata": {},
   "outputs": [
    {
     "data": {
      "text/plain": [
       "['<li class=\"waldo\">\\n                <span> yo I\\'m not here</span>\\n            </li>',\n",
       " '<li class=\"waldo\">Height:  ???</li>',\n",
       " '<li class=\"waldo\">Weight:  ???</li>',\n",
       " '<li class=\"waldo\">Last Location:  ???</li>']"
      ]
     },
     "execution_count": 13,
     "metadata": {},
     "output_type": "execute_result"
    }
   ],
   "source": [
    "# Contents of all class attributes named Waldo:\n",
    "Selector(text=HTML).xpath('//*[@class=\"waldo\"]').extract()"
   ]
  },
  {
   "cell_type": "markdown",
   "metadata": {},
   "source": [
    "**Find the text element Waldo.**"
   ]
  },
  {
   "cell_type": "code",
   "execution_count": 20,
   "metadata": {},
   "outputs": [
    {
     "data": {
      "text/plain": [
       "['<waldo>Waldo</waldo>']"
      ]
     },
     "execution_count": 20,
     "metadata": {},
     "output_type": "execute_result"
    }
   ],
   "source": [
    "# Gets everything around the text element Waldo:\n",
    "Selector(text=HTML).xpath(\"//*[text()='Waldo']\").extract()"
   ]
  },
  {
   "cell_type": "code",
   "execution_count": null,
   "metadata": {},
   "outputs": [],
   "source": []
  },
  {
   "cell_type": "code",
   "execution_count": 24,
   "metadata": {},
   "outputs": [
    {
     "data": {
      "text/plain": [
       "['<li class=\"tdawg\">\\n                <span>yo im here</span>\\n            </li>']"
      ]
     },
     "execution_count": 24,
     "metadata": {},
     "output_type": "execute_result"
    }
   ],
   "source": [
    "# Gets everything around the text element Waldo:\n",
    "Selector(text=HTML).xpath(\"//*[@class=='yo im here']\").extract()"
   ]
  },
  {
   "cell_type": "markdown",
   "metadata": {},
   "source": [
    "<a id='scrapy'></a>\n",
    "<a scrapy-spiders></a>\n",
    "## What is a Scrapy Spider?\n",
    "\n",
    "---\n",
    "\n",
    "> *\"[Scrapy](http://scrapy.org/) is an application framework for writing web spiders that \"crawl\" around websites and extract data from them.\"*\n",
    "\n",
    "Below we'll walk through the creation of a **spider** using Scrapy. Spiders are automated processes that will crawl through a web page or web pages to collect information.\n",
    "\n",
    "> **Note:** This code should be written in a script outside of Jupyter.\n",
    "\n",
    "<a id='scrapy-project'></a>\n",
    "### 1) Create a new Scrapy project.\n",
    "\n",
    "In your terminal, `cd` into a directory where you want to create your spider's folder. We recommend the desktop for easy access to the files.\n",
    "> `scrapy startproject craigslist`\n",
    "\n",
    "**It should create an output that looks like this:**\n",
    "<blockquote>\n",
    "```\n",
    "New Scrapy project 'craigslist', using template directory '/Users/jmpounders/anaconda3/lib/python3.6/site-packages/scrapy/templates/project', created in:\n",
    "    /Users/jmpounders/dsi-east-2/scrapy/craigslist\n",
    "\n",
    "You can start your first spider with:\n",
    "    cd craigslist\n",
    "    scrapy genspider example example.com\n",
    "```\n",
    "</blockquote>\n",
    "\n",
    "**That command generates a set of project files:**\n",
    "<blockquote>\n",
    "```\n",
    "├── craigslist\n",
    "│   ├── __init__.py\n",
    "│   ├── __pycache__\n",
    "│   ├── items.py\n",
    "│   ├── middlewares.py\n",
    "│   ├── pipelines.py\n",
    "│   ├── settings.py\n",
    "│   └── spiders\n",
    "│       ├── __init__.py\n",
    "│       └── __pycache__\n",
    "└── scrapy.cfg\n",
    "```\n",
    "</blockquote>\n",
    "\n",
    "Generally, these are our files. We'll go into more detail on these soon.\n",
    "\n",
    " * **`scrapy.cfg`:** The project's configuration file.\n",
    " * **`craigslist/`:** The project’s Python module — you’ll import your code from here later.\n",
    " * **`craigslist/items.py`:** The project’s items file.\n",
    " * **`craigslist/pipelines.py`:** The project’s pipelines file.\n",
    " * **`craigslist/settings.py`:** The project’s settings file.\n",
    " * **`craigslist/spiders/`:** A directory where you’ll store your spiders.\n",
    " \n",
    "Please also add this line to your `craigslist/settings.py` file before continuing:\n",
    " \n",
    " <blockquote>\n",
    " ```\n",
    " DOWNLOAD_HANDLERS = {'s3': None,}\n",
    " ```\n",
    " </blockquote>\n",
    "\n"
   ]
  },
  {
   "cell_type": "markdown",
   "metadata": {},
   "source": [
    "--- \n",
    "<a id='define-item'></a>\n",
    "### 2) Define an \"item.\"\n",
    "\n",
    "When we define an item, we're telling our new application what it will be collecting. In essence, an item is an entity that has attributes (\"title,\" \"description,\" \"price,\" etc.) that are descriptive and relate to elements on pages we'll be scraping.  \n",
    "\n",
    "In more precise terms, this is a model (for those who are familiar with object-relational mapping or relational database terms). Don't worry if this is a foreign concept.  The main idea is to understand that a model has attributes that closely resemble or relate to elements on our target web page(s).\n",
    "\n",
    "```python\n",
    "# -*- coding: utf-8 -*-\n",
    "\n",
    "# Define here the models for your scraped items.\n",
    "#\n",
    "# See documentation in:\n",
    "# http://doc.scrapy.org/en/latest/topics/items.html\n",
    "\n",
    "import scrapy\n",
    "\n",
    "class CraigslistItem(scrapy.Item):\n",
    "    # Define the fields for your item here like:\n",
    "    # name = scrapy.Field()\n",
    "    title = scrapy.Field()\n",
    "    link = scrapy.Field()\n",
    "    price = scrapy.Field()\n",
    "```\n"
   ]
  },
  {
   "cell_type": "markdown",
   "metadata": {},
   "source": [
    "---\n",
    "\n",
    "<a id='spider-crawl'></a>\n",
    "### 3) A spider that crawls.\n",
    "\n",
    "An item is a model that resembles data on a web page. A spider is something that crawls pages and uses our item model to get and hold items for us.\n",
    "\n",
    "**Scrapy spiders are Python classes. Let's write our first file, called `craigslist_spider.py`, and put it in our `/spiders` directory.**\n",
    "\n",
    "```python\n",
    "import scrapy\n",
    "\n",
    "class CraigslistSpider(scrapy.Spider):\n",
    "    name = \"craigslist\"\n",
    "    allowed_domains = [\"craigslist.org\"]\n",
    "    start_urls = [\n",
    "        \"https://atlanta.craigslist.org/search/cto\"\n",
    "    ]\n",
    "\n",
    "    def parse(self, response):\n",
    "        filename = response.url.split(\"/\")[-2]\n",
    "        with open(filename, 'wb') as f:\n",
    "            f.write(response.body)\n",
    "```\n",
    "\n",
    "**Next, let's dive in and crawl from our `/craigslist/craigslist` directory.**\n",
    "\n",
    "```\n",
    "> scrapy crawl craigslist\n",
    "```\n",
    "\n",
    "**What just happened?**\n",
    " * Our application requested the URLs from the `start_urls` class attribute.\n",
    " * It parsed over the content containing the HTML markup of each request URL.\n",
    " * What else?\n",
    " \n",
    "```python\n",
    "    with open(filename, 'wb') as f:\n",
    "        f.write(response.body)\n",
    "```\n",
    "\n",
    "It saved a file in our base project directory. It should be named based on the end of the URL. In our case, it should create a file called \"sfc.\" This is taken directly from the Scrapy docs and its only point is to illustrate the workflow so far. It's nice to have a reference to our HTML file.  \n",
    "\n",
    "There might be some errors listed when we crawl, but they are fine for now."
   ]
  },
  {
   "cell_type": "markdown",
   "metadata": {},
   "source": [
    "--- \n",
    "<a id='xpath-spider'></a>\n",
    "### 4) XPath and parsing with our spider.\n",
    "\n",
    "So far, we've defined the fields we'll get, some URLs to fetch, and saved some content to a file. Now, it's about to get interesting.\n",
    "\n",
    "**We should let our spider know about the item model we created earlier. In the head of the `craigslist/craigslist/spiders/craigslist_spider.py`, let's add a new import.**\n",
    "\n",
    "```python\n",
    "from craigslist.items import CraigslistItem\n",
    "```\n",
    "\n",
    "> **Check:** Why won't it work otherwise?\n",
    "\n",
    "<br><br><br>\n",
    "**Let's replace our `parse()` method to find some data from our Craigslist spider response and map them to our item model, `CraigslistItem`.**\n",
    "\n",
    "\n",
    "```python\n",
    "def parse(self, response): # Define parse() function. \n",
    "    items = [] # Element for storing scraped information.\n",
    "\thxs = Selector(response) # Selector allows us to grab HTML from the response (target website).\n",
    "\tfor sel in hxs.xpath(\"//li[@class='result-row']/p\"): # Because we're using XPath language, we need to specify that the paragraphs we're trying to isolate are expressed via XPath.\n",
    "\t\titem = CraigslistItem()\n",
    "        item['title'] =  sel.xpath(\"a/text()\").extract() # Title text from the 'a' element. \n",
    "\t\titem['link']  =  sel.xpath(\"a/@href\").extract() # Href/URL from the 'a' element. \n",
    "\t\titem['price'] =  sel.xpath('span/span[@class=\"result-price\"]/text()').extract()[0]\n",
    "                # Price from the result price class nested in a few span elements.\n",
    "        items.append(item)\n",
    "\treturn items # Shows scraped information as terminal output.\n",
    "\n",
    "```\n",
    "\n"
   ]
  },
  {
   "cell_type": "markdown",
   "metadata": {},
   "source": [
    "---\n",
    "\n",
    "<a id='save-examine'></a>\n",
    "### 5) Save and examine our scraped data.\n",
    "\n",
    "By default, we can save our crawled data in a CSV format. To save our data, we just need to pass a few optional parameters to our crawl call:\n",
    "\n",
    "<blockquote>\n",
    "```\n",
    "> scrapy crawl craigslist -o items.csv -t csv\n",
    "```\n",
    "</blockquote>\n",
    "\n",
    "It's always good to iteratively check the data when developing a spider to make sure the set is close to what we want. \n",
    "\n",
    "> *Pro tip: The longer your iterations are between checks, the harder it's going to be to understand what's not working and fix bugs.*\n",
    "\n",
    "You should now have a file called '`items.csv`' in the directory from which you ran the `scrapy crawl` command."
   ]
  },
  {
   "cell_type": "markdown",
   "metadata": {},
   "source": [
    "<a id='addendum'></a>\n",
    "## Addendum: Leveraging XPath to Get More Results\n",
    "\n",
    "---\n",
    "\n",
    "Generally, a workflow that's useful in this context is to load the page in your Chrome browser, check out the page using the XPath Helper plugin, and, from that, derive your own XPath expressions based on the output.\n",
    "\n",
    "`text()` selects only the text of a given element (between the tags), and `@attribute_name` is used to select attributes.\n",
    "\n",
    "**Here are a few examples of `text()`:**\n",
    "<blockquote>\n",
    "```\n",
    "<h1>Darwin - The Evolution Of An Exhibition</h1>\n",
    "```\n",
    "</blockquote>\n",
    "\n",
    "The XPath selector for this:\n",
    "\n",
    "<blockquote>\n",
    "```\n",
    "//h1/text()\n",
    "```\n",
    "</blockquote>\n",
    "\n",
    "**Here are a few examples of attributes:**\n",
    "\n",
    "And the description is contained inside a `<div>` tag with `id=\"description\"`:\n",
    "<blockquote>\n",
    "```\n",
    "<h2>Description:</h2>\n",
    "\n",
    "<div id=\"description\">\n",
    "Short documentary made for the Plymouth City Museum and Art Gallery regarding the set up of an exhibit about Charles Darwin in conjunction with the 200th anniversary of his birth.\n",
    "</div>\n",
    "...\n",
    "```\n",
    "</blockquote>\n",
    "\n",
    "XPath\n",
    "<blockquote>\n",
    "```\n",
    "//div[@id='description']\n",
    "```\n",
    "</blockquote>"
   ]
  },
  {
   "cell_type": "markdown",
   "metadata": {},
   "source": [
    "---\n",
    "<a id='follow-links'></a>\n",
    "### Following Links for More Results\n",
    "\n",
    "One hundred results is pretty good, but what if we want more? We need to follow the \"next\" links and find new pages to grab. Using the **`parse()`** method of our spider class, we need to return another type of object.\n",
    "\n",
    "See [Stack Overflow](https://stackoverflow.com/questions/30152261/make-scrapy-follow-links-and-collect-data) for details!\n"
   ]
  },
  {
   "cell_type": "code",
   "execution_count": null,
   "metadata": {
    "collapsed": true
   },
   "outputs": [],
   "source": []
  }
 ],
 "metadata": {
  "anaconda-cloud": {},
  "kernelspec": {
   "display_name": "Python 3",
   "language": "python",
   "name": "python3"
  },
  "language_info": {
   "codemirror_mode": {
    "name": "ipython",
    "version": 3
   },
   "file_extension": ".py",
   "mimetype": "text/x-python",
   "name": "python",
   "nbconvert_exporter": "python",
   "pygments_lexer": "ipython3",
   "version": "3.6.5"
  }
 },
 "nbformat": 4,
 "nbformat_minor": 1
}
