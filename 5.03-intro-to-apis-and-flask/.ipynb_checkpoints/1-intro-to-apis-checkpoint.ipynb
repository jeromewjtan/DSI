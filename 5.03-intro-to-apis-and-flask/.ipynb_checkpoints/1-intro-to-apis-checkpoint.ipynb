{
 "cells": [
  {
   "cell_type": "markdown",
   "metadata": {},
   "source": [
    "<img src=\"http://imgur.com/1ZcRyrc.png\" style=\"float: left; margin: 20px; height: 55px\">\n",
    "\n",
    "# Intro to API's\n",
    "Author Dave Yerrington (SF)\n",
    "\n",
    "Objectives\n",
    "\n",
    "- Explain the utility and purpose of API's\n",
    "- Explore a usecase"
   ]
  },
  {
   "cell_type": "markdown",
   "metadata": {},
   "source": [
    "### Any ideas on why you would want to use an API?\n",
    "We will solicit some examples and discuss them briefly."
   ]
  },
  {
   "cell_type": "markdown",
   "metadata": {},
   "source": [
    "### Webservice Use case:  PokéAPI\n",
    "\n",
    "An organized collection of URLs organized to deliver a system of Pokemon data.  The PokeAPI is designed to allow developers to query Pokemon data in the following ways:\n",
    "\n",
    "- [Pokemon](https://www.pokeapi.co/docsv2/#pokemon-section)\n",
    "    - Stats\n",
    "    - Abilities \n",
    "    - Habitats\n",
    "\n",
    "- [Items](https://www.pokeapi.co/docsv2/#items-section)\n",
    "    - Item info\n",
    "    - Item attributes\n",
    "    - Item categories\n",
    "\n",
    "The webservice PokeAPI, is designed based on URL patterns, which can be used to retrieve data by topic, resource type, or attribute.  Also, we can use parameters with requests in order to control which data is retrieve as a result.\n",
    "\n",
    "#### Example endpoints for querying the above data resources include:\n",
    "\n",
    "The following endpoints describe a URL address with an implied domain.  \n",
    "\n",
    "The convention these **endpoints** follow:\n",
    "\n",
    "http:// **[BASE URL OR DOMAIN]** / + **[DIRECTORY RESOURCE]**\n",
    "\n",
    "For example, if our base url / domain was **pokeapi.co**, and our directory resource was  **api/v2/pokemon/55**, our **enpoint** would literally refer to the full URL: https://pokeapi.co/api/v2/pokemon/55\n",
    "\n",
    "\n",
    "> An **endpoint** is a URL pattern used to communicate with an API."
   ]
  },
  {
   "cell_type": "markdown",
   "metadata": {},
   "source": [
    "#### Querying Pokemon details\n",
    "- `GET api/v2/pokemon/{id or name}`\n",
    "\n",
    "If we wanted to retrieve a list of Pokemon, we could programatically query the above endpoint by simply changing the **id**.  With web service API's "
   ]
  },
  {
   "cell_type": "code",
   "execution_count": 10,
   "metadata": {},
   "outputs": [
    {
     "data": {
      "text/plain": [
       "'http://pokeapi.co/api/v2/pokemon/55'"
      ]
     },
     "execution_count": 10,
     "metadata": {},
     "output_type": "execute_result"
    }
   ],
   "source": [
    "url_parameters = dict(\n",
    "    base_url  = \"pokeapi.co\",\n",
    "    directory = \"api/v2/pokemon\",\n",
    "    pokemon_id = 55\n",
    ")\n",
    "\n",
    "endpoint  = \"http://{base_url}/{directory}/{pokemon_id}\".format(**url_parameters)\n",
    "endpoint"
   ]
  },
  {
   "cell_type": "markdown",
   "metadata": {},
   "source": [
    "#### Query the PokeAPI for Pokemon 55\n",
    "\n",
    "Using the requests library, we can query the PokeAPI over HTTP"
   ]
  },
  {
   "cell_type": "code",
   "execution_count": 12,
   "metadata": {},
   "outputs": [
    {
     "data": {
      "text/plain": [
       "<Response [200]>"
      ]
     },
     "execution_count": 12,
     "metadata": {},
     "output_type": "execute_result"
    }
   ],
   "source": [
    "import requests\n",
    "\n",
    "result = requests.get(endpoint)\n",
    "result"
   ]
  },
  {
   "cell_type": "markdown",
   "metadata": {},
   "source": [
    "#### With our `<Response [200]>` result, we can access the data through JSON"
   ]
  },
  {
   "cell_type": "code",
   "execution_count": 16,
   "metadata": {},
   "outputs": [
    {
     "data": {
      "text/plain": [
       "dict_keys(['forms', 'abilities', 'stats', 'name', 'weight', 'moves', 'sprites', 'held_items', 'location_area_encounters', 'height', 'is_default', 'species', 'id', 'order', 'game_indices', 'base_experience', 'types'])"
      ]
     },
     "execution_count": 16,
     "metadata": {},
     "output_type": "execute_result"
    }
   ],
   "source": [
    "pokemon = result.json()\n",
    "pokemon.keys()"
   ]
  },
  {
   "cell_type": "markdown",
   "metadata": {},
   "source": [
    "#### Inspecting the key structure of our pokemon result, we can explore the different aspects of our Pokemon result"
   ]
  },
  {
   "cell_type": "code",
   "execution_count": 17,
   "metadata": {},
   "outputs": [
    {
     "data": {
      "text/plain": [
       "'golduck'"
      ]
     },
     "execution_count": 17,
     "metadata": {},
     "output_type": "execute_result"
    }
   ],
   "source": [
    "pokemon['name']"
   ]
  },
  {
   "cell_type": "code",
   "execution_count": 18,
   "metadata": {},
   "outputs": [
    {
     "data": {
      "text/plain": [
       "[{'stat': {'url': 'https://pokeapi.co/api/v2/stat/6/', 'name': 'speed'},\n",
       "  'effort': 0,\n",
       "  'base_stat': 85},\n",
       " {'stat': {'url': 'https://pokeapi.co/api/v2/stat/5/',\n",
       "   'name': 'special-defense'},\n",
       "  'effort': 0,\n",
       "  'base_stat': 80},\n",
       " {'stat': {'url': 'https://pokeapi.co/api/v2/stat/4/',\n",
       "   'name': 'special-attack'},\n",
       "  'effort': 2,\n",
       "  'base_stat': 95},\n",
       " {'stat': {'url': 'https://pokeapi.co/api/v2/stat/3/', 'name': 'defense'},\n",
       "  'effort': 0,\n",
       "  'base_stat': 78},\n",
       " {'stat': {'url': 'https://pokeapi.co/api/v2/stat/2/', 'name': 'attack'},\n",
       "  'effort': 0,\n",
       "  'base_stat': 82},\n",
       " {'stat': {'url': 'https://pokeapi.co/api/v2/stat/1/', 'name': 'hp'},\n",
       "  'effort': 0,\n",
       "  'base_stat': 80}]"
      ]
     },
     "execution_count": 18,
     "metadata": {},
     "output_type": "execute_result"
    }
   ],
   "source": [
    "pokemon['stats']"
   ]
  },
  {
   "cell_type": "markdown",
   "metadata": {},
   "source": [
    "### Sometimes resources returned from an API refer to other endpoints.\n",
    "\n",
    "In the pokemon stats area of the Pokemon result, we can see a **stat url** being returned.  To look up more data related to the first stat reported by the **golduck** Pokemon, **speed**, we can easily make another request.\n",
    "\n",
    "> Sometimes these types of resources in results, can be a simple, single number identifier.  However, here we see it as a full URL / **endpoint**."
   ]
  },
  {
   "cell_type": "code",
   "execution_count": 19,
   "metadata": {},
   "outputs": [
    {
     "data": {
      "text/plain": [
       "{'is_battle_only': False,\n",
       " 'names': [{'name': 'すばやさ',\n",
       "   'language': {'url': 'https://pokeapi.co/api/v2/language/1/',\n",
       "    'name': 'ja-Hrkt'}},\n",
       "  {'name': 'Vitesse',\n",
       "   'language': {'url': 'https://pokeapi.co/api/v2/language/5/', 'name': 'fr'}},\n",
       "  {'name': 'Initiative',\n",
       "   'language': {'url': 'https://pokeapi.co/api/v2/language/6/', 'name': 'de'}},\n",
       "  {'name': 'Velocidad',\n",
       "   'language': {'url': 'https://pokeapi.co/api/v2/language/7/', 'name': 'es'}},\n",
       "  {'name': 'Velocità',\n",
       "   'language': {'url': 'https://pokeapi.co/api/v2/language/8/', 'name': 'it'}},\n",
       "  {'name': 'Speed',\n",
       "   'language': {'url': 'https://pokeapi.co/api/v2/language/9/',\n",
       "    'name': 'en'}}],\n",
       " 'affecting_natures': {'increase': [{'url': 'https://pokeapi.co/api/v2/nature/5/',\n",
       "    'name': 'timid'},\n",
       "   {'url': 'https://pokeapi.co/api/v2/nature/10/', 'name': 'hasty'},\n",
       "   {'url': 'https://pokeapi.co/api/v2/nature/16/', 'name': 'jolly'},\n",
       "   {'url': 'https://pokeapi.co/api/v2/nature/20/', 'name': 'naive'}],\n",
       "  'decrease': [{'url': 'https://pokeapi.co/api/v2/nature/21/',\n",
       "    'name': 'brave'},\n",
       "   {'url': 'https://pokeapi.co/api/v2/nature/22/', 'name': 'relaxed'},\n",
       "   {'url': 'https://pokeapi.co/api/v2/nature/23/', 'name': 'quiet'},\n",
       "   {'url': 'https://pokeapi.co/api/v2/nature/24/', 'name': 'sassy'}]},\n",
       " 'characteristics': [{'url': 'https://pokeapi.co/api/v2/characteristic/6/'},\n",
       "  {'url': 'https://pokeapi.co/api/v2/characteristic/12/'},\n",
       "  {'url': 'https://pokeapi.co/api/v2/characteristic/18/'},\n",
       "  {'url': 'https://pokeapi.co/api/v2/characteristic/24/'},\n",
       "  {'url': 'https://pokeapi.co/api/v2/characteristic/30/'}],\n",
       " 'affecting_moves': {'increase': [{'move': {'url': 'https://pokeapi.co/api/v2/move/97/',\n",
       "     'name': 'agility'},\n",
       "    'change': 2},\n",
       "   {'move': {'url': 'https://pokeapi.co/api/v2/move/246/',\n",
       "     'name': 'ancient-power'},\n",
       "    'change': 1},\n",
       "   {'move': {'url': 'https://pokeapi.co/api/v2/move/318/',\n",
       "     'name': 'silver-wind'},\n",
       "    'change': 1},\n",
       "   {'move': {'url': 'https://pokeapi.co/api/v2/move/349/',\n",
       "     'name': 'dragon-dance'},\n",
       "    'change': 1},\n",
       "   {'move': {'url': 'https://pokeapi.co/api/v2/move/397/',\n",
       "     'name': 'rock-polish'},\n",
       "    'change': 2},\n",
       "   {'move': {'url': 'https://pokeapi.co/api/v2/move/466/',\n",
       "     'name': 'ominous-wind'},\n",
       "    'change': 1},\n",
       "   {'move': {'url': 'https://pokeapi.co/api/v2/move/475/',\n",
       "     'name': 'autotomize'},\n",
       "    'change': 2},\n",
       "   {'move': {'url': 'https://pokeapi.co/api/v2/move/483/',\n",
       "     'name': 'quiver-dance'},\n",
       "    'change': 1},\n",
       "   {'move': {'url': 'https://pokeapi.co/api/v2/move/488/',\n",
       "     'name': 'flame-charge'},\n",
       "    'change': 1},\n",
       "   {'move': {'url': 'https://pokeapi.co/api/v2/move/508/',\n",
       "     'name': 'shift-gear'},\n",
       "    'change': 2},\n",
       "   {'move': {'url': 'https://pokeapi.co/api/v2/move/601/', 'name': 'geomancy'},\n",
       "    'change': 2}],\n",
       "  'decrease': [{'move': {'url': 'https://pokeapi.co/api/v2/move/61/',\n",
       "     'name': 'bubble-beam'},\n",
       "    'change': -1},\n",
       "   {'move': {'url': 'https://pokeapi.co/api/v2/move/81/',\n",
       "     'name': 'string-shot'},\n",
       "    'change': -2},\n",
       "   {'move': {'url': 'https://pokeapi.co/api/v2/move/132/',\n",
       "     'name': 'constrict'},\n",
       "    'change': -1},\n",
       "   {'move': {'url': 'https://pokeapi.co/api/v2/move/145/', 'name': 'bubble'},\n",
       "    'change': -1},\n",
       "   {'move': {'url': 'https://pokeapi.co/api/v2/move/178/',\n",
       "     'name': 'cotton-spore'},\n",
       "    'change': -2},\n",
       "   {'move': {'url': 'https://pokeapi.co/api/v2/move/184/',\n",
       "     'name': 'scary-face'},\n",
       "    'change': -2},\n",
       "   {'move': {'url': 'https://pokeapi.co/api/v2/move/196/', 'name': 'icy-wind'},\n",
       "    'change': -1},\n",
       "   {'move': {'url': 'https://pokeapi.co/api/v2/move/317/',\n",
       "     'name': 'rock-tomb'},\n",
       "    'change': -1},\n",
       "   {'move': {'url': 'https://pokeapi.co/api/v2/move/341/', 'name': 'mud-shot'},\n",
       "    'change': -1},\n",
       "   {'move': {'url': 'https://pokeapi.co/api/v2/move/359/',\n",
       "     'name': 'hammer-arm'},\n",
       "    'change': -1},\n",
       "   {'move': {'url': 'https://pokeapi.co/api/v2/move/490/',\n",
       "     'name': 'low-sweep'},\n",
       "    'change': -1},\n",
       "   {'move': {'url': 'https://pokeapi.co/api/v2/move/523/', 'name': 'bulldoze'},\n",
       "    'change': -1},\n",
       "   {'move': {'url': 'https://pokeapi.co/api/v2/move/527/',\n",
       "     'name': 'electroweb'},\n",
       "    'change': -1},\n",
       "   {'move': {'url': 'https://pokeapi.co/api/v2/move/549/', 'name': 'glaciate'},\n",
       "    'change': -1},\n",
       "   {'move': {'url': 'https://pokeapi.co/api/v2/move/557/', 'name': 'v-create'},\n",
       "    'change': -1},\n",
       "   {'move': {'url': 'https://pokeapi.co/api/v2/move/599/',\n",
       "     'name': 'venom-drench'},\n",
       "    'change': -1}]},\n",
       " 'move_damage_class': None,\n",
       " 'game_index': 4,\n",
       " 'id': 6,\n",
       " 'name': 'speed'}"
      ]
     },
     "execution_count": 19,
     "metadata": {},
     "output_type": "execute_result"
    }
   ],
   "source": [
    "# stat 6 = speed\n",
    "endpoint = \"https://pokeapi.co/api/v2/stat/6/\"\n",
    "stat_6 = requests.get(endpoint).json()\n",
    "stat_6"
   ]
  },
  {
   "cell_type": "markdown",
   "metadata": {},
   "source": [
    "### Conclusion\n",
    "\n",
    "- WebAPI's are designed to allow a user to query a system of data, through an organized system of URL patterns.\n",
    "- JSON is the modern format standard of which data is transacted.\n",
    "- Many popular services and platform provide a web API for developers to use.\n",
    "\n"
   ]
  },
  {
   "cell_type": "markdown",
   "metadata": {},
   "source": [
    "### Recommended reading\n",
    "\n",
    "- [Mining Twitter Data With Python](https://marcobonzanini.com/2015/03/02/mining-twitter-data-with-python-part-1/)\n",
    "- [Understanding OAuth](http://www.bubblecode.net/en/2016/01/22/understanding-oauth2/)\n",
    "- [Lecture series on RESTful API's](http://www.restapitutorial.com/) see also the [excellent presentation](https://www.youtube.com/watch?v=llpr5924N7E) within the same resources."
   ]
  }
 ],
 "metadata": {
  "kernelspec": {
   "display_name": "Python 3",
   "language": "python",
   "name": "python3"
  },
  "language_info": {
   "codemirror_mode": {
    "name": "ipython",
    "version": 3
   },
   "file_extension": ".py",
   "mimetype": "text/x-python",
   "name": "python",
   "nbconvert_exporter": "python",
   "pygments_lexer": "ipython3",
   "version": "3.7.3"
  }
 },
 "nbformat": 4,
 "nbformat_minor": 2
}
