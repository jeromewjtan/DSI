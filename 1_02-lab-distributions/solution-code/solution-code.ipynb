{
 "cells": [
  {
   "cell_type": "markdown",
   "metadata": {},
   "source": [
    "# 1.03 Distributions Lab\n",
    "\n",
    "**NOTE**: Double-click on the cells that say \"Type _Markdown_ and LaTeX: $\\alpha^2$\" to open a Markdown cell in which you can enter text without needing to put comments in code cells!"
   ]
  },
  {
   "cell_type": "markdown",
   "metadata": {},
   "source": [
    "#### 1. Define distribution."
   ]
  },
  {
   "cell_type": "markdown",
   "metadata": {},
   "source": [
    "**Answer:** The set of all values of a variable and how frequently the variable takes on each value."
   ]
  },
  {
   "cell_type": "markdown",
   "metadata": {},
   "source": [
    "#### 2. When summarizing the distribution of a variable, what are the three aspects of distributions we want to make sure we summarize?"
   ]
  },
  {
   "cell_type": "markdown",
   "metadata": {},
   "source": [
    "**Answer:** Center, spread, and shape.\n",
    "- Center: mean, median, mode, ...\n",
    "- Spread: standard deviation, variance, range, interquartile range, ...\n",
    "- Shape: skewed, symmetric, Normal, ..."
   ]
  },
  {
   "cell_type": "markdown",
   "metadata": {},
   "source": [
    "#### 3. What is a Bernoulli random variable?"
   ]
  },
  {
   "cell_type": "markdown",
   "metadata": {},
   "source": [
    "**Answer:** A Bernoulli random variable is a random variable with:\n",
    "- A fixed probability of success $p$ and\n",
    "- A binary outcome, usually classified as `success` and `failure`"
   ]
  },
  {
   "cell_type": "markdown",
   "metadata": {},
   "source": [
    "#### 4. What is the relationship between the Bernoulli and Binomial distributions?"
   ]
  },
  {
   "cell_type": "markdown",
   "metadata": {},
   "source": [
    "**Answer:** The Binomial distribution models the sum of a fixed number of independent Bernoulli trials. Alternatively, a Binomial distribution with $n = 1$ is identical to a Bernoulli distribution."
   ]
  },
  {
   "cell_type": "markdown",
   "metadata": {},
   "source": [
    "#### 5. What is the relationship between the Binomial and Poisson distributions?"
   ]
  },
  {
   "cell_type": "markdown",
   "metadata": {},
   "source": [
    "**Answer:** The Binomial distribution's parameters are $n$ and $p$. If $n\\rightarrow\\infty$ and $p\\rightarrow0$ while keeping $n\\times p = \\lambda$ constant, then the Binomial converges to a Poisson($\\lambda$)."
   ]
  },
  {
   "cell_type": "markdown",
   "metadata": {},
   "source": [
    "#### 6. What is the relationship between the Exponential and Geometric distributions?"
   ]
  },
  {
   "cell_type": "markdown",
   "metadata": {},
   "source": [
    "**Answer:** The Geometric distribution models the number of events before the first success. If we keep the rate of events constant but shrink the intervals of the event and thus $p\\rightarrow 0$, then we get the Exponential distribution."
   ]
  },
  {
   "cell_type": "markdown",
   "metadata": {},
   "source": [
    "#### 7. Let's walk through the Central Limit Theorem.\n",
    "\n",
    "a) Let's create a population of 10,000 observations from a Normal distribution with mean 500 and standard deviation 100. Save this as `population`. Before this step, however, set your seed to 45 using using `random.seed(45)`."
   ]
  },
  {
   "cell_type": "code",
   "execution_count": 2,
   "metadata": {},
   "outputs": [],
   "source": [
    "import numpy as np\n",
    "import random\n",
    "import seaborn as sns\n",
    "\n",
    "%matplotlib inline\n",
    "\n",
    "random.seed(45)"
   ]
  },
  {
   "cell_type": "code",
   "execution_count": 2,
   "metadata": {},
   "outputs": [],
   "source": [
    "population = list(np.random.normal(500,100,10000))"
   ]
  },
  {
   "cell_type": "markdown",
   "metadata": {},
   "source": [
    "b) Generate 1,000 random samples of size 5 from `population`. Calculate the mean of each of these samples (so you should have 1,000 means) and put them in a list `norm_samples_5`."
   ]
  },
  {
   "cell_type": "code",
   "execution_count": 3,
   "metadata": {},
   "outputs": [],
   "source": [
    "norm_samples_5 = [np.mean(random.sample(population,5)) for i in range(1000)]"
   ]
  },
  {
   "cell_type": "markdown",
   "metadata": {},
   "source": [
    "We simulated the sampling distribution of $\\bar{X}$ when we took the mean of 1,000 samples from the population. This isn't exactly what the sampling distribution of $\\bar{X}$ is, but it's close enough for our purposes! \n",
    "\n",
    "(In general, we'd actually take every possible sample of size 5 from our population, but that can get really complicated.)"
   ]
  },
  {
   "cell_type": "markdown",
   "metadata": {},
   "source": [
    "c) Plot `norm_samples_5` **with** a kernel density estimate using `seaborn.distplot`."
   ]
  },
  {
   "cell_type": "code",
   "execution_count": 4,
   "metadata": {},
   "outputs": [
    {
     "data": {
      "text/plain": [
       "<matplotlib.axes._subplots.AxesSubplot at 0x7f33046e9eb8>"
      ]
     },
     "execution_count": 4,
     "metadata": {},
     "output_type": "execute_result"
    },
    {
     "data": {
      "image/png": "[encoded data removed]",
      "text/plain": [
       "<Figure size 432x288 with 1 Axes>"
      ]
     },
     "metadata": {},
     "output_type": "display_data"
    }
   ],
   "source": [
    "sns.distplot(norm_samples_5, kde = True)"
   ]
  },
  {
   "cell_type": "markdown",
   "metadata": {},
   "source": [
    "d) How would you describe the shape of the distribution from c)?"
   ]
  },
  {
   "cell_type": "markdown",
   "metadata": {},
   "source": [
    "**Answer:** The distribution in c) appears to be shaped like a Normal distribution."
   ]
  },
  {
   "cell_type": "markdown",
   "metadata": {},
   "source": [
    "e) Generate 1,000 random samples of size 50 from `population`. Calculate the mean of each of these samples (so you should have 1,000 means) and put them in a list `norm_samples_50`."
   ]
  },
  {
   "cell_type": "code",
   "execution_count": 5,
   "metadata": {},
   "outputs": [],
   "source": [
    "norm_samples_50 = [np.mean(random.sample(population,50)) for i in range(1000)]"
   ]
  },
  {
   "cell_type": "markdown",
   "metadata": {},
   "source": [
    "f) Plot `norm_samples_50` **with** a kernel density estimate using `seaborn.distplot`."
   ]
  },
  {
   "cell_type": "code",
   "execution_count": 6,
   "metadata": {},
   "outputs": [
    {
     "data": {
      "text/plain": [
       "<matplotlib.axes._subplots.AxesSubplot at 0x7f330460e898>"
      ]
     },
     "execution_count": 6,
     "metadata": {},
     "output_type": "execute_result"
    },
    {
     "data": {
      "image/png": "[encoded data removed]",
      "text/plain": [
       "<Figure size 432x288 with 1 Axes>"
      ]
     },
     "metadata": {},
     "output_type": "display_data"
    }
   ],
   "source": [
    "sns.distplot(norm_samples_50, kde = True)"
   ]
  },
  {
   "cell_type": "markdown",
   "metadata": {},
   "source": [
    "g) How would you describe the shape of the distribution from f), relative to the distribution you generated for part c)?"
   ]
  },
  {
   "cell_type": "markdown",
   "metadata": {},
   "source": [
    "**Answer:** The distribution in f) appears to be shaped like a Normal distribution."
   ]
  },
  {
   "cell_type": "markdown",
   "metadata": {},
   "source": [
    "h) Run this command:\n",
    "\n",
    "```python\n",
    "random.seed(46)\n",
    "population_2 = [np.random.choice([np.random.poisson(2),np.random.poisson(10),np.random.exponential(5)]) for i in range(10000)]\n",
    "\n",
    "```"
   ]
  },
  {
   "cell_type": "code",
   "execution_count": 3,
   "metadata": {},
   "outputs": [],
   "source": [
    "random.seed(46)\n",
    "population_2 = [np.random.choice([np.random.poisson(2),np.random.poisson(10),np.random.exponential(5)]) for i in range(10000)]"
   ]
  },
  {
   "cell_type": "code",
   "execution_count": 5,
   "metadata": {},
   "outputs": [
    {
     "data": {
      "text/plain": [
       "10000"
      ]
     },
     "execution_count": 5,
     "metadata": {},
     "output_type": "execute_result"
    }
   ],
   "source": [
    "len(population_2)"
   ]
  },
  {
   "cell_type": "markdown",
   "metadata": {},
   "source": [
    "i) What is the command in h) doing?"
   ]
  },
  {
   "cell_type": "markdown",
   "metadata": {},
   "source": [
    "**Answer:** We generated a random seed and then used a list comprehension to create 10,000 observations. The observations are drawn from a $Poisson(2)$, a $Poisson(10)$, or $Exponential(5)$ distribution and `np.random.choice()` will select one of those at random. Therefore, approximately one-third of our population will be drawn from each of these distributions."
   ]
  },
  {
   "cell_type": "markdown",
   "metadata": {},
   "source": [
    "j) Is the population created in `population_2` Normally distributed? How do you know?"
   ]
  },
  {
   "cell_type": "markdown",
   "metadata": {},
   "source": [
    "**Answer:** No, it is not. We're gathering data from three non-Normal distributions, so our resulting population will not be Normally distributed."
   ]
  },
  {
   "cell_type": "markdown",
   "metadata": {},
   "source": [
    "k) Generate 1,000 random samples of size 5 from `population_2`. Calculate the mean of each of these samples (so you should have 1,000 means) and put them in a list `poiexp_samples_5`."
   ]
  },
  {
   "cell_type": "code",
   "execution_count": 8,
   "metadata": {},
   "outputs": [],
   "source": [
    "poiexp_samples_5 = [np.mean(random.sample(population_2,5)) for i in range(1000)]"
   ]
  },
  {
   "cell_type": "markdown",
   "metadata": {},
   "source": [
    "l) Plot `poiexp_samples_5` **with** a kernel density estimate using `seaborn.distplot`."
   ]
  },
  {
   "cell_type": "code",
   "execution_count": 9,
   "metadata": {},
   "outputs": [
    {
     "data": {
      "text/plain": [
       "<matplotlib.axes._subplots.AxesSubplot at 0x7f33045b9ef0>"
      ]
     },
     "execution_count": 9,
     "metadata": {},
     "output_type": "execute_result"
    },
    {
     "data": {
      "image/png": "[encoded data removed]",
      "text/plain": [
       "<Figure size 432x288 with 1 Axes>"
      ]
     },
     "metadata": {},
     "output_type": "display_data"
    }
   ],
   "source": [
    "sns.distplot(poiexp_samples_5, kde = True)"
   ]
  },
  {
   "cell_type": "markdown",
   "metadata": {},
   "source": [
    "m) How would you describe the shape of the distribution from l)?"
   ]
  },
  {
   "cell_type": "markdown",
   "metadata": {},
   "source": [
    "**Answer:** This has a bell curve shape, but has a right-skew because there's a tail extending to the right. The median appears to be at 5, but the range is approximately 0 to 15."
   ]
  },
  {
   "cell_type": "markdown",
   "metadata": {},
   "source": [
    "n) Generate 1,000 random samples of size 50 from `population_2`. Calculate the mean of each of these samples (so you should have 1,000 means) and put them in a list `poiexp_samples_50`."
   ]
  },
  {
   "cell_type": "code",
   "execution_count": 10,
   "metadata": {},
   "outputs": [],
   "source": [
    "poiexp_samples_50 = [np.mean(random.sample(population_2,50)) for i in range(1000)]"
   ]
  },
  {
   "cell_type": "markdown",
   "metadata": {},
   "source": [
    "o) Plot `poiexp_samples_50` with a kernel density estimate using seaborn.distplot."
   ]
  },
  {
   "cell_type": "code",
   "execution_count": 11,
   "metadata": {},
   "outputs": [
    {
     "data": {
      "text/plain": [
       "<matplotlib.axes._subplots.AxesSubplot at 0x7f33045a1860>"
      ]
     },
     "execution_count": 11,
     "metadata": {},
     "output_type": "execute_result"
    },
    {
     "data": {
      "image/png": "[encoded data removed]",
      "text/plain": [
       "<Figure size 432x288 with 1 Axes>"
      ]
     },
     "metadata": {},
     "output_type": "display_data"
    }
   ],
   "source": [
    "sns.distplot(poiexp_samples_50, kde = True)"
   ]
  },
  {
   "cell_type": "markdown",
   "metadata": {},
   "source": [
    "p) How would you describe the shape of the distribution from o)?"
   ]
  },
  {
   "cell_type": "markdown",
   "metadata": {},
   "source": [
    "**Answer:** This looks very Normally distributed!"
   ]
  },
  {
   "cell_type": "markdown",
   "metadata": {},
   "source": [
    "**You just observed the Central Limit Theorem. Let's make this a bit more explicit.**\n",
    "\n",
    "q) When our original data came from a Normal distribution (`population`) and we looked at the sampling distribution of $\\bar{X}$ for $n=5$ (`norm_samples_5`), what was the shape of the sampling distribution of $\\bar{X}$?"
   ]
  },
  {
   "cell_type": "markdown",
   "metadata": {},
   "source": [
    "**Answer:** Normal."
   ]
  },
  {
   "cell_type": "markdown",
   "metadata": {},
   "source": [
    "r) When our original data came from a Normal distribution (`population`) and we looked at the sampling distribution of $\\bar{X}$ for $n=50$ (`norm_samples_50`), what was the shape of the sampling distribution of $\\bar{X}$?"
   ]
  },
  {
   "cell_type": "markdown",
   "metadata": {},
   "source": [
    "**Answer:** Normal."
   ]
  },
  {
   "cell_type": "markdown",
   "metadata": {},
   "source": [
    "s) So, if our original population is a Normal distribution, what will the sampling distribution be shaped like - regardless of sample size?"
   ]
  },
  {
   "cell_type": "markdown",
   "metadata": {},
   "source": [
    "**Answer:** Normal!"
   ]
  },
  {
   "cell_type": "markdown",
   "metadata": {},
   "source": [
    "t) When our original data came from a non-Normal distribution (`population_2`) and we looked at the sampling distribution of $\\bar{X}$ for $n=5$ (`poiexp_samples_5`), what was the shape of the sampling distribution of $\\bar{X}$?"
   ]
  },
  {
   "cell_type": "markdown",
   "metadata": {},
   "source": [
    "**Answer:** Not Normal."
   ]
  },
  {
   "cell_type": "markdown",
   "metadata": {},
   "source": [
    "u) When our original data came from a non-Normal distribution (`population_2`) and we looked at the sampling distribution of $\\bar{X}$ for $n=50$ (`poiexp_samples_50`), what was the shape of the sampling distribution of $\\bar{X}$?"
   ]
  },
  {
   "cell_type": "markdown",
   "metadata": {},
   "source": [
    "**Answer:** Much more Normal."
   ]
  },
  {
   "cell_type": "markdown",
   "metadata": {},
   "source": [
    "v) So, if our original population is not a Normal distribution, what will the sampling distribution be shaped like when $n$ is small (like 5)?"
   ]
  },
  {
   "cell_type": "markdown",
   "metadata": {},
   "source": [
    "**Answer:** Not necessarily Normal."
   ]
  },
  {
   "cell_type": "markdown",
   "metadata": {},
   "source": [
    "w) So, if our original population is not a Normal distribution, what will the sampling distribution be shaped like when $n$ is large (like 50)?"
   ]
  },
  {
   "cell_type": "markdown",
   "metadata": {},
   "source": [
    "**Answer:** Normal!"
   ]
  },
  {
   "cell_type": "markdown",
   "metadata": {},
   "source": [
    "x) When you sample from a non-Normal distribution, what happens to our sampling distribution of $\\bar{X}$ as we increase $n$?"
   ]
  },
  {
   "cell_type": "markdown",
   "metadata": {},
   "source": [
    "**Answer:** As $n$ increases, our sampling distribution of $\\bar{X}$ gets closer and closer to a Normal distribution!"
   ]
  },
  {
   "cell_type": "markdown",
   "metadata": {},
   "source": [
    "BONUS: If you're so inclined, repeat steps k and l for sample size $n=10, 20, 30, 50, 100$ to look at this phenomenon more closely! You could write a loop to do this."
   ]
  },
  {
   "cell_type": "code",
   "execution_count": 12,
   "metadata": {},
   "outputs": [],
   "source": [
    "import matplotlib.pyplot as plt\n",
    "import pylab\n",
    "\n",
    "def clt(population, n_list, n_samples = 1000, kde = True):\n",
    "    plt.figure(figsize=(20,20))\n",
    "    for i in range(len(n_list)):\n",
    "        plt.subplot(int(str(len(n_list)) + str(1) + str(i + 1)))\n",
    "        plt.hist([np.mean(random.sample(population,n_list[i])) for j in range(n_samples)], bins = 25, range = (0,10))\n",
    "    plt.show()"
   ]
  },
  {
   "cell_type": "code",
   "execution_count": 13,
   "metadata": {
    "scrolled": false
   },
   "outputs": [
    {
     "data": {
      "image/png": "[encoded data removed]",
      "text/plain": [
       "<Figure size 1440x1440 with 7 Axes>"
      ]
     },
     "metadata": {},
     "output_type": "display_data"
    }
   ],
   "source": [
    "clt(population_2,[2,5,10,20,30,50,100])"
   ]
  }
 ],
 "metadata": {
  "kernelspec": {
   "display_name": "Python 3",
   "language": "python",
   "name": "python3"
  },
  "language_info": {
   "codemirror_mode": {
    "name": "ipython",
    "version": 3
   },
   "file_extension": ".py",
   "mimetype": "text/x-python",
   "name": "python",
   "nbconvert_exporter": "python",
   "pygments_lexer": "ipython3",
   "version": "3.7.3"
  }
 },
 "nbformat": 4,
 "nbformat_minor": 2
}
