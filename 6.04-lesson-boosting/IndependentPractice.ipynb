{
 "cells": [
  {
   "cell_type": "markdown",
   "metadata": {},
   "source": [
    "<img src=\"http://imgur.com/1ZcRyrc.png\" style=\"float: left; margin: 20px; height: 55px\">\n",
    "\n",
    "# Introduction to Boosting: Independent Practice\n",
    "\n",
    "_Author: Justin Pounders_\n",
    "\n",
    "---\n"
   ]
  },
  {
   "cell_type": "code",
   "execution_count": 1,
   "metadata": {
    "collapsed": true
   },
   "outputs": [],
   "source": [
    "import pandas as pd"
   ]
  },
  {
   "cell_type": "markdown",
   "metadata": {},
   "source": [
    "In this practice set you will examine the onset of diabetes among the [Pima](https://en.wikipedia.org/wiki/Pima_people) people.  The data is summarized below, and you can find the full documentation at [https://archive.ics.uci.edu/ml/datasets/Pima+Indians+Diabetes](https://archive.ics.uci.edu/ml/datasets/Pima+Indians+Diabetes).\n",
    "\n",
    "```\n",
    "1. Title: Pima Indians Diabetes Database\n",
    "\n",
    "2. Sources:\n",
    "   (a) Original owners: National Institute of Diabetes and Digestive and\n",
    "                        Kidney Diseases\n",
    "   (b) Donor of database: Vincent Sigillito (vgs@aplcen.apl.jhu.edu)\n",
    "                          Research Center, RMI Group Leader\n",
    "                          Applied Physics Laboratory\n",
    "                          The Johns Hopkins University\n",
    "                          Johns Hopkins Road\n",
    "                          Laurel, MD 20707\n",
    "                          (301) 953-6231\n",
    "   (c) Date received: 9 May 1990\n",
    "\n",
    "3. Past Usage:\n",
    "    1. Smith,~J.~W., Everhart,~J.~E., Dickson,~W.~C., Knowler,~W.~C., \\&\n",
    "       Johannes,~R.~S. (1988). Using the ADAP learning algorithm to forecast\n",
    "       the onset of diabetes mellitus.  In {\\it Proceedings of the Symposium\n",
    "       on Computer Applications and Medical Care} (pp. 261--265).  IEEE\n",
    "       Computer Society Press.\n",
    "\n",
    "       The diagnostic, binary-valued variable investigated is whether the\n",
    "       patient shows signs of diabetes according to World Health Organization\n",
    "       criteria (i.e., if the 2 hour post-load plasma glucose was at least \n",
    "       200 mg/dl at any survey  examination or if found during routine medical\n",
    "       care).   The population lives near Phoenix, Arizona, USA.\n",
    "\n",
    "       Results: Their ADAP algorithm makes a real-valued prediction between\n",
    "       0 and 1.  This was transformed into a binary decision using a cutoff of \n",
    "       0.448.  Using 576 training instances, the sensitivity and specificity\n",
    "       of their algorithm was 76% on the remaining 192 instances.\n",
    "\n",
    "4. Relevant Information:\n",
    "      Several constraints were placed on the selection of these instances from\n",
    "      a larger database.  In particular, all patients here are females at\n",
    "      least 21 years old of Pima Indian heritage.  ADAP is an adaptive learning\n",
    "      routine that generates and executes digital analogs of perceptron-like\n",
    "      devices.  It is a unique algorithm; see the paper for details.\n",
    "\n",
    "5. Number of Instances: 768\n",
    "\n",
    "6. Number of Attributes: 8 plus class \n",
    "\n",
    "7. For Each Attribute: (all numeric-valued)\n",
    "   1. Number of times pregnant\n",
    "   2. Plasma glucose concentration a 2 hours in an oral glucose tolerance test\n",
    "   3. Diastolic blood pressure (mm Hg)\n",
    "   4. Triceps skin fold thickness (mm)\n",
    "   5. 2-Hour serum insulin (mu U/ml)\n",
    "   6. Body mass index (weight in kg/(height in m)^2)\n",
    "   7. Diabetes pedigree function\n",
    "   8. Age (years)\n",
    "   9. Class variable (0 or 1, class value 1 is interpreted as \"tested positive for\n",
    "   diabetes\")\n",
    "\n",
    "```"
   ]
  },
  {
   "cell_type": "code",
   "execution_count": 4,
   "metadata": {},
   "outputs": [],
   "source": [
    "url = \"https://archive.ics.uci.edu/ml/machine-learning-databases/pima-indians-diabetes/pima-indians-diabetes.data\"\n",
    "names = ['times_preg', \n",
    "         'plasma_glucose', \n",
    "         'blood_press', \n",
    "         'skin_fold', \n",
    "         'test_insulin', \n",
    "         'bmi', \n",
    "         'pedigree_func', \n",
    "         'age', \n",
    "         'class']\n",
    "data = pd.read_csv(url, names=names)"
   ]
  },
  {
   "cell_type": "markdown",
   "metadata": {},
   "source": [
    "As practice, create some classificiation models predicting diabetes (class = 1).  In particular, use ` AdaBoostClassifier` and `GradientBoostingClassifier` from `sklearn`.\n",
    "\n",
    "Remember that the idea behind is boosting is traina _sequence_ of _weak_ classifiers (or regressors).  As you go through this practice, think of the following:\n",
    "\n",
    "- How many estimators should you include in your boosted model?  How do you specify this number in `sklearn`?\n",
    "- What is the default base classifier for these models in `sklearn`?  Should you change it?\n",
    "- How are you calculating your model performance?  Is it generalizeable?"
   ]
  },
  {
   "cell_type": "markdown",
   "metadata": {},
   "source": [
    "> Tip: Although AdaBoost and GradientBoosting are \"ensembles\" of models, you can still think of them largely as a single macroscopic model.  All of the model evaluation and model selection techniques you have seen so far (like cross validation and grid searching) still apply!"
   ]
  },
  {
   "cell_type": "code",
   "execution_count": null,
   "metadata": {
    "collapsed": true
   },
   "outputs": [],
   "source": []
  }
 ],
 "metadata": {
  "kernelspec": {
   "display_name": "Python 3",
   "language": "python",
   "name": "python3"
  },
  "language_info": {
   "codemirror_mode": {
    "name": "ipython",
    "version": 3
   },
   "file_extension": ".py",
   "mimetype": "text/x-python",
   "name": "python",
   "nbconvert_exporter": "python",
   "pygments_lexer": "ipython3",
   "version": "3.6.3"
  }
 },
 "nbformat": 4,
 "nbformat_minor": 2
}
