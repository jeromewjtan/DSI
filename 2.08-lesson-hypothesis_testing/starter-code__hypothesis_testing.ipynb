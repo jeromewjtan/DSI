{
 "cells": [
  {
   "cell_type": "markdown",
   "metadata": {},
   "source": [
    "<img src=\"http://imgur.com/1ZcRyrc.png\" style=\"float: left; margin: 20px; height: 55px\">\n",
    "\n",
    "## Hypothesis Testing\n",
    "\n",
    "_Authors: Kiefer Katovich (SF), Matt Brems (DC), Justin Pounders (ATL)_\n",
    "\n",
    "---\n",
    "\n",
    "### Learning Objectives\n",
    "- Define the null and alternative hypotheses.\n",
    "- Perform a two-sample t-test.\n",
    "- Define the t-statistics and p-value.\n",
    "- List the steps of hypothesis testing."
   ]
  },
  {
   "cell_type": "code",
   "execution_count": 3,
   "metadata": {},
   "outputs": [],
   "source": [
    "# Bring in our libraries.\n",
    "import numpy as np\n",
    "import matplotlib.pyplot as plt\n",
    "\n",
    "plt.style.use('fivethirtyeight')\n",
    "\n",
    "%config InlineBackend.figure_format = 'retina'\n",
    "%matplotlib inline"
   ]
  },
  {
   "cell_type": "markdown",
   "metadata": {},
   "source": [
    "## Introduction to Hypothesis Testing\n",
    "\n",
    "In the real world, we like to make **data-driven decisions$^{TM}$**!\n",
    "- In order to make these decisions, though, we need to collect some data.\n",
    "- We take this data, put it into a \"box,\" and the output effectively tells us what type of decision we should make.\n",
    "- This \"box\" is hypothesis testing.\n",
    "\n",
    "Hypothesis testing is a little more complicated than that, but not much!\n",
    "\n",
    "### Hypothesis Testing with Puppies\n",
    "\n",
    "[This example is pulled liberally from Cassie Kozyrkov's Medium post.](https://hackernoon.com/explaining-p-values-with-puppies-af63d68005d0)\n",
    "\n",
    "Let's say that we come home at the end of the day to find some unspooled toilet paper.\n",
    "\n",
    "<img src=\"./images/pug_toilet_paper.jpg\" alt=\"doggo\" width=\"600\"/>\n",
    "\n",
    "We need to make a **data-driven** decision: Do we yell at our dog? \n",
    "\n",
    "Our possibilities are:\n",
    "- Yes, we yell at our dog.\n",
    "- No, we don't yell at our dog.\n",
    "\n",
    "Let's assume that our dog is innocent. Being good data scientists, we want to gather data, then use this data to make a decision.\n",
    "- We check to see if the bathroom window is open or closed.\n",
    "    - If it's open, maybe a gust of wind caused the toilet paper to unravel.\n",
    "    - If it's closed, then something else caused the toilet paper to unravel.\n",
    "- We check the thermostat to see if we left the heating/air conditioning on.\n",
    "    - If you left it on, maybe the floor vent in the bathroom caused the toilet paper to unravel.\n",
    "    - If it's turned off, then the floor vent couldn't have caused the toilet paper to unravel.\n",
    "- We text your sibling to see if they brought our niece over.\n",
    "    - If they came over, maybe our niece unraveled the toilet paper.\n",
    "    - If they didn't come over, then our niece couldn't have unraveled the toilet paper.\n",
    "\n",
    "Once you're done \"gathering your data,\" you make a decision.\n",
    "- If there's enough evidence to accept that our dog is guilty, then we'll yell at our dog.\n",
    "- If there's not enough evidence to say that our dog is guilty, then we'll just cuddle with our dog.\n",
    "\n",
    "We just walked through a hypothesis test! We had two potential decisions, we gathered data, and used this data to make a decision."
   ]
  },
  {
   "cell_type": "markdown",
   "metadata": {},
   "source": [
    "### Hypothesis Testing: A Drug Efficacy Example\n",
    "\n",
    "---\n",
    "\n",
    "Say we are testing the efficacy of a new drug:\n",
    "\n",
    "- We randomly select 50 people to be in the placebo control condition and 50 people to recieve the treatment.\n",
    "    - In the context of experiments, we often talk about the \"control\" group and the \"experimental\" or \"treatment\" group. In our example, the control group is the one given the placebo (sugar pill) and the treatment group is the one given the actual drug. \n",
    "- We are interested in the average difference in blood pressure levels between the treatment and control groups.\n",
    "- We know our sample is selected from a broader, unknown population pool.\n",
    "- We can imagine that, in a hypothetical parallel world, we could have ended up with a different random sample of subjects from the population pool."
   ]
  },
  {
   "cell_type": "markdown",
   "metadata": {},
   "source": [
    "<a id='null-hypothesis'></a>\n",
    "\n",
    "### The \"Null\" Hypothesis\n",
    "\n",
    "---\n",
    "\n",
    "The **null hypothesis** is a fundamental concept of statistical tests. We typically denote the null hypothesis with $H_0$.\n",
    "- In our dog example, we assume that our dog is innocent.\n",
    "- In our drug efficacy experiment example, our null hypothesis is that there is no difference in blood pressure between a subject taking a placebo and and one taking the treatment drug.\n",
    "\n",
    "> $H_0:$ The average difference in blood pressure between treatment and control groups is zero."
   ]
  },
  {
   "cell_type": "markdown",
   "metadata": {},
   "source": [
    "<a id='alternative-hypothesis'></a>\n",
    "\n",
    "### The \"Alternative Hypothesis\"\n",
    "\n",
    "---\n",
    "\n",
    "The **alternative hypothesis** is the outcome of the experiment that we hope to show. It's the opposite of our null hypothesis!\n",
    "- In our dog example, the alternative hypothesis is that our dog is guilty of unspooling the toilet paper.\n",
    "- In our drug efficacy experiment example, the alternative hypothesis is that there is in fact an average difference in blood pressure between the treatment and control groups. \n",
    "\n",
    "> $H_A:$ The parameter of interest — our average difference between treatment and control — is not zero.\n",
    "\n",
    "**NOTE:** The null and alternative hypotheses are concerned with the true values, or, in other words, the **parameter of the overall population**. Through hypothesis testing, we will make an **inference** (a decision) about this population parameter."
   ]
  },
  {
   "cell_type": "markdown",
   "metadata": {},
   "source": [
    "### Introduction to the $t$-Test\n",
    "\n",
    "---\n",
    "\n",
    "In our dog example, we gathered data in a way that's different from how we'll usually gather data in order to make a decision.\n",
    "\n",
    "Say that, in our drug experiment, we measure the following results:\n",
    "\n",
    "- The 50 subjects in the control group have an average systolic blood pressure of 121.38.\n",
    "- The 50 subjects in the experimental/treatment group have an average systolic blood pressure of 111.56.\n",
    "\n",
    "The difference between experimental and control samples is -9.82 points. \n",
    "\n",
    "**But**, with only 50 subjects in each sample, how confident can we be that this measured difference is real? Do we have enough evidence to say that the population average blood pressure is different between these two groups?\n",
    "\n",
    "We can perform what is known as a **t-test** to evaluate this. (A $t$-test is one of many, many types of hypothesis tests.)\n",
    "\n",
    "Four steps to hypothesis testing:\n",
    "1. Construct a null hypothesis that you want to contradict and its complement, the alternative hypothesis.\n",
    "2. Specify a level of significance.\n",
    "3. Calculate your test statistic.\n",
    "4. Find your $p$-value and make a conclusion.\n",
    "\n",
    "**We can set up the experimental and control observations below as `numpy` arrays.**"
   ]
  },
  {
   "cell_type": "code",
   "execution_count": 4,
   "metadata": {},
   "outputs": [],
   "source": [
    "control = np.array([166, 165, 120,  94, 104, 166,  98,  85,  97,  87, 114, 100, 152,\n",
    "                    87, 152, 102,  82,  80,  84, 109,  98, 154, 135, 164, 137, 128,\n",
    "                    122, 146,  86, 146,  85, 101, 109, 105, 163, 136, 142, 144, 140,\n",
    "                    128, 126, 119, 121, 126, 169,  87,  97, 167,  89, 155])\n",
    "\n",
    "experimental = np.array([ 83, 100, 123,  75, 130,  77,  78,  87, 116, 116, 141,  93, 107,\n",
    "                         101, 142, 152, 130, 123, 122, 154, 119, 149, 106, 107, 108, 151,\n",
    "                         97,  95, 104, 141,  80, 110, 136, 134, 142, 135, 111,  83,  86,\n",
    "                         116,  86, 117,  87, 143, 104, 107,  86,  88, 124,  76])\n",
    "\n",
    "# Print the average of the control and experimental groups.\n",
    "\n",
    "# Print the difference of the sample means, too."
   ]
  },
  {
   "cell_type": "code",
   "execution_count": 8,
   "metadata": {},
   "outputs": [
    {
     "name": "stdout",
     "output_type": "stream",
     "text": [
      "Average Systolic BP of Control group = 121.38\n",
      "Std, Dev for Systolic BP of Control group = 28.10472558129682\n",
      "Average Systolic BP of Experimental group = 111.56\n",
      "Std, Dev for Systolic BP of Experimental group = 23.038367997755397\n"
     ]
    }
   ],
   "source": [
    "print(\"Average Systolic BP of Control group = \"+ str(np.mean(control)))\n",
    "print(\"Std, Dev for Systolic BP of Control group = \"+ str(np.std(control)))\n",
    "print(\"Average Systolic BP of Experimental group = \"+ str(np.mean(experimental)))\n",
    "print(\"Std, Dev for Systolic BP of Experimental group = \"+ str(np.std(experimental)))"
   ]
  },
  {
   "cell_type": "markdown",
   "metadata": {},
   "source": [
    "<a id='likelihood-data'></a>\n",
    "\n",
    "### Step 1: Construct the null and alternative hypotheses\n",
    "\n",
    "---\n",
    "\n",
    "For our experiment, we will set up a null hypothesis and an alternative hypothesis:\n",
    "\n",
    "$$ H_0: \\text{The true mean difference in systolic blood pressure between those who receive the treatment and those who do not is 0.} $$\n",
    "\n",
    "$$ H_A: \\text{The true mean difference in systolic blood pressure between those who receive the treatment and those who do not is NOT 0.} $$\n",
    "\n",
    "Likewise, our measured difference is **-9.82**.\n",
    "\n",
    "Written out using probability notation, we want to know:\n",
    "\n",
    "### $$P(\\text{data}\\;|\\;H_0 \\text{ true})$$\n",
    "\n",
    "**What is the probability that we observed this data, assuming that our null hypothesis is true?**\n"
   ]
  },
  {
   "cell_type": "markdown",
   "metadata": {},
   "source": [
    "### Step 2: Specify a level of significance\n",
    "\n",
    "If we assume that our null hypothesis is true, and the probability of observing the data we observed is \"small,\" then our data does not support our null hypothesis. \n",
    "\n",
    "**But how \"small\" is small enough?**\n",
    "\n",
    "This is set by our level of significance, which we call $\\alpha$.\n",
    "\n",
    "Typically (and arbitrarily) the value $\\alpha=0.05$ is used.\n",
    "- This means that there is a 5% chance that we will _incorrectly reject the null hypothesis_ (a.k.a. Type 1 error or false positive).\n",
    "- Put another way, there is a 5% chance that we will claim a significant difference in blood pressure between the two groups when in fact there is no (statistically significant) difference."
   ]
  },
  {
   "cell_type": "markdown",
   "metadata": {},
   "source": [
    "### Step 3: Calculating your Test Statistic\n",
    "\n",
    "---\n",
    "\n",
    "Remember that hypothesis testing is a \"box\" where the inputs are our data and the outputs allow us to make our decision? Well, in this \"box,\" we are calculating $P(\\text{data}\\;|\\;H_0 \\text{ true})$. This calculation requires picking a probability distribution, then comparing the results of our experiment to this distribution to see how extreme our results are relative to the null hypothesis.\n",
    "\n",
    "When comparing two means, the **t-statistic** (based on the [Student's $t$-distribution](https://en.wikipedia.org/wiki/Student%27s_t-distribution)) is a classic way to quantify the difference between groups. In essence, our $t$-statistic is be a standardized version of the difference between groups.\n",
    "\n",
    "Luckily, our computer will do this for us!\n",
    "\n",
    "---\n",
    "\n",
    "<details><summary>Want the mathematical details of the calculation of the t-statistic?</summary>\n",
    "When comparing the difference between groups, we can calculate the two-sample t-statistic like so:\n",
    "\n",
    "### $$t = \\frac{\\bar{x}_E - \\bar{x}_C}{\\sqrt {s^2 \\Big(\\frac{1}{n_E} + \\frac{1}{n_C}\\Big)}}$$\n",
    "\n",
    "In our example, $\\bar{x}_E$ is the mean of our experimental group's sample measurements and $\\bar{x}_C$ is the mean of our control group's sample measurements.\n",
    "\n",
    "$n_E$ and $n_C$ are the number of observations in each group. \n",
    "\n",
    "The $s^2$ denotes our *sample variance*. In this version of the t-test, we are assuming equal variances in our experimental and control groups in the overall population. There is another way to calculate the t-test where equal variance is not assumed, but, in our case, it is a reasonable assumption.\n",
    "\n",
    "The sample variance is calculated like so:\n",
    "\n",
    "### $$ s^2 = \\frac{\\sum_{i=1}^{n_E} (x_i - \\bar{x}_E)^2 + \\sum_{j=1}^{n_C} (x_j - \\bar{x}_C)^2}{ n_E + n_C -2} $$\n",
    "\n",
    "This combines the variance of the two groups' measurements into a single pooled metric. \n",
    "\n",
    "</details>"
   ]
  },
  {
   "cell_type": "markdown",
   "metadata": {},
   "source": [
    "## TL;DR What are we doing?\n",
    "\n",
    "**GOAL:** To tell whether or not our new treatment is effective. We define \"effective\" as whether or not those who get the treatment see lower systolic blood pressure, on average.\n",
    "\n",
    "To do this, we follow the following steps to carry out a **hypothesis test**:\n",
    "\n",
    "1. Set up null and alternative hypotheses. In pure math terms that, looks like this:\n",
    "\n",
    "$$ H_0: \\mu_{\\text{treatment}} - \\mu_{\\text{placebo}} = 0 $$\n",
    "$$ H_A: \\mu_{\\text{treatment}} - \\mu_{\\text{placebo}} \\ne 0 $$\n",
    "\n",
    "2. Decide on a significance level. $\\alpha = 0.05$ is a typical choice.\n",
    "3. Decide on a hypothesis test. There are a million of them. In this case, we're testing the difference between two means, which is a great time to use a **two-sample $t$-test**.\n",
    "\n",
    "> The two-sample (independent) $t$-test tests whether or not two population means differ.\n",
    "\n",
    "4. After carrying out this hypothesis test, we'll see if our data provide enough evidence to reject the null hypothesis."
   ]
  },
  {
   "cell_type": "markdown",
   "metadata": {},
   "source": [
    "**Let's do this calculation using `scipy.stats.ttest_ind`.**\n",
    "\n",
    "> On your own: To try your skills at `numpy` and `python`, try doing this calculation by implementing the above equations on your own!"
   ]
  },
  {
   "cell_type": "code",
   "execution_count": 9,
   "metadata": {},
   "outputs": [],
   "source": [
    "# Import scipy.stats\n",
    "import scipy.stats as stats"
   ]
  },
  {
   "cell_type": "code",
   "execution_count": 11,
   "metadata": {},
   "outputs": [],
   "source": [
    "std_dev__control = np.std(control)\n",
    "var__control = std_dev__control**2\n",
    "std_dev__exper = np.mean(experimental)\n",
    "var__exper = std_dev__exper**2"
   ]
  },
  {
   "cell_type": "code",
   "execution_count": 12,
   "metadata": {},
   "outputs": [
    {
     "name": "stdout",
     "output_type": "stream",
     "text": [
      "789.8755999999998\n"
     ]
    }
   ],
   "source": [
    "print(var__control)"
   ]
  },
  {
   "cell_type": "code",
   "execution_count": 13,
   "metadata": {},
   "outputs": [
    {
     "name": "stdout",
     "output_type": "stream",
     "text": [
      "12445.633600000001\n"
     ]
    }
   ],
   "source": [
    "print(var__exper)"
   ]
  },
  {
   "cell_type": "code",
   "execution_count": 17,
   "metadata": {},
   "outputs": [
    {
     "name": "stdout",
     "output_type": "stream",
     "text": [
      "Help on function ttest_ind in module scipy.stats.stats:\n",
      "\n",
      "ttest_ind(a, b, axis=0, equal_var=True, nan_policy='propagate')\n",
      "    Calculate the T-test for the means of *two independent* samples of scores.\n",
      "    \n",
      "    This is a two-sided test for the null hypothesis that 2 independent samples\n",
      "    have identical average (expected) values. This test assumes that the\n",
      "    populations have identical variances by default.\n",
      "    \n",
      "    Parameters\n",
      "    ----------\n",
      "    a, b : array_like\n",
      "        The arrays must have the same shape, except in the dimension\n",
      "        corresponding to `axis` (the first, by default).\n",
      "    axis : int or None, optional\n",
      "        Axis along which to compute test. If None, compute over the whole\n",
      "        arrays, `a`, and `b`.\n",
      "    equal_var : bool, optional\n",
      "        If True (default), perform a standard independent 2 sample test\n",
      "        that assumes equal population variances [1]_.\n",
      "        If False, perform Welch's t-test, which does not assume equal\n",
      "        population variance [2]_.\n",
      "    \n",
      "        .. versionadded:: 0.11.0\n",
      "    nan_policy : {'propagate', 'raise', 'omit'}, optional\n",
      "        Defines how to handle when input contains nan. 'propagate' returns nan,\n",
      "        'raise' throws an error, 'omit' performs the calculations ignoring nan\n",
      "        values. Default is 'propagate'.\n",
      "    \n",
      "    \n",
      "    Returns\n",
      "    -------\n",
      "    statistic : float or array\n",
      "        The calculated t-statistic.\n",
      "    pvalue : float or array\n",
      "        The two-tailed p-value.\n",
      "    \n",
      "    Notes\n",
      "    -----\n",
      "    We can use this test, if we observe two independent samples from\n",
      "    the same or different population, e.g. exam scores of boys and\n",
      "    girls or of two ethnic groups. The test measures whether the\n",
      "    average (expected) value differs significantly across samples. If\n",
      "    we observe a large p-value, for example larger than 0.05 or 0.1,\n",
      "    then we cannot reject the null hypothesis of identical average scores.\n",
      "    If the p-value is smaller than the threshold, e.g. 1%, 5% or 10%,\n",
      "    then we reject the null hypothesis of equal averages.\n",
      "    \n",
      "    References\n",
      "    ----------\n",
      "    .. [1] http://en.wikipedia.org/wiki/T-test#Independent_two-sample_t-test\n",
      "    \n",
      "    .. [2] http://en.wikipedia.org/wiki/Welch%27s_t_test\n",
      "    \n",
      "    Examples\n",
      "    --------\n",
      "    >>> from scipy import stats\n",
      "    >>> np.random.seed(12345678)\n",
      "    \n",
      "    Test with sample with identical means:\n",
      "    \n",
      "    >>> rvs1 = stats.norm.rvs(loc=5,scale=10,size=500)\n",
      "    >>> rvs2 = stats.norm.rvs(loc=5,scale=10,size=500)\n",
      "    >>> stats.ttest_ind(rvs1,rvs2)\n",
      "    (0.26833823296239279, 0.78849443369564776)\n",
      "    >>> stats.ttest_ind(rvs1,rvs2, equal_var = False)\n",
      "    (0.26833823296239279, 0.78849452749500748)\n",
      "    \n",
      "    `ttest_ind` underestimates p for unequal variances:\n",
      "    \n",
      "    >>> rvs3 = stats.norm.rvs(loc=5, scale=20, size=500)\n",
      "    >>> stats.ttest_ind(rvs1, rvs3)\n",
      "    (-0.46580283298287162, 0.64145827413436174)\n",
      "    >>> stats.ttest_ind(rvs1, rvs3, equal_var = False)\n",
      "    (-0.46580283298287162, 0.64149646246569292)\n",
      "    \n",
      "    When n1 != n2, the equal variance t-statistic is no longer equal to the\n",
      "    unequal variance t-statistic:\n",
      "    \n",
      "    >>> rvs4 = stats.norm.rvs(loc=5, scale=20, size=100)\n",
      "    >>> stats.ttest_ind(rvs1, rvs4)\n",
      "    (-0.99882539442782481, 0.3182832709103896)\n",
      "    >>> stats.ttest_ind(rvs1, rvs4, equal_var = False)\n",
      "    (-0.69712570584654099, 0.48716927725402048)\n",
      "    \n",
      "    T-test with different means, variance, and n:\n",
      "    \n",
      "    >>> rvs5 = stats.norm.rvs(loc=8, scale=20, size=100)\n",
      "    >>> stats.ttest_ind(rvs1, rvs5)\n",
      "    (-1.4679669854490653, 0.14263895620529152)\n",
      "    >>> stats.ttest_ind(rvs1, rvs5, equal_var = False)\n",
      "    (-0.94365973617132992, 0.34744170334794122)\n",
      "\n"
     ]
    }
   ],
   "source": [
    "help(stats.ttest_ind)"
   ]
  },
  {
   "cell_type": "code",
   "execution_count": 30,
   "metadata": {},
   "outputs": [],
   "source": [
    "t_stat, p_value = stats.ttest_ind(experimental, control)"
   ]
  },
  {
   "cell_type": "code",
   "execution_count": 5,
   "metadata": {},
   "outputs": [
    {
     "data": {
      "text/plain": [
       "Ttest_indResult(statistic=-1.8915462966190273, pvalue=0.06161817112302221)"
      ]
     },
     "execution_count": 5,
     "metadata": {},
     "output_type": "execute_result"
    }
   ],
   "source": [
    "# Conduct our t-test."
   ]
  },
  {
   "cell_type": "code",
   "execution_count": 6,
   "metadata": {},
   "outputs": [],
   "source": []
  },
  {
   "cell_type": "markdown",
   "metadata": {},
   "source": [
    "<a id='visualizing-t-statistic'></a>\n",
    "\n",
    "### Visualizing the T-Statistic\n",
    "\n",
    "---\n",
    "\n",
    "From the central limit theorem, we know that (with asymptotically infinite samples), the distribution of sample means drawn from a population is Normal. In the case of smaller sample sizes and unknown population standard deviation, [we adjust this to be a more conservative student's t-distribution](https://en.wikipedia.org/wiki/Student%27s_t-distribution).\n",
    "\n",
    "We can plot the student's $t$-distribution below. (It's basically a Normal distribution, but with fatter tails.) \n",
    "- It is centered on 0, where a value of 0 corresponds to our null hypothesis. \n",
    "- We can also plot a vertical line with our measured t-statistic."
   ]
  },
  {
   "cell_type": "code",
   "execution_count": 19,
   "metadata": {},
   "outputs": [],
   "source": [
    "xpoints = np.linspace(-4, 4, 500)"
   ]
  },
  {
   "cell_type": "code",
   "execution_count": 21,
   "metadata": {},
   "outputs": [],
   "source": [
    "# Generate 500 points on the x axis between -4 and 4:\n",
    "\n",
    "\n",
    "# Use `stats.t.pdf` to get values on the probability density function for the t-distribution.\n",
    "# The second argument is the degrees of freedom: n1 + n2 - 2.\n",
    "ypoints = stats.t.pdf(xpoints, (50+50-2), 0, 1)"
   ]
  },
  {
   "cell_type": "code",
   "execution_count": 25,
   "metadata": {},
   "outputs": [
    {
     "name": "stdout",
     "output_type": "stream",
     "text": [
      "Help on method pdf in module scipy.stats._distn_infrastructure:\n",
      "\n",
      "pdf(x, *args, **kwds) method of scipy.stats._continuous_distns.t_gen instance\n",
      "    Probability density function at x of the given RV.\n",
      "    \n",
      "    Parameters\n",
      "    ----------\n",
      "    x : array_like\n",
      "        quantiles\n",
      "    arg1, arg2, arg3,... : array_like\n",
      "        The shape parameter(s) for the distribution (see docstring of the\n",
      "        instance object for more information)\n",
      "    loc : array_like, optional\n",
      "        location parameter (default=0)\n",
      "    scale : array_like, optional\n",
      "        scale parameter (default=1)\n",
      "    \n",
      "    Returns\n",
      "    -------\n",
      "    pdf : ndarray\n",
      "        Probability density function evaluated at x\n",
      "\n"
     ]
    }
   ],
   "source": [
    "help(stats.t.pdf)"
   ]
  },
  {
   "cell_type": "code",
   "execution_count": 23,
   "metadata": {},
   "outputs": [],
   "source": [
    "t_stat=-1.96"
   ]
  },
  {
   "cell_type": "code",
   "execution_count": 27,
   "metadata": {},
   "outputs": [
    {
     "data": {
      "image/png": "[encoded data removed]",
      "text/plain": [
       "<Figure size 576x360 with 1 Axes>"
      ]
     },
     "metadata": {
      "image/png": {
       "height": 299,
       "width": 541
      }
     },
     "output_type": "display_data"
    }
   ],
   "source": [
    "# Initialize a `matplotlib` \"figure.\"\n",
    "fig = plt.figure(figsize=(8,5))\n",
    "\n",
    "# Get the current \"axis\" out of the figure.\n",
    "ax = fig.gca()\n",
    "\n",
    "# Plot the lines using `matplotlib`'s plot function:\n",
    "ax.plot(xpoints, ypoints, linewidth=3, color='darkred')\n",
    "\n",
    "# Plot a vertical line for our measured difference in rates' t-statistic.\n",
    "ax.axvline(t_stat, color='black', linestyle='--', lw=3);"
   ]
  },
  {
   "cell_type": "markdown",
   "metadata": {},
   "source": [
    "<a id='p-value'></a>\n",
    "\n",
    "### Step 4: The P-Value\n",
    "\n",
    "---\n",
    "\n",
    "Remember that our goal of doing all of this work is to make a decision? Well, using our $t$-statistic, we can generate a **p-value**.\n",
    "\n",
    "> **The p-value is the probability that, given that the null hypothesis $H_0$ is true, we could have ended up with a statistic at least as extreme as the one measured from our random sample of data from the true population.**\n",
    "\n",
    "We have measured a difference in blood pressure of -9.82 between the experimental and control groups. We then calculated a $t$-statistic associated with this difference of -1.89. In our specific example:\n",
    "\n",
    "> The p-value is the probability that, assuming there is truly no difference in blood pressure between experimental and control conditions (i.e., no effect of the drug), we get sample results that are at least as extreme as getting a test statistic of -1.89."
   ]
  },
  {
   "cell_type": "markdown",
   "metadata": {},
   "source": [
    "<a id='visualize-p-value'></a>\n",
    "\n",
    "### Visualizing the P-Value\n",
    "\n",
    "---\n",
    "\n",
    "Our null hypothesis states that there is no difference between the groups, so the t-statistic would be 0. \n",
    "\n",
    "**We can plot the t-distribution again using our t-statistic of -1.89 as well as a t-statistic of 1.89 on the other side of the distribution.**"
   ]
  },
  {
   "cell_type": "code",
   "execution_count": 28,
   "metadata": {},
   "outputs": [
    {
     "data": {
      "image/png": "[encoded data removed]",
      "text/plain": [
       "<Figure size 576x360 with 1 Axes>"
      ]
     },
     "metadata": {
      "image/png": {
       "height": 299,
       "width": 541
      }
     },
     "output_type": "display_data"
    }
   ],
   "source": [
    "# Initialize a `matplotlib` \"figure.\"\n",
    "fig = plt.figure(figsize=(8,5))\n",
    "ax = fig.gca()\n",
    "\n",
    "ax.plot(xpoints, ypoints, linewidth=3, color='darkred')\n",
    "\n",
    "ax.axvline(t_stat, color='black', linestyle='--', lw=3)\n",
    "ax.axvline(-t_stat, color='black', linestyle='--', lw=3);"
   ]
  },
  {
   "cell_type": "markdown",
   "metadata": {},
   "source": [
    "**Our p-value corresponds to the area under the curve of the distribution where the magnitude of the t-statistic is greater than or equal to the one we measured (shown with the dotted lines)**.\n",
    "\n",
    "`stats.t.cdf()` is the cumulative distribution function and will calculate the area under the curve, up to a specified t-statistic. \n",
    "\n",
    "**Calculate the area under the tails of the t-distribution that falls beyond the dotted lines using the `.cdf()` function. This will verify that it's the same as the p-value calculated by `scipy`.**"
   ]
  },
  {
   "cell_type": "code",
   "execution_count": 32,
   "metadata": {},
   "outputs": [
    {
     "name": "stdout",
     "output_type": "stream",
     "text": [
      "0.061504240672530394\n",
      "0.06150424067253037\n"
     ]
    }
   ],
   "source": [
    "n_exp = len(experimental)\n",
    "n_con = len(control)\n",
    "\n",
    "lower_tail = stats.t.cdf(-abs(t_stat), n_exp + n_con - 2)\n",
    "upper_tail = 1 - stats.t.cdf(abs(t_stat), n_exp + n_con - 2)\n",
    "p_value_man = lower_tail + upper_tail\n",
    "\n",
    "print(p_value)\n",
    "print(p_value_man)"
   ]
  },
  {
   "cell_type": "markdown",
   "metadata": {},
   "source": [
    "### So how do we make the decision? *(This will show up in interviews!)*\n",
    "\n",
    "Remember that $\\alpha$ is our level of significance.\n",
    "\n",
    "- If $p\\text{-value} < \\alpha$, then there is evidence to reject the null hypothesis, so you accept that $H_0$ is incorrect and therefore $H_A$ is correct.\n",
    "    - i.e., a statisically significant difference between the two groups!\n",
    "    - This is like saying there is enough evidence to say our dog isn't innocent... so we say our dog is guilty.\n",
    "- If $p\\text{-value} \\ge \\alpha$, then there is insufficient evidence to reject the null hypothesis and you cannot accept that either $H_0$ or $H_A$ is correct.\n",
    "    - i.e., there is no statistical difference between your two groups.\n",
    "    - This is like saying there is not enough evidence to say our dog isn't innocent. We can't totally determine that our dog is innocent, but we haven't determined that our dog is guilty, either."
   ]
  },
  {
   "cell_type": "markdown",
   "metadata": {},
   "source": [
    "## So.... what is our decision?"
   ]
  },
  {
   "cell_type": "markdown",
   "metadata": {},
   "source": [
    "> **DECISION:** Because our $p$-value..."
   ]
  },
  {
   "cell_type": "markdown",
   "metadata": {},
   "source": [
    "## Other Hypothesis Tests\n",
    "The goal of this lesson was to teach you, in general, how hypothesis testing works. We showed you what is probably the most common variety of hypothesis test: the $t$-test. However, there are kajillions of other ones out there. It's not worth our time to go over so many more of them, as they all have the same implementation and interpretation, just in different situations. Instead, here is a list of many of the \"big\" ones and when to use them:\n",
    "\n",
    "| Situation | Common hypothesis test | Example | Notes |\n",
    "| --- | --- | --- | --- |\n",
    "| Testing whether or not one mean is equal to a value | One-sample $t$-test | Do cars on a given road, on average, drive about 65mph? | |\n",
    "| Testing whether or not two means are equal to eachother | Two-sample $t$-test | Is the mean systolic blood pressure of people who receive Medicine A or Medicine B the same? | |\n",
    "| Testing whether or not paired observations have the same value | Paired $t$-test | Among heterosexual married couples, is the husband, on average, taller than the wife? | This is functionally the same as a one-sample $t$-test of the differences |\n",
    "| Testing whether or not three or more means are the same | One-way ANOVA test | Are base salaries upon graduation different for graduates of Penn State, Ohio State, and Michigan? | The ANOVA test has many variants |\n",
    "| Testing whether or not there is a relationship between two categorical variables | $\\chi^2$ test | Is there a relationship between home state and political affiliation? | |\n",
    "| Testing whether or not a given distribution is normally distributed | Kolmogorov-Smirnov Test | Testing whether or not model residuals are normally distributed. Useful for testing linear regression assumptions! | |\n",
    "| Testing whether or not one proportion is equal to a number | One-sample $z$-test | Testing whether or not a coin is fair (ie, testing $P(Heads) = 0.5$) | |\n",
    "| Testing whether or not two proportions are euqal | Two-sample $z$-test | Who is going to win an election? | Testing two or more proportions can be done better with a $\\chi^2$ test |\n",
    "\n",
    "\n",
    "\n",
    "\n"
   ]
  },
  {
   "cell_type": "markdown",
   "metadata": {},
   "source": [
    "## Recap\n",
    "\n",
    "Four steps to hypothesis testing:\n",
    "1. Construct a null hypothesis that you want to contradict and its complement, the alternative hypothesis.\n",
    "2. Specify a level of significance.\n",
    "3. Calculate your test statistic.\n",
    "4. Find your $p$-value and make a conclusion."
   ]
  }
 ],
 "metadata": {
  "anaconda-cloud": {},
  "kernelspec": {
   "display_name": "Python 3",
   "language": "python",
   "name": "python3"
  },
  "language_info": {
   "codemirror_mode": {
    "name": "ipython",
    "version": 3
   },
   "file_extension": ".py",
   "mimetype": "text/x-python",
   "name": "python",
   "nbconvert_exporter": "python",
   "pygments_lexer": "ipython3",
   "version": "3.6.5"
  }
 },
 "nbformat": 4,
 "nbformat_minor": 2
}
