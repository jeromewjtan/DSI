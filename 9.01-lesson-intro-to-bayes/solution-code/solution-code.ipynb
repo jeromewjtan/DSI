{
 "cells": [
  {
   "cell_type": "markdown",
   "metadata": {},
   "source": [
    "<img src=\"http://imgur.com/1ZcRyrc.png\" style=\"float: left; margin: 20px; height: 55px\">\n",
    "\n",
    "# Monty Hall\n",
    "\n",
    "_Authors: Matt Brems (DC)_\n",
    "\n",
    "---\n",
    "\n",
    "The \"Monty Hall Problem” is a famous statistical problem based on the game show \"Let's Make a Deal.\" (Monty Hall was the show’s original host.) \n",
    "\n",
    "If you haven't heard of this game show, no worries. We’ll break down the basics below.\n",
    "\n",
    "\"Let's Make a Deal\" features three doors labeled \"A,\" \"B,\" and \"C.\" As the contestant, you are told that, behind exactly one door, there’s a new car. Behind the other two doors are goats. Your goal is to select the door with the car behind it.\n",
    "\n",
    "The game goes as follows:\n",
    "\n",
    "1. You select a door.\n",
    "2. The game show host, knowing which door hides the car, opens one of the doors you didn’t select to reveal a goat. (Important: If you selected a door with a goat, the host picks the other door with a goat. If you started by selecting the door with the car, the host picks from the remaining two doors at random.)\n",
    "3. The host then asks you if you would like to stick with the door you originally picked or switch to the other remaining door."
   ]
  },
  {
   "cell_type": "code",
   "execution_count": 1,
   "metadata": {},
   "outputs": [],
   "source": [
    "import numpy as np"
   ]
  },
  {
   "cell_type": "markdown",
   "metadata": {},
   "source": [
    "## Strategy 1: Stick with our original door\n",
    "---\n",
    "\n",
    "In the cell below, let's run through 10,000 simulations of sticking with our original choice."
   ]
  },
  {
   "cell_type": "code",
   "execution_count": 2,
   "metadata": {},
   "outputs": [
    {
     "data": {
      "text/plain": [
       "0.3338"
      ]
     },
     "execution_count": 2,
     "metadata": {},
     "output_type": "execute_result"
    }
   ],
   "source": [
    "outcomes = [] \n",
    "\n",
    "for _ in range(10_000):\n",
    "    doors = [0, 0, 1] # Goats are 0s, the car is 1\n",
    "    \n",
    "    # Step 1. We select a door\n",
    "    initial_pick = np.random.choice(doors)\n",
    "    \n",
    "    # We need to remove this door from the original list. This way Monty Hall doesn't accidentally show us the door\n",
    "    # we picked\n",
    "    doors.remove(initial_pick)\n",
    "    \n",
    "    # Step 2. Monty Hall will reveal one of the doors that:\n",
    "    # a) We didn't pick\n",
    "    # b) Contains a goat\n",
    "    doors.remove(0) # Depending on our initial pick, there are 1 or 2 goats in the remaining doors. This method will remove one of them\n",
    "    \n",
    "    remaining_door = doors[0] # At this point, there's only one door left. We'll need this for strategy 2\n",
    "    \n",
    "    # We're sticking with our original door, regardless of what Monty Hall does\n",
    "    outcomes.append(initial_pick)\n",
    "\n",
    "np.mean(outcomes) # You'll win a car 1/3 of the time"
   ]
  },
  {
   "cell_type": "markdown",
   "metadata": {},
   "source": [
    "## Strategy 2: Switch doors\n",
    "---\n",
    "\n",
    "In the cell below, let's run through 10,000 simulations of switching doors after Monty Hall reveals a goat."
   ]
  },
  {
   "cell_type": "code",
   "execution_count": 3,
   "metadata": {},
   "outputs": [
    {
     "data": {
      "text/plain": [
       "0.6672"
      ]
     },
     "execution_count": 3,
     "metadata": {},
     "output_type": "execute_result"
    }
   ],
   "source": [
    "outcomes = [] \n",
    "\n",
    "for _ in range(10_000):\n",
    "    doors = [0, 0, 1] # Goats are 0s, the car is 1\n",
    "    \n",
    "    # Step 1. We select a door\n",
    "    initial_pick = np.random.choice(doors)\n",
    "    \n",
    "    # We need to remove this door from the original list. This way Monty Hall doesn't accidentally show us the door\n",
    "    # we picked\n",
    "    doors.remove(initial_pick)\n",
    "    \n",
    "    # Step 2. Monty Hall will reveal one of the doors that:\n",
    "    # a) We didn't pick\n",
    "    # b) Contains a goat\n",
    "    doors.remove(0) # Depending on our initial pick, there are 1 or 2 goats in the remaining doors. This method will remove one of them\n",
    "    \n",
    "    remaining_door = doors[0] # At this point, there's only one door left. We'll need this for strategy 2\n",
    "    \n",
    "    # THIS IS THE ONLY LINE THAT IS DIFFERENT FROM STRATEGY 1. \n",
    "    # We're switching doors, so make sure you add remaining_door to the list of outcomes, NOT initial_pick\n",
    "    outcomes.append(remaining_door)\n",
    "\n",
    "np.mean(outcomes) # You'll win a car 2/3 of the time"
   ]
  },
  {
   "cell_type": "code",
   "execution_count": null,
   "metadata": {},
   "outputs": [],
   "source": []
  }
 ],
 "metadata": {
  "anaconda-cloud": {},
  "kernelspec": {
   "display_name": "Python 3",
   "language": "python",
   "name": "python3"
  },
  "language_info": {
   "codemirror_mode": {
    "name": "ipython",
    "version": 3
   },
   "file_extension": ".py",
   "mimetype": "text/x-python",
   "name": "python",
   "nbconvert_exporter": "python",
   "pygments_lexer": "ipython3",
   "version": "3.6.7"
  }
 },
 "nbformat": 4,
 "nbformat_minor": 1
}
