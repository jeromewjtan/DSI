{
 "cells": [
  {
   "cell_type": "markdown",
   "metadata": {},
   "source": [
    "<img src=\"http://imgur.com/1ZcRyrc.png\" style=\"float: left; margin: 20px; height: 55px\">\n",
    "\n",
    "# Practice Using APIs\n",
    "\n",
    "_Authors: Dave Yerrington (SF), Sam Stack(DC)_\n",
    "\n",
    "---\n",
    "\n",
    "In this lab we will practice using some popular APIs to retrieve and store data."
   ]
  },
  {
   "cell_type": "code",
   "execution_count": 3,
   "metadata": {},
   "outputs": [],
   "source": [
    "# Imports at the top\n",
    "import json\n",
    "import urllib\n",
    "import pandas as pd\n",
    "import numpy as np\n",
    "import requests\n",
    "import json\n",
    "import re\n",
    "import matplotlib.pyplot as plt\n",
    "\n",
    "%matplotlib inline"
   ]
  },
  {
   "cell_type": "markdown",
   "metadata": {},
   "source": [
    "## Exercise 1: get data from Sheetsu\n",
    "\n",
    "---\n",
    "\n",
    "[Sheetsu](https://sheetsu.com/) is an online service that allows you to access any Google spreadsheet from an API. This can be a very powerful way to share a dataset with colleagues as well as to create a mini centralized data storage that is simpler to edit than a database.\n",
    "\n",
    "A Google Spreadsheet with Wine data can be found [here](https://docs.google.com/spreadsheets/d/1mZ3Otr5AV4v8WwvLOAvWf3VLxDa-IeJ1AVTEuavJqeo/).\n",
    "\n",
    "It can be accessed through sheetsu API at this endpoint: https://sheetsu.com/apis/v1.0/dab55afd\n",
    "\n",
    "**Questions:**\n",
    "\n",
    "1. Use the requests library to access the document. Inspect the response text. What kind of data is it?\n",
    "- Check the status code of the response object. What code is it?\n",
    "- Use the appropriate libraries and read functions to read the response into a Pandas Dataframe.\n",
    "- Once you've imported the data into a dataframe, check the value of the 5th line: what's the price?"
   ]
  },
  {
   "cell_type": "code",
   "execution_count": 6,
   "metadata": {},
   "outputs": [],
   "source": [
    "# You can either post or get info from this API\n",
    "#api_base_url = 'https://sheetsu.com/apis/v1.0/dab55afd'\n",
    "api_base_url ='https://sheetsu.com/apis/v1.0su/34224c7a9910'"
   ]
  },
  {
   "cell_type": "code",
   "execution_count": 7,
   "metadata": {
    "scrolled": true
   },
   "outputs": [
    {
     "data": {
      "text/plain": [
       "'[{\"Color\":\"W\",\"Region\":\"Portugal\",\"Country\":\"Portugal\",\"Vintage\":\"2013\",\"Vinyard\":\"Vinho Verde\",\"Nam'"
      ]
     },
     "execution_count": 7,
     "metadata": {},
     "output_type": "execute_result"
    }
   ],
   "source": [
    "# What kind of data is this returning?\n",
    "api_response = requests.get(api_base_url)\n",
    "api_response.text[:100]"
   ]
  },
  {
   "cell_type": "code",
   "execution_count": 4,
   "metadata": {
    "collapsed": true
   },
   "outputs": [],
   "source": [
    "# 1. It is a json string"
   ]
  },
  {
   "cell_type": "code",
   "execution_count": 8,
   "metadata": {},
   "outputs": [],
   "source": [
    "reponse = json.loads(api_response.text)"
   ]
  },
  {
   "cell_type": "code",
   "execution_count": 10,
   "metadata": {},
   "outputs": [
    {
     "data": {
      "text/plain": [
       "list"
      ]
     },
     "execution_count": 10,
     "metadata": {},
     "output_type": "execute_result"
    }
   ],
   "source": [
    "type(reponse)"
   ]
  },
  {
   "cell_type": "code",
   "execution_count": 11,
   "metadata": {},
   "outputs": [
    {
     "data": {
      "text/plain": [
       "{'Color': 'W',\n",
       " 'Region': 'Portugal',\n",
       " 'Country': 'Portugal',\n",
       " 'Vintage': '2013',\n",
       " 'Vinyard': 'Vinho Verde',\n",
       " 'Name': '',\n",
       " 'Grape': '',\n",
       " 'Consumed In': '2015',\n",
       " 'Score': '4',\n",
       " 'Price': ''}"
      ]
     },
     "execution_count": 11,
     "metadata": {},
     "output_type": "execute_result"
    }
   ],
   "source": [
    "reponse[0]"
   ]
  },
  {
   "cell_type": "code",
   "execution_count": 12,
   "metadata": {},
   "outputs": [
    {
     "data": {
      "text/plain": [
       "200"
      ]
     },
     "execution_count": 12,
     "metadata": {},
     "output_type": "execute_result"
    }
   ],
   "source": [
    "api_response.status_code"
   ]
  },
  {
   "cell_type": "code",
   "execution_count": 9,
   "metadata": {
    "collapsed": true
   },
   "outputs": [],
   "source": [
    "# 2. response code is 200"
   ]
  },
  {
   "cell_type": "code",
   "execution_count": 13,
   "metadata": {},
   "outputs": [
    {
     "data": {
      "text/html": [
       "<div>\n",
       "<style scoped>\n",
       "    .dataframe tbody tr th:only-of-type {\n",
       "        vertical-align: middle;\n",
       "    }\n",
       "\n",
       "    .dataframe tbody tr th {\n",
       "        vertical-align: top;\n",
       "    }\n",
       "\n",
       "    .dataframe thead th {\n",
       "        text-align: right;\n",
       "    }\n",
       "</style>\n",
       "<table border=\"1\" class=\"dataframe\">\n",
       "  <thead>\n",
       "    <tr style=\"text-align: right;\">\n",
       "      <th></th>\n",
       "      <th>Color</th>\n",
       "      <th>Consumed In</th>\n",
       "      <th>Country</th>\n",
       "      <th>Grape</th>\n",
       "      <th>Name</th>\n",
       "      <th>Price</th>\n",
       "      <th>Region</th>\n",
       "      <th>Score</th>\n",
       "      <th>Vintage</th>\n",
       "      <th>Vinyard</th>\n",
       "    </tr>\n",
       "  </thead>\n",
       "  <tbody>\n",
       "    <tr>\n",
       "      <th>0</th>\n",
       "      <td>W</td>\n",
       "      <td>2015</td>\n",
       "      <td>Portugal</td>\n",
       "      <td></td>\n",
       "      <td></td>\n",
       "      <td></td>\n",
       "      <td>Portugal</td>\n",
       "      <td>4</td>\n",
       "      <td>2013</td>\n",
       "      <td>Vinho Verde</td>\n",
       "    </tr>\n",
       "    <tr>\n",
       "      <th>1</th>\n",
       "      <td>W</td>\n",
       "      <td>2015</td>\n",
       "      <td>France</td>\n",
       "      <td></td>\n",
       "      <td></td>\n",
       "      <td>17.8</td>\n",
       "      <td>France</td>\n",
       "      <td>3</td>\n",
       "      <td>2013</td>\n",
       "      <td>Peyruchet</td>\n",
       "    </tr>\n",
       "    <tr>\n",
       "      <th>2</th>\n",
       "      <td>W</td>\n",
       "      <td>2015</td>\n",
       "      <td>Oregon</td>\n",
       "      <td></td>\n",
       "      <td></td>\n",
       "      <td>20</td>\n",
       "      <td>Oregon</td>\n",
       "      <td>3</td>\n",
       "      <td>2013</td>\n",
       "      <td>Abacela</td>\n",
       "    </tr>\n",
       "    <tr>\n",
       "      <th>3</th>\n",
       "      <td>W</td>\n",
       "      <td>2015</td>\n",
       "      <td>Spain</td>\n",
       "      <td>chardonay</td>\n",
       "      <td></td>\n",
       "      <td>7</td>\n",
       "      <td>Spain</td>\n",
       "      <td>2.5</td>\n",
       "      <td>2012</td>\n",
       "      <td>Ochoa</td>\n",
       "    </tr>\n",
       "    <tr>\n",
       "      <th>4</th>\n",
       "      <td>R</td>\n",
       "      <td>2015</td>\n",
       "      <td>US</td>\n",
       "      <td>chiraz, cab</td>\n",
       "      <td>Spice Trader</td>\n",
       "      <td>6</td>\n",
       "      <td></td>\n",
       "      <td>3</td>\n",
       "      <td>2012</td>\n",
       "      <td>Heartland</td>\n",
       "    </tr>\n",
       "  </tbody>\n",
       "</table>\n",
       "</div>"
      ],
      "text/plain": [
       "  Color Consumed In   Country        Grape          Name Price    Region  \\\n",
       "0     W        2015  Portugal                                   Portugal   \n",
       "1     W        2015    France                             17.8    France   \n",
       "2     W        2015    Oregon                               20    Oregon   \n",
       "3     W        2015     Spain    chardonay                   7     Spain   \n",
       "4     R        2015        US  chiraz, cab  Spice Trader     6             \n",
       "\n",
       "  Score Vintage      Vinyard  \n",
       "0     4    2013  Vinho Verde  \n",
       "1     3    2013    Peyruchet  \n",
       "2     3    2013      Abacela  \n",
       "3   2.5    2012        Ochoa  \n",
       "4     3    2012    Heartland  "
      ]
     },
     "execution_count": 13,
     "metadata": {},
     "output_type": "execute_result"
    }
   ],
   "source": [
    "wine_df = pd.DataFrame(reponse)\n",
    "wine_df.head()"
   ]
  },
  {
   "cell_type": "code",
   "execution_count": 14,
   "metadata": {},
   "outputs": [
    {
     "data": {
      "text/html": [
       "<div>\n",
       "<style scoped>\n",
       "    .dataframe tbody tr th:only-of-type {\n",
       "        vertical-align: middle;\n",
       "    }\n",
       "\n",
       "    .dataframe tbody tr th {\n",
       "        vertical-align: top;\n",
       "    }\n",
       "\n",
       "    .dataframe thead th {\n",
       "        text-align: right;\n",
       "    }\n",
       "</style>\n",
       "<table border=\"1\" class=\"dataframe\">\n",
       "  <thead>\n",
       "    <tr style=\"text-align: right;\">\n",
       "      <th></th>\n",
       "      <th>Color</th>\n",
       "      <th>Consumed In</th>\n",
       "      <th>Country</th>\n",
       "      <th>Grape</th>\n",
       "      <th>Name</th>\n",
       "      <th>Price</th>\n",
       "      <th>Region</th>\n",
       "      <th>Score</th>\n",
       "      <th>Vintage</th>\n",
       "      <th>Vinyard</th>\n",
       "    </tr>\n",
       "  </thead>\n",
       "  <tbody>\n",
       "    <tr>\n",
       "      <th>0</th>\n",
       "      <td>W</td>\n",
       "      <td>2015</td>\n",
       "      <td>Portugal</td>\n",
       "      <td></td>\n",
       "      <td></td>\n",
       "      <td></td>\n",
       "      <td>Portugal</td>\n",
       "      <td>4.0</td>\n",
       "      <td>2013</td>\n",
       "      <td>Vinho Verde</td>\n",
       "    </tr>\n",
       "    <tr>\n",
       "      <th>1</th>\n",
       "      <td>W</td>\n",
       "      <td>2015</td>\n",
       "      <td>France</td>\n",
       "      <td></td>\n",
       "      <td></td>\n",
       "      <td>17.8</td>\n",
       "      <td>France</td>\n",
       "      <td>3.0</td>\n",
       "      <td>2013</td>\n",
       "      <td>Peyruchet</td>\n",
       "    </tr>\n",
       "  </tbody>\n",
       "</table>\n",
       "</div>"
      ],
      "text/plain": [
       "  Color  Consumed In   Country Grape Name Price    Region  Score  Vintage  \\\n",
       "0     W         2015  Portugal                   Portugal    4.0     2013   \n",
       "1     W         2015    France             17.8    France    3.0     2013   \n",
       "\n",
       "       Vinyard  \n",
       "0  Vinho Verde  \n",
       "1    Peyruchet  "
      ]
     },
     "execution_count": 14,
     "metadata": {},
     "output_type": "execute_result"
    }
   ],
   "source": [
    "# alternatively:\n",
    "wine_df = pd.read_json(api_response.text)\n",
    "wine_df.head(2)"
   ]
  },
  {
   "cell_type": "code",
   "execution_count": 15,
   "metadata": {},
   "outputs": [
    {
     "data": {
      "text/plain": [
       "Color                     R\n",
       "Consumed In            2015\n",
       "Country                  US\n",
       "Grape           chiraz, cab\n",
       "Name           Spice Trader\n",
       "Price                     6\n",
       "Region                     \n",
       "Score                     3\n",
       "Vintage                2012\n",
       "Vinyard           Heartland\n",
       "Name: 4, dtype: object"
      ]
     },
     "execution_count": 15,
     "metadata": {},
     "output_type": "execute_result"
    }
   ],
   "source": [
    "wine_df.iloc[4, :]\n",
    "# the price is 6 for the 5th row."
   ]
  },
  {
   "cell_type": "markdown",
   "metadata": {},
   "source": [
    "## Exercise 2: post data to Sheetsu\n",
    "\n",
    "---\n",
    "\n",
    "We've learned how to read data, but it'd be great if we could also write data. For this we will need to use a _POST_ request.\n",
    "\n",
    "1. Use the post command to add the `post_data` to the spreadsheet.\n",
    "- What status did you get? How can you check that you actually added the data correctly?\n",
    "- In this exercise, your classmates are adding data to the same spreadsheet. What happens because of this? Is it a problem? How could you mitigate it?"
   ]
  },
  {
   "cell_type": "code",
   "execution_count": 16,
   "metadata": {},
   "outputs": [],
   "source": [
    "post_data = {\n",
    "    'Grape': '',\n",
    "    'Name': 'My wonderful wine',\n",
    "    'Color': 'R',\n",
    "    'Country': 'US',\n",
    "    'Region': 'Sonoma',\n",
    "    'Vinyard': '',\n",
    "    'Score': '10',\n",
    "    'Consumed In': '2015',\n",
    "    'Vintage': '1973',\n",
    "    'Price': '200'\n",
    "}"
   ]
  },
  {
   "cell_type": "code",
   "execution_count": 17,
   "metadata": {},
   "outputs": [
    {
     "data": {
      "text/plain": [
       "<Response [402]>"
      ]
     },
     "execution_count": 17,
     "metadata": {},
     "output_type": "execute_result"
    }
   ],
   "source": [
    "requests.post(api_base_url, data=post_data)"
   ]
  },
  {
   "cell_type": "code",
   "execution_count": 15,
   "metadata": {
    "collapsed": true
   },
   "outputs": [],
   "source": [
    "# 2. To check we could send a get request and check the last line."
   ]
  },
  {
   "cell_type": "code",
   "execution_count": 16,
   "metadata": {
    "collapsed": true
   },
   "outputs": [],
   "source": [
    "# 3. There will be many duplicate lines on the spreadsheet. One way to mitigate \n",
    "# this would be through permission, another would be to insert at a \n",
    "# specific position, so that the line is overwritten at each time."
   ]
  },
  {
   "cell_type": "markdown",
   "metadata": {},
   "source": [
    "## Exercise 3: IMDB TV Shows\n",
    "\n",
    "---\n",
    "\n",
    "Sometimes an API doesn't provide all the information we would like to get and we need to be creative.\n",
    "\n",
    "Here we will use a combination of scraping and API calls to find the ratings and networks of famous television shows."
   ]
  },
  {
   "cell_type": "markdown",
   "metadata": {
    "collapsed": true
   },
   "source": [
    "### 3.A Get the top TV Shows\n",
    "\n",
    "The Internet Movie Database contains data about movies and TV shows. Unfortunately it does not have a public API.\n",
    "\n",
    "The page http://www.imdb.com/chart/toptv/?ref_=nv_tp_tv250_2 contains the list of the top 250 tv shows of all time. Retrieve the page using the requests library and then parse the html to obtain a list of the `movie_ids` for these movies. You can parse it with regular expression or using a library like `BeautifulSoup`.\n",
    "\n",
    "> **Hint:** movie_ids look like this: `tt2582802`\n",
    "> _Everything after \"/title/\" and before \"/?\"_"
   ]
  },
  {
   "cell_type": "code",
   "execution_count": 18,
   "metadata": {},
   "outputs": [],
   "source": [
    "def get_top_250():\n",
    "    response = requests.get('http://www.imdb.com/chart/toptv/?ref_=nv_tp_tv250_2')\n",
    "    html = response.text\n",
    "    # use greedy version to find everything after title to the next backslash in the a href element\n",
    "    entries = re.findall(\"<a href.*?/title/(.*?)/\", html) \n",
    "    # create a list of the top 250 results\n",
    "    return list(set(entries))"
   ]
  },
  {
   "cell_type": "code",
   "execution_count": 19,
   "metadata": {},
   "outputs": [],
   "source": [
    "entries = get_top_250()"
   ]
  },
  {
   "cell_type": "code",
   "execution_count": 20,
   "metadata": {},
   "outputs": [
    {
     "data": {
      "text/plain": [
       "251"
      ]
     },
     "execution_count": 20,
     "metadata": {},
     "output_type": "execute_result"
    }
   ],
   "source": [
    "len(entries)"
   ]
  },
  {
   "cell_type": "code",
   "execution_count": 24,
   "metadata": {},
   "outputs": [
    {
     "data": {
      "text/plain": [
       "['tt1439629', 'tt1513168']"
      ]
     },
     "execution_count": 24,
     "metadata": {},
     "output_type": "execute_result"
    }
   ],
   "source": [
    "entries[0:2]"
   ]
  },
  {
   "cell_type": "markdown",
   "metadata": {},
   "source": [
    "### 3.B Get data on the top movies\n",
    "\n",
    "Although the Internet Movie Database does not have a public API, an open API exists at http://www.tvmaze.com/api.\n",
    "\n",
    "Use this API to retrieve information about each of the 250 TV shows you have extracted in the previous step.\n",
    "1. Check the documentation of tvmaze's api to learn how to request show data by id.\n",
    "- Define a function that returns a python object with select information for a given id.\n",
    "    - Show name\n",
    "    - Rating (avg)\n",
    "    - Genre(s)\n",
    "    - Network name\n",
    "    - Premiere date\n",
    "    - Status\n",
    "> Tip: the json object can easily be converted into a python dictionary.\n",
    "\n",
    "- Store the gathered information in a Pandas Dataframe.\n",
    "\n",
    "\n",
    "As the target information is in json format you will need `json.loads(res.text)` in order to gather it."
   ]
  },
  {
   "cell_type": "markdown",
   "metadata": {},
   "source": [
    "Heres and example of the information and how we can interact with it."
   ]
  },
  {
   "cell_type": "code",
   "execution_count": 27,
   "metadata": {},
   "outputs": [
    {
     "name": "stdout",
     "output_type": "stream",
     "text": [
      "200\n",
      "Planet Earth II\n",
      "{'id': 22036, 'url': 'http://www.tvmaze.com/shows/22036/planet-earth-ii', 'name': 'Planet Earth II', 'type': 'Documentary', 'language': 'English', 'genres': ['Nature'], 'status': 'Ended', 'runtime': 60, 'premiered': '2016-11-06', 'officialSite': 'http://www.bbc.co.uk/programmes/p02544td', 'schedule': {'time': '20:00', 'days': ['Sunday']}, 'rating': {'average': 9.7}, 'weight': 81, 'network': {'id': 12, 'name': 'BBC One', 'country': {'name': 'United Kingdom', 'code': 'GB', 'timezone': 'Europe/London'}}, 'webChannel': None, 'externals': {'tvrage': None, 'thetvdb': 318408, 'imdb': 'tt5491994'}, 'image': {'medium': 'http://static.tvmaze.com/uploads/images/medium_portrait/87/219457.jpg', 'original': 'http://static.tvmaze.com/uploads/images/original_untouched/87/219457.jpg'}, 'summary': '<p>David Attenborough presents a documentary series exploring how animals meet the challenges of surviving in the most iconic habitats on earth.</p>', 'updated': 1563541465, '_links': {'self': {'href': 'http://api.tvmaze.com/shows/22036'}, 'previousepisode': {'href': 'http://api.tvmaze.com/episodes/976088'}}}\n"
     ]
    }
   ],
   "source": [
    "# example url\n",
    "res = requests.get('http://api.tvmaze.com/lookup/shows?imdb=tt5491994')\n",
    "\n",
    "# status code\n",
    "print(res.status_code)\n",
    "\n",
    "# just the contents of the name element\n",
    "print(json.loads(res.text).get('name'))\n",
    "\n",
    "# entire contents\n",
    "print(json.loads(res.text))"
   ]
  },
  {
   "cell_type": "code",
   "execution_count": 28,
   "metadata": {},
   "outputs": [],
   "source": [
    "#  function to pull information from API using Json interaction\n",
    "def get_entry(entry):\n",
    "    res=requests.get('http://api.tvmaze.com/lookup/shows?imdb='+entry)\n",
    "    if res.status_code == 200:\n",
    "        try:\n",
    "            status = json.loads(res.text).get('status')\n",
    "        except AttributeError:\n",
    "            status = 'NA'\n",
    "        try: \n",
    "            rating = json.loads(res.text).get('rating').get('average')\n",
    "        except AttributeError:\n",
    "            rating = 'NA'\n",
    "            \n",
    "        try:\n",
    "            network = json.loads(res.text).get('network').get('name')\n",
    "        except AttributeError:\n",
    "            network = 'NA'\n",
    "            \n",
    "        try:\n",
    "            title = json.loads(res.text).get('name')\n",
    "        except AttributeError:\n",
    "            title = 'NA'\n",
    "            \n",
    "        try:\n",
    "            premier = json.loads(res.text).get('premiered')\n",
    "        except AttributeError:\n",
    "            premier = 'NA'\n",
    "            \n",
    "        try:\n",
    "            genres = json.loads(res.text).get('genres')\n",
    "        except AttributeError:\n",
    "            genres = 'NA'\n",
    "\n",
    "        # takes local variables as a \n",
    "        shows_df.loc[len(shows_df)] = [title, rating, genres, network, premier, status]"
   ]
  },
  {
   "cell_type": "code",
   "execution_count": 29,
   "metadata": {},
   "outputs": [],
   "source": [
    "#  function to pull information from API converting Json into a python dictionary element\n",
    "def get_entry(entry):\n",
    "    res=requests.get('http://api.tvmaze.com/lookup/shows?imdb='+entry)\n",
    "    if res.status_code == 200:\n",
    "        results = json.loads(res.text)\n",
    "        \n",
    "        try:    \n",
    "            status = results['status']\n",
    "        except TypeError:\n",
    "            status = 'NA'   \n",
    "        try:\n",
    "            rating = results['rating']['average']\n",
    "        except TypeError:\n",
    "            rating = 'NA'\n",
    "        try:\n",
    "            network = results['network']['name']\n",
    "        except TypeError:\n",
    "            network = 'NA'\n",
    "        try:   \n",
    "            title = results['name']\n",
    "        except TypeError:\n",
    "            title = 'NA'\n",
    "        try:   \n",
    "            genres = results['genres']\n",
    "        except TypeError:\n",
    "            genres = 'NA'\n",
    "        try:   \n",
    "            premier = results['premiered']\n",
    "        except TypeError:\n",
    "            premier = 'NA'\n",
    "        \n",
    "        shows_df.loc[len(shows_df)] = [title, rating, genres, network, premier, status]"
   ]
  },
  {
   "cell_type": "code",
   "execution_count": null,
   "metadata": {
    "collapsed": true
   },
   "outputs": [],
   "source": [
    "# in both functions we are looking for specific elements.  If an element is missing an error will return thus the need\n",
    "# for try and except statements."
   ]
  },
  {
   "cell_type": "code",
   "execution_count": 30,
   "metadata": {},
   "outputs": [],
   "source": [
    "shows_df= pd.DataFrame( columns = ['show_name', 'rating_avg', 'genres', 'network', 'premiere_date', 'status'])\n",
    "\n",
    "for entry in entries:\n",
    "    get_entry(entry)"
   ]
  },
  {
   "cell_type": "code",
   "execution_count": 31,
   "metadata": {},
   "outputs": [
    {
     "data": {
      "text/html": [
       "<div>\n",
       "<style scoped>\n",
       "    .dataframe tbody tr th:only-of-type {\n",
       "        vertical-align: middle;\n",
       "    }\n",
       "\n",
       "    .dataframe tbody tr th {\n",
       "        vertical-align: top;\n",
       "    }\n",
       "\n",
       "    .dataframe thead th {\n",
       "        text-align: right;\n",
       "    }\n",
       "</style>\n",
       "<table border=\"1\" class=\"dataframe\">\n",
       "  <thead>\n",
       "    <tr style=\"text-align: right;\">\n",
       "      <th></th>\n",
       "      <th>show_name</th>\n",
       "      <th>rating_avg</th>\n",
       "      <th>genres</th>\n",
       "      <th>network</th>\n",
       "      <th>premiere_date</th>\n",
       "      <th>status</th>\n",
       "    </tr>\n",
       "  </thead>\n",
       "  <tbody>\n",
       "    <tr>\n",
       "      <th>0</th>\n",
       "      <td>Community</td>\n",
       "      <td>8.2</td>\n",
       "      <td>[Comedy]</td>\n",
       "      <td>NA</td>\n",
       "      <td>2009-09-17</td>\n",
       "      <td>Ended</td>\n",
       "    </tr>\n",
       "    <tr>\n",
       "      <th>1</th>\n",
       "      <td>Through the Wormhole</td>\n",
       "      <td>8.3</td>\n",
       "      <td>[Science-Fiction]</td>\n",
       "      <td>Science</td>\n",
       "      <td>2010-06-09</td>\n",
       "      <td>Ended</td>\n",
       "    </tr>\n",
       "    <tr>\n",
       "      <th>2</th>\n",
       "      <td>Feud</td>\n",
       "      <td>7.6</td>\n",
       "      <td>[Drama]</td>\n",
       "      <td>FX</td>\n",
       "      <td>2017-03-05</td>\n",
       "      <td>Ended</td>\n",
       "    </tr>\n",
       "    <tr>\n",
       "      <th>3</th>\n",
       "      <td>Doctor Who</td>\n",
       "      <td>8.6</td>\n",
       "      <td>[Drama, Adventure, Science-Fiction]</td>\n",
       "      <td>BBC One</td>\n",
       "      <td>2005-03-26</td>\n",
       "      <td>Running</td>\n",
       "    </tr>\n",
       "    <tr>\n",
       "      <th>4</th>\n",
       "      <td>Spartacus</td>\n",
       "      <td>8.7</td>\n",
       "      <td>[Action, Adventure, History]</td>\n",
       "      <td>Starz</td>\n",
       "      <td>2010-01-22</td>\n",
       "      <td>Ended</td>\n",
       "    </tr>\n",
       "  </tbody>\n",
       "</table>\n",
       "</div>"
      ],
      "text/plain": [
       "              show_name  rating_avg                               genres  \\\n",
       "0             Community         8.2                             [Comedy]   \n",
       "1  Through the Wormhole         8.3                    [Science-Fiction]   \n",
       "2                  Feud         7.6                              [Drama]   \n",
       "3            Doctor Who         8.6  [Drama, Adventure, Science-Fiction]   \n",
       "4             Spartacus         8.7         [Action, Adventure, History]   \n",
       "\n",
       "   network premiere_date   status  \n",
       "0       NA    2009-09-17    Ended  \n",
       "1  Science    2010-06-09    Ended  \n",
       "2       FX    2017-03-05    Ended  \n",
       "3  BBC One    2005-03-26  Running  \n",
       "4    Starz    2010-01-22    Ended  "
      ]
     },
     "execution_count": 31,
     "metadata": {},
     "output_type": "execute_result"
    }
   ],
   "source": [
    "shows_df.head()"
   ]
  },
  {
   "cell_type": "code",
   "execution_count": 32,
   "metadata": {},
   "outputs": [
    {
     "name": "stdout",
     "output_type": "stream",
     "text": [
      "<class 'pandas.core.frame.DataFrame'>\n",
      "Int64Index: 231 entries, 0 to 230\n",
      "Data columns (total 6 columns):\n",
      "show_name        231 non-null object\n",
      "rating_avg       197 non-null float64\n",
      "genres           231 non-null object\n",
      "network          231 non-null object\n",
      "premiere_date    231 non-null object\n",
      "status           231 non-null object\n",
      "dtypes: float64(1), object(5)\n",
      "memory usage: 12.6+ KB\n"
     ]
    }
   ],
   "source": [
    "shows_df.info()"
   ]
  },
  {
   "cell_type": "code",
   "execution_count": null,
   "metadata": {
    "collapsed": true
   },
   "outputs": [],
   "source": []
  }
 ],
 "metadata": {
  "kernelspec": {
   "display_name": "Python 3",
   "language": "python",
   "name": "python3"
  },
  "language_info": {
   "codemirror_mode": {
    "name": "ipython",
    "version": 3
   },
   "file_extension": ".py",
   "mimetype": "text/x-python",
   "name": "python",
   "nbconvert_exporter": "python",
   "pygments_lexer": "ipython3",
   "version": "3.7.3"
  }
 },
 "nbformat": 4,
 "nbformat_minor": 1
}
