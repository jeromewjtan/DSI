{
 "cells": [
  {
   "cell_type": "markdown",
   "metadata": {},
   "source": [
    "## ![](https://ga-dash.s3.amazonaws.com/production/assets/logo-9f88ae6c9c3871690e33280fcf557f33.png) MCMC Practice Questions/Code"
   ]
  },
  {
   "cell_type": "markdown",
   "metadata": {},
   "source": [
    "The idea behind this lesson is to understand how MCMC works. There are two parts:\n",
    "- Some questions about why MCMC works.\n",
    "- Commenting on the code implementation of MCMC to get a better understanding for how the MCMC process works, using the Metropolis-Hastings algorithm."
   ]
  },
  {
   "cell_type": "markdown",
   "metadata": {},
   "source": [
    "## Part I"
   ]
  },
  {
   "cell_type": "markdown",
   "metadata": {},
   "source": [
    "Problem 1: What is the Markov property?"
   ]
  },
  {
   "cell_type": "markdown",
   "metadata": {},
   "source": [
    "Answer 1:"
   ]
  },
  {
   "cell_type": "markdown",
   "metadata": {},
   "source": [
    "Problem 2: How is the Markov property relevant to MCMC?"
   ]
  },
  {
   "cell_type": "markdown",
   "metadata": {},
   "source": [
    "Answer 2:"
   ]
  },
  {
   "cell_type": "markdown",
   "metadata": {},
   "source": [
    "Problem 3: When working with Markov chains, we could change the initial state vector. (The initial state vector is the vector representing where things started out.) When we changed the initial state vector, what was the effect on the long-run behavior of the Markov chain?"
   ]
  },
  {
   "cell_type": "markdown",
   "metadata": {},
   "source": [
    "Answer 3:"
   ]
  },
  {
   "cell_type": "markdown",
   "metadata": {},
   "source": [
    "Problem 4: Suppose we ran MCMC multiple times. In `PyMC3`, this is accomplished by setting `njobs` to a value above 1. Why would your answer to problem 3 be relevant in this situation?"
   ]
  },
  {
   "cell_type": "markdown",
   "metadata": {},
   "source": [
    "Answer 4:"
   ]
  },
  {
   "cell_type": "markdown",
   "metadata": {},
   "source": [
    "Problem 5: What are Monte Carlo simulations?"
   ]
  },
  {
   "cell_type": "markdown",
   "metadata": {},
   "source": [
    "Answer 5:"
   ]
  },
  {
   "cell_type": "markdown",
   "metadata": {},
   "source": [
    "Problem 6: How are Monte Carlo simulations relevant to MCMC?"
   ]
  },
  {
   "cell_type": "markdown",
   "metadata": {},
   "source": [
    "Answer 6:"
   ]
  },
  {
   "cell_type": "markdown",
   "metadata": {},
   "source": [
    "## Part II\n",
    "\n",
    "The below functions execute Markov Chain Monte Carlo methods.\n",
    "\n",
    "Go through the below functions. Comment each function so that you understand what is going on and can convince us that you understand what is going on. Make sure to identify if there are any assumptions made about priors or likelihoods that you may not always make.\n",
    "\n",
    "Note that these functions scaffold in that `mcmc(`$\\cdot$`)` is composed of the other functions, making each individual function more readable.\n",
    "\n",
    "**Hint:** It might make more sense to start with `mcmc(`$\\cdot$`)`, then work your way through the other functions."
   ]
  },
  {
   "cell_type": "code",
   "execution_count": null,
   "metadata": {
    "collapsed": true
   },
   "outputs": [],
   "source": [
    "import numpy as np\n",
    "from scipy.stats import norm"
   ]
  },
  {
   "cell_type": "code",
   "execution_count": null,
   "metadata": {
    "collapsed": true
   },
   "outputs": [],
   "source": [
    "def log_likelihood_data(data, proposed_mean, proposed_std):\n",
    "    distribution = stats.norm(proposed_mean, proposed_std)\n",
    "    log_likelihood = distribution.logpdf(data)\n",
    "    return np.sum(log_likelihood)"
   ]
  },
  {
   "cell_type": "code",
   "execution_count": null,
   "metadata": {
    "collapsed": true
   },
   "outputs": [],
   "source": [
    "def log_likelihood_prior(proposed_mean, prior_belief_mean, prior_belief_std):\n",
    "    prior = stats.norm(prior_belief_mean, prior_belief_std)\n",
    "    proposed_loglike = prior.logpdf(proposed_mean)\n",
    "    return proposed_loglike"
   ]
  },
  {
   "cell_type": "code",
   "execution_count": null,
   "metadata": {
    "collapsed": true
   },
   "outputs": [],
   "source": [
    "def get_new_proposal(proposal_distribution_mean, proposal_distribution_std):\n",
    "    proposal_distribution = stats.norm(proposal_distribution_mean, proposal_distribution_std)\n",
    "    new_proposed_statistic = proposal_distribution.rvs()\n",
    "    return new_proposed_statistic"
   ]
  },
  {
   "cell_type": "code",
   "execution_count": null,
   "metadata": {
    "collapsed": true
   },
   "outputs": [],
   "source": [
    "def metropolis_sampler(data, current_mean, prior_mean, prior_std):\n",
    "    current_data_loglike = log_likelihood_data(data, current_mean, prior_std)\n",
    "    current_prior_loglike = log_likelihood_prior(current_mean, prior_mean, prior_std)\n",
    "    current_loglike = (current_data_loglike + current_prior_loglike)\n",
    "    \n",
    "    proposed_mean = get_new_proposal(current_mean, 0.2)\n",
    "    \n",
    "    proposed_data_loglike = log_likelihood_data(data, proposed_mean, prior_std)\n",
    "    proposed_prior_loglike = log_likelihood_prior(proposed_mean, prior_mean, prior_std)\n",
    "    proposed_loglike = (proposed_data_loglike + proposed_prior_loglike)\n",
    "    \n",
    "    acceptance_criterion = np.exp(proposed_loglike - current_loglike)\n",
    "    \n",
    "    random_fraction = np.random.rand()\n",
    "    \n",
    "    if acceptance_criterion > random_fraction:\n",
    "        return proposed_mean\n",
    "    else:\n",
    "        return current_mean"
   ]
  },
  {
   "cell_type": "code",
   "execution_count": null,
   "metadata": {
    "collapsed": true
   },
   "outputs": [],
   "source": [
    "def mcmc(data, initial_proposal, prior_mean, prior_std, iterations=1000):\n",
    "    \n",
    "    accepted_means = [initial_proposal]\n",
    "    current_mean = initial_proposal\n",
    "    \n",
    "    for i in range(iterations):\n",
    "        if (i % 250) == 0:\n",
    "            print('Iteration:', i)\n",
    "        \n",
    "        current_mean = metropolis_sampler(data, current_mean, prior_mean, prior_std)\n",
    "        accepted_means.append(current_mean)\n",
    "        \n",
    "    return accepted_means"
   ]
  }
 ],
 "metadata": {
  "kernelspec": {
   "display_name": "Python 3",
   "language": "python",
   "name": "python3"
  },
  "language_info": {
   "codemirror_mode": {
    "name": "ipython",
    "version": 3
   },
   "file_extension": ".py",
   "mimetype": "text/x-python",
   "name": "python",
   "nbconvert_exporter": "python",
   "pygments_lexer": "ipython3",
   "version": "3.5.4"
  }
 },
 "nbformat": 4,
 "nbformat_minor": 1
}
