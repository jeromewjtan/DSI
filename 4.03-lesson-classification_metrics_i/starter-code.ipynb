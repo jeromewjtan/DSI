{
 "cells": [
  {
   "cell_type": "markdown",
   "metadata": {},
   "source": [
    "<img src=\"http://imgur.com/1ZcRyrc.png\" style=\"float: left; margin: 15px; height: 80px\">\n",
    "\n",
    "# Classification Metrics I\n",
    "\n",
    "_Authors: Matt Brems (DC), Riley Dallas (AUS)_\n",
    "\n",
    "---"
   ]
  },
  {
   "cell_type": "markdown",
   "metadata": {},
   "source": [
    "## Importing libraries\n",
    "---\n",
    "\n",
    "We'll need the following libraries for today's lecture:\n",
    "1. `pandas`\n",
    "4. `KNeighborsClassifier` from `sklearn`'s `neighbors` module\n",
    "5. The `load_breast_cancer` function from `sklearn`'s `datasets` module\n",
    "6. `train_test_split` and `cross_val_score` from `sklearn`'s `model_selection` module\n",
    "7. `StandardScaler` from `sklearn`'s `preprocessing` module\n",
    "8. The `confusion_matrix` function from `sklearn`'s `metrics` module"
   ]
  },
  {
   "cell_type": "code",
   "execution_count": null,
   "metadata": {},
   "outputs": [],
   "source": []
  },
  {
   "cell_type": "markdown",
   "metadata": {},
   "source": [
    "## Create dataset\n",
    "---\n",
    "\n",
    "Similar to `load_iris` from this morning, we'll call the `load_breast_cancer()` function to create our dataset."
   ]
  },
  {
   "cell_type": "code",
   "execution_count": null,
   "metadata": {},
   "outputs": [],
   "source": []
  },
  {
   "cell_type": "markdown",
   "metadata": {},
   "source": [
    "## Create `X` and `y`\n",
    "---\n",
    "\n",
    "The dataset labels benign tumors as 1, and malignant tumors as 0. This is contrary to how you typically label data: the more important class (malignant) should be labeled 1."
   ]
  },
  {
   "cell_type": "code",
   "execution_count": null,
   "metadata": {},
   "outputs": [],
   "source": []
  },
  {
   "cell_type": "markdown",
   "metadata": {},
   "source": [
    "## Train/Test Split\n",
    "---\n",
    "\n",
    "In the cell below, train/test split your `X` and `y` variables. \n",
    "\n",
    "**Note** we'll want to create a stratified split."
   ]
  },
  {
   "cell_type": "code",
   "execution_count": null,
   "metadata": {},
   "outputs": [],
   "source": []
  },
  {
   "cell_type": "markdown",
   "metadata": {},
   "source": [
    "## Scaling our features\n",
    "---\n",
    "\n",
    "Because we're using KNN for our model, we'll want to scale our training and testing sets."
   ]
  },
  {
   "cell_type": "code",
   "execution_count": null,
   "metadata": {},
   "outputs": [],
   "source": []
  },
  {
   "cell_type": "markdown",
   "metadata": {},
   "source": [
    "## Instantiate and fitting our model\n",
    "---\n",
    "\n",
    "In the cells provided, create and fit an instance of `KNeighborsClassifier`. You can use the default parameters."
   ]
  },
  {
   "cell_type": "code",
   "execution_count": null,
   "metadata": {},
   "outputs": [],
   "source": []
  },
  {
   "cell_type": "code",
   "execution_count": null,
   "metadata": {},
   "outputs": [],
   "source": []
  },
  {
   "cell_type": "markdown",
   "metadata": {},
   "source": [
    "## Predictions\n",
    "---\n",
    "\n",
    "Use our newly fitted KNN model to create predictions from `X_test_scaled`."
   ]
  },
  {
   "cell_type": "code",
   "execution_count": null,
   "metadata": {},
   "outputs": [],
   "source": []
  },
  {
   "cell_type": "markdown",
   "metadata": {},
   "source": [
    "## Confusion Matrix\n",
    "---\n",
    "\n",
    "We'll create a confusion matrix using the `confusion_matrix` function from `sklearn`'s `metrics` module."
   ]
  },
  {
   "cell_type": "code",
   "execution_count": null,
   "metadata": {},
   "outputs": [],
   "source": []
  },
  {
   "cell_type": "markdown",
   "metadata": {},
   "source": [
    "## Confusion DataFrame\n",
    "---\n",
    "\n",
    "The confusion matrix we just created isn't very explanatory, so let's drop it into a pandas `DataFrame`."
   ]
  },
  {
   "cell_type": "code",
   "execution_count": null,
   "metadata": {},
   "outputs": [],
   "source": []
  },
  {
   "cell_type": "markdown",
   "metadata": {},
   "source": [
    "## Calculate recall\n",
    "---\n",
    "\n",
    "<details>\n",
    "    <summary>Need a hint?</summary>\n",
    "    Recall = Sensitivity, and there are no p's in sensitivity.\n",
    "</details>"
   ]
  },
  {
   "cell_type": "code",
   "execution_count": null,
   "metadata": {},
   "outputs": [],
   "source": []
  },
  {
   "cell_type": "markdown",
   "metadata": {},
   "source": [
    "## How many Type I errors are there?\n",
    "---\n",
    "\n",
    "<details>\n",
    "    <summary>Need a hint?</summary>\n",
    "    Type I = False positive\n",
    "</details>"
   ]
  },
  {
   "cell_type": "code",
   "execution_count": null,
   "metadata": {},
   "outputs": [],
   "source": []
  },
  {
   "cell_type": "markdown",
   "metadata": {},
   "source": [
    "## How many Type II errors are there?\n",
    "---\n",
    "<details>\n",
    "    <summary>Need a hint?</summary>\n",
    "    Type II = False negatives\n",
    "</details>"
   ]
  },
  {
   "cell_type": "code",
   "execution_count": null,
   "metadata": {},
   "outputs": [],
   "source": []
  },
  {
   "cell_type": "markdown",
   "metadata": {},
   "source": [
    "## Which error is worse (Type I vs Type II)?\n",
    "---"
   ]
  },
  {
   "cell_type": "code",
   "execution_count": null,
   "metadata": {},
   "outputs": [],
   "source": []
  },
  {
   "cell_type": "markdown",
   "metadata": {},
   "source": [
    "## Calculate the sensitivity\n",
    "---\n",
    "\n",
    "<details>\n",
    "    <summary>Need a hint?</summary>\n",
    "    There are no p's in sensitivity: TP/P\n",
    "</details>"
   ]
  },
  {
   "cell_type": "code",
   "execution_count": null,
   "metadata": {},
   "outputs": [],
   "source": []
  },
  {
   "cell_type": "markdown",
   "metadata": {},
   "source": [
    "## Calculate the specificity\n",
    "---\n",
    "\n",
    "<details>\n",
    "    <summary>Need a hint?</summary>\n",
    "    There is a p in specificity, therefore there are no p's in the calculation: TN/N\n",
    "</details>"
   ]
  },
  {
   "cell_type": "code",
   "execution_count": null,
   "metadata": {},
   "outputs": [],
   "source": []
  },
  {
   "cell_type": "code",
   "execution_count": null,
   "metadata": {},
   "outputs": [],
   "source": []
  }
 ],
 "metadata": {
  "kernelspec": {
   "display_name": "Python 3",
   "language": "python",
   "name": "python3"
  },
  "language_info": {
   "codemirror_mode": {
    "name": "ipython",
    "version": 3
   },
   "file_extension": ".py",
   "mimetype": "text/x-python",
   "name": "python",
   "nbconvert_exporter": "python",
   "pygments_lexer": "ipython3",
   "version": "3.7.3"
  }
 },
 "nbformat": 4,
 "nbformat_minor": 2
}
