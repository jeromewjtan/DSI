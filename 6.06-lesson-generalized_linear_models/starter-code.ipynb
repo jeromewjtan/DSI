{
 "cells": [
  {
   "cell_type": "markdown",
   "metadata": {},
   "source": [
    "<img src=\"http://imgur.com/1ZcRyrc.png\" style=\"float: left; margin: 20px; height: 55px\">\n",
    "\n",
    "## Generalized Linear Models\n",
    "\n",
    "_Authors: Tim Book, Justin Pounders (ATL), Matt Brems_\n",
    "\n",
    "### Learning Objectives\n",
    "*After this lesson, students will be able to:*\n",
    "\n",
    "1. Describe generalized linear models.\n",
    "2. Fit Poisson and Gamma regression models in `statsmodels`.\n",
    "3. Interpret coefficients from Poisson and Gamma regression models.\n",
    "4. Describe iteratively reweighted least squares."
   ]
  },
  {
   "cell_type": "code",
   "execution_count": 2,
   "metadata": {},
   "outputs": [],
   "source": [
    "import numpy as np\n",
    "import pandas as pd\n",
    "import statsmodels.api as sm\n",
    "\n",
    "import matplotlib.pyplot as plt\n",
    "%matplotlib inline"
   ]
  },
  {
   "cell_type": "markdown",
   "metadata": {},
   "source": [
    "## Why linear models?\n",
    "\n",
    "So far, we've learned about a lot of different models:\n",
    "- linear regression\n",
    "- logistic regression\n",
    "- $k$-nearest neighbors\n",
    "- Naive Bayes models\n",
    "- decision trees\n",
    "- bagged tree models\n",
    "- boosted tree models\n",
    "- support vector machines\n",
    "\n",
    "<details><summary>Why might we choose to fit a linear or logistic regression model instead of a different type of model?</summary>\n",
    "    \n",
    "- Linear and logistic regression models are very interpretable.\n",
    "- We can easily quantify the effect of a one-unit change in the independent variables on the dependent variable.\n",
    "- Because they make so many assumptions, these tend to be simpler models (and thus have lower variance) than other models.\n",
    "</details>\n",
    "\n",
    "### Assumptions of a Linear Regression Model\n",
    "When fitting a linear regression model, there are five assumptions we make:\n",
    "- Linearity (of Y and $X_i$)\n",
    "- Independence (of errors)\n",
    "- Normality (of errors)\n",
    "- Equality of Variance (of errors)\n",
    "- Independence (of our independent variables)\n",
    "\n",
    "## Rewriting the Linear Regression Model\n",
    "\n",
    "$$\n",
    "\\begin{eqnarray*}\n",
    "Y_i &=& \\beta_0 + \\beta_1X_{1i} + \\beta_2X_{2i} + \\cdots + \\beta_pX_{pi} + \\varepsilon_i \\\\\n",
    "\\varepsilon_i &\\sim& N(0, \\sigma) \\\\\n",
    "\\end{eqnarray*}\n",
    "$$\n",
    "\n",
    "Visually, we get this:\n",
    "![](./images/normal_linear_model.jpg)\n",
    "\n",
    "Rather than write these in two lines, we can combine them into one line:\n",
    "$$\n",
    "\\begin{eqnarray*}\n",
    "\\Rightarrow Y_i &\\sim& N\\Big(\\beta_0 + \\beta_1X_{1i} + \\beta_2X_{2i} + \\cdots + \\beta_pX_{pi}, \\sigma\\Big) \\\\\n",
    "\\end{eqnarray*}\n",
    "$$\n",
    "\n",
    "We can interpret this as:\n",
    "> \"Our observations $Y_i$ follow a Normal distribution with mean $\\beta_0 + \\beta_1X_{1i} + \\beta_2X_{2i} + \\cdots + \\beta_pX_{pi}$ and standard deviation $\\sigma$.\""
   ]
  },
  {
   "cell_type": "markdown",
   "metadata": {},
   "source": [
    "## Rewriting the Logistic Regression Model\n",
    "\n",
    "---\n",
    "\n",
    "<details><summary>The above model was a pretty poor model for binary data. Why?</summary>\n",
    "\n",
    "- We would predict values outside of [0,1].\n",
    "</details>\n",
    "\n",
    "\n",
    "<details><summary>Previously, when have we used the Bernoulli distribution?</summary>\n",
    "\n",
    "- We used the Bernoulli distribution to model binary outcomes (success/failure) with a fixed probability of success.\n",
    "- We can use the Bernoulli distribution to model whether or not one coin flips heads, whether or not one person contracts a disease, or whether or not I eat a burrito today.\n",
    "</details>\n",
    "\n",
    "It might make sense that we can rewrite our logistic regression model in the context of the Bernoulli distribution (just like we did with a linear regression model and the Normal distribution)!\n",
    "\n",
    "We can rewrite that as:\n",
    "$$\n",
    "\\begin{eqnarray*}\n",
    "Y_i &\\sim& Bernoulli(\\pi_i) \\\\\n",
    "\\pi_i &=& logit^{-1}(\\beta_0 + \\beta_1X_{1i} + \\beta_2X_{2i} + \\cdots + \\beta_pX_{pi})\n",
    "\\end{eqnarray*}\n",
    "$$\n",
    "\n",
    "\n",
    "Or, in one line:\n",
    "$$\n",
    "\\begin{eqnarray*}\n",
    "Y_i &\\sim& Bernoulli\\Big(logit^{-1}(\\beta_0 + \\beta_1X_{1i} + \\beta_2X_{2i} + \\cdots + \\beta_pX_{pi})\\Big) \\\\\n",
    "\\end{eqnarray*}\n",
    "$$\n",
    "\n",
    "Note that \"$logit^{-1}$\" is the inverse logit function; you may remember that the logit function was used to bend the \"line of best fit\" to only make predictions between 0 and 1."
   ]
  },
  {
   "cell_type": "markdown",
   "metadata": {},
   "source": [
    "## Generalized Linear Models (GLMs)\n",
    "\n",
    "**Generalized linear models** describes all models that take the linear regression model and generalizes it to different situations.\n",
    "\n",
    "- It's not always appropriate for our predictions $\\hat{y}$ to range from $(-\\infty, \\infty)$.\n",
    "\n",
    "All GLMs will have three components:\n",
    "- Linear\n",
    "- Link\n",
    "- Random\n",
    "\n",
    "### The Linear Component (aka \"Systematic Component\")\n",
    "The **linear component** will always be the linear formula $\\beta_0 + \\beta_1X_1 + \\cdots + \\beta_pX_p$.\n",
    "- This ensures that every GLM will have some interpretation for a one-unit increase in each independent variable.\n",
    "<details><summary>By the way...</summary>\n",
    "    Many students have confused the term \"linear model\" with \"no exponentiated terms\" - which is wrong. If you include $x_1$ and $x_1^2$ in your model, it's still a linear model, since we can just write $x_2 = x_1^2$. The term <b>linear model</b> comes from the fact that we can always write this systematic component using vectors like $\\mathbf{x}^T\\beta$\n",
    "</details>\n",
    "\n",
    "### The Link Function\n",
    "The **link function** will transform the linear component into the range of interest.\n",
    "- In logistic regression, we use the **logit function** as the link function, which ensures our predictions are between 0 and 1. However it's not the only choice. We can use the **probit function**, which is the inverse standard normal CDF.\n",
    "- In linear regression, the **identity function** is the link function. (i.e. $f(x) = x$)\n",
    "- The link function is what determines how we interpret a one-unit change in each independent variable!\n",
    "\n",
    "The linear and link component generate $\\hat{Y}_i$ for us. \n",
    "\n",
    "![](../images/log_reg.png)\n",
    "\n",
    "### The Random Component\n",
    "The **random component** connects our predictions $\\hat{Y}_i$ to our observed values $Y_i$ by using a statistical distribution to model our errors. It's \"random\" because it controls what the noise of our model looks like.\n",
    "- In linear regression, the linear and link function predict the line of best fit. However, our observed values aren't always on the line; they're Normally distributed around the line.\n",
    "    * For ordinary least squares linear regression, we use the **normal distribution** for our random component.\n",
    "- In logistic regression, the linear and link function predict a probability for us. However, our observed values are 1s and 0s. By saying $Y_i \\sim \\text{Bernoulli}(\\pi_i)$, we note that our $Y_i$ will be 1s and 0s that are drawn from a $\\text{Bernoulli}(\\pi_i)$ distribution with some predicted value between 0 and 1.\n",
    "    * For logistic regression, we use the **Bernoulli distribution** for our random component\n",
    "\n",
    "To summarize:\n",
    "- The linear component will always be $\\beta_0 + \\beta_1X_1 + \\cdots + \\beta_pX_p$.\n",
    "- The link function will bend the linear component to match the desired range of values.\n",
    "- The random component makes the connection from our predictions to our observed values by summarizing the errors.\n",
    "\n",
    "## Linear and logistic regression models aren't the only GLMs out there!\n",
    "\n",
    "We can use all sorts of probability distributions to build out linear models. These linear models still retain the same benefits of linear and logistic regression (i.e. interpretable, can quantify the effect on Y of a one-unit increase in X) but also can model $Y$ variables that aren't just limited to $(-\\infty, +\\infty)$ or $[0, 1]$.\n",
    "\n",
    "---\n",
    "\n",
    "<details><summary>What distribution would you use to model the number of people who drive on the Pennsylvania turnpike (toll road) in the weekend before a holiday? </summary>\n",
    "\n",
    "- Since the number of people passing through a toll road is countable, we would want to use a discrete distribution.\n",
    "- Since we can't have a negative number of people passing through a toll road, we would want to use a discrete distribution that can take on only the values of 0, 1, 2, 3, $\\ldots$\n",
    "- Two good distributions for this would be the [Poisson distribution](https://en.wikipedia.org/wiki/Poisson_distribution) or the [Negative Binomial distribution](https://en.wikipedia.org/wiki/Negative_binomial_distribution)!\n",
    "- You can see more about these distributions [here](https://seeing-theory.brown.edu/probability-distributions/index.html#section2).\n",
    "- [Wikipedia article for toll roads](https://en.wikipedia.org/wiki/Toll_road).\n",
    "</details>\n",
    "\n",
    "---\n",
    "\n",
    "<details><summary>What distribution would you use to model the amount of time until your Lyft shows up?</summary>\n",
    "\n",
    "- Since the amount of time until your Lyft shows up is uncountably infinite, we would want to use a continuous distribution.\n",
    "- Since we can't wait a negative amount of time, we should use a continuous distribution that can only take on the values of $[0, \\infty)$.\n",
    "- The Gamma distribution is going to be \n",
    "</details>"
   ]
  },
  {
   "cell_type": "markdown",
   "metadata": {},
   "source": [
    "## The `statsmodels` API\n",
    "\n",
    "We will use the `statsmodels` API to explore GLMs in Python.  (`sklearn` does not have a robust implementation for GLMs.)  Documentation and examples for `statsmodels` can be found [here](http://www.statsmodels.org/stable/generated/statsmodels.genmod.generalized_linear_model.GLM.html#statsmodels.genmod.generalized_linear_model.GLM)."
   ]
  },
  {
   "cell_type": "markdown",
   "metadata": {
    "scrolled": false
   },
   "source": [
    "When we fit a model in `statsmodels`, we need to add the column of 1s so that we can have an intercept. `statsmodels` will not automatically add an intercept for us."
   ]
  },
  {
   "cell_type": "markdown",
   "metadata": {},
   "source": [
    "## Poisson Regression\n",
    "\n",
    "**When do we use it?** When we want to model something on the $\\{0,1,2,\\ldots\\}$ range... like number of cars on through a toll road, number of objects sold or number of awards earned!\n",
    "\n",
    "<img src=\"./images/poisson_model.png\" alt=\"poisson_model\" width=\"400\"/>\n",
    "\n",
    "#### Data\n",
    "We'll rely on UCLA's IDRE module.  This one can be found [here](https://stats.idre.ucla.edu/r/dae/poisson-regression/).\n",
    "\n",
    "#### Data Description\n",
    "_The number of awards earned by students at one high school. Predictors of the number of awards earned include the type of program in which the student was enrolled (e.g., vocational, general or academic) and the score on their final exam in math._"
   ]
  },
  {
   "cell_type": "code",
   "execution_count": 3,
   "metadata": {},
   "outputs": [],
   "source": [
    "# Read in data.\n",
    "award = pd.read_csv(\"https://stats.idre.ucla.edu/stat/data/poisson_sim.csv\")"
   ]
  },
  {
   "cell_type": "code",
   "execution_count": 7,
   "metadata": {},
   "outputs": [
    {
     "data": {
      "text/html": [
       "<div>\n",
       "<style scoped>\n",
       "    .dataframe tbody tr th:only-of-type {\n",
       "        vertical-align: middle;\n",
       "    }\n",
       "\n",
       "    .dataframe tbody tr th {\n",
       "        vertical-align: top;\n",
       "    }\n",
       "\n",
       "    .dataframe thead th {\n",
       "        text-align: right;\n",
       "    }\n",
       "</style>\n",
       "<table border=\"1\" class=\"dataframe\">\n",
       "  <thead>\n",
       "    <tr style=\"text-align: right;\">\n",
       "      <th></th>\n",
       "      <th>id</th>\n",
       "      <th>num_awards</th>\n",
       "      <th>prog</th>\n",
       "      <th>math</th>\n",
       "    </tr>\n",
       "  </thead>\n",
       "  <tbody>\n",
       "    <tr>\n",
       "      <td>0</td>\n",
       "      <td>45</td>\n",
       "      <td>0</td>\n",
       "      <td>3</td>\n",
       "      <td>41</td>\n",
       "    </tr>\n",
       "    <tr>\n",
       "      <td>1</td>\n",
       "      <td>108</td>\n",
       "      <td>0</td>\n",
       "      <td>1</td>\n",
       "      <td>41</td>\n",
       "    </tr>\n",
       "    <tr>\n",
       "      <td>2</td>\n",
       "      <td>15</td>\n",
       "      <td>0</td>\n",
       "      <td>3</td>\n",
       "      <td>44</td>\n",
       "    </tr>\n",
       "    <tr>\n",
       "      <td>3</td>\n",
       "      <td>67</td>\n",
       "      <td>0</td>\n",
       "      <td>3</td>\n",
       "      <td>42</td>\n",
       "    </tr>\n",
       "    <tr>\n",
       "      <td>4</td>\n",
       "      <td>153</td>\n",
       "      <td>0</td>\n",
       "      <td>3</td>\n",
       "      <td>40</td>\n",
       "    </tr>\n",
       "  </tbody>\n",
       "</table>\n",
       "</div>"
      ],
      "text/plain": [
       "    id  num_awards  prog  math\n",
       "0   45           0     3    41\n",
       "1  108           0     1    41\n",
       "2   15           0     3    44\n",
       "3   67           0     3    42\n",
       "4  153           0     3    40"
      ]
     },
     "execution_count": 7,
     "metadata": {},
     "output_type": "execute_result"
    }
   ],
   "source": [
    "# Check first five rows.\n",
    "award.head()"
   ]
  },
  {
   "cell_type": "code",
   "execution_count": 6,
   "metadata": {},
   "outputs": [
    {
     "data": {
      "image/png": "[encoded data removed]",
      "text/plain": [
       "<Figure size 432x288 with 1 Axes>"
      ]
     },
     "metadata": {},
     "output_type": "display_data"
    }
   ],
   "source": [
    "# Plot a scatterplot of math vs. number of awards\n",
    "plt.scatter(award['math'], award['num_awards']);"
   ]
  },
  {
   "cell_type": "code",
   "execution_count": 8,
   "metadata": {},
   "outputs": [
    {
     "data": {
      "text/plain": [
       "<matplotlib.axes._subplots.AxesSubplot at 0x26330c71e48>"
      ]
     },
     "execution_count": 8,
     "metadata": {},
     "output_type": "execute_result"
    },
    {
     "data": {
      "image/png": "[encoded data removed]",
      "text/plain": [
       "<Figure size 432x288 with 1 Axes>"
      ]
     },
     "metadata": {},
     "output_type": "display_data"
    }
   ],
   "source": [
    "# Plot distribution of awards by program.\n",
    "award.boxplot('num_awards', by='prog')"
   ]
  },
  {
   "cell_type": "markdown",
   "metadata": {},
   "source": [
    "<details><summary>What might we infer from this plot?</summary>\n",
    "\n",
    "- `prog` is definitely not linearly related to the number of awards one receives.\n",
    "- `prog` looks like a categorical variable.\n",
    "- I am aware of this. I'm going to suspend that knowledge for the sake of example.\n",
    "</details>"
   ]
  },
  {
   "cell_type": "code",
   "execution_count": 13,
   "metadata": {
    "scrolled": false
   },
   "outputs": [
    {
     "name": "stderr",
     "output_type": "stream",
     "text": [
      "C:\\ProgramData\\Anaconda3\\lib\\site-packages\\numpy\\core\\fromnumeric.py:2495: FutureWarning: Method .ptp is deprecated and will be removed in a future version. Use numpy.ptp instead.\n",
      "  return ptp(axis=axis, out=out, **kwargs)\n"
     ]
    }
   ],
   "source": [
    "# Set up X.\n",
    "award_dummy = pd.get_dummies(columns=['prog'], data=award, drop_first=True)\n",
    "poi_vars = ['prog_2', 'prog_3', 'math']\n",
    "award_dummy.head()\n",
    "X = sm.add_constant(award_dummy[poi_vars])"
   ]
  },
  {
   "cell_type": "code",
   "execution_count": 14,
   "metadata": {},
   "outputs": [],
   "source": [
    "# Set up y.\n",
    "y = award['num_awards']"
   ]
  },
  {
   "cell_type": "code",
   "execution_count": 16,
   "metadata": {},
   "outputs": [],
   "source": [
    "# Fit model.\n",
    "glm_poi = sm.GLM(y,X,\n",
    "                family = sm.families.Poisson(link = sm.families.links.log)).fit()\n",
    "\n",
    "# In statsmodels, y is the first argument.\n",
    "# In statsmodels, X is the second argument."
   ]
  },
  {
   "cell_type": "code",
   "execution_count": 17,
   "metadata": {},
   "outputs": [
    {
     "data": {
      "text/html": [
       "<table class=\"simpletable\">\n",
       "<caption>Generalized Linear Model Regression Results</caption>\n",
       "<tr>\n",
       "  <th>Dep. Variable:</th>     <td>num_awards</td>    <th>  No. Observations:  </th>  <td>   200</td>  \n",
       "</tr>\n",
       "<tr>\n",
       "  <th>Model:</th>                 <td>GLM</td>       <th>  Df Residuals:      </th>  <td>   196</td>  \n",
       "</tr>\n",
       "<tr>\n",
       "  <th>Model Family:</th>        <td>Poisson</td>     <th>  Df Model:          </th>  <td>     3</td>  \n",
       "</tr>\n",
       "<tr>\n",
       "  <th>Link Function:</th>         <td>log</td>       <th>  Scale:             </th> <td>  1.0000</td> \n",
       "</tr>\n",
       "<tr>\n",
       "  <th>Method:</th>               <td>IRLS</td>       <th>  Log-Likelihood:    </th> <td> -182.75</td> \n",
       "</tr>\n",
       "<tr>\n",
       "  <th>Date:</th>           <td>Mon, 09 Dec 2019</td> <th>  Deviance:          </th> <td>  189.45</td> \n",
       "</tr>\n",
       "<tr>\n",
       "  <th>Time:</th>               <td>11:31:53</td>     <th>  Pearson chi2:      </th>  <td>  212.</td>  \n",
       "</tr>\n",
       "<tr>\n",
       "  <th>No. Iterations:</th>         <td>5</td>        <th>  Covariance Type:   </th> <td>nonrobust</td>\n",
       "</tr>\n",
       "</table>\n",
       "<table class=\"simpletable\">\n",
       "<tr>\n",
       "     <td></td>       <th>coef</th>     <th>std err</th>      <th>z</th>      <th>P>|z|</th>  <th>[0.025</th>    <th>0.975]</th>  \n",
       "</tr>\n",
       "<tr>\n",
       "  <th>const</th>  <td>   -5.2471</td> <td>    0.658</td> <td>   -7.969</td> <td> 0.000</td> <td>   -6.538</td> <td>   -3.957</td>\n",
       "</tr>\n",
       "<tr>\n",
       "  <th>prog_2</th> <td>    1.0839</td> <td>    0.358</td> <td>    3.025</td> <td> 0.002</td> <td>    0.382</td> <td>    1.786</td>\n",
       "</tr>\n",
       "<tr>\n",
       "  <th>prog_3</th> <td>    0.3698</td> <td>    0.441</td> <td>    0.838</td> <td> 0.402</td> <td>   -0.495</td> <td>    1.234</td>\n",
       "</tr>\n",
       "<tr>\n",
       "  <th>math</th>   <td>    0.0702</td> <td>    0.011</td> <td>    6.619</td> <td> 0.000</td> <td>    0.049</td> <td>    0.091</td>\n",
       "</tr>\n",
       "</table>"
      ],
      "text/plain": [
       "<class 'statsmodels.iolib.summary.Summary'>\n",
       "\"\"\"\n",
       "                 Generalized Linear Model Regression Results                  \n",
       "==============================================================================\n",
       "Dep. Variable:             num_awards   No. Observations:                  200\n",
       "Model:                            GLM   Df Residuals:                      196\n",
       "Model Family:                 Poisson   Df Model:                            3\n",
       "Link Function:                    log   Scale:                          1.0000\n",
       "Method:                          IRLS   Log-Likelihood:                -182.75\n",
       "Date:                Mon, 09 Dec 2019   Deviance:                       189.45\n",
       "Time:                        11:31:53   Pearson chi2:                     212.\n",
       "No. Iterations:                     5   Covariance Type:             nonrobust\n",
       "==============================================================================\n",
       "                 coef    std err          z      P>|z|      [0.025      0.975]\n",
       "------------------------------------------------------------------------------\n",
       "const         -5.2471      0.658     -7.969      0.000      -6.538      -3.957\n",
       "prog_2         1.0839      0.358      3.025      0.002       0.382       1.786\n",
       "prog_3         0.3698      0.441      0.838      0.402      -0.495       1.234\n",
       "math           0.0702      0.011      6.619      0.000       0.049       0.091\n",
       "==============================================================================\n",
       "\"\"\""
      ]
     },
     "execution_count": 17,
     "metadata": {},
     "output_type": "execute_result"
    }
   ],
   "source": [
    "# Generate summary of model.\n",
    "glm_poi.summary()"
   ]
  },
  {
   "cell_type": "markdown",
   "metadata": {},
   "source": [
    "#### Interpreting Poisson Coefficients\n",
    "\n",
    "Because of the log link function, we interpret a one-unit increase in $X_i$ as follows:\n",
    "\n",
    "\"As $X_i$ increases by 1, I expect $Y$ to increase by a factor of $e^{\\beta_1}$.\""
   ]
  },
  {
   "cell_type": "code",
   "execution_count": 18,
   "metadata": {},
   "outputs": [
    {
     "data": {
      "text/plain": [
       "1.072722704342061"
      ]
     },
     "execution_count": 18,
     "metadata": {},
     "output_type": "execute_result"
    }
   ],
   "source": [
    "np.exp(0.0702)"
   ]
  },
  {
   "cell_type": "code",
   "execution_count": 20,
   "metadata": {},
   "outputs": [
    {
     "data": {
      "text/plain": [
       "2.9561862247436466"
      ]
     },
     "execution_count": 20,
     "metadata": {},
     "output_type": "execute_result"
    }
   ],
   "source": [
    "np.exp(1.0839)"
   ]
  },
  {
   "cell_type": "markdown",
   "metadata": {},
   "source": [
    "**Example**: For a one-unit increase in `math`, I expect to win $e^{0.0702} \\approx 1.07$ times as many awards."
   ]
  },
  {
   "cell_type": "markdown",
   "metadata": {
    "collapsed": true
   },
   "source": [
    "<details><summary>How would you interpret `prog_2`?</summary>\n",
    "    If you are in Program 2, I expect to win $e^{1.0839} \\approx 3$ times as many awards as if you were in Program 1.\n",
    "</details>"
   ]
  },
  {
   "cell_type": "markdown",
   "metadata": {
    "collapsed": true
   },
   "source": [
    "## Gamma Regression\n",
    "\n",
    "**When do we use it?** When we want to model something on the $[0,\\infty)$ range... like time until some event occurs!\n",
    "\n",
    "### The Data\n",
    "The data used from this example come from a 1945 study about and is inspired by [Peter Craigmile's use](http://www.craigmile.com/peter/teaching/7430/notes/7_gamma_influence.pdf) of this example.\n",
    "\n",
    "**Data Description:** _“Hurn, et al. (1945) published data on the clotting time of blood, giving clotting time in seconds for normal plasma diluted to nine different percentage concentrations with prothrombin-free plasma; clotting was induced by two lots of thromboplastin.” [McCullagh and Nelder](http://www.utstat.toronto.edu/~brunner/oldclass/2201s11/readings/glmbook.pdf)_"
   ]
  },
  {
   "cell_type": "code",
   "execution_count": null,
   "metadata": {},
   "outputs": [],
   "source": [
    "# Read data in.\n",
    "clot = pd.read_csv(\"datasets/clotting.csv\", index_col=\"index\")"
   ]
  },
  {
   "cell_type": "code",
   "execution_count": null,
   "metadata": {},
   "outputs": [],
   "source": [
    "# Check the first five rows."
   ]
  },
  {
   "cell_type": "code",
   "execution_count": null,
   "metadata": {},
   "outputs": [],
   "source": [
    "# Generate a boxplot of clot_time group by lot."
   ]
  },
  {
   "cell_type": "code",
   "execution_count": null,
   "metadata": {},
   "outputs": [],
   "source": [
    "# Plot plasma_pct against clot_time."
   ]
  },
  {
   "cell_type": "code",
   "execution_count": null,
   "metadata": {},
   "outputs": [],
   "source": [
    "# Set up X.\n",
    "X = \n",
    "\n",
    "# Set up y.\n",
    "y = "
   ]
  },
  {
   "cell_type": "code",
   "execution_count": null,
   "metadata": {},
   "outputs": [],
   "source": [
    "# Fit model.\n",
    "# NOTE: For prediction purposes, the inverse link might actually be best (it's the \"canonical link\")\n",
    "# but the log link allows us to interpret our coefficients.\n",
    "\n",
    "# In statsmodels, y is the first argument.\n",
    "# In statsmodels, X is the second argument."
   ]
  },
  {
   "cell_type": "code",
   "execution_count": null,
   "metadata": {},
   "outputs": [],
   "source": [
    "# Generate summary of model."
   ]
  },
  {
   "cell_type": "markdown",
   "metadata": {},
   "source": [
    "#### Interpreting Gamma Coefficients\n",
    "\n",
    "Because of the log link function (again!), we interpret a one-unit increase in $X_i$ as follows:\n",
    "\n",
    "\"As $X_i$ increases by 1, I expect $Y$ to increase by a factor of $e^{\\beta_1}$.\""
   ]
  },
  {
   "cell_type": "code",
   "execution_count": null,
   "metadata": {},
   "outputs": [],
   "source": [
    "# Exponentiate our coefficient."
   ]
  },
  {
   "cell_type": "markdown",
   "metadata": {},
   "source": [
    "**Example**: For a one-unit increase in `plasma_pct`, I expect the blood will take $e^{-0.0156} \\approx 26\\%$ as much time to clot."
   ]
  },
  {
   "cell_type": "markdown",
   "metadata": {},
   "source": [
    "---\n",
    "## Iteratively Reweighted Least Squares\n",
    "\n",
    "When fitting an OLS regression model, we can find our best values for $\\beta$ by solving $\\hat{\\pmb\\beta} = (X^TX)^{-1}X^Ty$.\n",
    "\n",
    "GLMs are typically not \"directly solvable.\" There is [no closed-form solution](http://mathworld.wolfram.com/Closed-FormSolution.html) for generalized linear models!\n",
    "- This includes logistic regression!\n",
    "\n",
    "#### How does the algorithm work?\n",
    "An algorithm called \"iteratively reweighted least squares\" [has been shown](http://www.utstat.toronto.edu/~brunner/oldclass/2201s11/readings/glmbook.pdf) is \"easy\" to implement in a computer.\n",
    "- A solution is initially guessed, then iteratively refined until we converge on an answer.\n",
    "- IRLS is a special cause of a **gradient descent algorithm**. We'll learn about gradient descent tomorrow.\n",
    "\n",
    "$$\n",
    "\\begin{eqnarray*}\n",
    "\\hat{\\pmb\\beta}_{[1]} &=& (X^TW_1X)^{-1}X^TW_1y \\\\\n",
    "\\Rightarrow \\hat{\\pmb\\beta}_{[2]} &=& (X^TW_2X)^{-1}X^TW_2y \\\\\n",
    "\\Rightarrow \\hat{\\pmb\\beta}_{[3]} &=& (X^TW_3X)^{-1}X^TW_3y \\\\\n",
    "\\Rightarrow \\hat{\\pmb\\beta}_{[4]} &=& (X^TW_4X)^{-1}X^TW_4y \\\\\n",
    "\\Rightarrow \\hat{\\pmb\\beta}_{[5]} &=& (X^TW_5X)^{-1}X^TW_5y \\\\\n",
    "&\\vdots& \\\\\n",
    "\\Rightarrow \\hat{\\pmb\\beta}_{[99]} &=& (X^TW_{99}X)^{-1}X^TW_{99}y \\\\\n",
    "\\Rightarrow \\hat{\\pmb\\beta}_{[100]} &=& (X^TW_{100}X)^{-1}X^TW_{100}y \\\\\n",
    "\\end{eqnarray*}\n",
    "$$\n",
    "\n",
    "- At each step (\"iteration\"), these weights will change. (\"reweighted\")\n",
    "\n",
    "The default maximum number of iterations for GLMs in `statsmodels` is 100. \n",
    "- If `No. Iterations` is less than 100, that means the algorithm probably converged.\n",
    "- If `No. Iterations` is 100, that means the algorithm probably didn't converge and that the $\\mathbf{\\hat{\\beta}}$ are still changing. Therefore, **your output is unreliable - DO NOT USE IT**. It could also give some information on the \"flatness\" of your error function. Even more than 20 iterations is sketchy.\n",
    "\n",
    "There are potential pitfalls to this algorithm (some of which we'll cover later). However, what you should know:\n",
    "- If you get a `ConvergenceWarning` or any indication that your number of iterations is large, that means that your model did not fit properly and that you should not rely on the results!\n",
    "\n",
    "---"
   ]
  },
  {
   "cell_type": "code",
   "execution_count": null,
   "metadata": {},
   "outputs": [],
   "source": [
    "# Did our results converge?\n",
    "results.converged"
   ]
  },
  {
   "cell_type": "markdown",
   "metadata": {},
   "source": [
    "## Summary\n",
    "Today, we:\n",
    "* Learned how to generalize two models we already knew (linear and logistic regression) into a borader category of models (GLMs)\n",
    "* Refamiliarized ourselves with the `statsmodels` API\n",
    "* Learned the components of GLMs, and how to customize them with `statsmodels`:\n",
    "    - Systematic/linear component, ie, our choice of x-variables\n",
    "    - Link function - a function we choose to \"bend\" our response to our y-variable\n",
    "    - Random component - The distribution that represents the data-generation process for our y-variable\n",
    "* Two new linear models:\n",
    "    - **Poisson regression** - For when your y-variable is Poisson distributed. Most commonly used for _count data_.\n",
    "        - e.g. Predicting how many children a couple will have based on age and income\n",
    "    - **Gamma regression** - For when your y-variable is Gamma distributed. Most commonly used for _waiting-time data_.\n",
    "        - e.g. Predicting how long your phone's battery will last based on screentime use"
   ]
  },
  {
   "cell_type": "markdown",
   "metadata": {},
   "source": [
    "![](images/glm-sheet.png)"
   ]
  },
  {
   "cell_type": "markdown",
   "metadata": {},
   "source": [
    "---\n",
    "\n",
    "## Picking other GLMs (BONUS)\n",
    "\n",
    "Chosing the right kind of generalized linear model (GLM) from all possibilities really boils down to picking the \"error.\"\n",
    "\n",
    "The \"error\" model is really telling you how you expect observations to be distributed.  It is a probability distribution.\n",
    "\n",
    "> 1. In traditional linear regression, the error term is a normal distribution.  This means that you expect actual observations to be normally distributed around your line.\n",
    "\n",
    "> 2. In logistic regression, the error term is a Bernoulli distribution.  This means that you expect actual observations to be above (1) or below (0) the logit curve with a certain probability.\n",
    "\n",
    "Choosing the distribution function often points to a link function you should use: [here is a table](https://en.wikipedia.org/wiki/Generalized_linear_model#Link_function).\n",
    "\n",
    "Examples:\n",
    "\n",
    "1. If $Y$ is a non-negative integer:\n",
    "   - Poisson regression if mean $\\approx$ variance\n",
    "   - Negative Binomial regression if variance $\\gg$ mean (overdisperse)\n",
    "   - For example,\n",
    "     - Units sold\n",
    "     - Customers through the door\n",
    "     - Patients to the ER\n",
    "     - Number of cars racing the red light\n",
    "2. If $Y$ values represent categories\n",
    "   - Multinomial logistic regression (unordered categories)\n",
    "   - Ordinal logstic regression (ordered categories)\n",
    "   - For example,\n",
    "     - Does a population tend to buy groceries at Whole Foods, Publix or Kroger?\n",
    "     - Will millenials vote democrat, republican or independent?\n",
    "     - Predicting the Amazon star rating of books.\n",
    "3. If $Y$ values are continuous, non-negative\n",
    "   - Gamma regression\n",
    "   - For example,\n",
    "     - How long before my Uber/Lyft gets here?\n",
    "     - Home prices"
   ]
  },
  {
   "cell_type": "markdown",
   "metadata": {},
   "source": [
    "## Analysis of Deviance (BONUS)\n",
    "\n",
    "We've spoken briefly about deviance before as a generalization of the sums of squares of error for generalized linear models.\n",
    "\n",
    "Suppose we have two models:\n",
    "\n",
    "$$\n",
    "\\begin{eqnarray*}\n",
    "Y_{full} &=& \\beta_0 + \\beta_1X_1 + \\cdots + \\beta_kX_k + \\cdots + \\beta_pX_p + \\varepsilon \\\\\n",
    "Y_{reduced} &=& \\beta_0 + \\beta_1X_1 + \\cdots + \\beta_kX_k + \\varepsilon\n",
    "\\end{eqnarray*}\n",
    "$$\n",
    "\n",
    "We say that $Y_{reduced}$ is nested in $Y_{full}$, because the reduced model could \"fit inside\" the full. (You can learn more about nested linear regression models [here](http://people.reed.edu/~jones/Courses/P24.pdf), although the ideas approximately hold for generalized linear models as well.)\n",
    "\n",
    "When we have one model nested inside the other, there is a statistical test to see if adding new variables are worth it. (Think about it like looking at the difference in mean squared error or $R^2$ by adding a variable, but getting a $p$-value quantifying whether or not it's worth it!)\n",
    "\n",
    "We calculate the **deviance** of the reduced model and subtract the **deviance** of the full model from it. This difference in deviance follows a [chi-squared distribution](https://en.wikipedia.org/wiki/Chi-squared_distribution) with $p-k$ degrees of freedom. (Note that $p-k$ indicates how many variables we took out of our full model to get to the reduced model!)\n",
    "\n",
    "**This comparison only works with nested models! Do not use if your models are not nested!**"
   ]
  },
  {
   "cell_type": "code",
   "execution_count": null,
   "metadata": {},
   "outputs": [],
   "source": [
    "# Test model differences\n",
    "from scipy.stats import chi2\n",
    "\n",
    "grad = pd.read_csv(\"https://stats.idre.ucla.edu/stat/data/binary.csv\")\n",
    "\n",
    "# First, build our top model\n",
    "indep_vars = ['gre', 'gpa', 'rank']\n",
    "X = sm.add_constant(grad[indep_vars])\n",
    "y = grad.admit\n",
    "\n",
    "glm_logit = sm.GLM(y, \n",
    "                   X,\n",
    "                   sm.families.Binomial(sm.families.links.logit))\n",
    "results_logit = glm_logit.fit()\n",
    "\n",
    "\n",
    "# Next, let's see if we can safely reduce our model\n",
    "reduced_vars = ['gre', 'gpa']\n",
    "X_reduced = sm.add_constant(grad[reduced_vars])\n",
    "\n",
    "results_reduced = sm.GLM(y,\n",
    "                 X_reduced,\n",
    "                 sm.families.Binomial(sm.families.links.logit)).fit()\n",
    "results_reduced.summary()\n",
    "\n",
    "\n",
    "# Calculate the difference in deviance\n",
    "D = results_reduced.deviance - results_logit.deviance\n",
    "print('Difference in Deviance: ', D)\n",
    "\n",
    "# Check to see if this difference is significant\n",
    "pval = 1 - chi2.cdf(D, df = 1)\n",
    "print('p-value of test of difference: ', pval) # What can we conclude here?"
   ]
  },
  {
   "cell_type": "markdown",
   "metadata": {},
   "source": [
    "$H_0:$ reduced model is better\n",
    "\n",
    "$H_A:$ reduced model is not better\n",
    "\n",
    "Because $p < \\alpha$, we reject $H_0$ and conclude that the reduced model is not better."
   ]
  }
 ],
 "metadata": {
  "anaconda-cloud": {},
  "kernelspec": {
   "display_name": "Python 3",
   "language": "python",
   "name": "python3"
  },
  "language_info": {
   "codemirror_mode": {
    "name": "ipython",
    "version": 3
   },
   "file_extension": ".py",
   "mimetype": "text/x-python",
   "name": "python",
   "nbconvert_exporter": "python",
   "pygments_lexer": "ipython3",
   "version": "3.6.5"
  }
 },
 "nbformat": 4,
 "nbformat_minor": 1
}
