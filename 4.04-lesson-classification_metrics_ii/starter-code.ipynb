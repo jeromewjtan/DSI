{
 "cells": [
  {
   "cell_type": "markdown",
   "metadata": {},
   "source": [
    "<img src=\"http://imgur.com/1ZcRyrc.png\" style=\"float: left; margin: 20px; height: 55px\">\n",
    "\n",
    "## Classification Metrics II\n",
    "\n",
    "Author: Matt Brems (DC), Dave Yerrington (SF)\n",
    "\n",
    "---\n",
    "\n",
    "### Learning Objectives\n",
    "- Describe the inverse relationship between sensitivity and specificity.\n",
    "- Construct the ROC curve.\n",
    "- Understand how ROC AUC is calculated and interpret ROC AUC.\n",
    "- Identify methods for handling unbalanced classes."
   ]
  },
  {
   "cell_type": "code",
   "execution_count": 1,
   "metadata": {},
   "outputs": [],
   "source": [
    "import numpy as np\n",
    "import pandas as pd\n",
    "import matplotlib.pyplot as plt\n",
    "\n",
    "%matplotlib inline"
   ]
  },
  {
   "cell_type": "code",
   "execution_count": 2,
   "metadata": {},
   "outputs": [],
   "source": [
    "# Read in data.\n",
    "df = pd.read_csv('datasets/Whickham.csv')"
   ]
  },
  {
   "cell_type": "code",
   "execution_count": 3,
   "metadata": {},
   "outputs": [
    {
     "data": {
      "text/html": [
       "<div>\n",
       "<style scoped>\n",
       "    .dataframe tbody tr th:only-of-type {\n",
       "        vertical-align: middle;\n",
       "    }\n",
       "\n",
       "    .dataframe tbody tr th {\n",
       "        vertical-align: top;\n",
       "    }\n",
       "\n",
       "    .dataframe thead th {\n",
       "        text-align: right;\n",
       "    }\n",
       "</style>\n",
       "<table border=\"1\" class=\"dataframe\">\n",
       "  <thead>\n",
       "    <tr style=\"text-align: right;\">\n",
       "      <th></th>\n",
       "      <th>outcome</th>\n",
       "      <th>smoker</th>\n",
       "      <th>age</th>\n",
       "    </tr>\n",
       "  </thead>\n",
       "  <tbody>\n",
       "    <tr>\n",
       "      <td>0</td>\n",
       "      <td>Alive</td>\n",
       "      <td>Yes</td>\n",
       "      <td>23</td>\n",
       "    </tr>\n",
       "    <tr>\n",
       "      <td>1</td>\n",
       "      <td>Alive</td>\n",
       "      <td>Yes</td>\n",
       "      <td>18</td>\n",
       "    </tr>\n",
       "    <tr>\n",
       "      <td>2</td>\n",
       "      <td>Dead</td>\n",
       "      <td>Yes</td>\n",
       "      <td>71</td>\n",
       "    </tr>\n",
       "    <tr>\n",
       "      <td>3</td>\n",
       "      <td>Alive</td>\n",
       "      <td>No</td>\n",
       "      <td>67</td>\n",
       "    </tr>\n",
       "    <tr>\n",
       "      <td>4</td>\n",
       "      <td>Alive</td>\n",
       "      <td>No</td>\n",
       "      <td>64</td>\n",
       "    </tr>\n",
       "  </tbody>\n",
       "</table>\n",
       "</div>"
      ],
      "text/plain": [
       "  outcome smoker  age\n",
       "0   Alive    Yes   23\n",
       "1   Alive    Yes   18\n",
       "2    Dead    Yes   71\n",
       "3   Alive     No   67\n",
       "4   Alive     No   64"
      ]
     },
     "execution_count": 3,
     "metadata": {},
     "output_type": "execute_result"
    }
   ],
   "source": [
    "# Check out first five rows.\n",
    "df.head()"
   ]
  },
  {
   "cell_type": "markdown",
   "metadata": {},
   "source": [
    "- `outcome`: Whether someone is alive or dead.\n",
    "- `smoker`: Whether somebody smoked or did not smoke.\n",
    "- `age`: Age in years."
   ]
  },
  {
   "cell_type": "code",
   "execution_count": 9,
   "metadata": {},
   "outputs": [],
   "source": [
    "def dead_or_alive(p):\n",
    "    if p=='Dead':\n",
    "        return 1\n",
    "    else:\n",
    "        return 0"
   ]
  },
  {
   "cell_type": "code",
   "execution_count": 10,
   "metadata": {},
   "outputs": [],
   "source": [
    "df['outcome_dummy_2'] = df['outcome'].map(dead_or_alive)"
   ]
  },
  {
   "cell_type": "code",
   "execution_count": 11,
   "metadata": {},
   "outputs": [
    {
     "data": {
      "text/plain": [
       "0    945\n",
       "1    369\n",
       "Name: outcome_dummy_2, dtype: int64"
      ]
     },
     "execution_count": 11,
     "metadata": {},
     "output_type": "execute_result"
    }
   ],
   "source": [
    "df.outcome_dummy_2.value_counts()"
   ]
  },
  {
   "cell_type": "code",
   "execution_count": 7,
   "metadata": {},
   "outputs": [],
   "source": [
    "# Create column with value 1 if dead and 0 if alive.\n",
    "df['outcome_dummy'] = [1 if i == 'Dead' else 0 for i in df['outcome']]"
   ]
  },
  {
   "cell_type": "code",
   "execution_count": 8,
   "metadata": {},
   "outputs": [
    {
     "data": {
      "text/plain": [
       "0    945\n",
       "1    369\n",
       "Name: outcome_dummy, dtype: int64"
      ]
     },
     "execution_count": 8,
     "metadata": {},
     "output_type": "execute_result"
    }
   ],
   "source": [
    "# Check the distribution of our outcome_dummy variable.\n",
    "df.outcome_dummy.value_counts()"
   ]
  },
  {
   "cell_type": "code",
   "execution_count": 6,
   "metadata": {},
   "outputs": [
    {
     "data": {
      "text/plain": [
       "Alive    945\n",
       "Dead     369\n",
       "Name: outcome, dtype: int64"
      ]
     },
     "execution_count": 6,
     "metadata": {},
     "output_type": "execute_result"
    }
   ],
   "source": [
    "# Confirm we created outcome_dummy properly.\n",
    "df.outcome.value_counts()"
   ]
  },
  {
   "cell_type": "code",
   "execution_count": 12,
   "metadata": {},
   "outputs": [
    {
     "data": {
      "text/plain": [
       "0    Yes\n",
       "1    Yes\n",
       "2    Yes\n",
       "3     No\n",
       "4     No\n",
       "Name: smoker, dtype: object"
      ]
     },
     "execution_count": 12,
     "metadata": {},
     "output_type": "execute_result"
    }
   ],
   "source": [
    "df.smoker.head()"
   ]
  },
  {
   "cell_type": "code",
   "execution_count": 13,
   "metadata": {},
   "outputs": [],
   "source": [
    "# Create column with value 1 if smoker and 0 if non-smoker.\n",
    "df['smoker_dummy'] = [1 if i=='Yes' else 0 for i in df['smoker']]"
   ]
  },
  {
   "cell_type": "code",
   "execution_count": 14,
   "metadata": {},
   "outputs": [
    {
     "data": {
      "text/plain": [
       "0    732\n",
       "1    582\n",
       "Name: smoker_dummy, dtype: int64"
      ]
     },
     "execution_count": 14,
     "metadata": {},
     "output_type": "execute_result"
    }
   ],
   "source": [
    "df.smoker_dummy.value_counts()"
   ]
  },
  {
   "cell_type": "code",
   "execution_count": 15,
   "metadata": {},
   "outputs": [
    {
     "data": {
      "text/plain": [
       "No     732\n",
       "Yes    582\n",
       "Name: smoker, dtype: int64"
      ]
     },
     "execution_count": 15,
     "metadata": {},
     "output_type": "execute_result"
    }
   ],
   "source": [
    "df.smoker.value_counts()"
   ]
  },
  {
   "cell_type": "markdown",
   "metadata": {},
   "source": [
    "One of the interesting things about this data is the relationship between age and smoking.\n",
    "- You can read more about it [here](https://www2.stat.duke.edu/courses/Spring08/sta103/whickham.pdf)."
   ]
  },
  {
   "cell_type": "code",
   "execution_count": 16,
   "metadata": {},
   "outputs": [],
   "source": [
    "# How do we usually account for a relationship in our independent variables?\n",
    "# independant variables = 'age', 'smoker_dummy'\n",
    "df['interaction'] = df['smoker_dummy']*df['age']"
   ]
  },
  {
   "cell_type": "code",
   "execution_count": 17,
   "metadata": {},
   "outputs": [
    {
     "data": {
      "text/html": [
       "<div>\n",
       "<style scoped>\n",
       "    .dataframe tbody tr th:only-of-type {\n",
       "        vertical-align: middle;\n",
       "    }\n",
       "\n",
       "    .dataframe tbody tr th {\n",
       "        vertical-align: top;\n",
       "    }\n",
       "\n",
       "    .dataframe thead th {\n",
       "        text-align: right;\n",
       "    }\n",
       "</style>\n",
       "<table border=\"1\" class=\"dataframe\">\n",
       "  <thead>\n",
       "    <tr style=\"text-align: right;\">\n",
       "      <th></th>\n",
       "      <th>outcome</th>\n",
       "      <th>smoker</th>\n",
       "      <th>age</th>\n",
       "      <th>outcome_dummy</th>\n",
       "      <th>outcome_dummy_2</th>\n",
       "      <th>smoker_dummy</th>\n",
       "      <th>interaction</th>\n",
       "    </tr>\n",
       "  </thead>\n",
       "  <tbody>\n",
       "    <tr>\n",
       "      <td>0</td>\n",
       "      <td>Alive</td>\n",
       "      <td>Yes</td>\n",
       "      <td>23</td>\n",
       "      <td>0</td>\n",
       "      <td>0</td>\n",
       "      <td>1</td>\n",
       "      <td>23</td>\n",
       "    </tr>\n",
       "    <tr>\n",
       "      <td>1</td>\n",
       "      <td>Alive</td>\n",
       "      <td>Yes</td>\n",
       "      <td>18</td>\n",
       "      <td>0</td>\n",
       "      <td>0</td>\n",
       "      <td>1</td>\n",
       "      <td>18</td>\n",
       "    </tr>\n",
       "    <tr>\n",
       "      <td>2</td>\n",
       "      <td>Dead</td>\n",
       "      <td>Yes</td>\n",
       "      <td>71</td>\n",
       "      <td>1</td>\n",
       "      <td>1</td>\n",
       "      <td>1</td>\n",
       "      <td>71</td>\n",
       "    </tr>\n",
       "    <tr>\n",
       "      <td>3</td>\n",
       "      <td>Alive</td>\n",
       "      <td>No</td>\n",
       "      <td>67</td>\n",
       "      <td>0</td>\n",
       "      <td>0</td>\n",
       "      <td>0</td>\n",
       "      <td>0</td>\n",
       "    </tr>\n",
       "    <tr>\n",
       "      <td>4</td>\n",
       "      <td>Alive</td>\n",
       "      <td>No</td>\n",
       "      <td>64</td>\n",
       "      <td>0</td>\n",
       "      <td>0</td>\n",
       "      <td>0</td>\n",
       "      <td>0</td>\n",
       "    </tr>\n",
       "  </tbody>\n",
       "</table>\n",
       "</div>"
      ],
      "text/plain": [
       "  outcome smoker  age  outcome_dummy  outcome_dummy_2  smoker_dummy  \\\n",
       "0   Alive    Yes   23              0                0             1   \n",
       "1   Alive    Yes   18              0                0             1   \n",
       "2    Dead    Yes   71              1                1             1   \n",
       "3   Alive     No   67              0                0             0   \n",
       "4   Alive     No   64              0                0             0   \n",
       "\n",
       "   interaction  \n",
       "0           23  \n",
       "1           18  \n",
       "2           71  \n",
       "3            0  \n",
       "4            0  "
      ]
     },
     "execution_count": 17,
     "metadata": {},
     "output_type": "execute_result"
    }
   ],
   "source": [
    "df.head()"
   ]
  },
  {
   "cell_type": "code",
   "execution_count": 29,
   "metadata": {},
   "outputs": [],
   "source": [
    "# Set up X and y.\n",
    "\n",
    "X = df[['age', 'interaction', 'smoker_dummy']]\n",
    "y = df['outcome_dummy']"
   ]
  },
  {
   "cell_type": "code",
   "execution_count": 30,
   "metadata": {},
   "outputs": [],
   "source": [
    "# Import train_test_split.\n",
    "from sklearn.model_selection import train_test_split\n",
    "\n",
    "# Conduct a train/test split.\n",
    "X_train, X_test, y_train, y_test = train_test_split(X,\n",
    "                                                    y,\n",
    "                                                    test_size = 0.25,\n",
    "                                                    random_state = 42)"
   ]
  },
  {
   "cell_type": "code",
   "execution_count": 31,
   "metadata": {},
   "outputs": [],
   "source": [
    "# Import Logistic Regression model.\n",
    "from sklearn.linear_model import LogisticRegression"
   ]
  },
  {
   "cell_type": "code",
   "execution_count": 32,
   "metadata": {},
   "outputs": [],
   "source": [
    "# Instantiate model.\n",
    "lr = LogisticRegression()"
   ]
  },
  {
   "cell_type": "code",
   "execution_count": 33,
   "metadata": {},
   "outputs": [
    {
     "name": "stderr",
     "output_type": "stream",
     "text": [
      "f:\\old_vd_laptop_backup__190804\\code\\fastai_v1\\lib\\site-packages\\sklearn\\linear_model\\logistic.py:432: FutureWarning: Default solver will be changed to 'lbfgs' in 0.22. Specify a solver to silence this warning.\n",
      "  FutureWarning)\n"
     ]
    },
    {
     "data": {
      "text/plain": [
       "LogisticRegression(C=1.0, class_weight=None, dual=False, fit_intercept=True,\n",
       "                   intercept_scaling=1, l1_ratio=None, max_iter=100,\n",
       "                   multi_class='warn', n_jobs=None, penalty='l2',\n",
       "                   random_state=None, solver='warn', tol=0.0001, verbose=0,\n",
       "                   warm_start=False)"
      ]
     },
     "execution_count": 33,
     "metadata": {},
     "output_type": "execute_result"
    }
   ],
   "source": [
    "# Fit model.\n",
    "lr.fit(X_train, y_train)"
   ]
  },
  {
   "cell_type": "markdown",
   "metadata": {},
   "source": [
    "- Read more about the solver [here](https://scikit-learn.org/stable/modules/generated/sklearn.linear_model.LogisticRegression.html)."
   ]
  },
  {
   "cell_type": "code",
   "execution_count": 28,
   "metadata": {},
   "outputs": [
    {
     "data": {
      "text/plain": [
       "array([[ 0.09886432,  0.01455739, -0.79923177]])"
      ]
     },
     "execution_count": 28,
     "metadata": {},
     "output_type": "execute_result"
    }
   ],
   "source": [
    "# View coefficients.\n",
    "lr.coef_"
   ]
  },
  {
   "cell_type": "code",
   "execution_count": 34,
   "metadata": {},
   "outputs": [
    {
     "data": {
      "text/html": [
       "<div>\n",
       "<style scoped>\n",
       "    .dataframe tbody tr th:only-of-type {\n",
       "        vertical-align: middle;\n",
       "    }\n",
       "\n",
       "    .dataframe tbody tr th {\n",
       "        vertical-align: top;\n",
       "    }\n",
       "\n",
       "    .dataframe thead th {\n",
       "        text-align: right;\n",
       "    }\n",
       "</style>\n",
       "<table border=\"1\" class=\"dataframe\">\n",
       "  <thead>\n",
       "    <tr style=\"text-align: right;\">\n",
       "      <th></th>\n",
       "      <th>age</th>\n",
       "      <th>interaction</th>\n",
       "      <th>smoker_dummy</th>\n",
       "    </tr>\n",
       "  </thead>\n",
       "  <tbody>\n",
       "    <tr>\n",
       "      <td>1208</td>\n",
       "      <td>33</td>\n",
       "      <td>0</td>\n",
       "      <td>0</td>\n",
       "    </tr>\n",
       "    <tr>\n",
       "      <td>88</td>\n",
       "      <td>21</td>\n",
       "      <td>0</td>\n",
       "      <td>0</td>\n",
       "    </tr>\n",
       "  </tbody>\n",
       "</table>\n",
       "</div>"
      ],
      "text/plain": [
       "      age  interaction  smoker_dummy\n",
       "1208   33            0             0\n",
       "88     21            0             0"
      ]
     },
     "execution_count": 34,
     "metadata": {},
     "output_type": "execute_result"
    }
   ],
   "source": [
    "# Interpret coefficient for age.\n",
    "X_train.head(2)"
   ]
  },
  {
   "cell_type": "code",
   "execution_count": 35,
   "metadata": {},
   "outputs": [
    {
     "data": {
      "text/plain": [
       "array([[1.10391651, 1.01466386, 0.44967429]])"
      ]
     },
     "execution_count": 35,
     "metadata": {},
     "output_type": "execute_result"
    }
   ],
   "source": [
    "np.exp(lr.coef_)"
   ]
  },
  {
   "cell_type": "markdown",
   "metadata": {},
   "source": [
    "<details><summary>How would you interpret the coefficient for age?</summary>\n",
    "\n",
    "- As age increases by 1, someone is 1.104 times as likely to be dead.\n",
    "</details>\n",
    "\n",
    "---\n",
    "\n",
    "<details><summary>In this situation, what term would we use to describe someone who is predicted to be dead but actually is alive? (Remember that alive is coded as 0 and dead is coded as 1.)</summary>\n",
    "\n",
    "- We **falsely** predict someone to be **positive**.\n",
    "- This would be a **false positive**.\n",
    "</details>\n",
    "\n",
    "---\n",
    "\n",
    "<details><summary>In this situation, what is a true negative?</summary>\n",
    "\n",
    "- We **correctly** predict someone to be **negative**.\n",
    "- Someone who is predicted to be alive (`0`) and actually is alive (`0`).\n",
    "</details>"
   ]
  },
  {
   "cell_type": "code",
   "execution_count": 36,
   "metadata": {},
   "outputs": [],
   "source": [
    "# Import confusion matrix.\n",
    "from sklearn.metrics import confusion_matrix"
   ]
  },
  {
   "cell_type": "markdown",
   "metadata": {},
   "source": [
    "<details><summary>If I want to get a good understanding of how our model will do on new data, should I generate a confusion matrix on our training or testing set? Why?</summary>\n",
    "    \n",
    "- Testing set!\n",
    "- If we generate one on our training set, we're going to overestimate the performance of our model... just like if we calculated MSE on our training set.\n",
    "</details>"
   ]
  },
  {
   "cell_type": "code",
   "execution_count": 37,
   "metadata": {},
   "outputs": [],
   "source": [
    "# Generate predictions.\n",
    "preds = lr.predict(X_test)"
   ]
  },
  {
   "cell_type": "code",
   "execution_count": 38,
   "metadata": {},
   "outputs": [
    {
     "data": {
      "text/plain": [
       "array([[217,  26],\n",
       "       [ 28,  58]], dtype=int64)"
      ]
     },
     "execution_count": 38,
     "metadata": {},
     "output_type": "execute_result"
    }
   ],
   "source": [
    "# Generate confusion matrix.\n",
    "# Documentation here: https://scikit-learn.org/stable/modules/generated/sklearn.metrics.confusion_matrix.html\n",
    "\n",
    "confusion_matrix(y_test, # True values.\n",
    "                 preds)  # Predicted values."
   ]
  },
  {
   "cell_type": "code",
   "execution_count": 41,
   "metadata": {},
   "outputs": [],
   "source": [
    "# Save TN/FP/FN/TP values.\n",
    "\n",
    "tn, fp, fn, tp = confusion_matrix(y_test, preds).ravel()\n",
    "\n",
    "# Note that .ravel() will arrange items in a one-dimensional array.\n",
    "# https://docs.scipy.org/doc/numpy/reference/generated/numpy.ravel.html"
   ]
  },
  {
   "cell_type": "code",
   "execution_count": 42,
   "metadata": {},
   "outputs": [
    {
     "data": {
      "text/plain": [
       "array([217,  26,  28,  58], dtype=int64)"
      ]
     },
     "execution_count": 42,
     "metadata": {},
     "output_type": "execute_result"
    }
   ],
   "source": [
    "confusion_matrix(y_test, preds).ravel()"
   ]
  },
  {
   "cell_type": "code",
   "execution_count": 46,
   "metadata": {
    "scrolled": true
   },
   "outputs": [
    {
     "name": "stdout",
     "output_type": "stream",
     "text": [
      "Specificity: 0.893\n"
     ]
    }
   ],
   "source": [
    "# What is the specificity of our test set?\n",
    "\n",
    "spec = tn/(tn+fp)\n",
    "\n",
    "print(f'Specificity: {round(spec,4)}')"
   ]
  },
  {
   "cell_type": "markdown",
   "metadata": {},
   "source": [
    "Out of 100 cases where the person is `alive`, the model is correctly predicting 89.3 people as being `alive`"
   ]
  },
  {
   "cell_type": "code",
   "execution_count": 45,
   "metadata": {
    "scrolled": true
   },
   "outputs": [
    {
     "name": "stdout",
     "output_type": "stream",
     "text": [
      "Sensitivity: 0.6744\n"
     ]
    }
   ],
   "source": [
    "# What is the sensitivity of our test set?\n",
    "\n",
    "sens = tp/(tp+fn)\n",
    "\n",
    "print(f'Sensitivity: {round(sens,4)}')"
   ]
  },
  {
   "cell_type": "markdown",
   "metadata": {},
   "source": [
    "Out of 100 cases where the person is `dead`, the model is correctly predicting 67.4 people as being `dead` "
   ]
  },
  {
   "cell_type": "code",
   "execution_count": 48,
   "metadata": {},
   "outputs": [
    {
     "name": "stdout",
     "output_type": "stream",
     "text": [
      "Precision: 0.6905\n"
     ]
    }
   ],
   "source": [
    "# What is the precision of our test set?\n",
    "\n",
    "prec = tp/(tp+fp)\n",
    "\n",
    "print(f'Precision: {round(prec,4)}' )"
   ]
  },
  {
   "cell_type": "markdown",
   "metadata": {},
   "source": [
    "Out of 100 `Dead` predictions, we are correctly predicting 69.05 people as `Dead` "
   ]
  },
  {
   "cell_type": "markdown",
   "metadata": {},
   "source": [
    "## Relationship between Sensitivity and Specificity"
   ]
  },
  {
   "cell_type": "code",
   "execution_count": 53,
   "metadata": {},
   "outputs": [
    {
     "name": "stdout",
     "output_type": "stream",
     "text": [
      "(0, array([0.98839074, 0.01160926]))\n",
      "(1, array([0.18440408, 0.81559592]))\n",
      "(0, array([0.64321857, 0.35678143]))\n",
      "(0, array([0.91703176, 0.08296824]))\n",
      "(0, array([0.9663516, 0.0336484]))\n",
      "(0, array([0.97476969, 0.02523031]))\n",
      "(0, array([0.69312721, 0.30687279]))\n",
      "(0, array([0.94564708, 0.05435292]))\n",
      "(0, array([0.98839074, 0.01160926]))\n",
      "(0, array([0.97467527, 0.02532473]))\n",
      "(0, array([0.50520688, 0.49479312]))\n",
      "(0, array([0.61645186, 0.38354814]))\n",
      "(0, array([0.9811229, 0.0188771]))\n",
      "(0, array([0.93273792, 0.06726208]))\n",
      "(1, array([0.27042489, 0.72957511]))\n",
      "(0, array([0.62022349, 0.37977651]))\n",
      "(1, array([0.27042489, 0.72957511]))\n",
      "(0, array([0.62022349, 0.37977651]))\n",
      "(0, array([0.93273792, 0.06726208]))\n",
      "(0, array([0.88818418, 0.11181582]))\n",
      "(1, array([0.44978155, 0.55021845]))\n",
      "(0, array([0.97171968, 0.02828032]))\n",
      "(1, array([0.22674014, 0.77325986]))\n",
      "(0, array([0.54832467, 0.45167533]))\n",
      "(0, array([0.98589946, 0.01410054]))\n",
      "(0, array([0.59667565, 0.40332435]))\n",
      "(1, array([0.44978155, 0.55021845]))\n",
      "(0, array([0.94072016, 0.05927984]))\n",
      "(0, array([0.97476969, 0.02523031]))\n",
      "(0, array([0.87533727, 0.12466273]))\n",
      "(1, array([0.37797639, 0.62202361]))\n",
      "(0, array([0.90798385, 0.09201615]))\n",
      "(0, array([0.61645186, 0.38354814]))\n",
      "(1, array([0.14388596, 0.85611404]))\n",
      "(1, array([0.47435028, 0.52564972]))\n",
      "(0, array([0.94072016, 0.05927984]))\n",
      "(0, array([0.97920206, 0.02079794]))\n",
      "(1, array([0.29182325, 0.70817675]))\n",
      "(0, array([0.87798246, 0.12201754]))\n",
      "(0, array([0.90636644, 0.09363356]))\n",
      "(0, array([0.87533727, 0.12466273]))\n",
      "(1, array([0.0929864, 0.9070136]))\n",
      "(0, array([0.78268995, 0.21731005]))\n",
      "(1, array([0.44978155, 0.55021845]))\n",
      "(0, array([0.92526322, 0.07473678]))\n",
      "(0, array([0.84840607, 0.15159393]))\n",
      "(0, array([0.91442632, 0.08557368]))\n",
      "(1, array([0.11105838, 0.88894162]))\n",
      "(0, array([0.69312721, 0.30687279]))\n",
      "(0, array([0.98547756, 0.01452244]))\n",
      "(0, array([0.98184679, 0.01815321]))\n",
      "(1, array([0.31580377, 0.68419623]))\n",
      "(0, array([0.85516919, 0.14483081]))\n",
      "(0, array([0.92185223, 0.07814777]))\n",
      "(0, array([0.82892172, 0.17107828]))\n",
      "(0, array([0.95525375, 0.04474625]))\n",
      "(1, array([0.40148486, 0.59851514]))\n",
      "(0, array([0.52374204, 0.47625796]))\n",
      "(0, array([0.94599909, 0.05400091]))\n",
      "(0, array([0.94564708, 0.05435292]))\n",
      "(0, array([0.96298441, 0.03701559]))\n",
      "(0, array([0.97971075, 0.02028925]))\n",
      "(0, array([0.72806327, 0.27193673]))\n",
      "(0, array([0.7990353, 0.2009647]))\n",
      "(1, array([0.22674014, 0.77325986]))\n",
      "(0, array([0.97920206, 0.02079794]))\n",
      "(0, array([0.95119065, 0.04880935]))\n",
      "(0, array([0.97222068, 0.02777932]))\n",
      "(0, array([0.83323529, 0.16676471]))\n",
      "(1, array([0.4486776, 0.5513224]))\n",
      "(0, array([0.89763241, 0.10236759]))\n",
      "(0, array([0.64321857, 0.35678143]))\n",
      "(0, array([0.88719649, 0.11280351]))\n",
      "(0, array([0.89763241, 0.10236759]))\n",
      "(0, array([0.96477225, 0.03522775]))\n",
      "(0, array([0.96477225, 0.03522775]))\n",
      "(0, array([0.94599909, 0.05400091]))\n",
      "(0, array([0.93951392, 0.06048608]))\n",
      "(0, array([0.76043127, 0.23956873]))\n",
      "(0, array([0.98962263, 0.01037737]))\n",
      "(1, array([0.49904383, 0.50095617]))\n",
      "(0, array([0.94599909, 0.05400091]))\n",
      "(0, array([0.98376168, 0.01623832]))\n",
      "(0, array([0.68720613, 0.31279387]))\n",
      "(0, array([0.94599909, 0.05400091]))\n",
      "(0, array([0.64321857, 0.35678143]))\n",
      "(0, array([0.53351218, 0.46648782]))\n",
      "(0, array([0.96477225, 0.03522775]))\n",
      "(0, array([0.89805893, 0.10194107]))\n",
      "(0, array([0.96298441, 0.03701559]))\n",
      "(0, array([0.92868399, 0.07131601]))\n",
      "(0, array([0.97971075, 0.02028925]))\n",
      "(1, array([0.42545538, 0.57454462]))\n",
      "(0, array([0.96298441, 0.03701559]))\n",
      "(0, array([0.71671036, 0.28328964]))\n",
      "(0, array([0.70805456, 0.29194544]))\n",
      "(0, array([0.95619502, 0.04380498]))\n",
      "(0, array([0.91442632, 0.08557368]))\n",
      "(0, array([0.54832467, 0.45167533]))\n",
      "(0, array([0.89763241, 0.10236759]))\n",
      "(1, array([0.42081299, 0.57918701]))\n",
      "(1, array([0.33272743, 0.66727257]))\n",
      "(0, array([0.98962263, 0.01037737]))\n",
      "(1, array([0.23322378, 0.76677622]))\n",
      "(0, array([0.87533727, 0.12466273]))\n",
      "(1, array([0.31115196, 0.68884804]))\n",
      "(0, array([0.92526322, 0.07473678]))\n",
      "(0, array([0.91442632, 0.08557368]))\n",
      "(0, array([0.97222068, 0.02777932]))\n",
      "(0, array([0.98547756, 0.01452244]))\n",
      "(1, array([0.14388596, 0.85611404]))\n",
      "(0, array([0.82892172, 0.17107828]))\n",
      "(0, array([0.9508325, 0.0491675]))\n",
      "(0, array([0.98589946, 0.01410054]))\n",
      "(1, array([0.40148486, 0.59851514]))\n",
      "(0, array([0.92868399, 0.07131601]))\n",
      "(0, array([0.73916317, 0.26083683]))\n",
      "(0, array([0.84248946, 0.15751054]))\n",
      "(0, array([0.88818418, 0.11181582]))\n",
      "(0, array([0.62022349, 0.37977651]))\n",
      "(0, array([0.79929418, 0.20070582]))\n",
      "(0, array([0.72806327, 0.27193673]))\n",
      "(0, array([0.88818418, 0.11181582]))\n",
      "(0, array([0.50520688, 0.49479312]))\n",
      "(1, array([0.35502791, 0.64497209]))\n",
      "(0, array([0.7471903, 0.2528097]))\n",
      "(1, array([0.36672784, 0.63327216]))\n",
      "(0, array([0.98547756, 0.01452244]))\n",
      "(0, array([0.92185223, 0.07814777]))\n",
      "(0, array([0.98445696, 0.01554304]))\n",
      "(0, array([0.64321857, 0.35678143]))\n",
      "(0, array([0.92526322, 0.07473678]))\n",
      "(0, array([0.96070749, 0.03929251]))\n",
      "(0, array([0.97709032, 0.02290968]))\n",
      "(0, array([0.95929445, 0.04070555]))\n",
      "(0, array([0.93951392, 0.06048608]))\n",
      "(0, array([0.90798385, 0.09201615]))\n",
      "(0, array([0.90636644, 0.09363356]))\n",
      "(1, array([0.42081299, 0.57918701]))\n",
      "(0, array([0.98445696, 0.01554304]))\n",
      "(1, array([0.49904383, 0.50095617]))\n",
      "(0, array([0.53351218, 0.46648782]))\n",
      "(0, array([0.88818418, 0.11181582]))\n",
      "(1, array([0.16999624, 0.83000376]))\n",
      "(1, array([0.33272743, 0.66727257]))\n",
      "(0, array([0.98962263, 0.01037737]))\n",
      "(0, array([0.94072016, 0.05927984]))\n",
      "(1, array([0.4486776, 0.5513224]))\n",
      "(0, array([0.97709032, 0.02290968]))\n",
      "(0, array([0.93273792, 0.06726208]))\n",
      "(0, array([0.89763241, 0.10236759]))\n",
      "(1, array([0.11105838, 0.88894162]))\n",
      "(0, array([0.91703176, 0.08296824]))\n",
      "(0, array([0.68720613, 0.31279387]))\n",
      "(0, array([0.91703176, 0.08296824]))\n",
      "(1, array([0.25136749, 0.74863251]))\n",
      "(0, array([0.95619502, 0.04380498]))\n",
      "(0, array([0.91703176, 0.08296824]))\n",
      "(0, array([0.83323529, 0.16676471]))\n",
      "(0, array([0.90636644, 0.09363356]))\n",
      "(0, array([0.97732918, 0.02267082]))\n",
      "(1, array([0.06289712, 0.93710288]))\n",
      "(1, array([0.34080656, 0.65919344]))\n",
      "(0, array([0.62022349, 0.37977651]))\n",
      "(0, array([0.97920206, 0.02079794]))\n",
      "(0, array([0.97222068, 0.02777932]))\n",
      "(0, array([0.59667565, 0.40332435]))\n",
      "(0, array([0.9811229, 0.0188771]))\n",
      "(1, array([0.22674014, 0.77325986]))\n",
      "(0, array([0.58930509, 0.41069491]))\n",
      "(0, array([0.96843033, 0.03156967]))\n",
      "(1, array([0.13213101, 0.86786899]))\n",
      "(1, array([0.42545538, 0.57454462]))\n",
      "(0, array([0.69312721, 0.30687279]))\n",
      "(0, array([0.8624246, 0.1375754]))\n",
      "(0, array([0.96298441, 0.03701559]))\n",
      "(1, array([0.18440408, 0.81559592]))\n",
      "(0, array([0.71671036, 0.28328964]))\n",
      "(0, array([0.61645186, 0.38354814]))\n",
      "(0, array([0.78268995, 0.21731005]))\n",
      "(0, array([0.84248946, 0.15751054]))\n",
      "(0, array([0.97476969, 0.02523031]))\n",
      "(0, array([0.91442632, 0.08557368]))\n",
      "(1, array([0.42545538, 0.57454462]))\n",
      "(0, array([0.95619502, 0.04380498]))\n",
      "(0, array([0.64321857, 0.35678143]))\n",
      "(0, array([0.95619502, 0.04380498]))\n",
      "(0, array([0.93951392, 0.06048608]))\n",
      "(0, array([0.92526322, 0.07473678]))\n",
      "(0, array([0.52374204, 0.47625796]))\n",
      "(0, array([0.95525375, 0.04474625]))\n",
      "(0, array([0.93496066, 0.06503934]))\n",
      "(1, array([0.15649811, 0.84350189]))\n",
      "(0, array([0.92185223, 0.07814777]))\n",
      "(0, array([0.97920206, 0.02079794]))\n",
      "(1, array([0.11105838, 0.88894162]))\n",
      "(1, array([0.37797639, 0.62202361]))\n",
      "(1, array([0.42081299, 0.57918701]))\n",
      "(0, array([0.98839074, 0.01160926]))\n",
      "(1, array([0.0929864, 0.9070136]))\n",
      "(0, array([0.98184679, 0.01815321]))\n",
      "(0, array([0.90636644, 0.09363356]))\n",
      "(0, array([0.98286945, 0.01713055]))\n",
      "(0, array([0.96298441, 0.03701559]))\n",
      "(1, array([0.0929864, 0.9070136]))\n",
      "(0, array([0.88719649, 0.11280351]))\n",
      "(1, array([0.20747187, 0.79252813]))\n",
      "(1, array([0.39344394, 0.60655606]))\n",
      "(0, array([0.9508325, 0.0491675]))\n",
      "(0, array([0.57267372, 0.42732628]))\n",
      "(0, array([0.89763241, 0.10236759]))\n",
      "(0, array([0.98839074, 0.01160926]))\n",
      "(0, array([0.79929418, 0.20070582]))\n",
      "(0, array([0.69312721, 0.30687279]))\n",
      "(0, array([0.58930509, 0.41069491]))\n",
      "(1, array([0.13213101, 0.86786899]))\n",
      "(1, array([0.0929864, 0.9070136]))\n",
      "(0, array([0.88818418, 0.11181582]))\n",
      "(0, array([0.76043127, 0.23956873]))\n",
      "(0, array([0.91442632, 0.08557368]))\n",
      "(1, array([0.47435028, 0.52564972]))\n",
      "(0, array([0.97732918, 0.02267082]))\n",
      "(1, array([0.16999624, 0.83000376]))\n",
      "(1, array([0.39344394, 0.60655606]))\n",
      "(1, array([0.44978155, 0.55021845]))\n",
      "(0, array([0.54832467, 0.45167533]))\n",
      "(0, array([0.64289161, 0.35710839]))\n",
      "(0, array([0.9663516, 0.0336484]))\n",
      "(0, array([0.93951392, 0.06048608]))\n",
      "(0, array([0.90636644, 0.09363356]))\n",
      "(0, array([0.95619502, 0.04380498]))\n",
      "(1, array([0.16999624, 0.83000376]))\n",
      "(0, array([0.76043127, 0.23956873]))\n",
      "(0, array([0.81687401, 0.18312599]))\n",
      "(1, array([0.14388596, 0.85611404]))\n",
      "(0, array([0.98589946, 0.01410054]))\n",
      "(1, array([0.35502791, 0.64497209]))\n",
      "(0, array([0.95619502, 0.04380498]))\n",
      "(0, array([0.81687401, 0.18312599]))\n",
      "(0, array([0.95525375, 0.04474625]))\n",
      "(0, array([0.88719649, 0.11280351]))\n",
      "(1, array([0.4486776, 0.5513224]))\n",
      "(0, array([0.88719649, 0.11280351]))\n",
      "(0, array([0.89805893, 0.10194107]))\n",
      "(0, array([0.96942222, 0.03057778]))\n",
      "(0, array([0.95525375, 0.04474625]))\n",
      "(0, array([0.96942222, 0.03057778]))\n",
      "(0, array([0.87798246, 0.12201754]))\n",
      "(0, array([0.9663516, 0.0336484]))\n",
      "(1, array([0.24723964, 0.75276036]))\n",
      "(0, array([0.93951392, 0.06048608]))\n",
      "(0, array([0.96070749, 0.03929251]))\n",
      "(1, array([0.23322378, 0.76677622]))\n",
      "(1, array([0.33272743, 0.66727257]))\n",
      "(0, array([0.97971075, 0.02028925]))\n",
      "(0, array([0.78268995, 0.21731005]))\n",
      "(0, array([0.96298441, 0.03701559]))\n",
      "(0, array([0.93951392, 0.06048608]))\n",
      "(0, array([0.96477225, 0.03522775]))\n",
      "(0, array([0.86698935, 0.13301065]))\n",
      "(0, array([0.95119065, 0.04880935]))\n",
      "(0, array([0.97709032, 0.02290968]))\n",
      "(0, array([0.90798385, 0.09201615]))\n",
      "(0, array([0.97732918, 0.02267082]))\n",
      "(0, array([0.81687401, 0.18312599]))\n",
      "(1, array([0.33272743, 0.66727257]))\n",
      "(0, array([0.81687401, 0.18312599]))\n",
      "(0, array([0.72806327, 0.27193673]))\n",
      "(1, array([0.27042489, 0.72957511]))\n",
      "(0, array([0.96070749, 0.03929251]))\n",
      "(1, array([0.15649811, 0.84350189]))\n",
      "(0, array([0.96298441, 0.03701559]))\n",
      "(1, array([0.23322378, 0.76677622]))\n",
      "(1, array([0.27042489, 0.72957511]))\n",
      "(0, array([0.96942222, 0.03057778]))\n",
      "(0, array([0.96477225, 0.03522775]))\n",
      "(0, array([0.56160334, 0.43839666]))\n",
      "(0, array([0.91442632, 0.08557368]))\n",
      "(1, array([0.20747187, 0.79252813]))\n",
      "(0, array([0.97171968, 0.02828032]))\n",
      "(0, array([0.66848891, 0.33151109]))\n",
      "(0, array([0.96942222, 0.03057778]))\n",
      "(1, array([0.49904383, 0.50095617]))\n",
      "(1, array([0.10166684, 0.89833316]))\n",
      "(0, array([0.81444267, 0.18555733]))\n",
      "(1, array([0.25136749, 0.74863251]))\n",
      "(0, array([0.95525375, 0.04474625]))\n",
      "(1, array([0.39344394, 0.60655606]))\n",
      "(0, array([0.85516919, 0.14483081]))\n",
      "(0, array([0.94599909, 0.05400091]))\n",
      "(0, array([0.52374204, 0.47625796]))\n",
      "(0, array([0.64289161, 0.35710839]))\n",
      "(1, array([0.49904383, 0.50095617]))\n",
      "(1, array([0.4486776, 0.5513224]))\n",
      "(0, array([0.97222068, 0.02777932]))\n",
      "(1, array([0.42081299, 0.57918701]))\n",
      "(0, array([0.71671036, 0.28328964]))\n",
      "(1, array([0.33272743, 0.66727257]))\n",
      "(0, array([0.78048022, 0.21951978]))\n",
      "(1, array([0.16999624, 0.83000376]))\n",
      "(0, array([0.97971075, 0.02028925]))\n",
      "(0, array([0.72806327, 0.27193673]))\n",
      "(0, array([0.79929418, 0.20070582]))\n",
      "(0, array([0.76043127, 0.23956873]))\n",
      "(0, array([0.68720613, 0.31279387]))\n",
      "(0, array([0.96070749, 0.03929251]))\n",
      "(0, array([0.98589946, 0.01410054]))\n",
      "(0, array([0.98184679, 0.01815321]))\n",
      "(0, array([0.96298441, 0.03701559]))\n",
      "(0, array([0.9508325, 0.0491675]))\n",
      "(0, array([0.87798246, 0.12201754]))\n",
      "(0, array([0.9508325, 0.0491675]))\n",
      "(0, array([0.69312721, 0.30687279]))\n",
      "(1, array([0.33272743, 0.66727257]))\n",
      "(0, array([0.92868399, 0.07131601]))\n",
      "(0, array([0.9663516, 0.0336484]))\n",
      "(0, array([0.72806327, 0.27193673]))\n",
      "(1, array([0.47435028, 0.52564972]))\n",
      "(0, array([0.78048022, 0.21951978]))\n",
      "(1, array([0.40148486, 0.59851514]))\n",
      "(0, array([0.97709032, 0.02290968]))\n",
      "(0, array([0.84840607, 0.15159393]))\n",
      "(1, array([0.11105838, 0.88894162]))\n",
      "(0, array([0.93496066, 0.06503934]))\n",
      "(1, array([0.29036673, 0.70963327]))\n",
      "(0, array([0.99171131, 0.00828869]))\n",
      "(1, array([0.18943985, 0.81056015]))\n",
      "(1, array([0.42081299, 0.57918701]))\n",
      "(0, array([0.9508325, 0.0491675]))\n"
     ]
    }
   ],
   "source": [
    "for x in zip(lr.predict(X_test), lr.predict_proba(X_test)):\n",
    "    print(x)"
   ]
  },
  {
   "cell_type": "code",
   "execution_count": 54,
   "metadata": {},
   "outputs": [],
   "source": [
    "# Let's create a dataframe called pred_df that contains:\n",
    "# 1. The list of true values of our test set.\n",
    "# 2. The list of predicted probabilities based on our model.\n",
    "\n",
    "pred_proba = [i[1] for i in lr.predict_proba(X_test)]\n",
    "\n",
    "pred_df = pd.DataFrame({'true_values': y_test,\n",
    "                        'pred_probs':pred_proba})"
   ]
  },
  {
   "cell_type": "code",
   "execution_count": 55,
   "metadata": {},
   "outputs": [
    {
     "data": {
      "text/html": [
       "<div>\n",
       "<style scoped>\n",
       "    .dataframe tbody tr th:only-of-type {\n",
       "        vertical-align: middle;\n",
       "    }\n",
       "\n",
       "    .dataframe tbody tr th {\n",
       "        vertical-align: top;\n",
       "    }\n",
       "\n",
       "    .dataframe thead th {\n",
       "        text-align: right;\n",
       "    }\n",
       "</style>\n",
       "<table border=\"1\" class=\"dataframe\">\n",
       "  <thead>\n",
       "    <tr style=\"text-align: right;\">\n",
       "      <th></th>\n",
       "      <th>true_values</th>\n",
       "      <th>pred_probs</th>\n",
       "    </tr>\n",
       "  </thead>\n",
       "  <tbody>\n",
       "    <tr>\n",
       "      <td>1232</td>\n",
       "      <td>0</td>\n",
       "      <td>0.011609</td>\n",
       "    </tr>\n",
       "    <tr>\n",
       "      <td>76</td>\n",
       "      <td>1</td>\n",
       "      <td>0.815596</td>\n",
       "    </tr>\n",
       "    <tr>\n",
       "      <td>962</td>\n",
       "      <td>0</td>\n",
       "      <td>0.356781</td>\n",
       "    </tr>\n",
       "    <tr>\n",
       "      <td>433</td>\n",
       "      <td>0</td>\n",
       "      <td>0.082968</td>\n",
       "    </tr>\n",
       "    <tr>\n",
       "      <td>1110</td>\n",
       "      <td>0</td>\n",
       "      <td>0.033648</td>\n",
       "    </tr>\n",
       "  </tbody>\n",
       "</table>\n",
       "</div>"
      ],
      "text/plain": [
       "      true_values  pred_probs\n",
       "1232            0    0.011609\n",
       "76              1    0.815596\n",
       "962             0    0.356781\n",
       "433             0    0.082968\n",
       "1110            0    0.033648"
      ]
     },
     "execution_count": 55,
     "metadata": {},
     "output_type": "execute_result"
    }
   ],
   "source": [
    "pred_df.head()"
   ]
  },
  {
   "cell_type": "code",
   "execution_count": 56,
   "metadata": {},
   "outputs": [
    {
     "data": {
      "text/plain": [
       "Text(0.5, 0, 'Predicted Probability that Outcome = 1')"
      ]
     },
     "execution_count": 56,
     "metadata": {},
     "output_type": "execute_result"
    },
    {
     "data": {
      "image/png": "[encoded data removed]",
      "text/plain": [
       "<Figure size 720x504 with 1 Axes>"
      ]
     },
     "metadata": {
      "needs_background": "light"
     },
     "output_type": "display_data"
    }
   ],
   "source": [
    "# Create figure.\n",
    "plt.figure(figsize = (10,7))\n",
    "\n",
    "# Create histogram of observations.\n",
    "plt.hist(pred_df['pred_probs'], bins=25)\n",
    "\n",
    "# Label axes.\n",
    "plt.title('Distribution of P(Outcome = 1)', fontsize=22)\n",
    "plt.ylabel('Frequency', fontsize=18)\n",
    "plt.xlabel('Predicted Probability that Outcome = 1', fontsize=18)"
   ]
  },
  {
   "cell_type": "code",
   "execution_count": 57,
   "metadata": {},
   "outputs": [
    {
     "data": {
      "image/png": "[encoded data removed]",
      "text/plain": [
       "<Figure size 720x504 with 1 Axes>"
      ]
     },
     "metadata": {
      "needs_background": "light"
     },
     "output_type": "display_data"
    }
   ],
   "source": [
    "# Create figure.\n",
    "plt.figure(figsize = (10,7))\n",
    "\n",
    "# Create two histograms of observations.\n",
    "plt.hist(pred_df[pred_df['true_values'] == 0]['pred_probs'],\n",
    "         bins=25,\n",
    "         color='b',\n",
    "         alpha = 0.6,\n",
    "         label='Outcome = 0')\n",
    "plt.hist(pred_df[pred_df['true_values'] == 1]['pred_probs'],\n",
    "         bins=25,\n",
    "         color='orange',\n",
    "         alpha = 0.6,\n",
    "         label='Outcome = 1')\n",
    "\n",
    "# Label axes.\n",
    "plt.title('Distribution of P(Outcome = 1)', fontsize=22)\n",
    "plt.ylabel('Frequency', fontsize=18)\n",
    "plt.xlabel('Predicted Probability that Outcome = 1', fontsize=18)\n",
    "\n",
    "# Create legend.\n",
    "plt.legend(fontsize=20);"
   ]
  },
  {
   "cell_type": "markdown",
   "metadata": {},
   "source": [
    "<details><summary>What do you notice about this distribution?</summary>\n",
    "\n",
    "- Way more blue than orange.\n",
    "- There's lots of overlap!\n",
    "</details>"
   ]
  },
  {
   "cell_type": "code",
   "execution_count": 58,
   "metadata": {},
   "outputs": [
    {
     "data": {
      "image/png": "[encoded data removed]",
      "text/plain": [
       "<Figure size 720x504 with 1 Axes>"
      ]
     },
     "metadata": {
      "needs_background": "light"
     },
     "output_type": "display_data"
    }
   ],
   "source": [
    "# Create figure.\n",
    "plt.figure(figsize = (10,7))\n",
    "\n",
    "# Create two histograms of observations.\n",
    "plt.hist(pred_df[pred_df['true_values'] == 0]['pred_probs'],\n",
    "         bins=25,\n",
    "         color='b',\n",
    "         alpha = 0.6,\n",
    "         label='Outcome = 0')\n",
    "plt.hist(pred_df[pred_df['true_values'] == 1]['pred_probs'],\n",
    "         bins=25,\n",
    "         color='orange',\n",
    "         alpha = 0.6,\n",
    "         label='Outcome = 1')\n",
    "\n",
    "# Add vertical line at P(Outcome = 1) = 0.5.\n",
    "plt.vlines(x=0.5,\n",
    "           ymin = 0,\n",
    "           ymax = 65,\n",
    "           color='r',\n",
    "           linestyle = '--')\n",
    "\n",
    "# Label axes.\n",
    "plt.title('Distribution of P(Outcome = 1)', fontsize=22)\n",
    "plt.ylabel('Frequency', fontsize=18)\n",
    "plt.xlabel('Predicted Probability that Outcome = 1', fontsize=18)\n",
    "\n",
    "# Create legend.\n",
    "plt.legend(fontsize=20);"
   ]
  },
  {
   "cell_type": "markdown",
   "metadata": {},
   "source": [
    "<details><summary>Where are my true positives, true negatives, false positives, false negatives in this image?</summary>\n",
    "    \n",
    "- True Positive:\n",
    "    - Items I correctly predict to be positive.\n",
    "    - The orange bars (actual `1`) that are to the right of the red line (predicted `1`).\n",
    "- True Negative: \n",
    "    - Items I correctly predict to be negative.\n",
    "    - The blue bars (actual `0`) that are to the left of the red line (predicted `0`).\n",
    "- False Positive:\n",
    "    - Items I incorrectly predict to be positive.\n",
    "    - The blue bars (actual `0`) that are to the right of the red line (predicted `1`).\n",
    "- False Negative: \n",
    "    - Items I incorrectly predict to be negative.\n",
    "    - The orange bars (actual `1`) that are to the left of the red line (predicted `0`).\n",
    "</details>"
   ]
  },
  {
   "cell_type": "code",
   "execution_count": 59,
   "metadata": {},
   "outputs": [
    {
     "data": {
      "image/png": "[encoded data removed]",
      "text/plain": [
       "<Figure size 720x504 with 1 Axes>"
      ]
     },
     "metadata": {
      "needs_background": "light"
     },
     "output_type": "display_data"
    }
   ],
   "source": [
    "# Create figure.\n",
    "plt.figure(figsize = (10,7))\n",
    "\n",
    "# Create two histograms of observations.\n",
    "plt.hist(pred_df[pred_df['true_values'] == 0]['pred_probs'],\n",
    "         bins=25,\n",
    "         color='b',\n",
    "         alpha = 0.6,\n",
    "         label='Outcome = 0')\n",
    "plt.hist(pred_df[pred_df['true_values'] == 1]['pred_probs'],\n",
    "         bins=25,\n",
    "         color='orange',\n",
    "         alpha = 0.6,\n",
    "         label='Outcome = 1')\n",
    "\n",
    "# Add vertical line at P(Outcome = 1) = 0.1.\n",
    "plt.vlines(x=0.1,\n",
    "           ymin = 0,\n",
    "           ymax = 65,\n",
    "           color='r',\n",
    "           linestyle = '--')\n",
    "\n",
    "# Label axes.\n",
    "plt.title('Distribution of P(Outcome = 1)', fontsize=22)\n",
    "plt.ylabel('Frequency', fontsize=18)\n",
    "plt.xlabel('Predicted Probability that Outcome = 1', fontsize=18)\n",
    "\n",
    "# Create legend.\n",
    "plt.legend(fontsize=20);"
   ]
  },
  {
   "cell_type": "markdown",
   "metadata": {},
   "source": [
    "<details><summary>When I moved my classification threshold to the left, what happened to sensitivity and specificity?</summary>\n",
    "\n",
    "- Our number of true negatives decreased and our number of false positives went increased.\n",
    "    - $\\text{Sensitivity} = \\frac{TP}{TP + FN} \\Rightarrow \\text{Sensitivity decreases.}$\n",
    "- Our number of true positives increased and our number of false negatives decreased.\n",
    "    - $\\text{Specificity} = \\frac{TN}{TN + FP} \\Rightarrow \\text{Specificity increases.}$\n",
    "</details>\n",
    "\n",
    "---\n",
    "\n",
    "Our goal should be to build a model such that there is **no overlap** between the blue histogram and the orange histogram!\n",
    "- If there is overlap, we need to recognize the tradeoff between sensitivity and specificity. (As one increases, the other decreases.)\n",
    "- One measure of how much overlap exists between our distributions is the **area under the ROC curve**."
   ]
  },
  {
   "cell_type": "markdown",
   "metadata": {},
   "source": [
    "## Receiver Operating Characteristic (ROC) Curve\n",
    "\n",
    "The Receiver Operating Characteristic curve is a way to visualize the overlap between our positive class and negative class by moving our classification threshold from 0 to 1.\n",
    "- We start our classification threshold (dashed red line) at 0.\n",
    "- We calculate sensitivity and 1 - specificity.\n",
    "- We plot the value of (x = sensitivity, y = 1 - specificity).\n",
    "- We increase our classification threshold a small number (like 0.005).\n",
    "- We calculate sensitivity and 1 - specificity.\n",
    "- We plot the value of (x = sensitivity, y = 1 - specificity).\n",
    "- We repeat until our threshold is equal to 1."
   ]
  },
  {
   "cell_type": "code",
   "execution_count": 60,
   "metadata": {},
   "outputs": [
    {
     "data": {
      "image/png": "[encoded data removed]",
      "text/plain": [
       "<Figure size 720x504 with 1 Axes>"
      ]
     },
     "metadata": {
      "needs_background": "light"
     },
     "output_type": "display_data"
    }
   ],
   "source": [
    "# Create figure.\n",
    "plt.figure(figsize = (10,7))\n",
    "\n",
    "# Create threshold values.\n",
    "thresholds = np.linspace(0, 1, 200)\n",
    "\n",
    "# Define function to calculate sensitivity. (True positive rate.)\n",
    "def TPR(df, true_col, pred_prob_col, threshold):\n",
    "    true_positive = df[(df[true_col] == 1) & (df[pred_prob_col] >= threshold)].shape[0]\n",
    "    false_negative = df[(df[true_col] == 1) & (df[pred_prob_col] < threshold)].shape[0]\n",
    "    return true_positive / (true_positive + false_negative)\n",
    "\n",
    "# Define function to calculate 1 - specificity. (False positive rate.)\n",
    "def FPR(df, true_col, pred_prob_col, threshold):\n",
    "    true_negative = df[(df[true_col] == 0) & (df[pred_prob_col] <= threshold)].shape[0]\n",
    "    false_positive = df[(df[true_col] == 0) & (df[pred_prob_col] > threshold)].shape[0]\n",
    "    return 1 - (true_negative / (true_negative + false_positive))\n",
    "    \n",
    "# Calculate sensitivity & 1-specificity for each threshold between 0 and 1.\n",
    "tpr_values = [TPR(pred_df, 'true_values', 'pred_probs', prob) for prob in thresholds]\n",
    "fpr_values = [FPR(pred_df, 'true_values', 'pred_probs', prob) for prob in thresholds]\n",
    "\n",
    "# Plot ROC curve.\n",
    "plt.plot(fpr_values, # False Positive Rate on X-axis\n",
    "         tpr_values, # True Positive Rate on Y-axis\n",
    "         label='ROC Curve')\n",
    "\n",
    "# Plot baseline. (Perfect overlap between the two populations.)\n",
    "plt.plot(np.linspace(0, 1, 200),\n",
    "         np.linspace(0, 1, 200),\n",
    "         label='baseline',\n",
    "         linestyle='--')\n",
    "\n",
    "# Label axes.\n",
    "plt.title('Receiver Operating Characteristic Curve', fontsize=22)\n",
    "plt.ylabel('Sensitivity', fontsize=18)\n",
    "plt.xlabel('1 - Specificity', fontsize=18)\n",
    "\n",
    "# Create legend.\n",
    "plt.legend(fontsize=16);"
   ]
  },
  {
   "cell_type": "markdown",
   "metadata": {},
   "source": [
    "### ROC AUC\n",
    "\n",
    "The more area under this blue curve is, the better separated our distributions are.\n",
    "- Check out [this gif](https://twitter.com/DrHughHarvey/status/1104435699095404544).\n",
    "\n",
    "We use the **area under the ROC curve** (abbreviated **ROC AUC** or **AUC ROC**) to quantify the gap between our distributions.\n",
    "\n",
    "<details><summary>Note: Not to be confused with the ROC AOC.</summary>\n",
    "<img src=\"./images/AOC.jpg\" alt=\"AOC\" width=\"400\"/>\n",
    "Disclaimer: AOC ROC is not a meaningful metric.\n",
    "</details>"
   ]
  },
  {
   "cell_type": "code",
   "execution_count": 61,
   "metadata": {},
   "outputs": [],
   "source": [
    "# Import roc_auc_score.\n",
    "from sklearn.metrics import roc_auc_score"
   ]
  },
  {
   "cell_type": "code",
   "execution_count": 63,
   "metadata": {},
   "outputs": [
    {
     "data": {
      "text/plain": [
       "0.8917360512967748"
      ]
     },
     "execution_count": 63,
     "metadata": {},
     "output_type": "execute_result"
    }
   ],
   "source": [
    "# Calculate score.\n",
    "roc_auc_score(pred_df['true_values'], pred_df['pred_probs'])"
   ]
  },
  {
   "cell_type": "code",
   "execution_count": 69,
   "metadata": {},
   "outputs": [
    {
     "data": {
      "image/png": "[encoded data removed]",
      "text/plain": [
       "<Figure size 720x504 with 1 Axes>"
      ]
     },
     "metadata": {
      "needs_background": "light"
     },
     "output_type": "display_data"
    }
   ],
   "source": [
    "# Create figure.\n",
    "plt.figure(figsize = (10,7))\n",
    "\n",
    "# Create threshold values. (Dashed red line in image.)\n",
    "thresholds = np.linspace(0, 1, 200)\n",
    "\n",
    "# Define function to calculate sensitivity. (True positive rate.)\n",
    "def TPR(df, true_col, pred_prob_col, threshold):\n",
    "    true_positive = df[(df[true_col] == 1) & (df[pred_prob_col] >= threshold)].shape[0]\n",
    "    false_negative = df[(df[true_col] == 1) & (df[pred_prob_col] < threshold)].shape[0]\n",
    "    return true_positive / (true_positive + false_negative)\n",
    "    \n",
    "# Define function to calculate 1 - specificity. (False positive rate.)\n",
    "def FPR(df, true_col, pred_prob_col, threshold):\n",
    "    true_negative = df[(df[true_col] == 0) & (df[pred_prob_col] <= threshold)].shape[0]\n",
    "    false_positive = df[(df[true_col] == 0) & (df[pred_prob_col] > threshold)].shape[0]\n",
    "    return 1 - (true_negative / (true_negative + false_positive))\n",
    "    \n",
    "# Calculate sensitivity & 1-specificity for each threshold between 0 and 1.\n",
    "tpr_values = [TPR(pred_df, 'true_values', 'pred_probs', prob) for prob in thresholds]\n",
    "fpr_values = [FPR(pred_df, 'true_values', 'pred_probs', prob) for prob in thresholds]\n",
    "\n",
    "# Plot ROC curve.\n",
    "plt.plot(fpr_values, # False Positive Rate on X-axis\n",
    "         tpr_values, # True Positive Rate on Y-axis\n",
    "         label='ROC Curve')\n",
    "\n",
    "# Plot baseline. (Perfect overlap between the two populations.)\n",
    "plt.plot(np.linspace(0, 1, 200),\n",
    "         np.linspace(0, 1, 200),\n",
    "         label='baseline',\n",
    "         linestyle='--')\n",
    "\n",
    "# Label axes.\n",
    "#plt.title(f\"ROC Curve with AUC = {round(roc_auc_score(pred_df['true_values'], pred_df['pred_probs\"]),3)}', fontsize=22)\n",
    "plt.ylabel('Sensitivity', fontsize=18)\n",
    "plt.xlabel('1 - Specificity', fontsize=18)\n",
    "\n",
    "# Create legend.\n",
    "plt.legend(fontsize=16);"
   ]
  },
  {
   "cell_type": "markdown",
   "metadata": {},
   "source": [
    "### Interpreting ROC AUC\n",
    "- If you have an ROC AUC of 0.5, your positive and negative populations perfectly overlap and your model is as bad as it can get.\n",
    "- If you have an ROC AUC of 1, your positive and negative populations are perfectly separated and your model is as good as it can get.\n",
    "- The closer your ROC AUC is to 1, the better. (1 is the maximum score.)\n",
    "- If you have an ROC AUC of below 0.5, your positive and negative distributions have flipped sides. By flipping your predicted values (i.e. flipping predicted 1s and 0s), your ROC AUC will now be above 0.5.\n",
    "    - Example: You have an ROC AUC of 0.2. If you change your predicted 1s to 0s and your predicted 0s to 1s, your ROC AUC will now be 0.8!"
   ]
  },
  {
   "cell_type": "markdown",
   "metadata": {},
   "source": [
    "We generate one ROC curve per model. The ROC curve is generated by varying our threshold from 0 to 1. This doesn't actually change the threshold or our original predictions, but it helps us to visualize our tradeoff between _sensitivity_ and _specificity_ and understand how well-separated our populations are."
   ]
  },
  {
   "cell_type": "markdown",
   "metadata": {},
   "source": [
    "### Balanced / Unbalanced Classes\n",
    "\n",
    "Suppose I want to predict the incidence of West Nile Virus (WNV) in Chicago.\n",
    "- 99.9% of my observations are \"no WNV.\"\n",
    "- 0.1% of my observations contain \"WNV.\"\n",
    "\n",
    "If we fit a model and tried to optimize for accuracy, I can predict \"no WNV\" for every location and have an accuracy score that is really, _really_ good!\n",
    "\n",
    "<details><summary>Why is this a bad model?</summary>\n",
    "    \n",
    "- We'll never predict that a location has West Nile Virus, which is probably going to lead to outbreaks of the disease.\n",
    "</details>\n",
    "\n",
    "In classification problems, methods generally better when we have roughly equally-sized classes. (i.e. 50% in the positive class and 50% in the negative class for binary classification problems).\n",
    "\n",
    "#### Methods for Dealing with Unbalanced Classes\n",
    "\n",
    "- **Bias correction.** Gary King wrote a [great whitepaper](https://gking.harvard.edu/files/gking/files/0s.pdf) on this topic.  This is a rigorous approach and while provide good results, as data scientists we prefer \"easier\" methods.\n",
    "\n",
    "\n",
    "- **Weighting observations.** Some models allow the weighting of classes such as linear and logistic regression, Naive Bayes, Random Forests, SVMs, etc.\n",
    "\n",
    "\n",
    "- **Stratified cross-validation.** If we use $k$-fold cross-validation entirely randomly, we may run into issues where some of our folds have no observations from the minority class.\n",
    "\n",
    "<img src=\"https://snag.gy/PqISr3.jpg\">\n",
    "\n",
    "By stratifying on our output variable with unbalanced classes during cross- validation, we protect ourselves from this situation and ensure that our estimate of our model performance has lower variance.\n",
    "\n",
    "\n",
    "- **Changing threshold for classification.**\n",
    "By adjusting our classification threshold, we might find a better fit for our particular use-case.  We performed this operation earlier by manually changing our predicted labels by choosing a new threshold from the predicted probability.\n",
    "\n",
    "\n",
    "- **Purposefully optimizing evaluation metrics.**\n",
    "We might also consider optimizating our model for a specific metric such as precision, recall by class, ROC AUC."
   ]
  }
 ],
 "metadata": {
  "kernelspec": {
   "display_name": "Python 3",
   "language": "python",
   "name": "python3"
  },
  "language_info": {
   "codemirror_mode": {
    "name": "ipython",
    "version": 3
   },
   "file_extension": ".py",
   "mimetype": "text/x-python",
   "name": "python",
   "nbconvert_exporter": "python",
   "pygments_lexer": "ipython3",
   "version": "3.6.5"
  }
 },
 "nbformat": 4,
 "nbformat_minor": 2
}
