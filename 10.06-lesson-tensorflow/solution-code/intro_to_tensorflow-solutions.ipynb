{
 "cells": [
  {
   "cell_type": "markdown",
   "metadata": {},
   "source": [
    "<img src=\"http://imgur.com/1ZcRyrc.png\" style=\"float: left; margin: 20px; height: 55px\">\n",
    "\n",
    "# Neural Networks with TensorFlow\n",
    "\n",
    "_Authors: Justin Pounders (ATL) and Riley Dalles (ATX)_\n",
    "\n",
    "---\n",
    "\n",
    "<a id=\"learning-objectives\"></a>\n",
    "### Learning Objectives\n",
    "- Describe the basic `tensorflow` workflow.\n",
    "- Create computational graphs representing basic feed-forward neural networks.\n",
    "- Train neural networks using `tensorflow`\n",
    "- Create and train neural networks for both regression and classification"
   ]
  },
  {
   "cell_type": "code",
   "execution_count": 7,
   "metadata": {},
   "outputs": [
    {
     "name": "stderr",
     "output_type": "stream",
     "text": [
      "/Users/jmpounders/anaconda3/envs/tensorflow/lib/python3.6/importlib/_bootstrap.py:219: RuntimeWarning: numpy.dtype size changed, may indicate binary incompatibility. Expected 96, got 88\n",
      "  return f(*args, **kwds)\n",
      "/Users/jmpounders/anaconda3/envs/tensorflow/lib/python3.6/importlib/_bootstrap.py:219: RuntimeWarning: numpy.dtype size changed, may indicate binary incompatibility. Expected 96, got 88\n",
      "  return f(*args, **kwds)\n",
      "/Users/jmpounders/anaconda3/envs/tensorflow/lib/python3.6/importlib/_bootstrap.py:219: RuntimeWarning: numpy.dtype size changed, may indicate binary incompatibility. Expected 96, got 88\n",
      "  return f(*args, **kwds)\n"
     ]
    }
   ],
   "source": [
    "import tensorflow as tf\n",
    "\n",
    "from sklearn.model_selection import train_test_split, KFold\n",
    "from sklearn.preprocessing import StandardScaler\n",
    "from sklearn import metrics\n",
    "\n",
    "import matplotlib.pyplot as plt\n",
    "import seaborn as sns\n",
    "\n",
    "%matplotlib inline"
   ]
  },
  {
   "cell_type": "markdown",
   "metadata": {},
   "source": [
    "## Computational Graphs\n",
    "\n",
    "---\n",
    "\n",
    "Tensorflow is fundamentally a library for creating **computational graphs**.\n",
    "\n",
    "![](assets/comp_graph.png)\n",
    "\n",
    "Let's define and evaluate this \"computational graph.\""
   ]
  },
  {
   "cell_type": "markdown",
   "metadata": {},
   "source": [
    "**There are two phases to building a `tensorflow` model.**\n",
    "\n",
    "1. Graph construction\n",
    "2. Training/evaluation"
   ]
  },
  {
   "cell_type": "code",
   "execution_count": 5,
   "metadata": {
    "collapsed": true
   },
   "outputs": [],
   "source": [
    "# Build the graph\n",
    "\n",
    "a = tf.Variable(3, name='a')\n",
    "b = tf.Variable(4, name='a')\n",
    "c = a + b\n",
    "d = b + 1\n",
    "e = c * d"
   ]
  },
  {
   "cell_type": "code",
   "execution_count": 6,
   "metadata": {},
   "outputs": [
    {
     "name": "stdout",
     "output_type": "stream",
     "text": [
      "35\n"
     ]
    }
   ],
   "source": [
    "# Evaluate the graph\n",
    "\n",
    "init = tf.global_variables_initializer()\n",
    "\n",
    "with tf.Session() as sess:\n",
    "    init.run()\n",
    "    result = e.eval()\n",
    "    print(result)"
   ]
  },
  {
   "cell_type": "markdown",
   "metadata": {},
   "source": [
    "## Building a Neural Network for Regression\n",
    "\n",
    "---"
   ]
  },
  {
   "cell_type": "markdown",
   "metadata": {},
   "source": [
    "Let's start by building a neural net for _regression_.  These are the steps we will follow:\n",
    "\n",
    "1. Load the data.\n",
    "2. Data cleaning/munging, feature engineering (will not do today)\n",
    "3. Make test/train splits. (Should we use cross validation?)\n",
    "4. Standardize the data.\n",
    "5. Build the computational graph for the neural network.\n",
    "6. Train the network using gradient descent a.k.a. back propogation.\n",
    "7. Evaluate performance and iterate."
   ]
  },
  {
   "cell_type": "markdown",
   "metadata": {},
   "source": [
    "### Steps 1-4"
   ]
  },
  {
   "cell_type": "code",
   "execution_count": 15,
   "metadata": {
    "collapsed": true
   },
   "outputs": [],
   "source": [
    "from sklearn.datasets import load_boston\n",
    "from sklearn.datasets import fetch_california_housing\n",
    "\n",
    "data = load_boston()\n",
    "data = fetch_california_housing()\n",
    "\n",
    "X_train, X_test, y_train, y_test = train_test_split(data.data, data.target)\n",
    "\n",
    "y_train = y_train.reshape(-1,1)\n",
    "y_test = y_test.reshape(-1,1)\n",
    "\n",
    "ss = StandardScaler()\n",
    "X_train = ss.fit_transform(X_train)\n",
    "X_test = ss.transform(X_test)"
   ]
  },
  {
   "cell_type": "markdown",
   "metadata": {},
   "source": [
    "### Step 5: Build the network"
   ]
  },
  {
   "cell_type": "code",
   "execution_count": 16,
   "metadata": {
    "collapsed": true
   },
   "outputs": [],
   "source": [
    "tf.reset_default_graph()\n",
    "\n",
    "X = tf.placeholder(dtype=tf.float32, \n",
    "                   shape=(None,X_train.shape[1]),\n",
    "                   name='X')\n",
    "y = tf.placeholder(dtype=tf.float32,\n",
    "                   shape=(None),\n",
    "                   name='y')\n",
    "\n",
    "hidden1 = tf.layers.dense(X, units=13, \n",
    "                          name='hidden1',\n",
    "                          activation=tf.nn.relu)\n",
    "y_hat = tf.layers.dense(hidden1, \n",
    "                        units=1,\n",
    "                        activation=None)\n",
    "\n",
    "loss = tf.losses.mean_squared_error(y, y_hat)\n",
    "\n",
    "optimizer = tf.train.AdamOptimizer(0.01)\n",
    "\n",
    "training_op = optimizer.minimize(loss)"
   ]
  },
  {
   "cell_type": "markdown",
   "metadata": {},
   "source": [
    "### Step 6: Train the network"
   ]
  },
  {
   "cell_type": "code",
   "execution_count": 17,
   "metadata": {},
   "outputs": [
    {
     "name": "stdout",
     "output_type": "stream",
     "text": [
      "epoch 1 5.163233 5.2562656\n",
      "epoch 11 2.3126757 2.2916677\n",
      "epoch 21 1.3403842 1.3267441\n",
      "epoch 31 0.9333978 0.95970064\n",
      "epoch 41 0.83997875 0.910186\n",
      "epoch 51 0.73500854 0.79353595\n",
      "epoch 61 0.6658193 0.70154965\n",
      "epoch 71 0.61470366 0.6455827\n",
      "epoch 81 0.5738064 0.60928035\n",
      "epoch 91 0.541805 0.57471806\n",
      "epoch 101 0.5158607 0.54409945\n",
      "epoch 111 0.49619114 0.5202221\n",
      "epoch 121 0.481416 0.50551057\n",
      "epoch 131 0.46923885 0.4921681\n",
      "epoch 141 0.4588597 0.47836205\n",
      "epoch 151 0.44992343 0.467738\n",
      "epoch 161 0.44224173 0.4587371\n",
      "epoch 171 0.4355964 0.45080036\n",
      "epoch 181 0.42971554 0.4441786\n",
      "epoch 191 0.42463115 0.43819943\n",
      "epoch 201 0.42021725 0.4329442\n",
      "epoch 211 0.41635755 0.4285457\n",
      "epoch 221 0.4129211 0.42480326\n",
      "epoch 231 0.4099591 0.42180276\n",
      "epoch 241 0.40736318 0.41924742\n",
      "epoch 251 0.4049413 0.4170603\n",
      "epoch 261 0.40259543 0.4151917\n",
      "epoch 271 0.40027225 0.41373214\n",
      "epoch 281 0.3980247 0.4126796\n",
      "epoch 291 0.39593822 0.4117901\n",
      "epoch 301 0.39399645 0.41126195\n",
      "epoch 311 0.39213815 0.4108729\n",
      "epoch 321 0.39038476 0.4103949\n",
      "epoch 331 0.38870406 0.4100437\n",
      "epoch 341 0.38704598 0.40971377\n",
      "epoch 351 0.3853881 0.40945837\n",
      "epoch 361 0.38371998 0.4090962\n",
      "epoch 371 0.38211375 0.408577\n",
      "epoch 381 0.3805278 0.407756\n",
      "epoch 391 0.37895107 0.4067669\n",
      "epoch 401 0.37738016 0.4057321\n",
      "epoch 411 0.37580347 0.40492955\n",
      "epoch 421 0.37427312 0.40417692\n",
      "epoch 431 0.3728607 0.40297917\n",
      "epoch 441 0.37153444 0.40212524\n",
      "epoch 451 0.37023187 0.4011253\n",
      "epoch 461 0.3689588 0.4003946\n",
      "epoch 471 0.36773866 0.3996619\n",
      "epoch 481 0.36656082 0.398748\n",
      "epoch 491 0.36541834 0.3979541\n"
     ]
    }
   ],
   "source": [
    "init = tf.global_variables_initializer()\n",
    "\n",
    "test_err = []\n",
    "train_err = []\n",
    "\n",
    "with tf.Session() as sess:\n",
    "    init.run()\n",
    "    \n",
    "    for epoch in range(500):\n",
    "        sess.run(training_op, \n",
    "                 feed_dict={X:X_train, y:y_train})\n",
    "        train_loss = sess.run(loss, feed_dict={X:X_train, y:y_train})\n",
    "        test_loss = sess.run(loss, feed_dict={X:X_test, y:y_test})\n",
    "        test_err.append(test_loss)\n",
    "        train_err.append(train_loss)\n",
    "        if epoch % 10 == 0:\n",
    "            print('epoch', epoch+1, train_loss, test_loss)\n",
    "        \n",
    "    pred = sess.run(y_hat, feed_dict={X:X_test})"
   ]
  },
  {
   "cell_type": "code",
   "execution_count": 18,
   "metadata": {},
   "outputs": [
    {
     "data": {
      "text/plain": [
       "0.711123210595199"
      ]
     },
     "execution_count": 18,
     "metadata": {},
     "output_type": "execute_result"
    }
   ],
   "source": [
    "metrics.r2_score(y_test, pred)"
   ]
  },
  {
   "cell_type": "code",
   "execution_count": 19,
   "metadata": {},
   "outputs": [
    {
     "data": {
      "text/plain": [
       "<matplotlib.legend.Legend at 0x10b7b56d8>"
      ]
     },
     "execution_count": 19,
     "metadata": {},
     "output_type": "execute_result"
    },
    {
     "data": {
      "image/png": "[encoded data removed]",
      "text/plain": [
       "<matplotlib.figure.Figure at 0x1a1da57358>"
      ]
     },
     "metadata": {},
     "output_type": "display_data"
    }
   ],
   "source": [
    "plt.plot(train_err, label='Train error')\n",
    "plt.plot(test_err, label='Test error')\n",
    "plt.legend()"
   ]
  },
  {
   "cell_type": "markdown",
   "metadata": {},
   "source": [
    "## Building a Neural Network for Binary Classification\n",
    "\n",
    "---"
   ]
  },
  {
   "cell_type": "markdown",
   "metadata": {},
   "source": [
    "Now we'll build a neural net for _classification_.  We will follow the same steps as for regression:\n",
    "\n",
    "1. Load the data.\n",
    "2. Data cleaning/munging, feature engineering (will not do today)\n",
    "3. Make test/train splits. (Should we use cross validation?)\n",
    "4. Standardize the data.\n",
    "5. Build the computational graph for the neural network.\n",
    "6. Train the network using gradient descent a.k.a. back propogation.\n",
    "7. Evaluate performance and iterate."
   ]
  },
  {
   "cell_type": "code",
   "execution_count": 56,
   "metadata": {
    "collapsed": true
   },
   "outputs": [],
   "source": [
    "from sklearn.datasets import load_breast_cancer\n",
    "\n",
    "data = load_breast_cancer()\n",
    "\n",
    "# 1 = benign\n",
    "# 0 = malignant\n",
    "\n",
    "X_train, X_test, y_train, y_test = train_test_split(data.data, data.target)\n",
    "\n",
    "y_train = y_train*-1 + 1\n",
    "y_test = y_test*-1 + 1\n",
    "\n",
    "y_train = y_train.reshape(-1,1)\n",
    "y_test = y_test.reshape(-1,1)\n",
    "\n",
    "ss = StandardScaler()\n",
    "X_train = ss.fit_transform(X_train)\n",
    "X_test = ss.transform(X_test)"
   ]
  },
  {
   "cell_type": "code",
   "execution_count": 62,
   "metadata": {
    "collapsed": true
   },
   "outputs": [],
   "source": [
    "tf.reset_default_graph()\n",
    "\n",
    "X = tf.placeholder(dtype=tf.float32, \n",
    "                   shape=(None,X_train.shape[1]),\n",
    "                   name='X')\n",
    "y = tf.placeholder(dtype=tf.float32,\n",
    "                   shape=(None),\n",
    "                   name='y')\n",
    "\n",
    "hidden1 = tf.layers.dense(X, units=y_train.shape[1],\n",
    "                          name='hidden1',\n",
    "                          activation=tf.nn.relu)\n",
    "y_hat = tf.layers.dense(hidden1, units=1,\n",
    "                        name='y_hat',\n",
    "                        activation=tf.nn.sigmoid)\n",
    "\n",
    "loss = tf.losses.log_loss(y, y_hat)\n",
    "\n",
    "optimizer = tf.train.AdamOptimizer(0.01)\n",
    "\n",
    "training_op = optimizer.minimize(loss)"
   ]
  },
  {
   "cell_type": "code",
   "execution_count": 63,
   "metadata": {},
   "outputs": [
    {
     "name": "stdout",
     "output_type": "stream",
     "text": [
      "epoch 1 0.57875836 0.5398404\n",
      "epoch 11 0.4587934 0.44964626\n",
      "epoch 21 0.41639358 0.40737337\n",
      "epoch 31 0.38369402 0.37390658\n",
      "epoch 41 0.3554391 0.3459855\n",
      "epoch 51 0.3302869 0.32335833\n",
      "epoch 61 0.30778322 0.30388555\n",
      "epoch 71 0.28751826 0.2848202\n",
      "epoch 81 0.26921818 0.2667938\n",
      "epoch 91 0.2527396 0.25109202\n",
      "epoch 101 0.2376699 0.23650482\n",
      "epoch 111 0.2239673 0.22214286\n",
      "epoch 121 0.21146941 0.21077825\n",
      "epoch 131 0.2000949 0.20069146\n",
      "epoch 141 0.18970266 0.1916492\n",
      "epoch 151 0.18019477 0.18331209\n",
      "epoch 161 0.17148101 0.17568147\n",
      "epoch 171 0.16348508 0.16860087\n",
      "epoch 181 0.15614143 0.16203576\n",
      "epoch 191 0.14939229 0.15596294\n",
      "epoch 201 0.14316024 0.15040751\n",
      "epoch 211 0.1374194 0.1451925\n",
      "epoch 221 0.13211636 0.14043687\n",
      "epoch 231 0.12720731 0.13609524\n",
      "epoch 241 0.12266176 0.13207585\n",
      "epoch 251 0.118447565 0.12834074\n",
      "epoch 261 0.11453241 0.12490374\n",
      "epoch 271 0.110893875 0.12170996\n",
      "epoch 281 0.107503876 0.11876113\n",
      "epoch 291 0.10434558 0.11596357\n",
      "epoch 301 0.101395756 0.11332301\n",
      "epoch 311 0.09863935 0.11086353\n",
      "epoch 321 0.09605958 0.1085727\n",
      "epoch 331 0.09364443 0.10642914\n",
      "epoch 341 0.0913778 0.104375616\n",
      "epoch 351 0.08925145 0.10247254\n",
      "epoch 361 0.087257296 0.10081923\n",
      "epoch 371 0.08538156 0.09931758\n",
      "epoch 381 0.08361622 0.09786203\n",
      "epoch 391 0.08195313 0.09644708\n",
      "epoch 401 0.08038465 0.09513665\n",
      "epoch 411 0.07890653 0.09396012\n",
      "epoch 421 0.07750825 0.09266844\n",
      "epoch 431 0.07618786 0.09160857\n",
      "epoch 441 0.07493911 0.090583034\n",
      "epoch 451 0.073757045 0.08953671\n",
      "epoch 461 0.07263796 0.088669576\n",
      "epoch 471 0.07158086 0.08784965\n",
      "epoch 481 0.07057588 0.087110065\n",
      "epoch 491 0.06962426 0.08626234\n",
      "epoch 501 0.06872187 0.08551823\n"
     ]
    }
   ],
   "source": [
    "init = tf.global_variables_initializer()\n",
    "\n",
    "test_err = []\n",
    "train_err = []\n",
    "\n",
    "with tf.Session() as sess:\n",
    "    init.run()\n",
    "    \n",
    "    for epoch in range(501):\n",
    "        sess.run(training_op,\n",
    "                     feed_dict={X:X_train, y:y_train})\n",
    "        \n",
    "        train_loss = sess.run(loss, feed_dict={X:X_train, y:y_train})\n",
    "        test_loss = sess.run(loss, feed_dict={X:X_test, y:y_test})\n",
    "        test_err.append(test_loss)\n",
    "        train_err.append(train_loss)\n",
    "        if epoch % 10 == 0:\n",
    "            print('epoch', epoch+1, train_loss, test_loss)\n",
    "        \n",
    "    pred = sess.run(y_hat, feed_dict={X:X_test})"
   ]
  },
  {
   "cell_type": "code",
   "execution_count": 64,
   "metadata": {},
   "outputs": [
    {
     "data": {
      "text/plain": [
       "<matplotlib.legend.Legend at 0x1a28083cf8>"
      ]
     },
     "execution_count": 64,
     "metadata": {},
     "output_type": "execute_result"
    },
    {
     "data": {
      "image/png": "[encoded data removed]",
      "text/plain": [
       "<matplotlib.figure.Figure at 0x1a286b8b00>"
      ]
     },
     "metadata": {},
     "output_type": "display_data"
    }
   ],
   "source": [
    "plt.plot(train_err, label='Train error')\n",
    "plt.plot(test_err, label='Test error')\n",
    "plt.legend()"
   ]
  },
  {
   "cell_type": "markdown",
   "metadata": {},
   "source": [
    "Before moving on, let's go back and add a new hidden layer to our network..."
   ]
  },
  {
   "cell_type": "markdown",
   "metadata": {},
   "source": [
    "### Batching the input\n",
    "\n",
    "What if we can't store all of the training data in memory?\n",
    "\n",
    "We can split the data up into \"batches\" and feed them to the network one at a time."
   ]
  },
  {
   "cell_type": "code",
   "execution_count": 50,
   "metadata": {
    "collapsed": true
   },
   "outputs": [],
   "source": [
    "kf = KFold(n_splits=2, shuffle=True, random_state=42)\n",
    "\n",
    "batches = [test for test, _ in kf.split(X_train, y_train)]"
   ]
  },
  {
   "cell_type": "code",
   "execution_count": 51,
   "metadata": {},
   "outputs": [
    {
     "name": "stdout",
     "output_type": "stream",
     "text": [
      "epoch 1 0.7825215 0.80105567\n",
      "epoch 11 0.5686156 0.5668379\n",
      "epoch 21 0.43626976 0.41092923\n",
      "epoch 31 0.3535071 0.3212885\n",
      "epoch 41 0.29764137 0.2679142\n",
      "epoch 51 0.256972 0.23008114\n",
      "epoch 61 0.22553551 0.20125288\n",
      "epoch 71 0.20107688 0.17777449\n",
      "epoch 81 0.18167031 0.15862547\n",
      "epoch 91 0.1659578 0.14301917\n",
      "epoch 101 0.15299517 0.13055713\n"
     ]
    }
   ],
   "source": [
    "init = tf.global_variables_initializer()\n",
    "\n",
    "test_err = []\n",
    "train_err = []\n",
    "\n",
    "with tf.Session() as sess:\n",
    "    init.run()\n",
    "    \n",
    "    for epoch in range(101):\n",
    "        for batch in batches:\n",
    "            X_batch = X_train[batch]\n",
    "            y_batch = y_train[batch]\n",
    "            sess.run(training_op,\n",
    "                     feed_dict={X:X_batch, y:y_batch})\n",
    "        \n",
    "        train_loss = sess.run(loss, feed_dict={X:X_train, y:y_train})\n",
    "        test_loss = sess.run(loss, feed_dict={X:X_test, y:y_test})\n",
    "        test_err.append(test_loss)\n",
    "        train_err.append(train_loss)\n",
    "        if epoch % 10 == 0:\n",
    "            print('epoch', epoch+1, train_loss, test_loss)\n",
    "        \n",
    "    pred = sess.run(y_hat, feed_dict={X:X_test})"
   ]
  },
  {
   "cell_type": "code",
   "execution_count": 52,
   "metadata": {},
   "outputs": [
    {
     "data": {
      "text/plain": [
       "<matplotlib.legend.Legend at 0x1a27af8eb8>"
      ]
     },
     "execution_count": 52,
     "metadata": {},
     "output_type": "execute_result"
    },
    {
     "data": {
      "image/png": "[encoded data removed]",
      "text/plain": [
       "<matplotlib.figure.Figure at 0x1a1da67240>"
      ]
     },
     "metadata": {},
     "output_type": "display_data"
    }
   ],
   "source": [
    "plt.plot(train_err, label='Train error')\n",
    "plt.plot(test_err, label='Test error')\n",
    "plt.legend()"
   ]
  },
  {
   "cell_type": "code",
   "execution_count": 53,
   "metadata": {
    "collapsed": true
   },
   "outputs": [],
   "source": [
    "pred_bin = (pred > 0.5).astype(int)"
   ]
  },
  {
   "cell_type": "code",
   "execution_count": 54,
   "metadata": {},
   "outputs": [
    {
     "data": {
      "text/plain": [
       "0.972027972027972"
      ]
     },
     "execution_count": 54,
     "metadata": {},
     "output_type": "execute_result"
    }
   ],
   "source": [
    "metrics.accuracy_score(y_test, pred_bin)"
   ]
  },
  {
   "cell_type": "code",
   "execution_count": 55,
   "metadata": {},
   "outputs": [
    {
     "data": {
      "text/plain": [
       "array([[80,  2],\n",
       "       [ 2, 59]])"
      ]
     },
     "execution_count": 55,
     "metadata": {},
     "output_type": "execute_result"
    }
   ],
   "source": [
    "metrics.confusion_matrix(y_test, pred_bin)"
   ]
  },
  {
   "cell_type": "markdown",
   "metadata": {},
   "source": [
    "## Building a Neural Network for Multi-Class Classification\n",
    "\n",
    "---"
   ]
  },
  {
   "cell_type": "code",
   "execution_count": 16,
   "metadata": {
    "collapsed": true
   },
   "outputs": [],
   "source": [
    "from sklearn.datasets import load_iris\n",
    "import pandas as pd"
   ]
  },
  {
   "cell_type": "code",
   "execution_count": 27,
   "metadata": {
    "collapsed": true
   },
   "outputs": [],
   "source": [
    "data = load_iris()\n",
    "\n",
    "y = data.target\n",
    "y = pd.get_dummies(y).values\n",
    "\n",
    "X_train, X_test, y_train, y_test = train_test_split(data.data, y)\n",
    "\n",
    "\n",
    "ss = StandardScaler()\n",
    "X_train = ss.fit_transform(X_train)\n",
    "X_test = ss.transform(X_test)"
   ]
  },
  {
   "cell_type": "code",
   "execution_count": 41,
   "metadata": {
    "collapsed": true
   },
   "outputs": [],
   "source": [
    "tf.reset_default_graph()\n",
    "\n",
    "X = tf.placeholder(dtype=tf.float32, \n",
    "                   shape=(None,X_train.shape[1]),\n",
    "                   name='X')\n",
    "y = tf.placeholder(dtype=tf.float32,\n",
    "                   shape=(None),\n",
    "                   name='y')\n",
    "\n",
    "hidden1 = tf.layers.dense(X, units=X_train.shape[1], \n",
    "                          name='hidden1',\n",
    "                          activation=tf.nn.relu)\n",
    "y_hat = tf.layers.dense(hidden1, \n",
    "                        units=y_train.shape[1],\n",
    "                        activation=None)\n",
    "\n",
    "loss = tf.losses.softmax_cross_entropy(y, y_hat)\n",
    "\n",
    "optimizer = tf.train.AdamOptimizer(0.01)\n",
    "\n",
    "training_op = optimizer.minimize(loss)\n",
    "\n",
    "saver = tf.train.Saver()"
   ]
  },
  {
   "cell_type": "code",
   "execution_count": 42,
   "metadata": {},
   "outputs": [
    {
     "name": "stdout",
     "output_type": "stream",
     "text": [
      "epoch 1 1.055986 1.1455314\n",
      "epoch 11 0.8743173 0.9328565\n",
      "epoch 21 0.69764715 0.77531767\n",
      "epoch 31 0.5406632 0.6198665\n",
      "epoch 41 0.4217369 0.48402515\n",
      "epoch 51 0.33580488 0.38903293\n",
      "epoch 61 0.27514824 0.32050118\n",
      "epoch 71 0.22704796 0.26541728\n",
      "epoch 81 0.18876393 0.21954581\n",
      "epoch 91 0.15945064 0.18342614\n",
      "epoch 101 0.13651808 0.15603478\n",
      "epoch 111 0.119069174 0.13615069\n",
      "epoch 121 0.106029965 0.11916291\n",
      "epoch 131 0.09689738 0.106582865\n",
      "epoch 141 0.089686856 0.09672151\n",
      "epoch 151 0.083911315 0.088511996\n",
      "epoch 161 0.07918339 0.08206173\n",
      "epoch 171 0.075255446 0.07668066\n",
      "epoch 181 0.071939275 0.07224007\n",
      "epoch 191 0.069103755 0.06850023\n",
      "epoch 201 0.06670962 0.065235965\n",
      "epoch 211 0.06464308 0.062243864\n",
      "epoch 221 0.06284601 0.059610274\n",
      "epoch 231 0.061273064 0.05725705\n",
      "epoch 241 0.059895735 0.05509268\n",
      "epoch 251 0.058676567 0.053228553\n",
      "epoch 261 0.05758671 0.051518053\n",
      "epoch 271 0.05660487 0.05000378\n",
      "epoch 281 0.05571609 0.048619326\n",
      "epoch 291 0.05490785 0.047358435\n",
      "epoch 301 0.05416896 0.046211448\n",
      "epoch 311 0.053491734 0.04517122\n",
      "epoch 321 0.0528732 0.044240035\n",
      "epoch 331 0.052304734 0.043376494\n",
      "epoch 341 0.05177874 0.042569023\n",
      "epoch 351 0.051290333 0.041822642\n",
      "epoch 361 0.050836567 0.041130435\n",
      "epoch 371 0.05041301 0.04048112\n",
      "epoch 381 0.0500171 0.039879348\n",
      "epoch 391 0.04964605 0.039319247\n",
      "epoch 401 0.049297657 0.038797647\n",
      "epoch 411 0.0489698 0.03831547\n",
      "epoch 421 0.04866078 0.03786352\n",
      "epoch 431 0.04836926 0.037448198\n",
      "epoch 441 0.048093695 0.03705346\n",
      "epoch 451 0.047832485 0.036696687\n",
      "epoch 461 0.047584645 0.03636588\n",
      "epoch 471 0.04734918 0.036056213\n",
      "epoch 481 0.04712523 0.035766315\n",
      "epoch 491 0.046912033 0.035501685\n",
      "epoch 501 0.046708703 0.035256848\n"
     ]
    }
   ],
   "source": [
    "init = tf.global_variables_initializer()\n",
    "\n",
    "test_err = []\n",
    "train_err = []\n",
    "\n",
    "with tf.Session() as sess:\n",
    "    init.run()\n",
    "    \n",
    "    for epoch in range(501):\n",
    "        sess.run(training_op,\n",
    "                 feed_dict={X:X_train, y:y_train})\n",
    "        \n",
    "        train_loss = sess.run(loss, feed_dict={X:X_train, y:y_train})\n",
    "        test_loss = sess.run(loss, feed_dict={X:X_test, y:y_test})\n",
    "        test_err.append(test_loss)\n",
    "        train_err.append(train_loss)\n",
    "        if epoch % 10 == 0:\n",
    "            print('epoch', epoch+1, train_loss, test_loss)\n",
    "            \n",
    "    saver.save(sess, './iris.ckpt')\n",
    "        \n",
    "    pred = sess.run(y_hat, feed_dict={X:X_test})"
   ]
  },
  {
   "cell_type": "code",
   "execution_count": 34,
   "metadata": {},
   "outputs": [
    {
     "data": {
      "text/plain": [
       "<matplotlib.legend.Legend at 0x1a18509c18>"
      ]
     },
     "execution_count": 34,
     "metadata": {},
     "output_type": "execute_result"
    },
    {
     "data": {
      "image/png": "[encoded data removed]",
      "text/plain": [
       "<matplotlib.figure.Figure at 0x1a16f3b748>"
      ]
     },
     "metadata": {},
     "output_type": "display_data"
    }
   ],
   "source": [
    "plt.plot(train_err, label='Train error')\n",
    "plt.plot(test_err, label='Test error')\n",
    "plt.legend()"
   ]
  },
  {
   "cell_type": "code",
   "execution_count": 40,
   "metadata": {},
   "outputs": [
    {
     "data": {
      "text/plain": [
       "(array([-4.22811 ,  4.44836 , -1.166159], dtype=float32),\n",
       " array([0, 1, 0], dtype=uint8))"
      ]
     },
     "execution_count": 40,
     "metadata": {},
     "output_type": "execute_result"
    }
   ],
   "source": [
    "pred[0], y_test[0]"
   ]
  },
  {
   "cell_type": "markdown",
   "metadata": {},
   "source": [
    "## Saving Your Model\n",
    "\n",
    "---"
   ]
  },
  {
   "cell_type": "code",
   "execution_count": 46,
   "metadata": {},
   "outputs": [
    {
     "name": "stdout",
     "output_type": "stream",
     "text": [
      "INFO:tensorflow:Restoring parameters from ./iris.ckpt\n"
     ]
    },
    {
     "data": {
      "text/plain": [
       "array([[ -4.5962763 ,   2.3085513 ,  -5.2152634 ],\n",
       "       [ -0.64348024,   3.423298  ,  -7.242627  ],\n",
       "       [ -9.136091  ,  -5.1863213 ,   1.7965195 ],\n",
       "       [ -9.518849  ,  -0.44511986,   0.5633383 ],\n",
       "       [ -3.967315  ,   2.815835  ,  -1.4160478 ],\n",
       "       [ -5.115718  ,   2.3342774 ,  -1.4199467 ],\n",
       "       [  5.8419304 ,  -4.032305  ,  -5.958152  ],\n",
       "       [  5.4483643 ,  -4.6990013 ,  -4.721398  ],\n",
       "       [-12.362675  ,  -7.1672726 ,   3.302871  ],\n",
       "       [ -9.64221   ,  -3.761366  ,   1.8003299 ],\n",
       "       [  6.144955  ,  -2.6360006 ,  -7.734229  ],\n",
       "       [ -8.683875  ,  -1.5458021 ,   0.8955207 ],\n",
       "       [ -6.074457  ,   2.5636206 ,  -1.4820247 ],\n",
       "       [-11.394483  ,  -5.579601  ,   2.6292999 ],\n",
       "       [ -6.1747317 ,   4.3757405 ,  -1.5180924 ],\n",
       "       [-11.9856205 ,  -5.2234306 ,   2.5505288 ],\n",
       "       [  5.9409046 ,  -3.881341  ,  -6.2535925 ],\n",
       "       [ -8.41814   ,  -0.29515314,  -1.2205696 ],\n",
       "       [ -4.0736866 ,   3.271796  ,  -4.797303  ],\n",
       "       [  6.144955  ,  -2.6360006 ,  -7.734229  ],\n",
       "       [-12.065867  ,  -6.892682  ,   3.1748002 ],\n",
       "       [ -2.8959332 ,   4.2078543 ,  -6.175768  ],\n",
       "       [ -9.744705  ,  -3.478211  ,   1.7048249 ],\n",
       "       [-13.469867  ,  -6.9065714 ,   3.3055727 ],\n",
       "       [ -0.9209134 ,   3.404917  ,  -6.744666  ],\n",
       "       [  6.056018  ,  -4.607925  ,  -5.7554703 ],\n",
       "       [  6.109207  ,  -5.8303256 ,  -4.698022  ],\n",
       "       [ -6.9739065 ,   3.6520963 ,  -1.1790601 ],\n",
       "       [  5.8812666 ,  -2.159007  ,  -7.767417  ],\n",
       "       [ -8.562676  ,  -1.8879113 ,   0.11169529],\n",
       "       [ -0.9874415 ,   3.7205756 ,  -7.6453247 ],\n",
       "       [-11.043123  ,  -4.0047045 ,   2.015649  ],\n",
       "       [ -8.872798  ,  -2.6396236 ,  -1.710887  ],\n",
       "       [ -4.1131687 ,   3.6800282 ,  -3.849017  ],\n",
       "       [ -2.9483337 ,   3.4265738 ,  -3.602798  ],\n",
       "       [ -7.4014115 ,   2.6043284 ,  -1.2605772 ],\n",
       "       [  5.508913  ,  -1.4553618 ,  -7.842351  ],\n",
       "       [-10.299547  ,  -4.99745   ,   2.3161085 ]], dtype=float32)"
      ]
     },
     "execution_count": 46,
     "metadata": {},
     "output_type": "execute_result"
    }
   ],
   "source": [
    "with tf.Session() as sess:\n",
    "    saver.restore(sess, './iris.ckpt')\n",
    "    pred = sess.run(y_hat, feed_dict={X:X_test})\n",
    "    \n",
    "pred"
   ]
  },
  {
   "cell_type": "code",
   "execution_count": 56,
   "metadata": {},
   "outputs": [
    {
     "data": {
      "text/plain": [
       "array([1, 1, 2, 2, 1, 1, 0, 0, 2, 2, 0, 2, 1, 2, 1, 2, 0, 1, 1, 0, 2, 1,\n",
       "       2, 2, 1, 0, 0, 1, 0, 2, 1, 2, 2, 1, 1, 1, 0, 2], dtype=int32)"
      ]
     },
     "execution_count": 56,
     "metadata": {},
     "output_type": "execute_result"
    }
   ],
   "source": [
    "class_preds = np.empty(pred.shape[0], dtype=np.int32)\n",
    "for i,clas in enumerate(map(np.argmax, pred)):\n",
    "    class_preds[i] = clas\n",
    "    \n",
    "class_preds"
   ]
  },
  {
   "cell_type": "code",
   "execution_count": null,
   "metadata": {
    "collapsed": true
   },
   "outputs": [],
   "source": []
  }
 ],
 "metadata": {
  "kernelspec": {
   "display_name": "Python [conda env:tensorflow]",
   "language": "python",
   "name": "conda-env-tensorflow-py"
  },
  "language_info": {
   "codemirror_mode": {
    "name": "ipython",
    "version": 3
   },
   "file_extension": ".py",
   "mimetype": "text/x-python",
   "name": "python",
   "nbconvert_exporter": "python",
   "pygments_lexer": "ipython3",
   "version": "3.6.4"
  }
 },
 "nbformat": 4,
 "nbformat_minor": 2
}
