{
 "cells": [
  {
   "cell_type": "markdown",
   "metadata": {},
   "source": [
    "# ![](https://ga-dash.s3.amazonaws.com/production/assets/logo-9f88ae6c9c3871690e33280fcf557f33.png) Network Analysis\n",
    "> Author: Matt Brems (DC)"
   ]
  },
  {
   "cell_type": "code",
   "execution_count": null,
   "metadata": {},
   "outputs": [],
   "source": [
    "# Uncomment to install Bokeh/NetworkX.\n",
    "# !pip install bokeh networkx --upgrade\n",
    "\n",
    "# Import NetworkX with the alias \"nx.\"\n",
    "import networkx as nx\n",
    "import numpy as np\n",
    "import matplotlib.pyplot as plt\n",
    "\n",
    "%matplotlib inline"
   ]
  },
  {
   "cell_type": "markdown",
   "metadata": {},
   "source": [
    "### NetworkX Library\n",
    "\n",
    "In Python, the [NetworkX library](https://networkx.github.io/) is one that will allow us to plot and manipulate graphs."
   ]
  },
  {
   "cell_type": "code",
   "execution_count": null,
   "metadata": {},
   "outputs": [],
   "source": [
    "# Instantiate a graph object as \"g\".\n"
   ]
  },
  {
   "cell_type": "code",
   "execution_count": null,
   "metadata": {},
   "outputs": [],
   "source": [
    "# Create nodes 'a' and 'b', then add an edge between them.\n"
   ]
  },
  {
   "cell_type": "code",
   "execution_count": null,
   "metadata": {},
   "outputs": [],
   "source": [
    "# Draw the network.\n"
   ]
  },
  {
   "cell_type": "code",
   "execution_count": null,
   "metadata": {},
   "outputs": [],
   "source": [
    "# Add nodes 'c' and 'd' and create edges among them.\n",
    "g.add_edge('b','c')\n",
    "g.add_edge('a','c')\n",
    "g.add_edge('c','d')\n",
    "\n",
    "# Draw the network.\n",
    "nx.draw_networkx(g);"
   ]
  },
  {
   "cell_type": "code",
   "execution_count": null,
   "metadata": {},
   "outputs": [],
   "source": [
    "# Get the shortest path between 'b' and 'd'.\n"
   ]
  },
  {
   "cell_type": "code",
   "execution_count": null,
   "metadata": {},
   "outputs": [],
   "source": [
    "# Get the shortest path length between 'b' and 'd'.\n"
   ]
  },
  {
   "cell_type": "code",
   "execution_count": null,
   "metadata": {},
   "outputs": [],
   "source": [
    "# Add additional edge between 'a' and 'b'.\n",
    "g.add_edge('a','b')\n",
    "\n",
    "# Draw the network.\n",
    "nx.draw_networkx(g);"
   ]
  },
  {
   "cell_type": "markdown",
   "metadata": {},
   "source": [
    "### Seven Bridges of Königsberg"
   ]
  },
  {
   "cell_type": "code",
   "execution_count": null,
   "metadata": {},
   "outputs": [],
   "source": [
    "# Instantiate a multigraph object as \"seven_bridges\".\n",
    "seven_bridges = "
   ]
  },
  {
   "cell_type": "code",
   "execution_count": null,
   "metadata": {},
   "outputs": [],
   "source": [
    "# Create all seven bridges at once!\n",
    "seven_bridges.add_edges_from([('A','B'),\n",
    "                              ('A','B'),\n",
    "                              ('A','C'),\n",
    "                              ('B','C'),\n",
    "                              ('B','D'),\n",
    "                              ('B','D'),\n",
    "                              ('C','D')])"
   ]
  },
  {
   "cell_type": "code",
   "execution_count": null,
   "metadata": {},
   "outputs": [],
   "source": [
    "# Create adjacency matrix for Seven Bridges problem.\n"
   ]
  },
  {
   "cell_type": "code",
   "execution_count": null,
   "metadata": {},
   "outputs": [],
   "source": [
    "# Check to see if each bridge can be traveled exactly once.\n"
   ]
  },
  {
   "cell_type": "code",
   "execution_count": null,
   "metadata": {},
   "outputs": [],
   "source": [
    "# Is seven_bridges isomorphic to g?\n"
   ]
  },
  {
   "cell_type": "code",
   "execution_count": null,
   "metadata": {},
   "outputs": [],
   "source": [
    "# Is seven_bridges isomorphic to seven_bridges?\n"
   ]
  },
  {
   "cell_type": "markdown",
   "metadata": {},
   "source": [
    "### Trivia: Kuratowski's Theorem\n",
    "[Kuratowski's Theorem](https://en.wikipedia.org/wiki/Kuratowski%27s_theorem) states that a network is non-planar if and only if a network contains $K_5$ or $K_{3,3}$."
   ]
  },
  {
   "cell_type": "code",
   "execution_count": null,
   "metadata": {},
   "outputs": [],
   "source": [
    "# Generate the complete graph on five nodes.\n",
    "k_5 ="
   ]
  },
  {
   "cell_type": "code",
   "execution_count": null,
   "metadata": {
    "scrolled": true
   },
   "outputs": [],
   "source": [
    "# Draw the network.\n",
    "nx.draw_networkx(k_5);"
   ]
  },
  {
   "cell_type": "code",
   "execution_count": null,
   "metadata": {},
   "outputs": [],
   "source": [
    "# Draw the network with a specific layout.\n"
   ]
  },
  {
   "cell_type": "markdown",
   "metadata": {},
   "source": [
    "You may have seen $K_{3,3}$ before as part of the [three utilities problem](https://en.wikipedia.org/wiki/Three_utilities_problem)."
   ]
  },
  {
   "cell_type": "code",
   "execution_count": null,
   "metadata": {},
   "outputs": [],
   "source": [
    "# Generate the complete bipartite graph on three nodes and three nodes.\n",
    "k_3_3 ="
   ]
  },
  {
   "cell_type": "code",
   "execution_count": null,
   "metadata": {},
   "outputs": [],
   "source": [
    "# Draw the network with a specific layout.\n",
    "nx.draw_networkx(k_3_3, pos=nx.circular_layout(k_3_3));"
   ]
  },
  {
   "cell_type": "markdown",
   "metadata": {},
   "source": [
    "## Bokeh!"
   ]
  },
  {
   "cell_type": "code",
   "execution_count": null,
   "metadata": {},
   "outputs": [],
   "source": [
    "from bokeh.io import show, output_notebook\n",
    "from bokeh.models import Plot, Range1d, MultiLine, Circle, HoverTool, TapTool, BoxSelectTool\n",
    "from bokeh.models.graphs import from_networkx, NodesAndLinkedEdges, EdgesAndLinkedNodes\n",
    "from bokeh.palettes import Spectral4"
   ]
  },
  {
   "cell_type": "markdown",
   "metadata": {},
   "source": [
    "### Let's create a graph for us to play with. (This is [Zachary's Karate Club](https://en.wikipedia.org/wiki/Zachary%27s_karate_club).)"
   ]
  },
  {
   "cell_type": "code",
   "execution_count": null,
   "metadata": {},
   "outputs": [],
   "source": [
    "# Instantiate karate club graph object.\n",
    "G = \n",
    "\n",
    "# Draw network.\n",
    "nx.draw_networkx(G);"
   ]
  },
  {
   "cell_type": "markdown",
   "metadata": {},
   "source": [
    "### This is messy - let's clean it up."
   ]
  },
  {
   "cell_type": "code",
   "execution_count": null,
   "metadata": {},
   "outputs": [],
   "source": [
    "# Create graph.\n",
    "G = nx.karate_club_graph()\n",
    "\n",
    "# Create plot range. (x and y values, plus how large the plot visually is)\n",
    "plot = Plot(plot_width=400,\n",
    "            plot_height=400,\n",
    "            x_range=Range1d(-1.1,1.1),\n",
    "            y_range=Range1d(-1.1,1.1))\n",
    "\n",
    "# Create title.\n",
    "plot.title.text = \"Graph Interaction Demonstration\"\n",
    "\n",
    "# NetworkX --> Bokeh.\n",
    "graph_renderer = from_networkx(G,\n",
    "                               nx.circular_layout,\n",
    "                               scale=1,\n",
    "                               center=(0,0))\n",
    "\n",
    "# Render our plot.\n",
    "plot.renderers.append(graph_renderer)\n",
    "\n",
    "# Output this in a notebook.\n",
    "output_notebook()\n",
    "show(plot)"
   ]
  },
  {
   "cell_type": "markdown",
   "metadata": {},
   "source": [
    "### Alright... this is clean, but it's uninformative and is uninteresting."
   ]
  },
  {
   "cell_type": "code",
   "execution_count": null,
   "metadata": {},
   "outputs": [],
   "source": [
    "# Create graph.\n",
    "G = nx.karate_club_graph()\n",
    "\n",
    "# Create plot range. (x and y values, plus how large the plot visually is)\n",
    "plot = Plot(plot_width=400,\n",
    "            plot_height=400,\n",
    "            x_range=Range1d(-1.1,1.1),\n",
    "            y_range=Range1d(-1.1,1.1))\n",
    "\n",
    "# Create title.\n",
    "plot.title.text = \"Graph Interaction Demonstration\"\n",
    "\n",
    "# NetworkX --> Bokeh.\n",
    "graph_renderer = from_networkx(G,\n",
    "                               nx.circular_layout,\n",
    "                               scale=1,\n",
    "                               center=(0,0))\n",
    "\n",
    "### NEW LINE\n",
    "# Let's color the nodes.\n",
    "graph_renderer.node_renderer.glyph = Circle(size=15, fill_color=Spectral4[0])\n",
    "graph_renderer.node_renderer.selection_glyph = Circle(size=15, fill_color=Spectral4[2])\n",
    "graph_renderer.node_renderer.hover_glyph = Circle(size=15, fill_color=Spectral4[1])\n",
    "\n",
    "# Render our plot.\n",
    "plot.renderers.append(graph_renderer)\n",
    "\n",
    "# Output this in a notebook.\n",
    "output_notebook()\n",
    "show(plot)"
   ]
  },
  {
   "cell_type": "markdown",
   "metadata": {},
   "source": [
    "### And again...."
   ]
  },
  {
   "cell_type": "code",
   "execution_count": null,
   "metadata": {},
   "outputs": [],
   "source": [
    "# Create graph.\n",
    "G = nx.karate_club_graph()\n",
    "\n",
    "# Create plot range. (x and y values, plus how large the plot visually is)\n",
    "plot = Plot(plot_width=400,\n",
    "            plot_height=400,\n",
    "            x_range=Range1d(-1.1,1.1),\n",
    "            y_range=Range1d(-1.1,1.1))\n",
    "\n",
    "# Create title.\n",
    "plot.title.text = \"Graph Interaction Demonstration\"\n",
    "\n",
    "# NetworkX --> Bokeh.\n",
    "graph_renderer = from_networkx(G,\n",
    "                               nx.circular_layout,\n",
    "                               scale=1,\n",
    "                               center=(0,0))\n",
    "\n",
    "# Let's color the nodes.\n",
    "graph_renderer.node_renderer.glyph = Circle(size=15, fill_color=Spectral4[0])\n",
    "graph_renderer.node_renderer.selection_glyph = Circle(size=15, fill_color=Spectral4[2])\n",
    "graph_renderer.node_renderer.hover_glyph = Circle(size=15, fill_color=Spectral4[1])\n",
    "\n",
    "### NEW LINE\n",
    "# Let's color the edges.\n",
    "graph_renderer.edge_renderer.glyph = MultiLine(line_color=\"#CCCCCC\", line_alpha=0.8, line_width=5)\n",
    "graph_renderer.edge_renderer.selection_glyph = MultiLine(line_color=Spectral4[2], line_width=5)\n",
    "graph_renderer.edge_renderer.hover_glyph = MultiLine(line_color=Spectral4[1], line_width=5)\n",
    "\n",
    "# Render our plot.\n",
    "plot.renderers.append(graph_renderer)\n",
    "\n",
    "# Output this in a notebook.\n",
    "output_notebook()\n",
    "show(plot)"
   ]
  },
  {
   "cell_type": "markdown",
   "metadata": {},
   "source": [
    "### Let's make it interactive!"
   ]
  },
  {
   "cell_type": "code",
   "execution_count": null,
   "metadata": {},
   "outputs": [],
   "source": [
    "# Create graph.\n",
    "G = nx.karate_club_graph()\n",
    "\n",
    "# Create plot range. (x and y values, plus how large the plot visually is)\n",
    "plot = Plot(plot_width=400,\n",
    "            plot_height=400,\n",
    "            x_range=Range1d(-1.1,1.1),\n",
    "            y_range=Range1d(-1.1,1.1))\n",
    "\n",
    "# Create title.\n",
    "plot.title.text = \"Graph Interaction Demonstration\"\n",
    "\n",
    "### NEW LINE\n",
    "# Add tools!\n",
    "# Specifically, we want to be able to hover over items, tap on items, and select with a drag-and-drop box!\n",
    "plot.add_tools(HoverTool(tooltips=None), TapTool(), BoxSelectTool())\n",
    "\n",
    "# Learan more about tools and customizing plots: https://bokeh.pydata.org/en/latest/docs/user_guide/tools.html\n",
    "\n",
    "# NetworkX --> Bokeh.\n",
    "graph_renderer = from_networkx(G,\n",
    "                               nx.circular_layout,\n",
    "                               scale=1,\n",
    "                               center=(0,0))\n",
    "\n",
    "# Let's color the nodes.\n",
    "graph_renderer.node_renderer.glyph = Circle(size=15, fill_color=Spectral4[0])\n",
    "graph_renderer.node_renderer.selection_glyph = Circle(size=15, fill_color=Spectral4[2])\n",
    "graph_renderer.node_renderer.hover_glyph = Circle(size=15, fill_color=Spectral4[1])\n",
    "\n",
    "# Let's color the edges.\n",
    "graph_renderer.edge_renderer.glyph = MultiLine(line_color=\"#CCCCCC\", line_alpha=0.8, line_width=5)\n",
    "graph_renderer.edge_renderer.selection_glyph = MultiLine(line_color=Spectral4[2], line_width=5)\n",
    "graph_renderer.edge_renderer.hover_glyph = MultiLine(line_color=Spectral4[1], line_width=5)\n",
    "\n",
    "### NEW LINE\n",
    "# When selecting items with our tools above, what do we select/inspect?\n",
    "graph_renderer.selection_policy = NodesAndLinkedEdges()\n",
    "graph_renderer.inspection_policy = EdgesAndLinkedNodes()\n",
    "\n",
    "# Render our plot.\n",
    "plot.renderers.append(graph_renderer)\n",
    "\n",
    "# Output this in a notebook.\n",
    "output_notebook()\n",
    "show(plot)"
   ]
  },
  {
   "cell_type": "markdown",
   "metadata": {},
   "source": [
    "### Let's export this as an .html file!"
   ]
  },
  {
   "cell_type": "code",
   "execution_count": null,
   "metadata": {},
   "outputs": [],
   "source": [
    "from bokeh.io import output_file"
   ]
  },
  {
   "cell_type": "code",
   "execution_count": null,
   "metadata": {},
   "outputs": [],
   "source": [
    "# Create graph.\n",
    "G = nx.karate_club_graph()\n",
    "\n",
    "# Create plot range. (x and y values, plus how large the plot visually is)\n",
    "plot = Plot(plot_width=400,\n",
    "            plot_height=400,\n",
    "            x_range=Range1d(-1.1,1.1),\n",
    "            y_range=Range1d(-1.1,1.1))\n",
    "\n",
    "# Create title.\n",
    "plot.title.text = \"Graph Interaction Demonstration\"\n",
    "\n",
    "# Add tools!\n",
    "# Specifically, we want to be able to hover over items, tap on items, and select with a drag-and-drop box!\n",
    "plot.add_tools(HoverTool(tooltips=None), TapTool(), BoxSelectTool())\n",
    "\n",
    "# NetworkX --> Bokeh.\n",
    "graph_renderer = from_networkx(G,\n",
    "                               nx.circular_layout,\n",
    "                               scale=1,\n",
    "                               center=(0,0))\n",
    "\n",
    "# Let's color the nodes.\n",
    "graph_renderer.node_renderer.glyph = Circle(size=15, fill_color=Spectral4[0])\n",
    "graph_renderer.node_renderer.selection_glyph = Circle(size=15, fill_color=Spectral4[2])\n",
    "graph_renderer.node_renderer.hover_glyph = Circle(size=15, fill_color=Spectral4[1])\n",
    "\n",
    "# Let's color the edges.\n",
    "graph_renderer.edge_renderer.glyph = MultiLine(line_color=\"#CCCCCC\", line_alpha=0.8, line_width=5)\n",
    "graph_renderer.edge_renderer.selection_glyph = MultiLine(line_color=Spectral4[2], line_width=5)\n",
    "graph_renderer.edge_renderer.hover_glyph = MultiLine(line_color=Spectral4[1], line_width=5)\n",
    "\n",
    "# When selecting items with our tools above, what do we select/inspect?\n",
    "graph_renderer.selection_policy = NodesAndLinkedEdges()\n",
    "graph_renderer.inspection_policy = EdgesAndLinkedNodes()\n",
    "\n",
    "# Render our plot.\n",
    "plot.renderers.append(graph_renderer)\n",
    "\n",
    "### EDITED LINE\n",
    "# Output these in a separate webpage!\n",
    "output_file(\"random_graph.html\")\n",
    "show(plot)"
   ]
  }
 ],
 "metadata": {
  "kernelspec": {
   "display_name": "Python 3",
   "language": "python",
   "name": "python3"
  },
  "language_info": {
   "codemirror_mode": {
    "name": "ipython",
    "version": 3
   },
   "file_extension": ".py",
   "mimetype": "text/x-python",
   "name": "python",
   "nbconvert_exporter": "python",
   "pygments_lexer": "ipython3",
   "version": "3.6.8"
  }
 },
 "nbformat": 4,
 "nbformat_minor": 2
}
